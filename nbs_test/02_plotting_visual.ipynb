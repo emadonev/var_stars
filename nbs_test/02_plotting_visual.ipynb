{
 "cells": [
  {
   "cell_type": "code",
   "execution_count": 1,
   "metadata": {},
   "outputs": [],
   "source": [
    "%load_ext autoreload\n",
    "%autoreload 2"
   ]
  },
  {
   "cell_type": "code",
   "execution_count": 2,
   "metadata": {},
   "outputs": [],
   "source": [
    "#| code-fold: false\n",
    "# IMPORTING LIBRARIES\n",
    "# --------------------\n",
    "\n",
    "# AstroML\n",
    "from astroML.datasets import fetch_LINEAR_sample\n",
    "from astropy.coordinates import SkyCoord\n",
    "import astropy.units as u\n",
    "\n",
    "# Basic libraries\n",
    "import pickle\n",
    "import os\n",
    "import sys\n",
    "from tqdm import tqdm\n",
    "\n",
    "# Plotting\n",
    "import seaborn as sns\n",
    "from matplotlib import pyplot as plt\n",
    "from matplotlib import ticker\n",
    "import matplotlib.colors as mcolors\n",
    "from matplotlib.font_manager import FontProperties\n",
    "\n",
    "# DataFrame analysis\n",
    "import pandas as pd\n",
    "\n",
    "# Math libraries\n",
    "import numpy as np\n",
    "import scipy as sc\n",
    "from scipy.stats import norm\n",
    "\n",
    "# CONFIGURATION\n",
    "# -------------\n",
    "sns.set_theme(style='white') # setting the theme for plotting\n",
    "sys.path.insert(0,'../src/')\n",
    "np.random.seed(42)\n",
    "\n",
    "# configuring plotting colors\n",
    "colors = ['#465BBB', '#A82F43', '#3F8FCE', '#7ABBCE', '#3A3865', '#612A37', '#DC5433', '#F29457']\n",
    "b1 = '#465BBB'\n",
    "b2 = '#3F8FCE'\n",
    "b3 = '#7ABBCE'\n",
    "b4 = '#3A3865'\n",
    "black1 = '#22212A'\n",
    "black2 = '#2D1E21'\n",
    "or1 = '#A82F43'\n",
    "or2 = '#612A37'\n",
    "or3 = '#DC5433'\n",
    "or4 = '#F29457'\n",
    "muted_colors = sns.set_palette(sns.color_palette(colors))\n",
    "\n",
    "plt.rc('text', usetex=True)\n",
    "plt.rc('font', family='serif')\n",
    "plt.rcParams['text.latex.preamble'] = r'\\usepackage{txfonts}'  # Use TX Times font\n",
    "\n",
    "# Set up your font properties (optional)\n",
    "font = FontProperties()\n",
    "font.set_family('serif')\n",
    "font.set_name('Times')  # Times font\n",
    "%matplotlib inline "
   ]
  },
  {
   "cell_type": "code",
   "execution_count": 3,
   "metadata": {},
   "outputs": [],
   "source": [
    "#| code-fold: false\n",
    "# Importing custom libraries\n",
    "# ----------------------------\n",
    "sys.path.insert(0,'../src/')\n",
    "from BE_plotting import*\n",
    "#from RR_lyrae_params import*\n",
    "from blazhko_analysis import*"
   ]
  },
  {
   "cell_type": "code",
   "execution_count": 4,
   "metadata": {},
   "outputs": [],
   "source": [
    "#| code-fold: false\n",
    "# DATA\n",
    "dataL = fetch_LINEAR_sample(data_home='../inputs') # fetching the data from astroML data library\n",
    "end = 'ffinal'\n",
    "\n",
    "# DATA from previous notebook\n",
    "BE_STARS = pd.read_csv(\"../outputs/FINAL_BE_CATALOGUE.csv\")\n",
    "be_cand = pd.read_csv('../outputs/blazhko_canffinal.csv')\n",
    "lc_analysis = pd.read_csv(\"../outputs/LC_ANALYSIS_\"+end+\".csv\")\n",
    "rrlyrae = pd.read_csv('../outputs/Lrrlyr_unprocessed.csv')\n",
    "periodogr = pickle.load(open(\"../outputs/periodograms_\"+end+\".pkl\", \"rb\"))\n",
    "fits = np.load(\"../outputs/fits_\"+end+\".npy\", allow_pickle=True)\n",
    "ztf_data = np.load(\"../outputs/ztf_data_filter\"+end+\".npy\", allow_pickle=True)"
   ]
  },
  {
   "cell_type": "markdown",
   "metadata": {},
   "source": [
    "---"
   ]
  },
  {
   "cell_type": "markdown",
   "metadata": {},
   "source": [
    "# Plotting the Blazhko candidates"
   ]
  },
  {
   "cell_type": "code",
   "execution_count": 5,
   "metadata": {},
   "outputs": [],
   "source": [
    "blazhko_can = pd.read_csv('../outputs/lc_MASTER_bcan.csv')"
   ]
  },
  {
   "cell_type": "code",
   "execution_count": 6,
   "metadata": {},
   "outputs": [
    {
     "data": {
      "text/html": [
       "<div>\n",
       "<style scoped>\n",
       "    .dataframe tbody tr th:only-of-type {\n",
       "        vertical-align: middle;\n",
       "    }\n",
       "\n",
       "    .dataframe tbody tr th {\n",
       "        vertical-align: top;\n",
       "    }\n",
       "\n",
       "    .dataframe thead th {\n",
       "        text-align: right;\n",
       "    }\n",
       "</style>\n",
       "<table border=\"1\" class=\"dataframe\">\n",
       "  <thead>\n",
       "    <tr style=\"text-align: right;\">\n",
       "      <th></th>\n",
       "      <th>LINEAR ID</th>\n",
       "      <th>Plinear</th>\n",
       "      <th>Pztf</th>\n",
       "      <th>N_L</th>\n",
       "      <th>N_Z</th>\n",
       "      <th>L_chi2r</th>\n",
       "      <th>Z_chi2r</th>\n",
       "      <th>L_chi2</th>\n",
       "      <th>Z_chi2</th>\n",
       "      <th>Lampl</th>\n",
       "      <th>Zampl</th>\n",
       "      <th>BpeakL</th>\n",
       "      <th>BpeakZ</th>\n",
       "      <th>BperiodL</th>\n",
       "      <th>BperiodZ</th>\n",
       "      <th>Periodogram_f</th>\n",
       "      <th>B_score</th>\n",
       "      <th>Blazhko_f</th>\n",
       "    </tr>\n",
       "  </thead>\n",
       "  <tbody>\n",
       "    <tr>\n",
       "      <th>0</th>\n",
       "      <td>29848</td>\n",
       "      <td>0.557020</td>\n",
       "      <td>0.557040</td>\n",
       "      <td>301</td>\n",
       "      <td>43</td>\n",
       "      <td>1.4</td>\n",
       "      <td>3.5</td>\n",
       "      <td>3.0</td>\n",
       "      <td>12.6</td>\n",
       "      <td>0.56</td>\n",
       "      <td>0.93</td>\n",
       "      <td>1.8328</td>\n",
       "      <td>1.7982</td>\n",
       "      <td>26.6205</td>\n",
       "      <td>333.3333</td>\n",
       "      <td>-</td>\n",
       "      <td>6</td>\n",
       "      <td>1</td>\n",
       "    </tr>\n",
       "    <tr>\n",
       "      <th>1</th>\n",
       "      <td>158779</td>\n",
       "      <td>0.609207</td>\n",
       "      <td>0.609189</td>\n",
       "      <td>293</td>\n",
       "      <td>616</td>\n",
       "      <td>1.6</td>\n",
       "      <td>3.9</td>\n",
       "      <td>3.7</td>\n",
       "      <td>34.2</td>\n",
       "      <td>0.47</td>\n",
       "      <td>0.68</td>\n",
       "      <td>1.6443</td>\n",
       "      <td>1.6444</td>\n",
       "      <td>352.7337</td>\n",
       "      <td>350.2627</td>\n",
       "      <td>-</td>\n",
       "      <td>6</td>\n",
       "      <td>1</td>\n",
       "    </tr>\n",
       "    <tr>\n",
       "      <th>2</th>\n",
       "      <td>263541</td>\n",
       "      <td>0.558218</td>\n",
       "      <td>0.558221</td>\n",
       "      <td>270</td>\n",
       "      <td>503</td>\n",
       "      <td>2.9</td>\n",
       "      <td>6.6</td>\n",
       "      <td>15.8</td>\n",
       "      <td>110.4</td>\n",
       "      <td>0.64</td>\n",
       "      <td>0.82</td>\n",
       "      <td>1.8621</td>\n",
       "      <td>1.8025</td>\n",
       "      <td>14.1513</td>\n",
       "      <td>89.9685</td>\n",
       "      <td>-</td>\n",
       "      <td>7</td>\n",
       "      <td>1</td>\n",
       "    </tr>\n",
       "    <tr>\n",
       "      <th>3</th>\n",
       "      <td>514883</td>\n",
       "      <td>0.557723</td>\n",
       "      <td>0.557737</td>\n",
       "      <td>289</td>\n",
       "      <td>555</td>\n",
       "      <td>1.7</td>\n",
       "      <td>5.5</td>\n",
       "      <td>5.3</td>\n",
       "      <td>53.7</td>\n",
       "      <td>0.55</td>\n",
       "      <td>0.72</td>\n",
       "      <td>1.8472</td>\n",
       "      <td>1.7958</td>\n",
       "      <td>18.4655</td>\n",
       "      <td>357.1429</td>\n",
       "      <td>-</td>\n",
       "      <td>7</td>\n",
       "      <td>1</td>\n",
       "    </tr>\n",
       "    <tr>\n",
       "      <th>4</th>\n",
       "      <td>523832</td>\n",
       "      <td>0.372376</td>\n",
       "      <td>0.372384</td>\n",
       "      <td>251</td>\n",
       "      <td>42</td>\n",
       "      <td>1.2</td>\n",
       "      <td>1.1</td>\n",
       "      <td>1.8</td>\n",
       "      <td>0.8</td>\n",
       "      <td>0.42</td>\n",
       "      <td>0.59</td>\n",
       "      <td>2.8040</td>\n",
       "      <td>2.7122</td>\n",
       "      <td>8.4370</td>\n",
       "      <td>37.3413</td>\n",
       "      <td>Z</td>\n",
       "      <td>0</td>\n",
       "      <td>2</td>\n",
       "    </tr>\n",
       "  </tbody>\n",
       "</table>\n",
       "</div>"
      ],
      "text/plain": [
       "   LINEAR ID   Plinear      Pztf  N_L  N_Z  L_chi2r  Z_chi2r  L_chi2  Z_chi2  \\\n",
       "0      29848  0.557020  0.557040  301   43      1.4      3.5     3.0    12.6   \n",
       "1     158779  0.609207  0.609189  293  616      1.6      3.9     3.7    34.2   \n",
       "2     263541  0.558218  0.558221  270  503      2.9      6.6    15.8   110.4   \n",
       "3     514883  0.557723  0.557737  289  555      1.7      5.5     5.3    53.7   \n",
       "4     523832  0.372376  0.372384  251   42      1.2      1.1     1.8     0.8   \n",
       "\n",
       "   Lampl  Zampl  BpeakL  BpeakZ  BperiodL  BperiodZ Periodogram_f  B_score  \\\n",
       "0   0.56   0.93  1.8328  1.7982   26.6205  333.3333             -        6   \n",
       "1   0.47   0.68  1.6443  1.6444  352.7337  350.2627             -        6   \n",
       "2   0.64   0.82  1.8621  1.8025   14.1513   89.9685             -        7   \n",
       "3   0.55   0.72  1.8472  1.7958   18.4655  357.1429             -        7   \n",
       "4   0.42   0.59  2.8040  2.7122    8.4370   37.3413             Z        0   \n",
       "\n",
       "   Blazhko_f  \n",
       "0          1  \n",
       "1          1  \n",
       "2          1  \n",
       "3          1  \n",
       "4          2  "
      ]
     },
     "execution_count": 6,
     "metadata": {},
     "output_type": "execute_result"
    }
   ],
   "source": [
    "blazhko_can.head()"
   ]
  },
  {
   "cell_type": "code",
   "execution_count": 7,
   "metadata": {},
   "outputs": [
    {
     "data": {
      "text/plain": [
       "(239, 18)"
      ]
     },
     "execution_count": 7,
     "metadata": {},
     "output_type": "execute_result"
    }
   ],
   "source": [
    "blazhko_can.shape"
   ]
  },
  {
   "cell_type": "code",
   "execution_count": 14,
   "metadata": {},
   "outputs": [],
   "source": [
    "Lids = list(blazhko_can['LINEAR ID'])"
   ]
  },
  {
   "cell_type": "code",
   "execution_count": 15,
   "metadata": {},
   "outputs": [
    {
     "data": {
      "text/plain": [
       "239"
      ]
     },
     "execution_count": 15,
     "metadata": {},
     "output_type": "execute_result"
    }
   ],
   "source": [
    "len(Lids)"
   ]
  },
  {
   "cell_type": "markdown",
   "metadata": {},
   "source": [
    "Note: u doljnjem crtanju koristim be_cand zato sto su mi sve funkcije u BE_plotting napravljene za specificna imena od pocetnih tablica koje mislim da nije potrebno mijenjati sada. Uostalom, lc_MASTER_bcan su iste zvijezde kao i u be_cand, samo s manje podataka jer je za prezentaciju."
   ]
  },
  {
   "cell_type": "code",
   "execution_count": null,
   "metadata": {},
   "outputs": [],
   "source": [
    "# CRTANJE SLIKA PO LISTI NEKIH ID-ova\n",
    "# -------\n",
    "for i in tqdm(range(len(Lids))):\n",
    "    LID = Lids[i]\n",
    "    for n, j in enumerate(fits):\n",
    "            if j[0]==LID:\n",
    "                break\n",
    "\n",
    "    # select light curve fits\n",
    "    L1 = fits[n][1][0]\n",
    "    L2 = fits[n][1][2]\n",
    "\n",
    "    # select the periodogram data\n",
    "    for o, k in enumerate(periodogr):\n",
    "            if k[0]==LID:\n",
    "                break\n",
    "\n",
    "    fL = periodogr[o][1][0]\n",
    "    pL = periodogr[o][1][1]\n",
    "    fZ = periodogr[o][2][0]\n",
    "    pZ = periodogr[o][2][1]\n",
    "\n",
    "    \n",
    "\n",
    "    fFoldedL = periodogr[o][1][2]\n",
    "    pFoldedL = periodogr[o][1][3]\n",
    "    fFoldedZ = periodogr[o][2][2]\n",
    "    pFoldedZ = periodogr[o][2][3]\n",
    "\n",
    "    # selecting ZTF data\n",
    "    lc = dataL.get_light_curve(LID)\n",
    "    tL = lc.T[0]\n",
    "    for f, g in enumerate(ztf_data):\n",
    "        if g[0] == LID:\n",
    "            break\n",
    "    tZ = ztf_data[f][1]\n",
    "    # ---------------------\n",
    "    plotAll(LID, n, i, len(Lids), L1, L2, be_cand, fL, pL, fZ, pZ, fFoldedL, fFoldedZ, pFoldedL, pFoldedZ, dataL, tL, tZ, ztf_data, f='paper_support',plotSave=True)"
   ]
  },
  {
   "cell_type": "code",
   "execution_count": null,
   "metadata": {},
   "outputs": [],
   "source": []
  }
 ],
 "metadata": {
  "kernelspec": {
   "display_name": "rr_lyrae",
   "language": "python",
   "name": "python3"
  },
  "language_info": {
   "codemirror_mode": {
    "name": "ipython",
    "version": 3
   },
   "file_extension": ".py",
   "mimetype": "text/x-python",
   "name": "python",
   "nbconvert_exporter": "python",
   "pygments_lexer": "ipython3",
   "version": "3.11.4"
  }
 },
 "nbformat": 4,
 "nbformat_minor": 2
}
