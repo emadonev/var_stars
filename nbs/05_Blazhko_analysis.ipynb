{
 "cells": [
  {
   "cell_type": "code",
   "execution_count": 1,
   "metadata": {},
   "outputs": [],
   "source": [
    "%load_ext autoreload\n",
    "%autoreload 2"
   ]
  },
  {
   "cell_type": "markdown",
   "metadata": {},
   "source": [
    "# BLAZHKO ANALYSIS"
   ]
  },
  {
   "cell_type": "markdown",
   "metadata": {},
   "source": [
    "---"
   ]
  },
  {
   "cell_type": "code",
   "execution_count": 2,
   "metadata": {},
   "outputs": [],
   "source": [
    "#| code-fold: false\n",
    "# IMPORTING LIBRARIES\n",
    "# --------------------\n",
    "\n",
    "# AstroML\n",
    "from astroML.datasets import fetch_LINEAR_sample\n",
    "from astropy.timeseries import LombScargle\n",
    "from astroML.datasets import fetch_LINEAR_sample\n",
    "from astroML.datasets import fetch_LINEAR_geneva\n",
    "from astropy.timeseries import TimeSeries\n",
    "from astropy.table import Table\n",
    "from astroML.time_series import MultiTermFit\n",
    "\n",
    "# ZTF\n",
    "from ztfquery import lightcurve\n",
    "\n",
    "# Basic libraries\n",
    "import pickle\n",
    "import os\n",
    "import sys\n",
    "from tqdm import tqdm\n",
    "\n",
    "# Plotting\n",
    "import seaborn as sns\n",
    "from matplotlib import pyplot as plt\n",
    "from matplotlib import ticker\n",
    "import matplotlib.colors as mcolors\n",
    "from matplotlib.font_manager import FontProperties\n",
    "\n",
    "# DataFrame analysis\n",
    "import pandas as pd\n",
    "\n",
    "# Math libraries\n",
    "import numpy as np\n",
    "import scipy as sc\n",
    "from scipy.stats import norm\n",
    "\n",
    "# CONFIGURATION\n",
    "# -------------\n",
    "sns.set_theme() # setting the theme for plotting\n",
    "sys.path.insert(0,'../src/')\n",
    "np.random.seed(42)\n",
    "\n",
    "# configuring plotting colors\n",
    "colors = ['#5F6372', '#79A8A4', '#B2AD8F', '#92A186', '#AD8082']\n",
    "blue = '#5F6372'\n",
    "turqoise = '#79A8A4'\n",
    "light_green = '#B2AD8F'\n",
    "green = '#92A186'\n",
    "pink = '#AD8082'\n",
    "cmap = mcolors.ListedColormap(colors)\n",
    "\n",
    "# configuring fonts for plotting\n",
    "font = FontProperties()\n",
    "font.set_family('avenir')\n",
    "font.set_name('Big Caslon')\n",
    "font.set_style('normal')\n",
    "font.set_size('xx-large')\n",
    "\n",
    "\n",
    "%matplotlib inline  "
   ]
  },
  {
   "cell_type": "code",
   "execution_count": 3,
   "metadata": {},
   "outputs": [],
   "source": [
    "#| code-fold: false\n",
    "# Importing custom libraries\n",
    "# ----------------------------\n",
    "from data_access import*\n",
    "from helper import*\n",
    "from RR_lyrae_params import*\n",
    "from blazhko_analysis import*\n",
    "from BE_plotting import*"
   ]
  },
  {
   "cell_type": "code",
   "execution_count": 4,
   "metadata": {},
   "outputs": [],
   "source": [
    "#| code-fold: false\n",
    "# LINEAR DATA\n",
    "# ------------\n",
    "dataL = fetch_LINEAR_sample(data_home='../inputs')"
   ]
  },
  {
   "cell_type": "markdown",
   "metadata": {},
   "source": [
    "## Importing previous data:"
   ]
  },
  {
   "cell_type": "code",
   "execution_count": 5,
   "metadata": {},
   "outputs": [],
   "source": [
    "end = 'ffinal'\n",
    "\n",
    "# DATA from previous notebook\n",
    "lc_analysis = pd.read_csv(\"../outputs/LC_ANALYSIS_\"+end+\".csv\")\n",
    "rrlyrae = pd.read_csv('../outputs/Lrrlyr_unprocessed.csv')\n",
    "periodogr = pickle.load(open(\"../outputs/periodograms_\"+end+\".pkl\", \"rb\"))\n",
    "fits = np.load(\"../outputs/fits_\"+end+\".npy\", allow_pickle=True)\n",
    "ztf_data = np.load(\"../outputs/ztf_data_filter\"+end+\".npy\", allow_pickle=True)"
   ]
  },
  {
   "cell_type": "code",
   "execution_count": 6,
   "metadata": {},
   "outputs": [
    {
     "name": "stdout",
     "output_type": "stream",
     "text": [
      "(2857, 34)\n"
     ]
    },
    {
     "data": {
      "text/html": [
       "<div>\n",
       "<style scoped>\n",
       "    .dataframe tbody tr th:only-of-type {\n",
       "        vertical-align: middle;\n",
       "    }\n",
       "\n",
       "    .dataframe tbody tr th {\n",
       "        vertical-align: top;\n",
       "    }\n",
       "\n",
       "    .dataframe thead th {\n",
       "        text-align: right;\n",
       "    }\n",
       "</style>\n",
       "<table border=\"1\" class=\"dataframe\">\n",
       "  <thead>\n",
       "    <tr style=\"text-align: right;\">\n",
       "      <th></th>\n",
       "      <th>LINEAR id</th>\n",
       "      <th>Plinear</th>\n",
       "      <th>Pztf</th>\n",
       "      <th>Pmean</th>\n",
       "      <th>Pratio</th>\n",
       "      <th>NdataLINEAR</th>\n",
       "      <th>L_chi2dof</th>\n",
       "      <th>L_chi2dofR</th>\n",
       "      <th>Lmean_chi2dof</th>\n",
       "      <th>Lmean_chi2dofR</th>\n",
       "      <th>...</th>\n",
       "      <th>MainPeakZ</th>\n",
       "      <th>BlazhkoPeakZ</th>\n",
       "      <th>BlazhkoPeriodZ</th>\n",
       "      <th>BpowerRatioZ</th>\n",
       "      <th>BsignificanceZ</th>\n",
       "      <th>Ampl_diff</th>\n",
       "      <th>dP</th>\n",
       "      <th>IndicatorType</th>\n",
       "      <th>ChiType</th>\n",
       "      <th>BE_score</th>\n",
       "    </tr>\n",
       "  </thead>\n",
       "  <tbody>\n",
       "    <tr>\n",
       "      <th>0</th>\n",
       "      <td>29848</td>\n",
       "      <td>0.557020</td>\n",
       "      <td>0.557040</td>\n",
       "      <td>0.557030</td>\n",
       "      <td>1.000036</td>\n",
       "      <td>301</td>\n",
       "      <td>3.0</td>\n",
       "      <td>1.4</td>\n",
       "      <td>3.3</td>\n",
       "      <td>1.6</td>\n",
       "      <td>...</td>\n",
       "      <td>1.7952</td>\n",
       "      <td>1.7982</td>\n",
       "      <td>333.3333</td>\n",
       "      <td>0.2573</td>\n",
       "      <td>10.0729</td>\n",
       "      <td>0.37</td>\n",
       "      <td>0.00004</td>\n",
       "      <td>NaN</td>\n",
       "      <td>NaN</td>\n",
       "      <td>NaN</td>\n",
       "    </tr>\n",
       "    <tr>\n",
       "      <th>1</th>\n",
       "      <td>50402</td>\n",
       "      <td>0.643303</td>\n",
       "      <td>0.643294</td>\n",
       "      <td>0.643298</td>\n",
       "      <td>0.999986</td>\n",
       "      <td>284</td>\n",
       "      <td>0.6</td>\n",
       "      <td>0.7</td>\n",
       "      <td>0.6</td>\n",
       "      <td>0.7</td>\n",
       "      <td>...</td>\n",
       "      <td>1.5545</td>\n",
       "      <td>1.5918</td>\n",
       "      <td>26.8420</td>\n",
       "      <td>0.0027</td>\n",
       "      <td>8.9208</td>\n",
       "      <td>0.21</td>\n",
       "      <td>0.00001</td>\n",
       "      <td>NaN</td>\n",
       "      <td>NaN</td>\n",
       "      <td>NaN</td>\n",
       "    </tr>\n",
       "    <tr>\n",
       "      <th>2</th>\n",
       "      <td>62892</td>\n",
       "      <td>0.530776</td>\n",
       "      <td>0.530785</td>\n",
       "      <td>0.530780</td>\n",
       "      <td>1.000017</td>\n",
       "      <td>276</td>\n",
       "      <td>1.1</td>\n",
       "      <td>0.9</td>\n",
       "      <td>1.1</td>\n",
       "      <td>1.0</td>\n",
       "      <td>...</td>\n",
       "      <td>1.8840</td>\n",
       "      <td>1.9433</td>\n",
       "      <td>16.8634</td>\n",
       "      <td>0.0048</td>\n",
       "      <td>13.1609</td>\n",
       "      <td>0.02</td>\n",
       "      <td>0.00002</td>\n",
       "      <td>NaN</td>\n",
       "      <td>NaN</td>\n",
       "      <td>NaN</td>\n",
       "    </tr>\n",
       "    <tr>\n",
       "      <th>3</th>\n",
       "      <td>91437</td>\n",
       "      <td>0.674733</td>\n",
       "      <td>0.674737</td>\n",
       "      <td>0.674735</td>\n",
       "      <td>1.000006</td>\n",
       "      <td>177</td>\n",
       "      <td>2.8</td>\n",
       "      <td>1.3</td>\n",
       "      <td>2.8</td>\n",
       "      <td>1.3</td>\n",
       "      <td>...</td>\n",
       "      <td>1.4821</td>\n",
       "      <td>1.4849</td>\n",
       "      <td>355.8719</td>\n",
       "      <td>0.0233</td>\n",
       "      <td>16.1566</td>\n",
       "      <td>0.34</td>\n",
       "      <td>0.00001</td>\n",
       "      <td>NaN</td>\n",
       "      <td>NaN</td>\n",
       "      <td>NaN</td>\n",
       "    </tr>\n",
       "    <tr>\n",
       "      <th>4</th>\n",
       "      <td>95250</td>\n",
       "      <td>0.313870</td>\n",
       "      <td>0.313876</td>\n",
       "      <td>0.313873</td>\n",
       "      <td>1.000019</td>\n",
       "      <td>222</td>\n",
       "      <td>0.8</td>\n",
       "      <td>0.8</td>\n",
       "      <td>0.9</td>\n",
       "      <td>0.8</td>\n",
       "      <td>...</td>\n",
       "      <td>3.1860</td>\n",
       "      <td>3.1889</td>\n",
       "      <td>342.4658</td>\n",
       "      <td>0.0028</td>\n",
       "      <td>13.4528</td>\n",
       "      <td>0.02</td>\n",
       "      <td>0.00002</td>\n",
       "      <td>NaN</td>\n",
       "      <td>NaN</td>\n",
       "      <td>NaN</td>\n",
       "    </tr>\n",
       "  </tbody>\n",
       "</table>\n",
       "<p>5 rows × 34 columns</p>\n",
       "</div>"
      ],
      "text/plain": [
       "   LINEAR id   Plinear      Pztf     Pmean    Pratio  NdataLINEAR  L_chi2dof  \\\n",
       "0      29848  0.557020  0.557040  0.557030  1.000036          301        3.0   \n",
       "1      50402  0.643303  0.643294  0.643298  0.999986          284        0.6   \n",
       "2      62892  0.530776  0.530785  0.530780  1.000017          276        1.1   \n",
       "3      91437  0.674733  0.674737  0.674735  1.000006          177        2.8   \n",
       "4      95250  0.313870  0.313876  0.313873  1.000019          222        0.8   \n",
       "\n",
       "   L_chi2dofR  Lmean_chi2dof  Lmean_chi2dofR  ...  MainPeakZ  BlazhkoPeakZ  \\\n",
       "0         1.4            3.3             1.6  ...     1.7952        1.7982   \n",
       "1         0.7            0.6             0.7  ...     1.5545        1.5918   \n",
       "2         0.9            1.1             1.0  ...     1.8840        1.9433   \n",
       "3         1.3            2.8             1.3  ...     1.4821        1.4849   \n",
       "4         0.8            0.9             0.8  ...     3.1860        3.1889   \n",
       "\n",
       "   BlazhkoPeriodZ  BpowerRatioZ  BsignificanceZ  Ampl_diff       dP  \\\n",
       "0        333.3333        0.2573         10.0729       0.37  0.00004   \n",
       "1         26.8420        0.0027          8.9208       0.21  0.00001   \n",
       "2         16.8634        0.0048         13.1609       0.02  0.00002   \n",
       "3        355.8719        0.0233         16.1566       0.34  0.00001   \n",
       "4        342.4658        0.0028         13.4528       0.02  0.00002   \n",
       "\n",
       "   IndicatorType  ChiType  BE_score  \n",
       "0            NaN      NaN       NaN  \n",
       "1            NaN      NaN       NaN  \n",
       "2            NaN      NaN       NaN  \n",
       "3            NaN      NaN       NaN  \n",
       "4            NaN      NaN       NaN  \n",
       "\n",
       "[5 rows x 34 columns]"
      ]
     },
     "execution_count": 6,
     "metadata": {},
     "output_type": "execute_result"
    }
   ],
   "source": [
    "print(lc_analysis.shape)\n",
    "lc_analysis.head()"
   ]
  },
  {
   "cell_type": "code",
   "execution_count": 65,
   "metadata": {},
   "outputs": [
    {
     "data": {
      "image/png": "[encoded data removed]",
      "text/plain": [
       "<Figure size 900x500 with 1 Axes>"
      ]
     },
     "metadata": {},
     "output_type": "display_data"
    }
   ],
   "source": [
    "# CHI2 graph\n",
    "# ============\n",
    "\n",
    "plt.figure(figsize=(9,5))\n",
    "sns.histplot(data=lc_analysis['L_chi2dofR'].to_numpy(),color=pink) # drawing a histogram of the distribution of measurements\n",
    "plt.xlim([0,7.5])\n",
    "plt.title('Distribucija vrijednosti hi-kvadrata LINEAR podaci', fontproperties=font,fontsize=16)\n",
    "plt.xlabel('Hi-kvadrat', fontproperties=font, fontsize=14)\n",
    "plt.ylabel('Broj zvijezda s istim hi-kvadratom', fontproperties=font,fontsize=14)\n",
    "plt.savefig('../images/dist1.png', dpi=650)\n",
    "plt.show()"
   ]
  },
  {
   "cell_type": "code",
   "execution_count": 69,
   "metadata": {},
   "outputs": [
    {
     "data": {
      "image/png": "[encoded data removed]",
      "text/plain": [
       "<Figure size 900x500 with 1 Axes>"
      ]
     },
     "metadata": {},
     "output_type": "display_data"
    }
   ],
   "source": [
    "# CHI2 graph\n",
    "# ============\n",
    "\n",
    "plt.figure(figsize=(9,5))\n",
    "sns.histplot(data=lc_analysis['Zchi2dofR'].to_numpy(),color=blue) # drawing a histogram of the distribution of measurements\n",
    "plt.xlim([0,10])\n",
    "plt.title('Distribucija vrijednosti hi-kvadrata ZTF podaci', fontproperties=font,fontsize=16)\n",
    "plt.xlabel('Hi-kvadrat', fontproperties=font, fontsize=14)\n",
    "plt.ylabel('Broj zvijezda s istim hi-kvadratom', fontproperties=font,fontsize=14)\n",
    "plt.savefig('../images/dist2.png', dpi=650)\n",
    "plt.show()"
   ]
  },
  {
   "cell_type": "code",
   "execution_count": 68,
   "metadata": {},
   "outputs": [
    {
     "data": {
      "image/png": "[encoded data removed]",
      "text/plain": [
       "<Figure size 900x500 with 1 Axes>"
      ]
     },
     "metadata": {},
     "output_type": "display_data"
    }
   ],
   "source": [
    "# Period difference graph\n",
    "# ============\n",
    "\n",
    "plt.figure(figsize=(9,5))\n",
    "sns.histplot(data=lc_analysis['dP'].to_numpy(),color=green) # drawing a histogram of the distribution of measurements\n",
    "plt.xlim([0,0.0004])\n",
    "plt.title('Distribucija vrijednosti normalizirane razlike perioda', fontproperties=font,fontsize=16)\n",
    "plt.xlabel('Normalizirana razlika perioda', fontproperties=font, fontsize=14)\n",
    "plt.ylabel('Broj zvijezda s istom normaliziranom razlikom perioda', fontproperties=font,fontsize=14)\n",
    "plt.savefig('../images/dist3.png', dpi=650)\n",
    "plt.show()"
   ]
  },
  {
   "cell_type": "markdown",
   "metadata": {},
   "source": [
    "# Step 01: BLAZHKO CANDIDATE ALGORITHM"
   ]
  },
  {
   "cell_type": "markdown",
   "metadata": {},
   "source": [
    "---"
   ]
  },
  {
   "cell_type": "code",
   "execution_count": 27,
   "metadata": {},
   "outputs": [],
   "source": [
    "blazhko_can = pd.DataFrame(())\n",
    "blazhko_can = blazhko_determine(lc_analysis, blazhko_can)\n",
    "blazhko_can.to_csv(\"../outputs/blazhko_can\"+end+\".csv\", index=False)"
   ]
  },
  {
   "cell_type": "code",
   "execution_count": 28,
   "metadata": {},
   "outputs": [
    {
     "name": "stdout",
     "output_type": "stream",
     "text": [
      "(239, 35)\n"
     ]
    },
    {
     "data": {
      "text/html": [
       "<div>\n",
       "<style scoped>\n",
       "    .dataframe tbody tr th:only-of-type {\n",
       "        vertical-align: middle;\n",
       "    }\n",
       "\n",
       "    .dataframe tbody tr th {\n",
       "        vertical-align: top;\n",
       "    }\n",
       "\n",
       "    .dataframe thead th {\n",
       "        text-align: right;\n",
       "    }\n",
       "</style>\n",
       "<table border=\"1\" class=\"dataframe\">\n",
       "  <thead>\n",
       "    <tr style=\"text-align: right;\">\n",
       "      <th></th>\n",
       "      <th>LINEAR id</th>\n",
       "      <th>Plinear</th>\n",
       "      <th>Pztf</th>\n",
       "      <th>Pmean</th>\n",
       "      <th>Pratio</th>\n",
       "      <th>NdataLINEAR</th>\n",
       "      <th>L_chi2dof</th>\n",
       "      <th>L_chi2dofR</th>\n",
       "      <th>Lmean_chi2dof</th>\n",
       "      <th>Lmean_chi2dofR</th>\n",
       "      <th>...</th>\n",
       "      <th>BlazhkoPeakZ</th>\n",
       "      <th>BlazhkoPeriodZ</th>\n",
       "      <th>BpowerRatioZ</th>\n",
       "      <th>BsignificanceZ</th>\n",
       "      <th>Ampl_diff</th>\n",
       "      <th>dP</th>\n",
       "      <th>IndicatorType</th>\n",
       "      <th>ChiType</th>\n",
       "      <th>BE_score</th>\n",
       "      <th>period_vs_amp</th>\n",
       "    </tr>\n",
       "  </thead>\n",
       "  <tbody>\n",
       "    <tr>\n",
       "      <th>0</th>\n",
       "      <td>29848</td>\n",
       "      <td>0.557020</td>\n",
       "      <td>0.557040</td>\n",
       "      <td>0.557030</td>\n",
       "      <td>1.000036</td>\n",
       "      <td>301</td>\n",
       "      <td>3.0</td>\n",
       "      <td>1.4</td>\n",
       "      <td>3.3</td>\n",
       "      <td>1.6</td>\n",
       "      <td>...</td>\n",
       "      <td>1.7982</td>\n",
       "      <td>333.3333</td>\n",
       "      <td>0.2573</td>\n",
       "      <td>10.0729</td>\n",
       "      <td>0.37</td>\n",
       "      <td>0.00004</td>\n",
       "      <td>NaN</td>\n",
       "      <td>Z</td>\n",
       "      <td>6.0</td>\n",
       "      <td>period</td>\n",
       "    </tr>\n",
       "    <tr>\n",
       "      <th>1</th>\n",
       "      <td>158779</td>\n",
       "      <td>0.609207</td>\n",
       "      <td>0.609189</td>\n",
       "      <td>0.609198</td>\n",
       "      <td>0.999970</td>\n",
       "      <td>293</td>\n",
       "      <td>3.7</td>\n",
       "      <td>1.6</td>\n",
       "      <td>4.3</td>\n",
       "      <td>1.6</td>\n",
       "      <td>...</td>\n",
       "      <td>1.6444</td>\n",
       "      <td>350.2627</td>\n",
       "      <td>0.0123</td>\n",
       "      <td>16.5371</td>\n",
       "      <td>0.21</td>\n",
       "      <td>0.00003</td>\n",
       "      <td>NaN</td>\n",
       "      <td>Z</td>\n",
       "      <td>6.0</td>\n",
       "      <td>period</td>\n",
       "    </tr>\n",
       "    <tr>\n",
       "      <th>2</th>\n",
       "      <td>263541</td>\n",
       "      <td>0.558218</td>\n",
       "      <td>0.558221</td>\n",
       "      <td>0.558220</td>\n",
       "      <td>1.000005</td>\n",
       "      <td>270</td>\n",
       "      <td>15.8</td>\n",
       "      <td>2.9</td>\n",
       "      <td>16.2</td>\n",
       "      <td>3.0</td>\n",
       "      <td>...</td>\n",
       "      <td>1.8025</td>\n",
       "      <td>89.9685</td>\n",
       "      <td>0.0021</td>\n",
       "      <td>7.5968</td>\n",
       "      <td>0.18</td>\n",
       "      <td>0.00001</td>\n",
       "      <td>NaN</td>\n",
       "      <td>Z</td>\n",
       "      <td>7.0</td>\n",
       "      <td>amp</td>\n",
       "    </tr>\n",
       "    <tr>\n",
       "      <th>3</th>\n",
       "      <td>514883</td>\n",
       "      <td>0.557723</td>\n",
       "      <td>0.557737</td>\n",
       "      <td>0.557730</td>\n",
       "      <td>1.000025</td>\n",
       "      <td>289</td>\n",
       "      <td>5.3</td>\n",
       "      <td>1.7</td>\n",
       "      <td>5.4</td>\n",
       "      <td>1.6</td>\n",
       "      <td>...</td>\n",
       "      <td>1.7958</td>\n",
       "      <td>357.1429</td>\n",
       "      <td>0.0149</td>\n",
       "      <td>17.9476</td>\n",
       "      <td>0.17</td>\n",
       "      <td>0.00003</td>\n",
       "      <td>NaN</td>\n",
       "      <td>Z</td>\n",
       "      <td>7.0</td>\n",
       "      <td>period</td>\n",
       "    </tr>\n",
       "    <tr>\n",
       "      <th>4</th>\n",
       "      <td>523832</td>\n",
       "      <td>0.372376</td>\n",
       "      <td>0.372384</td>\n",
       "      <td>0.372380</td>\n",
       "      <td>1.000021</td>\n",
       "      <td>251</td>\n",
       "      <td>1.8</td>\n",
       "      <td>1.2</td>\n",
       "      <td>1.9</td>\n",
       "      <td>1.3</td>\n",
       "      <td>...</td>\n",
       "      <td>2.7122</td>\n",
       "      <td>37.3413</td>\n",
       "      <td>0.1528</td>\n",
       "      <td>6.3617</td>\n",
       "      <td>0.17</td>\n",
       "      <td>0.00002</td>\n",
       "      <td>Z</td>\n",
       "      <td>NaN</td>\n",
       "      <td>NaN</td>\n",
       "      <td>NaN</td>\n",
       "    </tr>\n",
       "    <tr>\n",
       "      <th>5</th>\n",
       "      <td>737951</td>\n",
       "      <td>0.357023</td>\n",
       "      <td>0.357023</td>\n",
       "      <td>0.357023</td>\n",
       "      <td>1.000000</td>\n",
       "      <td>273</td>\n",
       "      <td>6.0</td>\n",
       "      <td>2.2</td>\n",
       "      <td>6.0</td>\n",
       "      <td>2.2</td>\n",
       "      <td>...</td>\n",
       "      <td>2.8039</td>\n",
       "      <td>332.2259</td>\n",
       "      <td>0.0020</td>\n",
       "      <td>13.7006</td>\n",
       "      <td>0.09</td>\n",
       "      <td>0.00000</td>\n",
       "      <td>NaN</td>\n",
       "      <td>Z</td>\n",
       "      <td>6.0</td>\n",
       "      <td>amp</td>\n",
       "    </tr>\n",
       "    <tr>\n",
       "      <th>6</th>\n",
       "      <td>803829</td>\n",
       "      <td>0.595281</td>\n",
       "      <td>0.595286</td>\n",
       "      <td>0.595284</td>\n",
       "      <td>1.000008</td>\n",
       "      <td>270</td>\n",
       "      <td>8.7</td>\n",
       "      <td>2.3</td>\n",
       "      <td>9.7</td>\n",
       "      <td>2.7</td>\n",
       "      <td>...</td>\n",
       "      <td>1.6828</td>\n",
       "      <td>335.5705</td>\n",
       "      <td>0.0082</td>\n",
       "      <td>17.8498</td>\n",
       "      <td>0.43</td>\n",
       "      <td>0.00001</td>\n",
       "      <td>NaN</td>\n",
       "      <td>Z</td>\n",
       "      <td>10.0</td>\n",
       "      <td>amp</td>\n",
       "    </tr>\n",
       "    <tr>\n",
       "      <th>7</th>\n",
       "      <td>810169</td>\n",
       "      <td>0.465185</td>\n",
       "      <td>0.465212</td>\n",
       "      <td>0.465198</td>\n",
       "      <td>1.000058</td>\n",
       "      <td>289</td>\n",
       "      <td>6.0</td>\n",
       "      <td>2.1</td>\n",
       "      <td>8.2</td>\n",
       "      <td>2.3</td>\n",
       "      <td>...</td>\n",
       "      <td>2.2230</td>\n",
       "      <td>13.6082</td>\n",
       "      <td>0.0077</td>\n",
       "      <td>16.1490</td>\n",
       "      <td>0.02</td>\n",
       "      <td>0.00006</td>\n",
       "      <td>NaN</td>\n",
       "      <td>Z</td>\n",
       "      <td>12.0</td>\n",
       "      <td>period</td>\n",
       "    </tr>\n",
       "    <tr>\n",
       "      <th>8</th>\n",
       "      <td>880588</td>\n",
       "      <td>0.600138</td>\n",
       "      <td>0.600134</td>\n",
       "      <td>0.600136</td>\n",
       "      <td>0.999993</td>\n",
       "      <td>295</td>\n",
       "      <td>3.2</td>\n",
       "      <td>1.2</td>\n",
       "      <td>3.3</td>\n",
       "      <td>1.2</td>\n",
       "      <td>...</td>\n",
       "      <td>1.6736</td>\n",
       "      <td>136.4256</td>\n",
       "      <td>0.0109</td>\n",
       "      <td>14.7971</td>\n",
       "      <td>0.07</td>\n",
       "      <td>0.00001</td>\n",
       "      <td>L</td>\n",
       "      <td>NaN</td>\n",
       "      <td>NaN</td>\n",
       "      <td>NaN</td>\n",
       "    </tr>\n",
       "    <tr>\n",
       "      <th>9</th>\n",
       "      <td>924301</td>\n",
       "      <td>0.507503</td>\n",
       "      <td>0.507440</td>\n",
       "      <td>0.507472</td>\n",
       "      <td>0.999876</td>\n",
       "      <td>418</td>\n",
       "      <td>13.8</td>\n",
       "      <td>1.9</td>\n",
       "      <td>35.3</td>\n",
       "      <td>3.8</td>\n",
       "      <td>...</td>\n",
       "      <td>1.9763</td>\n",
       "      <td>178.4121</td>\n",
       "      <td>0.0219</td>\n",
       "      <td>18.8612</td>\n",
       "      <td>0.08</td>\n",
       "      <td>0.00012</td>\n",
       "      <td>NaN</td>\n",
       "      <td>Z</td>\n",
       "      <td>10.0</td>\n",
       "      <td>period</td>\n",
       "    </tr>\n",
       "  </tbody>\n",
       "</table>\n",
       "<p>10 rows × 35 columns</p>\n",
       "</div>"
      ],
      "text/plain": [
       "   LINEAR id   Plinear      Pztf     Pmean    Pratio  NdataLINEAR  L_chi2dof  \\\n",
       "0      29848  0.557020  0.557040  0.557030  1.000036          301        3.0   \n",
       "1     158779  0.609207  0.609189  0.609198  0.999970          293        3.7   \n",
       "2     263541  0.558218  0.558221  0.558220  1.000005          270       15.8   \n",
       "3     514883  0.557723  0.557737  0.557730  1.000025          289        5.3   \n",
       "4     523832  0.372376  0.372384  0.372380  1.000021          251        1.8   \n",
       "5     737951  0.357023  0.357023  0.357023  1.000000          273        6.0   \n",
       "6     803829  0.595281  0.595286  0.595284  1.000008          270        8.7   \n",
       "7     810169  0.465185  0.465212  0.465198  1.000058          289        6.0   \n",
       "8     880588  0.600138  0.600134  0.600136  0.999993          295        3.2   \n",
       "9     924301  0.507503  0.507440  0.507472  0.999876          418       13.8   \n",
       "\n",
       "   L_chi2dofR  Lmean_chi2dof  Lmean_chi2dofR  ...  BlazhkoPeakZ  \\\n",
       "0         1.4            3.3             1.6  ...        1.7982   \n",
       "1         1.6            4.3             1.6  ...        1.6444   \n",
       "2         2.9           16.2             3.0  ...        1.8025   \n",
       "3         1.7            5.4             1.6  ...        1.7958   \n",
       "4         1.2            1.9             1.3  ...        2.7122   \n",
       "5         2.2            6.0             2.2  ...        2.8039   \n",
       "6         2.3            9.7             2.7  ...        1.6828   \n",
       "7         2.1            8.2             2.3  ...        2.2230   \n",
       "8         1.2            3.3             1.2  ...        1.6736   \n",
       "9         1.9           35.3             3.8  ...        1.9763   \n",
       "\n",
       "   BlazhkoPeriodZ  BpowerRatioZ  BsignificanceZ  Ampl_diff       dP  \\\n",
       "0        333.3333        0.2573         10.0729       0.37  0.00004   \n",
       "1        350.2627        0.0123         16.5371       0.21  0.00003   \n",
       "2         89.9685        0.0021          7.5968       0.18  0.00001   \n",
       "3        357.1429        0.0149         17.9476       0.17  0.00003   \n",
       "4         37.3413        0.1528          6.3617       0.17  0.00002   \n",
       "5        332.2259        0.0020         13.7006       0.09  0.00000   \n",
       "6        335.5705        0.0082         17.8498       0.43  0.00001   \n",
       "7         13.6082        0.0077         16.1490       0.02  0.00006   \n",
       "8        136.4256        0.0109         14.7971       0.07  0.00001   \n",
       "9        178.4121        0.0219         18.8612       0.08  0.00012   \n",
       "\n",
       "   IndicatorType  ChiType  BE_score  period_vs_amp  \n",
       "0            NaN        Z       6.0         period  \n",
       "1            NaN        Z       6.0         period  \n",
       "2            NaN        Z       7.0            amp  \n",
       "3            NaN        Z       7.0         period  \n",
       "4              Z      NaN       NaN            NaN  \n",
       "5            NaN        Z       6.0            amp  \n",
       "6            NaN        Z      10.0            amp  \n",
       "7            NaN        Z      12.0         period  \n",
       "8              L      NaN       NaN            NaN  \n",
       "9            NaN        Z      10.0         period  \n",
       "\n",
       "[10 rows x 35 columns]"
      ]
     },
     "execution_count": 28,
     "metadata": {},
     "output_type": "execute_result"
    }
   ],
   "source": [
    "print(blazhko_can.shape)\n",
    "blazhko_can.head(10)"
   ]
  },
  {
   "cell_type": "markdown",
   "metadata": {},
   "source": [
    "# Step 02: VISUAL ANALYSIS"
   ]
  },
  {
   "cell_type": "markdown",
   "metadata": {},
   "source": [
    "---"
   ]
  },
  {
   "cell_type": "code",
   "execution_count": 29,
   "metadata": {},
   "outputs": [
    {
     "name": "stdout",
     "output_type": "stream",
     "text": [
      "This dataset has 20 stars.\n"
     ]
    },
    {
     "data": {
      "application/vnd.jupyter.widget-view+json": {
       "model_id": "5eca3d34fb9b48c191525c35c05d2773",
       "version_major": 2,
       "version_minor": 0
      },
      "text/plain": [
       "VBox(children=(Output(), Button(description='KEEP', style=ButtonStyle()), Button(description='CONTINUE', style…"
      ]
     },
     "metadata": {},
     "output_type": "display_data"
    }
   ],
   "source": [
    "# ZTF PERIODOGRAM\n",
    "# =================\n",
    "ztf_per = category_analysis(blazhko_can, fits, periodogr, ztf_data, dataL, 'ztf_periodogram',id_list=None,parameter='IndicatorType', value='Z')"
   ]
  },
  {
   "cell_type": "code",
   "execution_count": 30,
   "metadata": {},
   "outputs": [
    {
     "name": "stdout",
     "output_type": "stream",
     "text": [
      "(11, 35)\n"
     ]
    }
   ],
   "source": [
    "blazhko_analyzer = ztf_per.get_save_data()\n",
    "end = 'ztf_periodogram'\n",
    "blazhko_analyzer.to_csv(\"../outputs/blazhko_list_\"+end+\".csv\", index=False)\n",
    "\n",
    "print(blazhko_analyzer.shape)"
   ]
  },
  {
   "cell_type": "code",
   "execution_count": 31,
   "metadata": {},
   "outputs": [
    {
     "name": "stdout",
     "output_type": "stream",
     "text": [
      "This dataset has 30 stars.\n"
     ]
    },
    {
     "data": {
      "application/vnd.jupyter.widget-view+json": {
       "model_id": "484d537ae7fe462f963ebddef9fa3b58",
       "version_major": 2,
       "version_minor": 0
      },
      "text/plain": [
       "VBox(children=(Output(), Button(description='KEEP', style=ButtonStyle()), Button(description='CONTINUE', style…"
      ]
     },
     "metadata": {},
     "output_type": "display_data"
    }
   ],
   "source": [
    "# LINEAR PERIODOGRAM\n",
    "# ======================\n",
    "linear_per = category_analysis(blazhko_can, fits, periodogr, ztf_data, dataL, 'linear_periodogram',id_list=None,parameter='IndicatorType', value='L')"
   ]
  },
  {
   "cell_type": "code",
   "execution_count": 32,
   "metadata": {},
   "outputs": [
    {
     "name": "stdout",
     "output_type": "stream",
     "text": [
      "(13, 35)\n"
     ]
    }
   ],
   "source": [
    "blazhko_analyzerl = linear_per.get_save_data()\n",
    "end = 'linear_periodogram'\n",
    "blazhko_analyzerl.to_csv(\"../outputs/blazhko_list_\"+end+\".csv\", index=False)\n",
    "\n",
    "print(blazhko_analyzerl.shape)"
   ]
  },
  {
   "cell_type": "code",
   "execution_count": 33,
   "metadata": {},
   "outputs": [
    {
     "name": "stdout",
     "output_type": "stream",
     "text": [
      "This dataset has 166 stars.\n"
     ]
    },
    {
     "data": {
      "application/vnd.jupyter.widget-view+json": {
       "model_id": "09c8d9a33f31424ba87059b3814aea41",
       "version_major": 2,
       "version_minor": 0
      },
      "text/plain": [
       "VBox(children=(Output(), Button(description='KEEP', style=ButtonStyle()), Button(description='CONTINUE', style…"
      ]
     },
     "metadata": {},
     "output_type": "display_data"
    }
   ],
   "source": [
    "# ZTF CHI2\n",
    "# ==========\n",
    "ztf_chi = category_analysis(blazhko_can, fits, periodogr, ztf_data, dataL, 'ztf_chi',id_list=None,parameter='ChiType', value='Z')"
   ]
  },
  {
   "cell_type": "code",
   "execution_count": 36,
   "metadata": {},
   "outputs": [
    {
     "name": "stdout",
     "output_type": "stream",
     "text": [
      "(101, 35)\n"
     ]
    }
   ],
   "source": [
    "blazhko_analyzerzc = ztf_chi.get_save_data()\n",
    "end = 'ztf_chi'\n",
    "blazhko_analyzerzc.to_csv(\"../outputs/blazhko_list_\"+end+\".csv\", index=False)\n",
    "\n",
    "print(blazhko_analyzerzc.shape)"
   ]
  },
  {
   "cell_type": "code",
   "execution_count": 37,
   "metadata": {},
   "outputs": [
    {
     "name": "stdout",
     "output_type": "stream",
     "text": [
      "This dataset has 18 stars.\n"
     ]
    },
    {
     "data": {
      "application/vnd.jupyter.widget-view+json": {
       "model_id": "57086a22f2fe4bb998a6b15f66b5e00d",
       "version_major": 2,
       "version_minor": 0
      },
      "text/plain": [
       "VBox(children=(Output(), Button(description='KEEP', style=ButtonStyle()), Button(description='CONTINUE', style…"
      ]
     },
     "metadata": {},
     "output_type": "display_data"
    }
   ],
   "source": [
    "# LINEAR CHI2\n",
    "# ==========\n",
    "linear_chi = category_analysis(blazhko_can, fits, periodogr, ztf_data, dataL, 'linear_chi',id_list=None,parameter='ChiType', value='L')"
   ]
  },
  {
   "cell_type": "code",
   "execution_count": 38,
   "metadata": {},
   "outputs": [
    {
     "name": "stdout",
     "output_type": "stream",
     "text": [
      "(8, 35)\n"
     ]
    }
   ],
   "source": [
    "blazhko_analyzerlc = linear_chi.get_save_data()\n",
    "end = 'linear_chi'\n",
    "blazhko_analyzerlc.to_csv(\"../outputs/blazhko_list_\"+end+\".csv\", index=False)\n",
    "\n",
    "print(blazhko_analyzerlc.shape)"
   ]
  },
  {
   "cell_type": "code",
   "execution_count": 45,
   "metadata": {},
   "outputs": [
    {
     "name": "stdout",
     "output_type": "stream",
     "text": [
      "(5, 35)\n"
     ]
    },
    {
     "data": {
      "text/html": [
       "<div>\n",
       "<style scoped>\n",
       "    .dataframe tbody tr th:only-of-type {\n",
       "        vertical-align: middle;\n",
       "    }\n",
       "\n",
       "    .dataframe tbody tr th {\n",
       "        vertical-align: top;\n",
       "    }\n",
       "\n",
       "    .dataframe thead th {\n",
       "        text-align: right;\n",
       "    }\n",
       "</style>\n",
       "<table border=\"1\" class=\"dataframe\">\n",
       "  <thead>\n",
       "    <tr style=\"text-align: right;\">\n",
       "      <th></th>\n",
       "      <th>LINEAR id</th>\n",
       "      <th>Plinear</th>\n",
       "      <th>Pztf</th>\n",
       "      <th>Pmean</th>\n",
       "      <th>Pratio</th>\n",
       "      <th>NdataLINEAR</th>\n",
       "      <th>L_chi2dof</th>\n",
       "      <th>L_chi2dofR</th>\n",
       "      <th>Lmean_chi2dof</th>\n",
       "      <th>Lmean_chi2dofR</th>\n",
       "      <th>...</th>\n",
       "      <th>BlazhkoPeakZ</th>\n",
       "      <th>BlazhkoPeriodZ</th>\n",
       "      <th>BpowerRatioZ</th>\n",
       "      <th>BsignificanceZ</th>\n",
       "      <th>Ampl_diff</th>\n",
       "      <th>dP</th>\n",
       "      <th>IndicatorType</th>\n",
       "      <th>ChiType</th>\n",
       "      <th>BE_score</th>\n",
       "      <th>period_vs_amp</th>\n",
       "    </tr>\n",
       "  </thead>\n",
       "  <tbody>\n",
       "    <tr>\n",
       "      <th>0</th>\n",
       "      <td>2714034</td>\n",
       "      <td>0.610868</td>\n",
       "      <td>0.610800</td>\n",
       "      <td>0.610834</td>\n",
       "      <td>0.999889</td>\n",
       "      <td>536</td>\n",
       "      <td>2.4</td>\n",
       "      <td>1.5</td>\n",
       "      <td>6.4</td>\n",
       "      <td>1.9</td>\n",
       "      <td>...</td>\n",
       "      <td>1.6427</td>\n",
       "      <td>182.6484</td>\n",
       "      <td>0.0343</td>\n",
       "      <td>14.0620</td>\n",
       "      <td>0.08</td>\n",
       "      <td>0.00011</td>\n",
       "      <td>NaN</td>\n",
       "      <td>NaN</td>\n",
       "      <td>5.0</td>\n",
       "      <td>period</td>\n",
       "    </tr>\n",
       "    <tr>\n",
       "      <th>1</th>\n",
       "      <td>3405178</td>\n",
       "      <td>0.579231</td>\n",
       "      <td>0.579204</td>\n",
       "      <td>0.579218</td>\n",
       "      <td>0.999953</td>\n",
       "      <td>256</td>\n",
       "      <td>1.1</td>\n",
       "      <td>1.0</td>\n",
       "      <td>3.7</td>\n",
       "      <td>1.3</td>\n",
       "      <td>...</td>\n",
       "      <td>1.7319</td>\n",
       "      <td>185.1852</td>\n",
       "      <td>0.0031</td>\n",
       "      <td>14.3561</td>\n",
       "      <td>0.31</td>\n",
       "      <td>0.00005</td>\n",
       "      <td>NaN</td>\n",
       "      <td>NaN</td>\n",
       "      <td>6.0</td>\n",
       "      <td>period</td>\n",
       "    </tr>\n",
       "    <tr>\n",
       "      <th>2</th>\n",
       "      <td>5592590</td>\n",
       "      <td>0.346945</td>\n",
       "      <td>0.346980</td>\n",
       "      <td>0.346962</td>\n",
       "      <td>1.000101</td>\n",
       "      <td>603</td>\n",
       "      <td>2.3</td>\n",
       "      <td>1.2</td>\n",
       "      <td>12.7</td>\n",
       "      <td>3.5</td>\n",
       "      <td>...</td>\n",
       "      <td>2.9438</td>\n",
       "      <td>16.1799</td>\n",
       "      <td>0.0338</td>\n",
       "      <td>7.1460</td>\n",
       "      <td>0.06</td>\n",
       "      <td>0.00010</td>\n",
       "      <td>NaN</td>\n",
       "      <td>NaN</td>\n",
       "      <td>5.0</td>\n",
       "      <td>period</td>\n",
       "    </tr>\n",
       "    <tr>\n",
       "      <th>3</th>\n",
       "      <td>8799313</td>\n",
       "      <td>0.327560</td>\n",
       "      <td>0.327542</td>\n",
       "      <td>0.327551</td>\n",
       "      <td>0.999945</td>\n",
       "      <td>280</td>\n",
       "      <td>1.3</td>\n",
       "      <td>1.1</td>\n",
       "      <td>1.8</td>\n",
       "      <td>1.1</td>\n",
       "      <td>...</td>\n",
       "      <td>3.0565</td>\n",
       "      <td>289.8551</td>\n",
       "      <td>0.0021</td>\n",
       "      <td>11.9305</td>\n",
       "      <td>0.07</td>\n",
       "      <td>0.00005</td>\n",
       "      <td>NaN</td>\n",
       "      <td>NaN</td>\n",
       "      <td>5.0</td>\n",
       "      <td>period</td>\n",
       "    </tr>\n",
       "    <tr>\n",
       "      <th>4</th>\n",
       "      <td>22924523</td>\n",
       "      <td>0.583239</td>\n",
       "      <td>0.583138</td>\n",
       "      <td>0.583188</td>\n",
       "      <td>0.999827</td>\n",
       "      <td>308</td>\n",
       "      <td>1.4</td>\n",
       "      <td>1.1</td>\n",
       "      <td>16.0</td>\n",
       "      <td>2.5</td>\n",
       "      <td>...</td>\n",
       "      <td>1.7177</td>\n",
       "      <td>347.8261</td>\n",
       "      <td>0.0621</td>\n",
       "      <td>13.0708</td>\n",
       "      <td>0.36</td>\n",
       "      <td>0.00017</td>\n",
       "      <td>NaN</td>\n",
       "      <td>NaN</td>\n",
       "      <td>6.0</td>\n",
       "      <td>period</td>\n",
       "    </tr>\n",
       "  </tbody>\n",
       "</table>\n",
       "<p>5 rows × 35 columns</p>\n",
       "</div>"
      ],
      "text/plain": [
       "   LINEAR id   Plinear      Pztf     Pmean    Pratio  NdataLINEAR  L_chi2dof  \\\n",
       "0    2714034  0.610868  0.610800  0.610834  0.999889          536        2.4   \n",
       "1    3405178  0.579231  0.579204  0.579218  0.999953          256        1.1   \n",
       "2    5592590  0.346945  0.346980  0.346962  1.000101          603        2.3   \n",
       "3    8799313  0.327560  0.327542  0.327551  0.999945          280        1.3   \n",
       "4   22924523  0.583239  0.583138  0.583188  0.999827          308        1.4   \n",
       "\n",
       "   L_chi2dofR  Lmean_chi2dof  Lmean_chi2dofR  ...  BlazhkoPeakZ  \\\n",
       "0         1.5            6.4             1.9  ...        1.6427   \n",
       "1         1.0            3.7             1.3  ...        1.7319   \n",
       "2         1.2           12.7             3.5  ...        2.9438   \n",
       "3         1.1            1.8             1.1  ...        3.0565   \n",
       "4         1.1           16.0             2.5  ...        1.7177   \n",
       "\n",
       "   BlazhkoPeriodZ  BpowerRatioZ  BsignificanceZ  Ampl_diff       dP  \\\n",
       "0        182.6484        0.0343         14.0620       0.08  0.00011   \n",
       "1        185.1852        0.0031         14.3561       0.31  0.00005   \n",
       "2         16.1799        0.0338          7.1460       0.06  0.00010   \n",
       "3        289.8551        0.0021         11.9305       0.07  0.00005   \n",
       "4        347.8261        0.0621         13.0708       0.36  0.00017   \n",
       "\n",
       "   IndicatorType  ChiType  BE_score  period_vs_amp  \n",
       "0            NaN      NaN       5.0         period  \n",
       "1            NaN      NaN       6.0         period  \n",
       "2            NaN      NaN       5.0         period  \n",
       "3            NaN      NaN       5.0         period  \n",
       "4            NaN      NaN       6.0         period  \n",
       "\n",
       "[5 rows x 35 columns]"
      ]
     },
     "execution_count": 45,
     "metadata": {},
     "output_type": "execute_result"
    }
   ],
   "source": [
    "be_other = blazhko_can[(blazhko_can['IndicatorType']!= 'Z') & (blazhko_can['IndicatorType']!= 'L')&(blazhko_can['ChiType']!='Z')&(blazhko_can['ChiType']!='L')]\n",
    "be_other = be_other.reset_index(drop=True)\n",
    "print(be_other.shape)\n",
    "be_other.head()"
   ]
  },
  {
   "cell_type": "code",
   "execution_count": 46,
   "metadata": {},
   "outputs": [
    {
     "name": "stdout",
     "output_type": "stream",
     "text": [
      "This dataset has 5 stars.\n"
     ]
    },
    {
     "data": {
      "application/vnd.jupyter.widget-view+json": {
       "model_id": "6577a1ecde2c422288a83b307b1da81e",
       "version_major": 2,
       "version_minor": 0
      },
      "text/plain": [
       "VBox(children=(Output(), Button(description='KEEP', style=ButtonStyle()), Button(description='CONTINUE', style…"
      ]
     },
     "metadata": {},
     "output_type": "display_data"
    }
   ],
   "source": [
    "BE_candidates_other = category_analysis(be_other, fits, periodogr, ztf_data, dataL, 'other')"
   ]
  },
  {
   "cell_type": "code",
   "execution_count": 47,
   "metadata": {},
   "outputs": [
    {
     "name": "stdout",
     "output_type": "stream",
     "text": [
      "(3, 35)\n"
     ]
    }
   ],
   "source": [
    "blazhko_analyzerother = BE_candidates_other.get_save_data()\n",
    "end = 'other'\n",
    "blazhko_analyzerother.to_csv(\"../outputs/blazhko_list_\"+end+\".csv\", index=False)\n",
    "\n",
    "print(blazhko_analyzerother.shape)"
   ]
  },
  {
   "cell_type": "markdown",
   "metadata": {},
   "source": [
    "---"
   ]
  },
  {
   "cell_type": "code",
   "execution_count": 48,
   "metadata": {},
   "outputs": [
    {
     "name": "stdout",
     "output_type": "stream",
     "text": [
      "136\n"
     ]
    }
   ],
   "source": [
    "BE_LIST = list(blazhko_analyzerlc['LINEAR id']) + list(blazhko_analyzerzc['LINEAR id']) + list(blazhko_analyzerl['LINEAR id']) + list(blazhko_analyzer['LINEAR id']) + list(blazhko_analyzerother['LINEAR id'])\n",
    "BE_LIST = set(BE_LIST)\n",
    "print(len(BE_LIST))"
   ]
  },
  {
   "cell_type": "code",
   "execution_count": 49,
   "metadata": {},
   "outputs": [
    {
     "name": "stdout",
     "output_type": "stream",
     "text": [
      "9979905, 7279621, 1876491, 5592590, 23135759, 2455568, 16991760, 21488669, 21874209, 3140139, 9532981, 523832, 22959674, 158779, 1390653, 7580734, 10503746, 10662468, 8610884, 7283275, 2122319, 8799313, 2248787, 1240665, 1748058, 3219035, 3048546, 2243683, 3294319, 2397296, 1736308, 2936953, 7048826, 2041979, 6651516, 6819457, 3036295, 24020106, 9852554, 2892940, 924301, 1435279, 1092244, 2766997, 29848, 17544856, 5931160, 3437725, 737951, 22244513, 3196582, 4101289, 17247918, 9961135, 2334384, 5272753, 3183285, 2812086, 22828215, 810169, 22980793, 4586691, 1212611, 7827663, 8311517, 6967017, 11215595, 4320492, 17275627, 7846640, 1882354, 9236215, 2414841, 8343291, 23653629, 10030349, 2742032, 7254801, 7344401, 10814742, 9063194, 23898397, 2653982, 17185566, 7811366, 8907563, 1307948, 2075949, 9968431, 23596342, 19775800, 8222011, 21806402, 514883, 4804945, 23148883, 8331094, 9918809, 10260828, 10420063, 8036191, 1857382, 2229607, 1448299, 3196780, 22518636, 2612592, 263541, 9449335, 7657340, 3591037, 22319996, 21948290, 17302403, 1593736, 1244554, 6665721, 3941776, 24019356, 23193507, 2117028, 5421989, 6883239, 23184808, 21556651, 2714034, 3507643, 24216004, 880588, 21688272, 21967825, 2669011, 1882088, 1332201, 21619184, 6582265\n"
     ]
    }
   ],
   "source": [
    "print(*BE_LIST, sep=', ')"
   ]
  },
  {
   "cell_type": "markdown",
   "metadata": {},
   "source": [
    "In total we have 136 Blazhko stars!!"
   ]
  },
  {
   "cell_type": "markdown",
   "metadata": {},
   "source": [
    "---"
   ]
  },
  {
   "cell_type": "code",
   "execution_count": 50,
   "metadata": {},
   "outputs": [
    {
     "name": "stdout",
     "output_type": "stream",
     "text": [
      "(136, 35)\n"
     ]
    },
    {
     "data": {
      "text/html": [
       "<div>\n",
       "<style scoped>\n",
       "    .dataframe tbody tr th:only-of-type {\n",
       "        vertical-align: middle;\n",
       "    }\n",
       "\n",
       "    .dataframe tbody tr th {\n",
       "        vertical-align: top;\n",
       "    }\n",
       "\n",
       "    .dataframe thead th {\n",
       "        text-align: right;\n",
       "    }\n",
       "</style>\n",
       "<table border=\"1\" class=\"dataframe\">\n",
       "  <thead>\n",
       "    <tr style=\"text-align: right;\">\n",
       "      <th></th>\n",
       "      <th>LINEAR id</th>\n",
       "      <th>Plinear</th>\n",
       "      <th>Pztf</th>\n",
       "      <th>Pmean</th>\n",
       "      <th>Pratio</th>\n",
       "      <th>NdataLINEAR</th>\n",
       "      <th>L_chi2dof</th>\n",
       "      <th>L_chi2dofR</th>\n",
       "      <th>Lmean_chi2dof</th>\n",
       "      <th>Lmean_chi2dofR</th>\n",
       "      <th>...</th>\n",
       "      <th>BlazhkoPeakZ</th>\n",
       "      <th>BlazhkoPeriodZ</th>\n",
       "      <th>BpowerRatioZ</th>\n",
       "      <th>BsignificanceZ</th>\n",
       "      <th>Ampl_diff</th>\n",
       "      <th>dP</th>\n",
       "      <th>IndicatorType</th>\n",
       "      <th>ChiType</th>\n",
       "      <th>BE_score</th>\n",
       "      <th>period_vs_amp</th>\n",
       "    </tr>\n",
       "  </thead>\n",
       "  <tbody>\n",
       "    <tr>\n",
       "      <th>0</th>\n",
       "      <td>523832</td>\n",
       "      <td>0.372376</td>\n",
       "      <td>0.372384</td>\n",
       "      <td>0.372380</td>\n",
       "      <td>1.000021</td>\n",
       "      <td>251</td>\n",
       "      <td>1.8</td>\n",
       "      <td>1.2</td>\n",
       "      <td>1.9</td>\n",
       "      <td>1.3</td>\n",
       "      <td>...</td>\n",
       "      <td>2.7122</td>\n",
       "      <td>37.3413</td>\n",
       "      <td>0.1528</td>\n",
       "      <td>6.3617</td>\n",
       "      <td>0.17</td>\n",
       "      <td>0.00002</td>\n",
       "      <td>Z</td>\n",
       "      <td>NaN</td>\n",
       "      <td>NaN</td>\n",
       "      <td>NaN</td>\n",
       "    </tr>\n",
       "    <tr>\n",
       "      <th>1</th>\n",
       "      <td>1240665</td>\n",
       "      <td>0.632528</td>\n",
       "      <td>0.632522</td>\n",
       "      <td>0.632525</td>\n",
       "      <td>0.999991</td>\n",
       "      <td>468</td>\n",
       "      <td>25.2</td>\n",
       "      <td>3.0</td>\n",
       "      <td>25.4</td>\n",
       "      <td>2.9</td>\n",
       "      <td>...</td>\n",
       "      <td>1.5865</td>\n",
       "      <td>182.3154</td>\n",
       "      <td>0.0570</td>\n",
       "      <td>15.9957</td>\n",
       "      <td>0.00</td>\n",
       "      <td>0.00001</td>\n",
       "      <td>Z</td>\n",
       "      <td>NaN</td>\n",
       "      <td>NaN</td>\n",
       "      <td>NaN</td>\n",
       "    </tr>\n",
       "    <tr>\n",
       "      <th>2</th>\n",
       "      <td>1736308</td>\n",
       "      <td>0.555848</td>\n",
       "      <td>0.555843</td>\n",
       "      <td>0.555846</td>\n",
       "      <td>0.999991</td>\n",
       "      <td>372</td>\n",
       "      <td>2.9</td>\n",
       "      <td>1.3</td>\n",
       "      <td>3.0</td>\n",
       "      <td>1.2</td>\n",
       "      <td>...</td>\n",
       "      <td>1.8264</td>\n",
       "      <td>36.6367</td>\n",
       "      <td>0.0529</td>\n",
       "      <td>5.6501</td>\n",
       "      <td>0.11</td>\n",
       "      <td>0.00001</td>\n",
       "      <td>Z</td>\n",
       "      <td>NaN</td>\n",
       "      <td>NaN</td>\n",
       "      <td>NaN</td>\n",
       "    </tr>\n",
       "    <tr>\n",
       "      <th>3</th>\n",
       "      <td>2669011</td>\n",
       "      <td>0.591153</td>\n",
       "      <td>0.591151</td>\n",
       "      <td>0.591152</td>\n",
       "      <td>0.999997</td>\n",
       "      <td>450</td>\n",
       "      <td>2.4</td>\n",
       "      <td>1.1</td>\n",
       "      <td>2.3</td>\n",
       "      <td>1.1</td>\n",
       "      <td>...</td>\n",
       "      <td>1.7015</td>\n",
       "      <td>101.2146</td>\n",
       "      <td>0.0751</td>\n",
       "      <td>6.5360</td>\n",
       "      <td>0.16</td>\n",
       "      <td>0.00000</td>\n",
       "      <td>Z</td>\n",
       "      <td>NaN</td>\n",
       "      <td>NaN</td>\n",
       "      <td>NaN</td>\n",
       "    </tr>\n",
       "    <tr>\n",
       "      <th>4</th>\n",
       "      <td>2742032</td>\n",
       "      <td>0.629676</td>\n",
       "      <td>0.629692</td>\n",
       "      <td>0.629684</td>\n",
       "      <td>1.000025</td>\n",
       "      <td>514</td>\n",
       "      <td>1.8</td>\n",
       "      <td>0.9</td>\n",
       "      <td>1.9</td>\n",
       "      <td>1.0</td>\n",
       "      <td>...</td>\n",
       "      <td>1.5956</td>\n",
       "      <td>133.2445</td>\n",
       "      <td>0.0602</td>\n",
       "      <td>7.4751</td>\n",
       "      <td>0.34</td>\n",
       "      <td>0.00003</td>\n",
       "      <td>Z</td>\n",
       "      <td>NaN</td>\n",
       "      <td>NaN</td>\n",
       "      <td>NaN</td>\n",
       "    </tr>\n",
       "  </tbody>\n",
       "</table>\n",
       "<p>5 rows × 35 columns</p>\n",
       "</div>"
      ],
      "text/plain": [
       "   LINEAR id   Plinear      Pztf     Pmean    Pratio  NdataLINEAR  L_chi2dof  \\\n",
       "0     523832  0.372376  0.372384  0.372380  1.000021          251        1.8   \n",
       "1    1240665  0.632528  0.632522  0.632525  0.999991          468       25.2   \n",
       "2    1736308  0.555848  0.555843  0.555846  0.999991          372        2.9   \n",
       "3    2669011  0.591153  0.591151  0.591152  0.999997          450        2.4   \n",
       "4    2742032  0.629676  0.629692  0.629684  1.000025          514        1.8   \n",
       "\n",
       "   L_chi2dofR  Lmean_chi2dof  Lmean_chi2dofR  ...  BlazhkoPeakZ  \\\n",
       "0         1.2            1.9             1.3  ...        2.7122   \n",
       "1         3.0           25.4             2.9  ...        1.5865   \n",
       "2         1.3            3.0             1.2  ...        1.8264   \n",
       "3         1.1            2.3             1.1  ...        1.7015   \n",
       "4         0.9            1.9             1.0  ...        1.5956   \n",
       "\n",
       "   BlazhkoPeriodZ  BpowerRatioZ  BsignificanceZ  Ampl_diff       dP  \\\n",
       "0         37.3413        0.1528          6.3617       0.17  0.00002   \n",
       "1        182.3154        0.0570         15.9957       0.00  0.00001   \n",
       "2         36.6367        0.0529          5.6501       0.11  0.00001   \n",
       "3        101.2146        0.0751          6.5360       0.16  0.00000   \n",
       "4        133.2445        0.0602          7.4751       0.34  0.00003   \n",
       "\n",
       "   IndicatorType  ChiType  BE_score  period_vs_amp  \n",
       "0              Z      NaN       NaN            NaN  \n",
       "1              Z      NaN       NaN            NaN  \n",
       "2              Z      NaN       NaN            NaN  \n",
       "3              Z      NaN       NaN            NaN  \n",
       "4              Z      NaN       NaN            NaN  \n",
       "\n",
       "[5 rows x 35 columns]"
      ]
     },
     "execution_count": 50,
     "metadata": {},
     "output_type": "execute_result"
    }
   ],
   "source": [
    "FINAL_BE_CATALOGUE = pd.DataFrame()\n",
    "FINAL_BE_CATALOGUE = pd.concat([FINAL_BE_CATALOGUE, blazhko_analyzer.reset_index(drop=True)],ignore_index=True, axis=0)\n",
    "FINAL_BE_CATALOGUE = pd.concat([FINAL_BE_CATALOGUE, blazhko_analyzerzc.reset_index(drop=True)],ignore_index=True, axis=0)\n",
    "FINAL_BE_CATALOGUE = pd.concat([FINAL_BE_CATALOGUE, blazhko_analyzerl.reset_index(drop=True)],ignore_index=True, axis=0)\n",
    "FINAL_BE_CATALOGUE = pd.concat([FINAL_BE_CATALOGUE, blazhko_analyzerlc.reset_index(drop=True)],ignore_index=True, axis=0)\n",
    "FINAL_BE_CATALOGUE = pd.concat([FINAL_BE_CATALOGUE, blazhko_analyzerother.reset_index(drop=True)],ignore_index=True, axis=0)\n",
    "\n",
    "print(FINAL_BE_CATALOGUE.shape)\n",
    "FINAL_BE_CATALOGUE.head()"
   ]
  },
  {
   "cell_type": "code",
   "execution_count": 51,
   "metadata": {},
   "outputs": [],
   "source": [
    "FINAL_BE_CATALOGUE.to_csv('../outputs/FINAL_BE_CATALOGUE.csv', index=False)"
   ]
  },
  {
   "cell_type": "markdown",
   "metadata": {},
   "source": [
    "---"
   ]
  },
  {
   "cell_type": "code",
   "execution_count": 52,
   "metadata": {},
   "outputs": [],
   "source": [
    "SHOWCASE_Catalogue1 = pd.DataFrame()\n",
    "SHOWCASE_Catalogue1['LINEAR id'] = FINAL_BE_CATALOGUE['LINEAR id']\n",
    "SHOWCASE_Catalogue1['LINEAR period'] = FINAL_BE_CATALOGUE['Plinear']\n",
    "SHOWCASE_Catalogue1['ZTF period'] = FINAL_BE_CATALOGUE['Pztf']\n",
    "SHOWCASE_Catalogue1['LINEAR hi-kvadrat'] = FINAL_BE_CATALOGUE['L_chi2dofR']\n",
    "SHOWCASE_Catalogue1['ZTF hi-kvadrat'] = FINAL_BE_CATALOGUE['Zchi2dofR']\n",
    "SHOWCASE_Catalogue1['LINEAR amplituda'] = FINAL_BE_CATALOGUE['Lampl']\n",
    "SHOWCASE_Catalogue1['ZTF amplituda'] = FINAL_BE_CATALOGUE['Zampl']\n",
    "SHOWCASE_Catalogue1['LINEAR glavna frekvencija'] = FINAL_BE_CATALOGUE['MainPeakL']\n",
    "SHOWCASE_Catalogue1['LINEAR blazhko frekvencija'] = FINAL_BE_CATALOGUE['BlazhkoPeakL']\n",
    "SHOWCASE_Catalogue1['ZTF glavna frekvencija'] = FINAL_BE_CATALOGUE['MainPeakZ']\n",
    "SHOWCASE_Catalogue1['ZTF blazhko frekvencija'] = FINAL_BE_CATALOGUE['BlazhkoPeakZ']\n",
    "SHOWCASE_Catalogue1['LINEAR blazhko period'] = FINAL_BE_CATALOGUE['BlazhkoPeriodL']\n",
    "SHOWCASE_Catalogue1['ZTF blazhko period'] = FINAL_BE_CATALOGUE['BlazhkoPeriodZ']"
   ]
  },
  {
   "cell_type": "code",
   "execution_count": 54,
   "metadata": {},
   "outputs": [
    {
     "data": {
      "text/html": [
       "<div>\n",
       "<style scoped>\n",
       "    .dataframe tbody tr th:only-of-type {\n",
       "        vertical-align: middle;\n",
       "    }\n",
       "\n",
       "    .dataframe tbody tr th {\n",
       "        vertical-align: top;\n",
       "    }\n",
       "\n",
       "    .dataframe thead th {\n",
       "        text-align: right;\n",
       "    }\n",
       "</style>\n",
       "<table border=\"1\" class=\"dataframe\">\n",
       "  <thead>\n",
       "    <tr style=\"text-align: right;\">\n",
       "      <th></th>\n",
       "      <th>LINEAR id</th>\n",
       "      <th>LINEAR period</th>\n",
       "      <th>ZTF period</th>\n",
       "      <th>LINEAR hi-kvadrat</th>\n",
       "      <th>ZTF hi-kvadrat</th>\n",
       "      <th>LINEAR amplituda</th>\n",
       "      <th>ZTF amplituda</th>\n",
       "      <th>LINEAR glavna frekvencija</th>\n",
       "      <th>LINEAR blazhko frekvencija</th>\n",
       "      <th>ZTF glavna frekvencija</th>\n",
       "      <th>ZTF blazhko frekvencija</th>\n",
       "      <th>LINEAR blazhko period</th>\n",
       "      <th>ZTF blazhko period</th>\n",
       "    </tr>\n",
       "  </thead>\n",
       "  <tbody>\n",
       "    <tr>\n",
       "      <th>0</th>\n",
       "      <td>523832</td>\n",
       "      <td>0.372376</td>\n",
       "      <td>0.372384</td>\n",
       "      <td>1.2</td>\n",
       "      <td>1.1</td>\n",
       "      <td>0.42</td>\n",
       "      <td>0.59</td>\n",
       "      <td>2.6855</td>\n",
       "      <td>2.8040</td>\n",
       "      <td>2.6854</td>\n",
       "      <td>2.7122</td>\n",
       "      <td>8.4370</td>\n",
       "      <td>37.3413</td>\n",
       "    </tr>\n",
       "    <tr>\n",
       "      <th>1</th>\n",
       "      <td>1240665</td>\n",
       "      <td>0.632528</td>\n",
       "      <td>0.632522</td>\n",
       "      <td>3.0</td>\n",
       "      <td>1.1</td>\n",
       "      <td>0.33</td>\n",
       "      <td>0.33</td>\n",
       "      <td>1.5810</td>\n",
       "      <td>1.6149</td>\n",
       "      <td>1.5810</td>\n",
       "      <td>1.5865</td>\n",
       "      <td>29.4942</td>\n",
       "      <td>182.3154</td>\n",
       "    </tr>\n",
       "    <tr>\n",
       "      <th>2</th>\n",
       "      <td>1736308</td>\n",
       "      <td>0.555848</td>\n",
       "      <td>0.555843</td>\n",
       "      <td>1.3</td>\n",
       "      <td>1.0</td>\n",
       "      <td>0.70</td>\n",
       "      <td>0.59</td>\n",
       "      <td>1.7991</td>\n",
       "      <td>1.8330</td>\n",
       "      <td>1.7991</td>\n",
       "      <td>1.8264</td>\n",
       "      <td>29.4377</td>\n",
       "      <td>36.6367</td>\n",
       "    </tr>\n",
       "    <tr>\n",
       "      <th>3</th>\n",
       "      <td>2669011</td>\n",
       "      <td>0.591153</td>\n",
       "      <td>0.591151</td>\n",
       "      <td>1.1</td>\n",
       "      <td>0.7</td>\n",
       "      <td>0.66</td>\n",
       "      <td>0.50</td>\n",
       "      <td>1.6916</td>\n",
       "      <td>1.7256</td>\n",
       "      <td>1.6916</td>\n",
       "      <td>1.7015</td>\n",
       "      <td>29.4464</td>\n",
       "      <td>101.2146</td>\n",
       "    </tr>\n",
       "    <tr>\n",
       "      <th>4</th>\n",
       "      <td>2742032</td>\n",
       "      <td>0.629676</td>\n",
       "      <td>0.629692</td>\n",
       "      <td>0.9</td>\n",
       "      <td>1.4</td>\n",
       "      <td>0.55</td>\n",
       "      <td>0.89</td>\n",
       "      <td>1.5881</td>\n",
       "      <td>1.6221</td>\n",
       "      <td>1.5881</td>\n",
       "      <td>1.5956</td>\n",
       "      <td>29.4681</td>\n",
       "      <td>133.2445</td>\n",
       "    </tr>\n",
       "    <tr>\n",
       "      <th>5</th>\n",
       "      <td>2812086</td>\n",
       "      <td>0.646015</td>\n",
       "      <td>0.646000</td>\n",
       "      <td>3.0</td>\n",
       "      <td>3.2</td>\n",
       "      <td>0.61</td>\n",
       "      <td>0.58</td>\n",
       "      <td>1.5480</td>\n",
       "      <td>1.5781</td>\n",
       "      <td>1.5480</td>\n",
       "      <td>1.5519</td>\n",
       "      <td>33.1730</td>\n",
       "      <td>258.7322</td>\n",
       "    </tr>\n",
       "    <tr>\n",
       "      <th>6</th>\n",
       "      <td>3507643</td>\n",
       "      <td>0.801141</td>\n",
       "      <td>0.801132</td>\n",
       "      <td>1.6</td>\n",
       "      <td>0.9</td>\n",
       "      <td>0.37</td>\n",
       "      <td>0.43</td>\n",
       "      <td>1.2482</td>\n",
       "      <td>1.2821</td>\n",
       "      <td>1.2482</td>\n",
       "      <td>1.2538</td>\n",
       "      <td>29.5290</td>\n",
       "      <td>181.1594</td>\n",
       "    </tr>\n",
       "    <tr>\n",
       "      <th>7</th>\n",
       "      <td>5931160</td>\n",
       "      <td>0.664700</td>\n",
       "      <td>0.664708</td>\n",
       "      <td>0.8</td>\n",
       "      <td>1.1</td>\n",
       "      <td>0.35</td>\n",
       "      <td>0.33</td>\n",
       "      <td>1.5044</td>\n",
       "      <td>1.5383</td>\n",
       "      <td>1.5044</td>\n",
       "      <td>1.5078</td>\n",
       "      <td>29.5421</td>\n",
       "      <td>293.6858</td>\n",
       "    </tr>\n",
       "    <tr>\n",
       "      <th>8</th>\n",
       "      <td>6665721</td>\n",
       "      <td>0.643318</td>\n",
       "      <td>0.643325</td>\n",
       "      <td>1.0</td>\n",
       "      <td>1.7</td>\n",
       "      <td>0.46</td>\n",
       "      <td>0.45</td>\n",
       "      <td>1.5544</td>\n",
       "      <td>1.5883</td>\n",
       "      <td>1.5544</td>\n",
       "      <td>1.5669</td>\n",
       "      <td>29.5159</td>\n",
       "      <td>79.9680</td>\n",
       "    </tr>\n",
       "    <tr>\n",
       "      <th>9</th>\n",
       "      <td>17185566</td>\n",
       "      <td>0.614160</td>\n",
       "      <td>0.614169</td>\n",
       "      <td>1.5</td>\n",
       "      <td>1.9</td>\n",
       "      <td>0.40</td>\n",
       "      <td>0.42</td>\n",
       "      <td>1.6282</td>\n",
       "      <td>1.6620</td>\n",
       "      <td>1.6282</td>\n",
       "      <td>1.6365</td>\n",
       "      <td>29.5814</td>\n",
       "      <td>120.6273</td>\n",
       "    </tr>\n",
       "  </tbody>\n",
       "</table>\n",
       "</div>"
      ],
      "text/plain": [
       "   LINEAR id  LINEAR period  ZTF period  LINEAR hi-kvadrat  ZTF hi-kvadrat  \\\n",
       "0     523832       0.372376    0.372384                1.2             1.1   \n",
       "1    1240665       0.632528    0.632522                3.0             1.1   \n",
       "2    1736308       0.555848    0.555843                1.3             1.0   \n",
       "3    2669011       0.591153    0.591151                1.1             0.7   \n",
       "4    2742032       0.629676    0.629692                0.9             1.4   \n",
       "5    2812086       0.646015    0.646000                3.0             3.2   \n",
       "6    3507643       0.801141    0.801132                1.6             0.9   \n",
       "7    5931160       0.664700    0.664708                0.8             1.1   \n",
       "8    6665721       0.643318    0.643325                1.0             1.7   \n",
       "9   17185566       0.614160    0.614169                1.5             1.9   \n",
       "\n",
       "   LINEAR amplituda  ZTF amplituda  LINEAR glavna frekvencija  \\\n",
       "0              0.42           0.59                     2.6855   \n",
       "1              0.33           0.33                     1.5810   \n",
       "2              0.70           0.59                     1.7991   \n",
       "3              0.66           0.50                     1.6916   \n",
       "4              0.55           0.89                     1.5881   \n",
       "5              0.61           0.58                     1.5480   \n",
       "6              0.37           0.43                     1.2482   \n",
       "7              0.35           0.33                     1.5044   \n",
       "8              0.46           0.45                     1.5544   \n",
       "9              0.40           0.42                     1.6282   \n",
       "\n",
       "   LINEAR blazhko frekvencija  ZTF glavna frekvencija  \\\n",
       "0                      2.8040                  2.6854   \n",
       "1                      1.6149                  1.5810   \n",
       "2                      1.8330                  1.7991   \n",
       "3                      1.7256                  1.6916   \n",
       "4                      1.6221                  1.5881   \n",
       "5                      1.5781                  1.5480   \n",
       "6                      1.2821                  1.2482   \n",
       "7                      1.5383                  1.5044   \n",
       "8                      1.5883                  1.5544   \n",
       "9                      1.6620                  1.6282   \n",
       "\n",
       "   ZTF blazhko frekvencija  LINEAR blazhko period  ZTF blazhko period  \n",
       "0                   2.7122                 8.4370             37.3413  \n",
       "1                   1.5865                29.4942            182.3154  \n",
       "2                   1.8264                29.4377             36.6367  \n",
       "3                   1.7015                29.4464            101.2146  \n",
       "4                   1.5956                29.4681            133.2445  \n",
       "5                   1.5519                33.1730            258.7322  \n",
       "6                   1.2538                29.5290            181.1594  \n",
       "7                   1.5078                29.5421            293.6858  \n",
       "8                   1.5669                29.5159             79.9680  \n",
       "9                   1.6365                29.5814            120.6273  "
      ]
     },
     "execution_count": 54,
     "metadata": {},
     "output_type": "execute_result"
    }
   ],
   "source": [
    "SHOWCASE_Catalogue1.head(10)"
   ]
  },
  {
   "cell_type": "code",
   "execution_count": 59,
   "metadata": {},
   "outputs": [
    {
     "name": "stdout",
     "output_type": "stream",
     "text": [
      "The incidence rate of Blazhko stars in our sample of stars is:4.67%\n"
     ]
    }
   ],
   "source": [
    "incidence_rate = SHOWCASE_Catalogue1.shape[0]/2914\n",
    "print(f'The incidence rate of Blazhko stars in our sample of stars is:{round(incidence_rate*100, 2)}%')"
   ]
  },
  {
   "cell_type": "code",
   "execution_count": 62,
   "metadata": {},
   "outputs": [
    {
     "name": "stdout",
     "output_type": "stream",
     "text": [
      "The hit rate of the algorithm is:56.9%\n"
     ]
    }
   ],
   "source": [
    "algorithm_hit_rate = SHOWCASE_Catalogue1.shape[0]/blazhko_can.shape[0]\n",
    "print(f'The hit rate of the algorithm is:{round(algorithm_hit_rate*100, 2)}%')"
   ]
  },
  {
   "cell_type": "markdown",
   "metadata": {},
   "source": [
    "---"
   ]
  },
  {
   "cell_type": "markdown",
   "metadata": {},
   "source": [
    "## Drawing images for the paper"
   ]
  },
  {
   "cell_type": "markdown",
   "metadata": {},
   "source": [
    "3183285, 4101289, 6651516, 6819457, 6967017, 7048826, 7344401, 8311517, 8343291, 9968431, 9979905, 10030349, 10260828, 19775800, 22518683"
   ]
  },
  {
   "cell_type": "code",
   "execution_count": 64,
   "metadata": {},
   "outputs": [],
   "source": [
    "star1 = [4101289]\n",
    "star2 = [6819457]\n",
    "star3 = [7048826]\n",
    "star4 = [10260828]"
   ]
  },
  {
   "cell_type": "code",
   "execution_count": 73,
   "metadata": {},
   "outputs": [
    {
     "name": "stdout",
     "output_type": "stream",
     "text": [
      "This dataset has 1 stars.\n"
     ]
    },
    {
     "data": {
      "application/vnd.jupyter.widget-view+json": {
       "model_id": "f9c22c26f3f348ceabd5ee98ca9e48e9",
       "version_major": 2,
       "version_minor": 0
      },
      "text/plain": [
       "VBox(children=(Output(), Button(description='KEEP', style=ButtonStyle()), Button(description='CONTINUE', style…"
      ]
     },
     "metadata": {},
     "output_type": "display_data"
    }
   ],
   "source": [
    "single = category_analysis(lc_analysis, fits, periodogr, ztf_data, dataL, end='test',id_list=star4, plotSave=True)"
   ]
  },
  {
   "cell_type": "code",
   "execution_count": null,
   "metadata": {},
   "outputs": [],
   "source": []
  }
 ],
 "metadata": {
  "kernelspec": {
   "display_name": "rr_lyrae",
   "language": "python",
   "name": "python3"
  },
  "language_info": {
   "codemirror_mode": {
    "name": "ipython",
    "version": 3
   },
   "file_extension": ".py",
   "mimetype": "text/x-python",
   "name": "python",
   "nbconvert_exporter": "python",
   "pygments_lexer": "ipython3",
   "version": "3.11.4"
  }
 },
 "nbformat": 4,
 "nbformat_minor": 2
}
