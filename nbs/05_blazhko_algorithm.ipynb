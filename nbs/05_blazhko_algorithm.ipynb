{
 "cells": [
  {
   "cell_type": "code",
   "execution_count": null,
   "metadata": {},
   "outputs": [],
   "source": [
    "%load_ext autoreload\n",
    "%autoreload 2"
   ]
  },
  {
   "cell_type": "code",
   "execution_count": null,
   "metadata": {},
   "outputs": [],
   "source": [
    "#| code-fold: false\n",
    "# IMPORTING LIBRARIES\n",
    "# --------------------\n",
    "\n",
    "# AstroML & Astropy\n",
    "from astroML.datasets import fetch_LINEAR_sample\n",
    "from astroML.datasets import fetch_LINEAR_sample\n",
    "\n",
    "# Basic libraries\n",
    "import pickle\n",
    "import os\n",
    "import sys\n",
    "\n",
    "# Plotting\n",
    "import seaborn as sns\n",
    "from matplotlib import pyplot as plt\n",
    "from matplotlib import ticker\n",
    "import matplotlib.colors as mcolors\n",
    "from matplotlib.font_manager import FontProperties\n",
    "import ipywidgets as widgets\n",
    "from IPython.display import display, clear_output\n",
    "\n",
    "# DataFrame analysis\n",
    "import pandas as pd\n",
    "\n",
    "# Math libraries\n",
    "import numpy as np"
   ]
  },
  {
   "cell_type": "code",
   "execution_count": null,
   "metadata": {},
   "outputs": [],
   "source": [
    "#| code-fold: false\n",
    "# CONFIG\n",
    "sns.set_theme() # setting the theme for plotting\n",
    "np.random.seed(42)\n",
    "\n",
    "colors = ['#1A090D', '#D8C99B', '#D8973C', '#BD632F', '#273E47']\n",
    "cmap = mcolors.ListedColormap(colors)\n",
    "\n",
    "font = FontProperties()\n",
    "font.set_family('avenir')\n",
    "font.set_name('Avenir')\n",
    "font.set_style('normal')\n",
    "font.set_size('xx-large')\n",
    "\n",
    "%matplotlib inline  "
   ]
  },
  {
   "cell_type": "code",
   "execution_count": null,
   "metadata": {},
   "outputs": [],
   "source": [
    "#| code-fold: false\n",
    "# Importing custom libraries\n",
    "# ----------------------------\n",
    "sys.path.insert(0,'../src/')\n",
    "#from config import*\n",
    "#from descriptive_stats import *\n",
    "#from plots import *\n",
    "\n",
    "#from selection import *\n",
    "from blazhko_analysis import blazhko_determine, sort3arr, sort4arr, sigG, plotAll, makeLCplot_info, BE_analyzer"
   ]
  },
  {
   "cell_type": "code",
   "execution_count": null,
   "metadata": {},
   "outputs": [],
   "source": [
    "#| code-fold: false\n",
    "# DATA\n",
    "dataLINEAR = fetch_LINEAR_sample(data_home='../inputs') # fetching the data from astroML data library"
   ]
  },
  {
   "cell_type": "code",
   "execution_count": null,
   "metadata": {},
   "outputs": [],
   "source": [
    "end = 'FINAL_FINAL_FULL'"
   ]
  },
  {
   "cell_type": "code",
   "execution_count": null,
   "metadata": {},
   "outputs": [],
   "source": [
    "#| code-fold: false\n",
    "# DATA from previous notebook\n",
    "lc_analysis = pd.read_csv('../outputs/LC_ANALYSIS_FINALFINAL_FINAL_FULL.csv')\n",
    "\n",
    "lc_analysis['MainPeakL'] = pd.to_numeric(lc_analysis['MainPeakL'], errors='coerce').fillna(0)\n",
    "lc_analysis['BlazhkoPeakL'] = pd.to_numeric(lc_analysis['BlazhkoPeakL'], errors='coerce').fillna(0)\n",
    "lc_analysis['BlazhkoPeriodL'] = pd.to_numeric(lc_analysis['BlazhkoPeriodL'], errors='coerce').fillna(0)\n",
    "lc_analysis['BpowerRatioL'] = pd.to_numeric(lc_analysis['BpowerRatioL'], errors='coerce').fillna(0)\n",
    "lc_analysis['BsignificanceL'] = pd.to_numeric(lc_analysis['BsignificanceL'], errors='coerce').fillna(0)\n",
    "lc_analysis['MainPeakZ'] = pd.to_numeric(lc_analysis['MainPeakZ'], errors='coerce').fillna(0)\n",
    "lc_analysis['BlazhkoPeakZ'] = pd.to_numeric(lc_analysis['BlazhkoPeakZ'], errors='coerce').fillna(0)\n",
    "lc_analysis['BlazhkoPeriodZ'] = pd.to_numeric(lc_analysis['BlazhkoPeriodZ'], errors='coerce').fillna(0)\n",
    "lc_analysis['BpowerRatioZ'] = pd.to_numeric(lc_analysis['BpowerRatioZ'], errors='coerce').fillna(0)\n",
    "lc_analysis['BsignificanceZ'] = pd.to_numeric(lc_analysis['BsignificanceZ'], errors='coerce').fillna(0)\n",
    "\n",
    "lc_analysis['Pratio'] = round(lc_analysis['Pratio'], 4)\n",
    "lc_analysis['Plinear'] = round(lc_analysis['Plinear'], 6)\n",
    "lc_analysis['Pztf'] = round(lc_analysis['Pztf'], 6)\n",
    "lc_analysis['Lampl'] = round(lc_analysis['Lampl'], 2)\n",
    "lc_analysis['Zampl'] = round(lc_analysis['Zampl'], 2)\n",
    "lc_analysis['L_chi2dofR'] = round(lc_analysis['L_chi2dofR'], 1)\n",
    "lc_analysis['Lmean_chi2dofR'] = round(lc_analysis['Lmean_chi2dofR'], 1)\n",
    "lc_analysis['Zchi2dofR'] = round(lc_analysis['Zchi2dofR'], 1)\n",
    "lc_analysis['Zmean_chi2dofR'] = round(lc_analysis['Zmean_chi2dofR'], 1)\n",
    "lc_analysis['L_chi2dof'] = round(lc_analysis['L_chi2dof'], 1)\n",
    "lc_analysis['Lmean_chi2dof'] = round(lc_analysis['Lmean_chi2dof'], 1)\n",
    "lc_analysis['Zchi2dof'] = round(lc_analysis['Zchi2dof'], 1)\n",
    "lc_analysis['Zmean_chi2dof'] = round(lc_analysis['Zmean_chi2dof'], 1)\n",
    "lc_analysis['Ampl_diff'] = round(abs(lc_analysis['Lampl'] - lc_analysis['Zampl']), 2)\n",
    "lc_analysis['dP'] = round(abs((lc_analysis['Plinear']-lc_analysis['Pztf'])/lc_analysis['Pmean']),5)\n",
    "lc_analysis['MainPeakL'] = round(lc_analysis['MainPeakL'], 4)\n",
    "lc_analysis['BlazhkoPeakL'] =round(lc_analysis['BlazhkoPeakL'], 4)\n",
    "lc_analysis['BlazhkoPeriodL'] = round(lc_analysis['BlazhkoPeriodL'], 4)\n",
    "lc_analysis['BpowerRatioL'] = round(lc_analysis['BpowerRatioL'], 4)\n",
    "lc_analysis['BsignificanceL'] = round(lc_analysis['BsignificanceL'], 4)\n",
    "lc_analysis['MainPeakZ'] = round(lc_analysis['MainPeakZ'], 4)\n",
    "lc_analysis['BlazhkoPeakZ'] = round(lc_analysis['BlazhkoPeakZ'], 4)\n",
    "lc_analysis['BlazhkoPeriodZ'] = round(lc_analysis['BlazhkoPeriodZ'], 4)\n",
    "lc_analysis['BpowerRatioZ'] = round(lc_analysis['BpowerRatioZ'], 4)\n",
    "lc_analysis['BsignificanceZ'] = round(lc_analysis['BsignificanceZ'], 4)\n",
    "lc_analysis['IndicatorType'] = 'NaN'\n",
    "lc_analysis['ChiType'] = 'NaN'\n",
    "lc_analysis['BE_score'] = 'NaN'\n",
    "\n",
    "periodogr = pickle.load(open(\"../outputs/periodograms_\"+end+\".pkl\", \"rb\"))\n",
    "fits = np.load(\"../outputs/fits_\"+end+\".npy\", allow_pickle=True)\n",
    "ztf_data = np.load(\"../outputs/ztf_data_filter\"+end+\".npy\", allow_pickle=True)"
   ]
  },
  {
   "cell_type": "code",
   "execution_count": null,
   "metadata": {},
   "outputs": [],
   "source": [
    "lc_analysis.head()"
   ]
  },
  {
   "cell_type": "code",
   "execution_count": null,
   "metadata": {},
   "outputs": [],
   "source": [
    "blazhko_can = pd.DataFrame(())\n",
    "blazhko_can = blazhko_determine(lc_analysis, blazhko_can)\n",
    "end = 'final'\n",
    "blazhko_can.to_csv(\"../outputs/blazhko_can\"+end+\".csv\", index=False)"
   ]
  },
  {
   "cell_type": "code",
   "execution_count": null,
   "metadata": {},
   "outputs": [],
   "source": [
    "blazhko_can.head()"
   ]
  },
  {
   "cell_type": "code",
   "execution_count": null,
   "metadata": {},
   "outputs": [],
   "source": [
    "blazhko_can.shape"
   ]
  },
  {
   "cell_type": "markdown",
   "metadata": {},
   "source": [
    "# Creating a visual interface"
   ]
  },
  {
   "cell_type": "code",
   "execution_count": null,
   "metadata": {},
   "outputs": [],
   "source": [
    "for i in fits:\n",
    "    L = i[1][2]\n",
    "    for key in list(L.keys()):  # Iterate over the keys of the dictionary\n",
    "        if isinstance(L[key], pd.Series):\n",
    "            L[key] = L[key].to_numpy()"
   ]
  },
  {
   "cell_type": "code",
   "execution_count": null,
   "metadata": {},
   "outputs": [],
   "source": [
    "Lids = blazhko_can['LINEAR id'].to_numpy()"
   ]
  },
  {
   "cell_type": "code",
   "execution_count": null,
   "metadata": {},
   "outputs": [],
   "source": [
    "cols = ['Plinear', 'Pztf', 'Pmean', 'Pratio', 'NdataLINEAR', \n",
    "        'L_rms', 'L_chi2dof', 'L_chi2dofR', \n",
    "        'Lmean_rms', 'Lmean_chi2dof', 'Lmean_chi2dofR', 'Lmmax', 'Lampl', \n",
    "        'NdataZTF', 'Z_rms', 'Zchi2dof', \n",
    "        'Zchi2dofR', 'Zmean_rms', 'Zmean_chi2dof', 'Zmean_chi2dofR', \n",
    "        'Zmmax', 'Zampl',\n",
    "        'MainPeakL', 'BlazhkoPeakL', 'BlazhkoPeriodL','BpowerRatioL','BsignificanceL',\n",
    "        'MainPeakZ', 'BlazhkoPeakZ', 'BlazhkoPeriodZ', 'BpowerRatioZ', 'BsignificanceZ']"
   ]
  },
  {
   "cell_type": "code",
   "execution_count": null,
   "metadata": {},
   "outputs": [],
   "source": [
    "blazhko_can.head()"
   ]
  },
  {
   "cell_type": "markdown",
   "metadata": {},
   "source": [
    "# Separating the original dataset into robust smaller datasets"
   ]
  },
  {
   "cell_type": "markdown",
   "metadata": {},
   "source": [
    "In order to make visual interpretation easier and more robust, we are dividing our BE candidates into smaller tables. The categories are:\n",
    "- LINEAR periodogram parameter satisfied\n",
    "- ZTF periodogram parameter satisfied\n",
    "- Chi2 parameter satisfied\n",
    "    - ZTF Chi2 parameter\n",
    "    - LINEAR Chi2 parameter\n",
    "\n",
    "The last three are based on the `ChiType` for determining LINEAR or ZTF parameter satisfaction. The periodogram parameter is determined by the `IndicatorType` column."
   ]
  },
  {
   "cell_type": "code",
   "execution_count": null,
   "metadata": {},
   "outputs": [],
   "source": [
    "# ZTF data periodogram\n",
    "blazhko_can_ztf_per = blazhko_can.loc[(blazhko_can['IndicatorType'] == 'Z')]\n",
    "blazhko_can_ztf_per = blazhko_can_ztf_per.reset_index(drop=True)\n",
    "print(blazhko_can_ztf_per.shape)\n",
    "blazhko_can_ztf_per.head()"
   ]
  },
  {
   "cell_type": "code",
   "execution_count": null,
   "metadata": {},
   "outputs": [],
   "source": [
    "# LINEAR data periodogram\n",
    "blazhko_can_linear_per = blazhko_can.loc[(blazhko_can['IndicatorType'] == 'L')]\n",
    "blazhko_can_linear_per = blazhko_can_linear_per.reset_index(drop=True)\n",
    "print(blazhko_can_linear_per.shape)\n",
    "blazhko_can_linear_per.head()"
   ]
  },
  {
   "cell_type": "code",
   "execution_count": null,
   "metadata": {},
   "outputs": [],
   "source": [
    "# Chi2 ZTF parameter\n",
    "blazhko_can_ztf_chi = blazhko_can.loc[(blazhko_can['ChiType'] == 'Z')]\n",
    "blazhko_can_ztf_chi = blazhko_can_ztf_chi.reset_index(drop=True)\n",
    "print(blazhko_can_ztf_chi.shape)\n",
    "blazhko_can_ztf_chi.head()"
   ]
  },
  {
   "cell_type": "code",
   "execution_count": null,
   "metadata": {},
   "outputs": [],
   "source": [
    "# Chi2 LINEAR parameter\n",
    "blazhko_can_linear_chi = blazhko_can.loc[(blazhko_can['ChiType'] == 'L')]\n",
    "blazhko_can_linear_chi = blazhko_can_linear_chi.reset_index(drop=True)\n",
    "print(blazhko_can_linear_chi.shape)\n",
    "blazhko_can_linear_chi.head()"
   ]
  },
  {
   "cell_type": "code",
   "execution_count": null,
   "metadata": {},
   "outputs": [],
   "source": [
    "blazhko_can_other= blazhko_can.loc[(blazhko_can['ChiType'] != 'L')&(blazhko_can['ChiType'] != 'Z')&(blazhko_can['IndicatorType'] != 'L')&(blazhko_can['IndicatorType'] != 'Z')]\n",
    "blazhko_can_other = blazhko_can_other.reset_index(drop=True)\n",
    "print(blazhko_can_other.shape)\n",
    "blazhko_can_other.head()"
   ]
  },
  {
   "cell_type": "markdown",
   "metadata": {},
   "source": [
    "# Visual inspection of every category"
   ]
  },
  {
   "cell_type": "markdown",
   "metadata": {},
   "source": [
    "### ZTF periodogram"
   ]
  },
  {
   "cell_type": "code",
   "execution_count": null,
   "metadata": {},
   "outputs": [],
   "source": [
    "length = blazhko_can_ztf_per.shape[0]\n",
    "Lids_ztf_per = blazhko_can_ztf_per['LINEAR id'].to_numpy()\n",
    "print(length)\n",
    "\n",
    "BE_candidates_ztf_per = pd.DataFrame(())\n",
    "analysis = BE_analyzer(Lids_ztf_per, length, blazhko_can_ztf_per, BE_candidates_ztf_per, fits, periodogr, ztf_data, dataLINEAR)\n",
    "analysis.display_interface()"
   ]
  },
  {
   "cell_type": "code",
   "execution_count": null,
   "metadata": {},
   "outputs": [],
   "source": [
    "BE_candidates_ztf_per = analysis.get_save_data()\n",
    "end = 'ztf_per'\n",
    "BE_candidates_ztf_per.to_csv(\"../outputs/blazhko_list\"+end+\".csv\", index=False)\n",
    "BE_candidates_ztf_per.head()"
   ]
  },
  {
   "cell_type": "markdown",
   "metadata": {},
   "source": [
    "### LINEAR periodogram"
   ]
  },
  {
   "cell_type": "code",
   "execution_count": null,
   "metadata": {},
   "outputs": [],
   "source": [
    "lengthL = blazhko_can_linear_per.shape[0]\n",
    "Lids_linear_per = blazhko_can_linear_per['LINEAR id'].to_numpy()\n",
    "print(lengthL)\n",
    "\n",
    "BE_candidates_linear_per = pd.DataFrame(())\n",
    "analysis = BE_analyzer(Lids_linear_per, lengthL, blazhko_can_linear_per, BE_candidates_linear_per, fits, periodogr, ztf_data, dataLINEAR)\n",
    "analysis.display_interface()"
   ]
  },
  {
   "cell_type": "code",
   "execution_count": null,
   "metadata": {},
   "outputs": [],
   "source": [
    "BE_candidates_linear_per = analysis.get_save_data()\n",
    "end = 'linear_per'\n",
    "BE_candidates_linear_per.to_csv(\"../outputs/blazhko_list\"+end+\".csv\", index=False)\n",
    "BE_candidates_linear_per.head()"
   ]
  },
  {
   "cell_type": "markdown",
   "metadata": {},
   "source": [
    "### LINEAR Chi2"
   ]
  },
  {
   "cell_type": "code",
   "execution_count": null,
   "metadata": {},
   "outputs": [],
   "source": [
    "lengthLch = blazhko_can_linear_chi.shape[0]\n",
    "Lids_linear_chi = blazhko_can_linear_chi['LINEAR id'].to_numpy()\n",
    "print(lengthLch)\n",
    "\n",
    "BE_candidates_linear_chi = pd.DataFrame(())\n",
    "analysis = BE_analyzer(Lids_linear_chi, lengthLch, blazhko_can_linear_chi, BE_candidates_linear_chi, fits, periodogr, ztf_data, dataLINEAR)\n",
    "analysis.display_interface()"
   ]
  },
  {
   "cell_type": "code",
   "execution_count": null,
   "metadata": {},
   "outputs": [],
   "source": [
    "BE_candidates_linear_chi = analysis.get_save_data()\n",
    "end = 'linear_chi'\n",
    "BE_candidates_linear_chi.to_csv(\"../outputs/blazhko_list\"+end+\".csv\", index=False)\n",
    "BE_candidates_linear_chi.head()"
   ]
  },
  {
   "cell_type": "markdown",
   "metadata": {},
   "source": [
    "### ZTF Chi2"
   ]
  },
  {
   "cell_type": "code",
   "execution_count": null,
   "metadata": {},
   "outputs": [],
   "source": [
    "lengthZ_chi = blazhko_can_ztf_chi.shape[0]\n",
    "Lids_ztf_chi = blazhko_can_ztf_chi['LINEAR id'].to_numpy()\n",
    "print(lengthZ_chi)\n",
    "\n",
    "BE_candidates_ztf_chi = pd.DataFrame(())\n",
    "analysis = BE_analyzer(Lids_ztf_chi, lengthZ_chi, blazhko_can_ztf_chi, BE_candidates_ztf_chi, fits, periodogr, ztf_data, dataLINEAR)\n",
    "analysis.display_interface()"
   ]
  },
  {
   "cell_type": "code",
   "execution_count": null,
   "metadata": {},
   "outputs": [],
   "source": [
    "BE_candidates_ztf_chi = analysis.get_save_data()\n",
    "end = 'ztf_chi'\n",
    "BE_candidates_ztf_chi.to_csv(\"../outputs/blazhko_list\"+end+\".csv\", index=False)\n",
    "BE_candidates_ztf_chi.head()"
   ]
  },
  {
   "cell_type": "markdown",
   "metadata": {},
   "source": [
    "### Other parameters - period and amplitude"
   ]
  },
  {
   "cell_type": "code",
   "execution_count": null,
   "metadata": {},
   "outputs": [],
   "source": [
    "length = blazhko_can_other.shape[0]\n",
    "lids = blazhko_can_other['LINEAR id'].to_numpy()\n",
    "print(length)\n",
    "\n",
    "BE_other = pd.DataFrame(())\n",
    "analysis = BE_analyzer(lids, length, blazhko_can_other, BE_other, fits, periodogr, ztf_data, dataLINEAR)\n",
    "analysis.display_interface()"
   ]
  },
  {
   "cell_type": "code",
   "execution_count": null,
   "metadata": {},
   "outputs": [],
   "source": [
    "BE_other = analysis.get_save_data()\n",
    "end = 'other'\n",
    "BE_other.to_csv(\"../outputs/blazhko_list\"+end+\".csv\", index=False)\n",
    "BE_other.head()"
   ]
  }
 ],
 "metadata": {
  "kernelspec": {
   "display_name": "stars",
   "language": "python",
   "name": "python3"
  },
  "language_info": {
   "codemirror_mode": {
    "name": "ipython",
    "version": 3
   },
   "file_extension": ".py",
   "mimetype": "text/x-python",
   "name": "python",
   "nbconvert_exporter": "python",
   "pygments_lexer": "ipython3",
   "version": "3.11.4"
  }
 },
 "nbformat": 4,
 "nbformat_minor": 2
}
