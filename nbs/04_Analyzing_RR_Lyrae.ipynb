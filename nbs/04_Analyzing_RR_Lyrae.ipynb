{
 "cells": [
  {
   "cell_type": "raw",
   "metadata": {},
   "source": [
    "---\n",
    "title: \"Calculating parameters for the analysis of RR Lyrae stars in search for the Blazhko effect\"\n",
    "theme: \"lux\"\n",
    "format:\n",
    "    html:\n",
    "        code-fold: true\n",
    "---"
   ]
  },
  {
   "cell_type": "code",
   "execution_count": 2,
   "metadata": {},
   "outputs": [],
   "source": [
    "%load_ext autoreload\n",
    "%autoreload 2"
   ]
  },
  {
   "cell_type": "markdown",
   "metadata": {},
   "source": [
    "*Authors: Ema Donev and dr. Ivezić*\n",
    "\n",
    "In this notebook we tackle the portion of our stars which are RR Lyraes. We conduct extensive light curve analysis, starting from period calculation using the Lomb-Scargle periodogram. We also calculate the ratio of periods between LINEAR and ZTF, as well as the mean period used later for analysis. From the periodogram we conduct additional analysis of local peak indication of the Blazhko effect. We also fit light curves based on their period and save statistical metrics such as chi2 and rms. We use this data later for BE candidate analysis."
   ]
  },
  {
   "cell_type": "code",
   "execution_count": 3,
   "metadata": {},
   "outputs": [],
   "source": [
    "#| code-fold: false\n",
    "# IMPORTING LIBRARIES\n",
    "# --------------------\n",
    "\n",
    "# AstroML\n",
    "from astroML.datasets import fetch_LINEAR_sample\n",
    "from astropy.coordinates import SkyCoord\n",
    "import astropy.units as u\n",
    "\n",
    "# Basic libraries\n",
    "import pickle\n",
    "import os\n",
    "import sys\n",
    "from tqdm import tqdm\n",
    "\n",
    "# Plotting\n",
    "import seaborn as sns\n",
    "from matplotlib import pyplot as plt\n",
    "from matplotlib import ticker\n",
    "import matplotlib.colors as mcolors\n",
    "from matplotlib.font_manager import FontProperties\n",
    "\n",
    "# DataFrame analysis\n",
    "import pandas as pd\n",
    "\n",
    "# Math libraries\n",
    "import numpy as np\n",
    "import scipy as sc\n",
    "from scipy.stats import norm\n",
    "\n",
    "# CONFIGURATION\n",
    "# -------------\n",
    "sns.set_theme() # setting the theme for plotting\n",
    "sys.path.insert(0,'../src/')\n",
    "np.random.seed(42)\n",
    "\n",
    "# configuring plotting colors\n",
    "colors = ['#5F6372', '#79A8A4', '#B2AD8F', '#92A186', '#AD8082']\n",
    "blue = '#5F6372'\n",
    "turqoise = '#79A8A4'\n",
    "light_green = '#B2AD8F'\n",
    "green = '#92A186'\n",
    "pink = '#AD8082'\n",
    "muted_colors = sns.set_palette(sns.color_palette(colors))\n",
    "\n",
    "# configuring fonts for plotting\n",
    "font = FontProperties()\n",
    "font.set_family('avenir')\n",
    "font.set_name('Big Caslon')\n",
    "font.set_style('normal')\n",
    "font.set_size('xx-large')\n",
    "\n",
    "\n",
    "%matplotlib inline  "
   ]
  },
  {
   "cell_type": "code",
   "execution_count": 4,
   "metadata": {},
   "outputs": [],
   "source": [
    "sys.path.insert(0,'../src/')\n",
    "import blazhko_analysis\n",
    "import BE_plotting\n",
    "import helper\n",
    "import RR_lyrae_params\n",
    "import data_access"
   ]
  },
  {
   "cell_type": "code",
   "execution_count": 5,
   "metadata": {},
   "outputs": [],
   "source": [
    "#| code-fold: false\n",
    "# LINEAR DATA\n",
    "dataL = fetch_LINEAR_sample(data_home='../inputs') # fetching the data from astroML data library"
   ]
  },
  {
   "cell_type": "markdown",
   "metadata": {},
   "source": [
    "# Methods used for analysis of RR Lyrae light curves"
   ]
  },
  {
   "cell_type": "markdown",
   "metadata": {},
   "source": [
    "### Period determination\n",
    "\n",
    "The Lomb-Scargle method of computing the period of a variable star using light curves involves fitting multi-level sinusoidal waves to our light curve data over various trial periods, and the period with the most prominent strength or the best fit is the actual period.\n",
    "\n",
    "This is the formula for the Lomb-Scargle periodogram:\n",
    "\n",
    "$$P(ω)= \\frac{1}{2σ^2}​*(\\frac{[∑y_k cosω(t_k−τ)]^2}{∑cos^2 ω(t_k−τ)} + \\frac{[∑y_k sin ω(t_k−τ)]^2}{∑ sin^2 ω(t_k−τ)})$$\n",
    "\n",
    "We use the Lomb-Scargle periodogram because it is the most famous tool for determining the periodic variable stars' period. It combines multiple methods of analysis, with its core being in Fourier analysis, and it operates with non-uniformly spaced data, such is the nature of light curves."
   ]
  },
  {
   "cell_type": "markdown",
   "metadata": {},
   "source": [
    "### Light curve folding\n",
    "\n",
    "**Light curve phasing or folding** is when we condense the entire timeseries of the light curve into one *phase*, or one cycle of variability. Phase is defined with the period of the light curve, as such: $$phase = \\frac{time}{period} - int(\\frac{time}{period})$$ This function defines the period as a value from 0 to 1 defining how far in is the star in its variability cycle. We can then adjust the `time` array using this function."
   ]
  },
  {
   "cell_type": "markdown",
   "metadata": {},
   "source": [
    "### Fitting light curves\n",
    "**Light curve fitting** requires a sophisticated function which uses Fourier analysis to correctly fit a curve through light curve `time`, `mag` and `magerr` data. We can define how many terms we want our fit to have. *The more terms we use, the more complicated shapes we can graph*. The fitting is an essential part of light curve analysis, as we can then calculate the goodness of fit and monitor how that fit changes over long periods of time, like in the case of `LINEAR` and `ZTF`."
   ]
  },
  {
   "cell_type": "markdown",
   "metadata": {},
   "source": [
    "### `Chi-2 test` and `RMS scatter`\n",
    "\n",
    "#### `RMS scatter`\n",
    "RMS scatter is a statistical metric that, in this case, measures the goodness of fit versus the actuall data. It is calculated as such: $$RMS = \\sqrt{\\frac{1}{n}\\sum^n_{i=1} x_i^2}$$\n",
    "\n",
    "#### `Chi-2 test`\n",
    "This test asseses the \"goodness of fit\" of light curves, by comparing the fitted values and the actual magnitude values of the light curve. The lower the chi-2 value, the better the correlation between the observed and expected values (based on some model), and the higher the chi-2 value, the poorer the correlation. At which point the value is too high or too low is determined by the statistician, based on the degrees of freedom and the nature of the data. The chi-2 value for every point of a light curve is calculated as such: $$\\chi^2 = \\sum{\\frac{(O_i - E_i)^2}{E_i}}$$"
   ]
  },
  {
   "cell_type": "markdown",
   "metadata": {},
   "source": [
    "### Periodogram analysis\n",
    "\n",
    "As a final step of the RR Lyrae analysis process, we need to analyze the periodograms which the Lomb-Scargle method produces. A periodogram is a plot of the power of each frequency, telling us which frequency, or period, fits the light curve best. We can use this periodogram to look for signs of the Blazhko Effect: if there are 2 subsequent local peaks around the maximum, the star is likely a BE star. \n",
    "\n",
    "We determine the existence of local peaks by folding the periodogram by the maximum peak, multiplying each folded part to amplify signals so they are easier to detect, and we then search for the next strongest peak. Our program also calculates the 1-year anomaly, making sure that we really find the correct frequencies."
   ]
  },
  {
   "cell_type": "markdown",
   "metadata": {},
   "source": [
    "# Analysis of RR Lyrae stars"
   ]
  },
  {
   "cell_type": "markdown",
   "metadata": {},
   "source": [
    "### Importing data"
   ]
  },
  {
   "cell_type": "code",
   "execution_count": 6,
   "metadata": {},
   "outputs": [],
   "source": [
    "Lrrlyr = pd.read_csv('../outputs/Lrrlyr_unprocessed.csv')\n",
    "ztfdata = np.load('../outputs/ZTF_dataset_FINAL_FINAL_FULL.npy', allow_pickle=True)"
   ]
  },
  {
   "cell_type": "code",
   "execution_count": 7,
   "metadata": {},
   "outputs": [],
   "source": [
    "#| code-fold: false\n",
    "# CONFIG BEFORE BIG RUN\n",
    "\n",
    "Lids = Lrrlyr['ID'].to_numpy()\n",
    "lc_type = Lrrlyr['LCtype'].to_numpy()\n",
    "rectascension = Lrrlyr['ra'].to_numpy() # list of rectascension coordinates\n",
    "declination = Lrrlyr['dec'].to_numpy() # list of declination coordinates\n",
    "\n",
    "end = 'FINAL_FINAL_FULL'"
   ]
  },
  {
   "cell_type": "code",
   "execution_count": 10,
   "metadata": {},
   "outputs": [
    {
     "name": "stdout",
     "output_type": "stream",
     "text": [
      "Loading data!\n"
     ]
    }
   ],
   "source": [
    "test = len(Lids)\n",
    "ZTF_data_best = []\n",
    "periodograms = []\n",
    "lc_analysis = {}\n",
    "fits = []\n",
    "\n",
    "if os.path.isfile('../outputs/LC_ANALYSIS_FINALFINAL_FINAL_FULL.csv'):\n",
    "    print('Loading data!')\n",
    "    lightcurve_analysis = pd.read_csv('../outputs/LC_ANALYSIS_FINALFINAL_FINAL_FULL.csv')\n",
    "    periodogr = pickle.load(open(\"../outputs/periodograms_\"+end+\".pkl\", \"rb\"))\n",
    "    fits = np.load(\"../outputs/fits_\"+end+\".npy\", allow_pickle=True)\n",
    "    ztfdata = np.load(\"../outputs/ztf_data_filter\"+end+\".npy\", allow_pickle=True)\n",
    "else:\n",
    "    for i in tqdm(range(test)):\n",
    "        lc_analysis, periodograms, fits, ZTF_data_best = RR_lyrae_params.RR_lyrae_analysis(end, i, Lids, ztfdata, lc_analysis, ZTF_data_best, fits, periodograms)\n",
    "        \n",
    "        if i%10==0:\n",
    "            # save dictionary to pkl file\n",
    "            with open('../outputs/lc_analysis_'+end+'.pkl', 'wb') as fp:\n",
    "                pickle.dump(lc_analysis, fp)\n",
    "            with open(\"../outputs/periodograms_\"+end+\".pkl\", \"wb\") as x:\n",
    "                pickle.dump(periodograms, x)\n",
    "            FITS = np.array(fits, dtype=object)\n",
    "            np.save(\"../outputs/fits_\"+end+\".npy\", FITS, allow_pickle=True)\n",
    "            ZTF_data_lca = np.array(ZTF_data_best, dtype=object)\n",
    "            np.save(\"../outputs/ztf_data_filter\"+end+\".npy\", ZTF_data_lca, allow_pickle=True)\n",
    "    # save dictionary to pkl file\n",
    "    with open('../outputs/lc_analysis_'+end+'.pkl', 'wb') as fp:\n",
    "        pickle.dump(lc_analysis, fp)\n",
    "    with open(\"../outputs/periodograms_\"+end+\".pkl\", \"wb\") as x:\n",
    "        pickle.dump(periodograms, x)\n",
    "    FITS = np.array(fits, dtype=object)\n",
    "    np.save(\"../outputs/fits_\"+end+\".npy\", FITS, allow_pickle=True)\n",
    "    ZTF_data_lca = np.array(ZTF_data_best, dtype=object)\n",
    "    np.save(\"../outputs/ztf_data_filter\"+end+\".npy\", ZTF_data_lca, allow_pickle=True)"
   ]
  },
  {
   "cell_type": "markdown",
   "metadata": {},
   "source": [
    "# Statistical analysis of data"
   ]
  },
  {
   "cell_type": "markdown",
   "metadata": {},
   "source": [
    "(conduct basic statistical analysis for this part of the notebook)"
   ]
  },
  {
   "cell_type": "code",
   "execution_count": null,
   "metadata": {},
   "outputs": [],
   "source": []
  }
 ],
 "metadata": {
  "kernelspec": {
   "display_name": "stars",
   "language": "python",
   "name": "python3"
  },
  "language_info": {
   "codemirror_mode": {
    "name": "ipython",
    "version": 3
   },
   "file_extension": ".py",
   "mimetype": "text/x-python",
   "name": "python",
   "nbconvert_exporter": "python",
   "pygments_lexer": "ipython3",
   "version": "3.11.4"
  }
 },
 "nbformat": 4,
 "nbformat_minor": 2
}
