{
 "cells": [
  {
   "cell_type": "markdown",
   "metadata": {},
   "source": [
    "# Calculation of RR Lyrae light curve periods"
   ]
  },
  {
   "cell_type": "markdown",
   "metadata": {},
   "source": [
    "*Authors: Ema Donev and dr. Ivezić*\n",
    "\n",
    "In this notebook we tackle the portion of our stars which are RR Lyraes. We use a fine-grid Lomb Scargle periodogram to calculate the periods of `LINEAR` and `ZTF` light curves, which we will use in later analysis."
   ]
  },
  {
   "cell_type": "code",
   "execution_count": 1,
   "metadata": {},
   "outputs": [],
   "source": [
    "# IMPORTING LIBRARIES\n",
    "# --------------------\n",
    "\n",
    "# AstroML & Astropy\n",
    "from astroML.datasets import fetch_LINEAR_sample\n",
    "from astropy.timeseries import LombScargle\n",
    "from astroML.datasets import fetch_LINEAR_sample\n",
    "from astroML.datasets import fetch_LINEAR_geneva\n",
    "from astropy.timeseries import TimeSeries\n",
    "from astropy.table import Table\n",
    "\n",
    "# ZTF\n",
    "from ztfquery import lightcurve\n",
    "\n",
    "# Basic libraries\n",
    "import random\n",
    "import pickle\n",
    "import os\n",
    "import sys\n",
    "from tqdm import tqdm\n",
    "\n",
    "# Plotting\n",
    "import seaborn as sns\n",
    "from matplotlib import pyplot as plt\n",
    "from matplotlib import ticker\n",
    "import matplotlib.colors as mcolors\n",
    "from matplotlib.font_manager import FontProperties\n",
    "\n",
    "# DataFrame analysis\n",
    "import pandas as pd\n",
    "import dask.dataframe as dd \n",
    "\n",
    "# Math libraries\n",
    "import numpy as np\n",
    "import scipy as sc\n",
    "from scipy.stats import norm\n",
    "\n",
    "# Multithreading/multiprocessing libraries\n",
    "from concurrent.futures import ThreadPoolExecutor\n",
    "from concurrent.futures import ProcessPoolExecutor\n",
    "import threading"
   ]
  },
  {
   "cell_type": "code",
   "execution_count": 2,
   "metadata": {},
   "outputs": [],
   "source": [
    "# CONFIG\n",
    "sns.set_theme() # setting the theme for plotting\n",
    "np.random.seed(42)\n",
    "\n",
    "colors = ['#1A090D', '#D8C99B', '#D8973C', '#BD632F', '#273E47']\n",
    "cmap = mcolors.ListedColormap(colors)\n",
    "\n",
    "font = FontProperties()\n",
    "font.set_family('avenir')\n",
    "font.set_name('Avenir')\n",
    "font.set_style('normal')\n",
    "font.set_size('xx-large')\n",
    "\n",
    "%matplotlib inline  "
   ]
  },
  {
   "cell_type": "code",
   "execution_count": 17,
   "metadata": {},
   "outputs": [],
   "source": [
    "# Importing custom libraries\n",
    "# ----------------------------\n",
    "sys.path.insert(0,'../src/')\n",
    "from ZTF_data import *\n",
    "from config import*\n",
    "from descriptive_stats import *\n",
    "from plots import *\n",
    "from selection import *\n",
    "from period_calc import *"
   ]
  },
  {
   "cell_type": "code",
   "execution_count": 4,
   "metadata": {},
   "outputs": [
    {
     "name": "stdout",
     "output_type": "stream",
     "text": [
      "Loading the data!\n"
     ]
    }
   ],
   "source": [
    "# DATA\n",
    "data = fetch_LINEAR_sample(data_home='../inputs') # fetching the data from astroML data library\n",
    "ZTF_data = data_ztf('ZTF_light_curves.npy')"
   ]
  },
  {
   "cell_type": "markdown",
   "metadata": {},
   "source": [
    "# Methods"
   ]
  },
  {
   "cell_type": "markdown",
   "metadata": {},
   "source": [
    "The Lomb-Scargle method of computing the period of a variable star using light curves involves fitting multi-level sinusoidal waves to our light curve data over various trial periods, and the period with the most prominent strength or the best fit is the actual period."
   ]
  },
  {
   "cell_type": "markdown",
   "metadata": {},
   "source": [
    "This is the formula for the Lomb-Scargle periodogram:\n",
    "\n",
    "$$P(ω)= \\frac{1}{2σ^2}​*(\\frac{[∑y_k cosω(t_k−τ)]^2}{∑cos^2 ω(t_k−τ)} + \\frac{[∑y_k sin ω(t_k−τ)]^2}{∑ sin^2 ω(t_k−τ)})$$"
   ]
  },
  {
   "cell_type": "markdown",
   "metadata": {},
   "source": [
    "- $ω$ is the frequency we test to see if it matches our light curve.\n",
    "- $σ^2$ is the variance of the data. We are dividing by it to normalize the data across all distributions.\n",
    "- $∑y_k cosω(t_k−τ)$ and $∑y_k sin ω(t_k−τ)$: checking how well the fitted cosine and sine waves align with the data. $t_k$ is the particular time point, and $τ$ is the time delay, for efficiency.\n",
    "- $∑cos^2 ω(t_k−τ)$ and $∑ sin^2 ω(t_k−τ)$: normalization of the fitting in order to eliminate bias towards powerful or weak wave components. "
   ]
  },
  {
   "cell_type": "markdown",
   "metadata": {},
   "source": [
    "We use the Lomb-Scargle periodogram because it is the most famous tool for determining the periodic variable stars' period. It combines multiple methods of analysis, with its core being in Fourier analysis, and it operates with non-uniformly spaced data, such is the nature of light curves."
   ]
  },
  {
   "cell_type": "markdown",
   "metadata": {},
   "source": [
    "# Selecting RR Lyrae stars"
   ]
  },
  {
   "cell_type": "markdown",
   "metadata": {},
   "source": [
    "## `LINEAR` database"
   ]
  },
  {
   "cell_type": "markdown",
   "metadata": {},
   "source": [
    "In order to select the RR Lyrae stars, we need information about their classification type and which stars have enough datapoints for correct period calculation. We access data with the `fetch_LINEAR_geneva()` which contains additional information about the light curves in the **Geneva catalog** of the `LINEAR` variable stars."
   ]
  },
  {
   "cell_type": "code",
   "execution_count": 5,
   "metadata": {},
   "outputs": [],
   "source": [
    "L = select_LINEAR('LINEAR_Periods_nterm3')"
   ]
  },
  {
   "cell_type": "code",
   "execution_count": 7,
   "metadata": {},
   "outputs": [
    {
     "data": {
      "text/html": [
       "<div>\n",
       "<style scoped>\n",
       "    .dataframe tbody tr th:only-of-type {\n",
       "        vertical-align: middle;\n",
       "    }\n",
       "\n",
       "    .dataframe tbody tr th {\n",
       "        vertical-align: top;\n",
       "    }\n",
       "\n",
       "    .dataframe thead th {\n",
       "        text-align: right;\n",
       "    }\n",
       "</style>\n",
       "<table border=\"1\" class=\"dataframe\">\n",
       "  <thead>\n",
       "    <tr style=\"text-align: right;\">\n",
       "      <th></th>\n",
       "      <th>ID</th>\n",
       "      <th>Porig</th>\n",
       "      <th>Pnew</th>\n",
       "      <th>ra</th>\n",
       "      <th>dec</th>\n",
       "      <th>ug</th>\n",
       "      <th>gi</th>\n",
       "      <th>iK</th>\n",
       "      <th>JK</th>\n",
       "      <th>logP</th>\n",
       "      <th>Ampl</th>\n",
       "      <th>skew</th>\n",
       "      <th>kurt</th>\n",
       "      <th>magMed</th>\n",
       "      <th>nObs</th>\n",
       "      <th>LCtype</th>\n",
       "    </tr>\n",
       "  </thead>\n",
       "  <tbody>\n",
       "    <tr>\n",
       "      <th>0</th>\n",
       "      <td>29848</td>\n",
       "      <td>0.557009</td>\n",
       "      <td>0.557019</td>\n",
       "      <td>119.526443</td>\n",
       "      <td>46.962120</td>\n",
       "      <td>1.17</td>\n",
       "      <td>0.37</td>\n",
       "      <td>1.02</td>\n",
       "      <td>0.27</td>\n",
       "      <td>-0.254138</td>\n",
       "      <td>0.62</td>\n",
       "      <td>-0.31</td>\n",
       "      <td>-0.57</td>\n",
       "      <td>16.37</td>\n",
       "      <td>301</td>\n",
       "      <td>1</td>\n",
       "    </tr>\n",
       "    <tr>\n",
       "      <th>1</th>\n",
       "      <td>32086</td>\n",
       "      <td>0.569258</td>\n",
       "      <td>0.569266</td>\n",
       "      <td>119.324013</td>\n",
       "      <td>47.095505</td>\n",
       "      <td>1.36</td>\n",
       "      <td>0.52</td>\n",
       "      <td>1.17</td>\n",
       "      <td>0.31</td>\n",
       "      <td>-0.244691</td>\n",
       "      <td>0.71</td>\n",
       "      <td>-0.49</td>\n",
       "      <td>-1.00</td>\n",
       "      <td>15.02</td>\n",
       "      <td>289</td>\n",
       "      <td>1</td>\n",
       "    </tr>\n",
       "    <tr>\n",
       "      <th>2</th>\n",
       "      <td>50402</td>\n",
       "      <td>0.643293</td>\n",
       "      <td>0.643286</td>\n",
       "      <td>119.712975</td>\n",
       "      <td>52.149574</td>\n",
       "      <td>1.18</td>\n",
       "      <td>0.39</td>\n",
       "      <td>1.10</td>\n",
       "      <td>0.20</td>\n",
       "      <td>-0.191591</td>\n",
       "      <td>0.49</td>\n",
       "      <td>-0.29</td>\n",
       "      <td>-0.88</td>\n",
       "      <td>16.46</td>\n",
       "      <td>284</td>\n",
       "      <td>1</td>\n",
       "    </tr>\n",
       "    <tr>\n",
       "      <th>3</th>\n",
       "      <td>61011</td>\n",
       "      <td>0.662369</td>\n",
       "      <td>0.662376</td>\n",
       "      <td>118.491257</td>\n",
       "      <td>53.168125</td>\n",
       "      <td>0.81</td>\n",
       "      <td>0.55</td>\n",
       "      <td>1.62</td>\n",
       "      <td>0.20</td>\n",
       "      <td>-0.178900</td>\n",
       "      <td>0.69</td>\n",
       "      <td>-0.03</td>\n",
       "      <td>-1.06</td>\n",
       "      <td>14.08</td>\n",
       "      <td>274</td>\n",
       "      <td>1</td>\n",
       "    </tr>\n",
       "    <tr>\n",
       "      <th>4</th>\n",
       "      <td>62892</td>\n",
       "      <td>0.530772</td>\n",
       "      <td>0.530764</td>\n",
       "      <td>119.187241</td>\n",
       "      <td>53.379295</td>\n",
       "      <td>1.12</td>\n",
       "      <td>0.21</td>\n",
       "      <td>1.07</td>\n",
       "      <td>0.21</td>\n",
       "      <td>-0.275092</td>\n",
       "      <td>0.62</td>\n",
       "      <td>-0.55</td>\n",
       "      <td>-0.32</td>\n",
       "      <td>16.54</td>\n",
       "      <td>276</td>\n",
       "      <td>1</td>\n",
       "    </tr>\n",
       "  </tbody>\n",
       "</table>\n",
       "</div>"
      ],
      "text/plain": [
       "      ID     Porig      Pnew          ra        dec    ug    gi    iK    JK  \\\n",
       "0  29848  0.557009  0.557019  119.526443  46.962120  1.17  0.37  1.02  0.27   \n",
       "1  32086  0.569258  0.569266  119.324013  47.095505  1.36  0.52  1.17  0.31   \n",
       "2  50402  0.643293  0.643286  119.712975  52.149574  1.18  0.39  1.10  0.20   \n",
       "3  61011  0.662369  0.662376  118.491257  53.168125  0.81  0.55  1.62  0.20   \n",
       "4  62892  0.530772  0.530764  119.187241  53.379295  1.12  0.21  1.07  0.21   \n",
       "\n",
       "       logP  Ampl  skew  kurt  magMed  nObs  LCtype  \n",
       "0 -0.254138  0.62 -0.31 -0.57   16.37   301       1  \n",
       "1 -0.244691  0.71 -0.49 -1.00   15.02   289       1  \n",
       "2 -0.191591  0.49 -0.29 -0.88   16.46   284       1  \n",
       "3 -0.178900  0.69 -0.03 -1.06   14.08   274       1  \n",
       "4 -0.275092  0.62 -0.55 -0.32   16.54   276       1  "
      ]
     },
     "execution_count": 7,
     "metadata": {},
     "output_type": "execute_result"
    }
   ],
   "source": [
    "L.head()"
   ]
  },
  {
   "cell_type": "markdown",
   "metadata": {},
   "source": [
    "We have now selected all of the \"good\" `LINEAR` IDs, now we need to select the RR Lyrae stars."
   ]
  },
  {
   "cell_type": "markdown",
   "metadata": {},
   "source": [
    "We first select \"1 dip stars\" using the coefficient between the original (correct) and our calculated period. Since 1 dip stars are easy to calculate periods for, they should match very well (from a range from 0.99 to 1.01). However, Eclipsing Binaries do not match up well, and often times have a ratio where our calculated period is 2 times bigger than the correct one. This is the easiest way to differentiate the two."
   ]
  },
  {
   "cell_type": "code",
   "execution_count": 8,
   "metadata": {},
   "outputs": [
    {
     "data": {
      "text/html": [
       "<div>\n",
       "<style scoped>\n",
       "    .dataframe tbody tr th:only-of-type {\n",
       "        vertical-align: middle;\n",
       "    }\n",
       "\n",
       "    .dataframe tbody tr th {\n",
       "        vertical-align: top;\n",
       "    }\n",
       "\n",
       "    .dataframe thead th {\n",
       "        text-align: right;\n",
       "    }\n",
       "</style>\n",
       "<table border=\"1\" class=\"dataframe\">\n",
       "  <thead>\n",
       "    <tr style=\"text-align: right;\">\n",
       "      <th></th>\n",
       "      <th>ID</th>\n",
       "      <th>Porig</th>\n",
       "      <th>Pnew</th>\n",
       "      <th>ra</th>\n",
       "      <th>dec</th>\n",
       "      <th>ug</th>\n",
       "      <th>gi</th>\n",
       "      <th>iK</th>\n",
       "      <th>JK</th>\n",
       "      <th>logP</th>\n",
       "      <th>Ampl</th>\n",
       "      <th>skew</th>\n",
       "      <th>kurt</th>\n",
       "      <th>magMed</th>\n",
       "      <th>nObs</th>\n",
       "      <th>LCtype</th>\n",
       "    </tr>\n",
       "  </thead>\n",
       "  <tbody>\n",
       "    <tr>\n",
       "      <th>0</th>\n",
       "      <td>29848</td>\n",
       "      <td>0.557009</td>\n",
       "      <td>0.557019</td>\n",
       "      <td>119.526443</td>\n",
       "      <td>46.962120</td>\n",
       "      <td>1.17</td>\n",
       "      <td>0.37</td>\n",
       "      <td>1.02</td>\n",
       "      <td>0.27</td>\n",
       "      <td>-0.254138</td>\n",
       "      <td>0.62</td>\n",
       "      <td>-0.31</td>\n",
       "      <td>-0.57</td>\n",
       "      <td>16.37</td>\n",
       "      <td>301</td>\n",
       "      <td>1</td>\n",
       "    </tr>\n",
       "    <tr>\n",
       "      <th>1</th>\n",
       "      <td>32086</td>\n",
       "      <td>0.569258</td>\n",
       "      <td>0.569266</td>\n",
       "      <td>119.324013</td>\n",
       "      <td>47.095505</td>\n",
       "      <td>1.36</td>\n",
       "      <td>0.52</td>\n",
       "      <td>1.17</td>\n",
       "      <td>0.31</td>\n",
       "      <td>-0.244691</td>\n",
       "      <td>0.71</td>\n",
       "      <td>-0.49</td>\n",
       "      <td>-1.00</td>\n",
       "      <td>15.02</td>\n",
       "      <td>289</td>\n",
       "      <td>1</td>\n",
       "    </tr>\n",
       "    <tr>\n",
       "      <th>2</th>\n",
       "      <td>50402</td>\n",
       "      <td>0.643293</td>\n",
       "      <td>0.643286</td>\n",
       "      <td>119.712975</td>\n",
       "      <td>52.149574</td>\n",
       "      <td>1.18</td>\n",
       "      <td>0.39</td>\n",
       "      <td>1.10</td>\n",
       "      <td>0.20</td>\n",
       "      <td>-0.191591</td>\n",
       "      <td>0.49</td>\n",
       "      <td>-0.29</td>\n",
       "      <td>-0.88</td>\n",
       "      <td>16.46</td>\n",
       "      <td>284</td>\n",
       "      <td>1</td>\n",
       "    </tr>\n",
       "    <tr>\n",
       "      <th>3</th>\n",
       "      <td>61011</td>\n",
       "      <td>0.662369</td>\n",
       "      <td>0.662376</td>\n",
       "      <td>118.491257</td>\n",
       "      <td>53.168125</td>\n",
       "      <td>0.81</td>\n",
       "      <td>0.55</td>\n",
       "      <td>1.62</td>\n",
       "      <td>0.20</td>\n",
       "      <td>-0.178900</td>\n",
       "      <td>0.69</td>\n",
       "      <td>-0.03</td>\n",
       "      <td>-1.06</td>\n",
       "      <td>14.08</td>\n",
       "      <td>274</td>\n",
       "      <td>1</td>\n",
       "    </tr>\n",
       "    <tr>\n",
       "      <th>4</th>\n",
       "      <td>62892</td>\n",
       "      <td>0.530772</td>\n",
       "      <td>0.530764</td>\n",
       "      <td>119.187241</td>\n",
       "      <td>53.379295</td>\n",
       "      <td>1.12</td>\n",
       "      <td>0.21</td>\n",
       "      <td>1.07</td>\n",
       "      <td>0.21</td>\n",
       "      <td>-0.275092</td>\n",
       "      <td>0.62</td>\n",
       "      <td>-0.55</td>\n",
       "      <td>-0.32</td>\n",
       "      <td>16.54</td>\n",
       "      <td>276</td>\n",
       "      <td>1</td>\n",
       "    </tr>\n",
       "  </tbody>\n",
       "</table>\n",
       "</div>"
      ],
      "text/plain": [
       "      ID     Porig      Pnew          ra        dec    ug    gi    iK    JK  \\\n",
       "0  29848  0.557009  0.557019  119.526443  46.962120  1.17  0.37  1.02  0.27   \n",
       "1  32086  0.569258  0.569266  119.324013  47.095505  1.36  0.52  1.17  0.31   \n",
       "2  50402  0.643293  0.643286  119.712975  52.149574  1.18  0.39  1.10  0.20   \n",
       "3  61011  0.662369  0.662376  118.491257  53.168125  0.81  0.55  1.62  0.20   \n",
       "4  62892  0.530772  0.530764  119.187241  53.379295  1.12  0.21  1.07  0.21   \n",
       "\n",
       "       logP  Ampl  skew  kurt  magMed  nObs  LCtype  \n",
       "0 -0.254138  0.62 -0.31 -0.57   16.37   301       1  \n",
       "1 -0.244691  0.71 -0.49 -1.00   15.02   289       1  \n",
       "2 -0.191591  0.49 -0.29 -0.88   16.46   284       1  \n",
       "3 -0.178900  0.69 -0.03 -1.06   14.08   274       1  \n",
       "4 -0.275092  0.62 -0.55 -0.32   16.54   276       1  "
      ]
     },
     "execution_count": 8,
     "metadata": {},
     "output_type": "execute_result"
    }
   ],
   "source": [
    "# SELECTING 1 dip STARS\n",
    "# -------------------------\n",
    "\n",
    "P_ratio = L['Porig']/L['Pnew']\n",
    "\n",
    "L_1 = L[(P_ratio>0.99)&(P_ratio<1.01)] # where the ratio between the original (correct) and currently calculated periods are 1:1\n",
    "L_1.head()"
   ]
  },
  {
   "cell_type": "markdown",
   "metadata": {},
   "source": [
    "Now, we select the *RR Lyrae* stars using the color filter values `(g-i)` and the light curve classification `(LCtype)`. "
   ]
  },
  {
   "cell_type": "code",
   "execution_count": 10,
   "metadata": {},
   "outputs": [
    {
     "name": "stdout",
     "output_type": "stream",
     "text": [
      "2710\n"
     ]
    },
    {
     "data": {
      "text/html": [
       "<div>\n",
       "<style scoped>\n",
       "    .dataframe tbody tr th:only-of-type {\n",
       "        vertical-align: middle;\n",
       "    }\n",
       "\n",
       "    .dataframe tbody tr th {\n",
       "        vertical-align: top;\n",
       "    }\n",
       "\n",
       "    .dataframe thead th {\n",
       "        text-align: right;\n",
       "    }\n",
       "</style>\n",
       "<table border=\"1\" class=\"dataframe\">\n",
       "  <thead>\n",
       "    <tr style=\"text-align: right;\">\n",
       "      <th></th>\n",
       "      <th>ID</th>\n",
       "      <th>Porig</th>\n",
       "      <th>Pnew</th>\n",
       "      <th>ra</th>\n",
       "      <th>dec</th>\n",
       "      <th>ug</th>\n",
       "      <th>gi</th>\n",
       "      <th>iK</th>\n",
       "      <th>JK</th>\n",
       "      <th>logP</th>\n",
       "      <th>Ampl</th>\n",
       "      <th>skew</th>\n",
       "      <th>kurt</th>\n",
       "      <th>magMed</th>\n",
       "      <th>nObs</th>\n",
       "      <th>LCtype</th>\n",
       "    </tr>\n",
       "  </thead>\n",
       "  <tbody>\n",
       "    <tr>\n",
       "      <th>0</th>\n",
       "      <td>29848</td>\n",
       "      <td>0.557009</td>\n",
       "      <td>0.557019</td>\n",
       "      <td>119.526443</td>\n",
       "      <td>46.962120</td>\n",
       "      <td>1.17</td>\n",
       "      <td>0.37</td>\n",
       "      <td>1.02</td>\n",
       "      <td>0.27</td>\n",
       "      <td>-0.254138</td>\n",
       "      <td>0.62</td>\n",
       "      <td>-0.31</td>\n",
       "      <td>-0.57</td>\n",
       "      <td>16.37</td>\n",
       "      <td>301</td>\n",
       "      <td>1</td>\n",
       "    </tr>\n",
       "    <tr>\n",
       "      <th>2</th>\n",
       "      <td>50402</td>\n",
       "      <td>0.643293</td>\n",
       "      <td>0.643286</td>\n",
       "      <td>119.712975</td>\n",
       "      <td>52.149574</td>\n",
       "      <td>1.18</td>\n",
       "      <td>0.39</td>\n",
       "      <td>1.10</td>\n",
       "      <td>0.20</td>\n",
       "      <td>-0.191591</td>\n",
       "      <td>0.49</td>\n",
       "      <td>-0.29</td>\n",
       "      <td>-0.88</td>\n",
       "      <td>16.46</td>\n",
       "      <td>284</td>\n",
       "      <td>1</td>\n",
       "    </tr>\n",
       "    <tr>\n",
       "      <th>4</th>\n",
       "      <td>62892</td>\n",
       "      <td>0.530772</td>\n",
       "      <td>0.530764</td>\n",
       "      <td>119.187241</td>\n",
       "      <td>53.379295</td>\n",
       "      <td>1.12</td>\n",
       "      <td>0.21</td>\n",
       "      <td>1.07</td>\n",
       "      <td>0.21</td>\n",
       "      <td>-0.275092</td>\n",
       "      <td>0.62</td>\n",
       "      <td>-0.55</td>\n",
       "      <td>-0.32</td>\n",
       "      <td>16.54</td>\n",
       "      <td>276</td>\n",
       "      <td>1</td>\n",
       "    </tr>\n",
       "    <tr>\n",
       "      <th>5</th>\n",
       "      <td>91437</td>\n",
       "      <td>0.674728</td>\n",
       "      <td>0.674711</td>\n",
       "      <td>120.294960</td>\n",
       "      <td>40.932457</td>\n",
       "      <td>1.18</td>\n",
       "      <td>0.24</td>\n",
       "      <td>1.09</td>\n",
       "      <td>0.37</td>\n",
       "      <td>-0.170871</td>\n",
       "      <td>0.75</td>\n",
       "      <td>-0.12</td>\n",
       "      <td>-0.93</td>\n",
       "      <td>15.39</td>\n",
       "      <td>177</td>\n",
       "      <td>1</td>\n",
       "    </tr>\n",
       "    <tr>\n",
       "      <th>6</th>\n",
       "      <td>95250</td>\n",
       "      <td>0.313869</td>\n",
       "      <td>0.313869</td>\n",
       "      <td>120.124542</td>\n",
       "      <td>40.656620</td>\n",
       "      <td>1.18</td>\n",
       "      <td>-0.14</td>\n",
       "      <td>0.83</td>\n",
       "      <td>0.28</td>\n",
       "      <td>-0.503252</td>\n",
       "      <td>0.55</td>\n",
       "      <td>0.14</td>\n",
       "      <td>-0.65</td>\n",
       "      <td>16.98</td>\n",
       "      <td>222</td>\n",
       "      <td>2</td>\n",
       "    </tr>\n",
       "  </tbody>\n",
       "</table>\n",
       "</div>"
      ],
      "text/plain": [
       "      ID     Porig      Pnew          ra        dec    ug    gi    iK    JK  \\\n",
       "0  29848  0.557009  0.557019  119.526443  46.962120  1.17  0.37  1.02  0.27   \n",
       "2  50402  0.643293  0.643286  119.712975  52.149574  1.18  0.39  1.10  0.20   \n",
       "4  62892  0.530772  0.530764  119.187241  53.379295  1.12  0.21  1.07  0.21   \n",
       "5  91437  0.674728  0.674711  120.294960  40.932457  1.18  0.24  1.09  0.37   \n",
       "6  95250  0.313869  0.313869  120.124542  40.656620  1.18 -0.14  0.83  0.28   \n",
       "\n",
       "       logP  Ampl  skew  kurt  magMed  nObs  LCtype  \n",
       "0 -0.254138  0.62 -0.31 -0.57   16.37   301       1  \n",
       "2 -0.191591  0.49 -0.29 -0.88   16.46   284       1  \n",
       "4 -0.275092  0.62 -0.55 -0.32   16.54   276       1  \n",
       "5 -0.170871  0.75 -0.12 -0.93   15.39   177       1  \n",
       "6 -0.503252  0.55  0.14 -0.65   16.98   222       2  "
      ]
     },
     "execution_count": 10,
     "metadata": {},
     "output_type": "execute_result"
    }
   ],
   "source": [
    "Lrrlyr = L_1[(L_1['gi']>-0.5)&(L_1['gi']<0.4)&(L_1['LCtype']>0)&(L_1['LCtype']<3)]\n",
    "print(len(Lrrlyr))\n",
    "Lrrlyr.head()"
   ]
  },
  {
   "cell_type": "markdown",
   "metadata": {},
   "source": [
    "We now have 2710 RR Lyrae stars from the `LINEAR` database. We can differentiate them further into *RR Lyrae AB* and *RR Lyrae C* types, but this can be done later (we just have to conserve the `LCtype` column). The next step is to match the IDs of the RR Lyrae to the `ZTF` IDs."
   ]
  },
  {
   "cell_type": "markdown",
   "metadata": {},
   "source": [
    "## `ZTF` database"
   ]
  },
  {
   "cell_type": "code",
   "execution_count": 11,
   "metadata": {},
   "outputs": [],
   "source": [
    "L_ids = [x for x in data.ids] # LINEAR ids\n",
    "Z_ids = [x for x in range(7010)] # ZTF ids"
   ]
  },
  {
   "cell_type": "code",
   "execution_count": 12,
   "metadata": {},
   "outputs": [
    {
     "name": "stdout",
     "output_type": "stream",
     "text": [
      "[(10003298, 0), (10004892, 1), (10013411, 2), (10021274, 3), (10022663, 4)]\n"
     ]
    }
   ],
   "source": [
    "matches = [] # list of matches\n",
    "for i in range(len(L_ids)): # for every value in LINEAR ids\n",
    "    m = (L_ids[i], Z_ids[i]) # make a tuple connecting the LINEAR id to the ZTF id\n",
    "    matches.append(m) # append to master list\n",
    "print(matches[:5])"
   ]
  },
  {
   "cell_type": "code",
   "execution_count": 13,
   "metadata": {},
   "outputs": [
    {
     "data": {
      "text/plain": [
       "[(29848, 4898), (50402, 5523), (62892, 5921), (91437, 6749), (95250, 6852)]"
      ]
     },
     "execution_count": 13,
     "metadata": {},
     "output_type": "execute_result"
    }
   ],
   "source": [
    "ZTF_rrlyrae = [] # list of RR Lyrae ids\n",
    "\n",
    "for i in Lrrlyr['ID']: # for every id in the table Lrrlyr of LINEAR RR Lyrae stars\n",
    "    for j in matches: # for every set in matches\n",
    "        if i == j[0]: # if the LINEAR ids match\n",
    "            m = j # we found a ZTF id\n",
    "            ZTF_rrlyrae.append(m) # which we apped to our master list\n",
    "\n",
    "ZTF_rrlyrae[:5]"
   ]
  },
  {
   "cell_type": "markdown",
   "metadata": {},
   "source": [
    "Now that we have all the IDs ready, it's time to calculate the periods of RR Lyrae stars with great detail."
   ]
  },
  {
   "cell_type": "markdown",
   "metadata": {},
   "source": [
    "# Calculating the periods of RR Lyrae stars"
   ]
  },
  {
   "cell_type": "code",
   "execution_count": 26,
   "metadata": {},
   "outputs": [
    {
     "name": "stderr",
     "output_type": "stream",
     "text": [
      " 50%|█████     | 1/2 [00:00<00:00,  2.28it/s]"
     ]
    },
    {
     "name": "stdout",
     "output_type": "stream",
     "text": [
      "failed for band zi Ndata= 0\n"
     ]
    },
    {
     "name": "stderr",
     "output_type": "stream",
     "text": [
      "100%|██████████| 2/2 [00:01<00:00,  1.71it/s]\n"
     ]
    }
   ],
   "source": [
    "# CALCULATING THE PERIODS\n",
    "# ---------------------------\n",
    "\n",
    "num = NUM_STARS\n",
    "#num = 2\n",
    "PERIODS = {}\n",
    "PERIODOGRAMS = []\n",
    "\n",
    "\n",
    "for n, i in enumerate(tqdm(range(num))):\n",
    "    Lid = ZTF_rrlyrae[i][0]\n",
    "    Zid = ZTF_rrlyrae[i][1]\n",
    "    # LINEAR CALCULATION\n",
    "    t, mag, magerr = data.get_light_curve(Lid).T\n",
    "    Plinear, fL, pL = doPeriods(t, mag, magerr, 3, lsPS=True)\n",
    "\n",
    "    # ZTF CALCULATION\n",
    "    ZTFdata = ZTF_data[Zid][1]\n",
    "    Pztf, fZ, pZ = getZTFperiod(ZTFdata, 3, ZTFbands=['zg', 'zr', 'zi'], lsPS=True)\n",
    "\n",
    "    P_mean = (Plinear+Pztf)/2\n",
    "    P_ratio = Pztf/Plinear\n",
    "\n",
    "    # Saving everything\n",
    "    PERIODS[Lid] = [Zid, Plinear, Pztf, P_mean, P_ratio]\n",
    "\n",
    "    Lperiodogram = (fL, pL)\n",
    "    Zperiodogram = (fZ, pZ)\n",
    "\n",
    "    PERIODOGRAMS.append((Lperiodogram, Zperiodogram))\n",
    "\n",
    "    # Fail-safe saving\n",
    "    # PERIODS\n",
    "    if (n % 100) == 0:\n",
    "        # save dictionary to pkl file\n",
    "        with open('../outputs/periods.pkl', 'wb') as fp:\n",
    "            pickle.dump(PERIODS, fp)\n",
    "    if (n%100) == 0:\n",
    "        np.save('../outputs/periodogram.npy', np.array(PERIODOGRAMS, dtype=object), allow_pickle=True)"
   ]
  },
  {
   "cell_type": "code",
   "execution_count": null,
   "metadata": {},
   "outputs": [],
   "source": []
  }
 ],
 "metadata": {
  "kernelspec": {
   "display_name": "var_stars",
   "language": "python",
   "name": "var_stars"
  },
  "language_info": {
   "codemirror_mode": {
    "name": "ipython",
    "version": 3
   },
   "file_extension": ".py",
   "mimetype": "text/x-python",
   "name": "python",
   "nbconvert_exporter": "python",
   "pygments_lexer": "ipython3",
   "version": "3.10.4"
  },
  "orig_nbformat": 4
 },
 "nbformat": 4,
 "nbformat_minor": 2
}
