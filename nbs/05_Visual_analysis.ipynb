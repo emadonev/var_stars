{
 "cells": [
  {
   "cell_type": "code",
   "execution_count": 1,
   "metadata": {},
   "outputs": [],
   "source": [
    "%load_ext autoreload\n",
    "%autoreload 2"
   ]
  },
  {
   "cell_type": "code",
   "execution_count": 2,
   "metadata": {},
   "outputs": [],
   "source": [
    "#| code-fold: false\n",
    "# IMPORTING LIBRARIES\n",
    "# --------------------\n",
    "\n",
    "# AstroML\n",
    "from astroML.datasets import fetch_LINEAR_sample\n",
    "from astropy.timeseries import LombScargle\n",
    "from astroML.datasets import fetch_LINEAR_sample\n",
    "from astroML.datasets import fetch_LINEAR_geneva\n",
    "from astropy.timeseries import TimeSeries\n",
    "from astropy.table import Table\n",
    "from astroML.time_series import MultiTermFit\n",
    "\n",
    "# ZTF\n",
    "from ztfquery import lightcurve\n",
    "\n",
    "# Basic libraries\n",
    "import pickle\n",
    "import os\n",
    "import sys\n",
    "from tqdm import tqdm\n",
    "\n",
    "# Plotting\n",
    "import seaborn as sns\n",
    "from matplotlib import pyplot as plt\n",
    "from matplotlib import ticker\n",
    "import matplotlib.colors as mcolors\n",
    "from matplotlib.font_manager import FontProperties\n",
    "\n",
    "# DataFrame analysis\n",
    "import pandas as pd\n",
    "\n",
    "# Math libraries\n",
    "import numpy as np\n",
    "import scipy as sc\n",
    "from scipy.stats import norm\n",
    "\n",
    "# CONFIGURATION\n",
    "# -------------\n",
    "sns.set_theme(style='white') # setting the theme for plotting\n",
    "sys.path.insert(0,'../src/')\n",
    "np.random.seed(42)\n",
    "\n",
    "# configuring plotting colors\n",
    "colors = ['#465BBB', '#3F8FCE', '#7ABBCE', '#3A3865', '#A82F43', '#612A37', '#DC5433', '#F29457']\n",
    "b1 = '#465BBB'\n",
    "b2 = '#3F8FCE'\n",
    "b3 = '#7ABBCE'\n",
    "b4 = '#3A3865'\n",
    "black1 = '#22212A'\n",
    "black2 = '#2D1E21'\n",
    "or1 = '#A82F43'\n",
    "or2 = '#612A37'\n",
    "or3 = '#DC5433'\n",
    "or4 = '#F29457'\n",
    "muted_colors = sns.set_palette(sns.color_palette(colors))\n",
    "\n",
    "# configuring fonts for plotting\n",
    "font = FontProperties()\n",
    "font.set_family('serif')\n",
    "font.set_name('Andale Mono')\n",
    "font.set_style('normal')\n",
    "#font.set_size('normal')\n",
    "\n",
    "\n",
    "%matplotlib inline "
   ]
  },
  {
   "cell_type": "code",
   "execution_count": 3,
   "metadata": {},
   "outputs": [],
   "source": [
    "#| code-fold: false\n",
    "# Importing custom libraries\n",
    "# ----------------------------\n",
    "from data_access import*\n",
    "from helper import*\n",
    "from RR_lyrae_params import*\n",
    "from blazhko_analysis import*\n",
    "from BE_plotting import*"
   ]
  },
  {
   "cell_type": "markdown",
   "metadata": {},
   "source": [
    "# Visual analysis"
   ]
  },
  {
   "cell_type": "markdown",
   "metadata": {},
   "source": [
    "The final step of this project is to visually analyze and confirm the algorithms selection of Blazhko candidates. We perform this operation using a custom made interface that displays 4 graphs, letting the user analyze them and click 'KEEP' if it confirms the star is Blazhko, or 'CONTINUE' if it is not."
   ]
  },
  {
   "cell_type": "code",
   "execution_count": 4,
   "metadata": {},
   "outputs": [],
   "source": [
    "# DATA\n",
    "# ======\n",
    "# LINEAR data\n",
    "dataL = fetch_LINEAR_sample(data_home='../inputs')\n",
    "\n",
    "# calcualted data\n",
    "end = 'ffinal'\n",
    "\n",
    "# light curve table\n",
    "lc_analysis = pd.read_csv(\"../outputs/LC_ANALYSIS_\"+end+\".csv\")\n",
    "# rr lyrae\n",
    "rrlyrae = pd.read_csv('../outputs/Lrrlyr_unprocessed.csv')\n",
    "# blazhko candidates\n",
    "blazhko_candidates = pd.read_csv('../outputs/blazhko_canmodfinal.csv')\n",
    "# periodogram data\n",
    "periodogr = pickle.load(open(\"../outputs/periodograms_\"+end+\".pkl\", \"rb\"))\n",
    "# fits data\n",
    "fits = np.load(\"../outputs/fits_\"+end+\".npy\", allow_pickle=True)\n",
    "# ztf data\n",
    "ztf_data = np.load(\"../outputs/ztf_data_filter\"+end+\".npy\", allow_pickle=True)"
   ]
  },
  {
   "cell_type": "markdown",
   "metadata": {},
   "source": [
    "This process was conducted in 4 phases:\n",
    "1. ### The phased graph\n",
    "Firstly, the shape and noisiness of the phased light curves were examined. If the light curve had the correct shape, there wasn't too much noise ($\\chi^2$ wasn't too high) and there appeared to be smearing of the phased light curve ( a sign of modulation ), the light curve passed the first phase.\n",
    "\n",
    "2. ### The periodogram\n",
    "Secondly, the correctness of the algorithm in recognizing the blazhko frequency was looked at. If the blazhko peaks are right next to the yearly alias and not statistically significant, or if the algorithm detected a false signal, the light curve wouldn't pass this phase.\n",
    "\n",
    "3. ### The full data\n",
    "Thirdly, the general shape of the light curve was looked at. If the data showed a wave-like pattern, it would indicate the presence of amplitude modulation.\n",
    "\n",
    "4. ### Seasons of observation\n",
    "Finally, the most important phase, where we analyzed the light curve fit for each observation season, comparing how the light curve changed depending on the phased and normalized graph. We look for a translation in the x-coordinate, or a *phase modulation*, or if the width of the light curve changes during seasons, we found *amplitude modulation*.\n",
    "\n",
    "A star can satisfy all 4 criteria, the first and final stage, or just the second stage to be considered a Blazhko star."
   ]
  },
  {
   "cell_type": "markdown",
   "metadata": {},
   "source": [
    "We split up our 409 candidates into 3 categories for more efficient visual analysis:\n",
    "1. ZTF periodogram group\n",
    "2. LINEAR periodogram group\n",
    "3. Other metrics group"
   ]
  },
  {
   "cell_type": "markdown",
   "metadata": {},
   "source": [
    "## Periodogram group"
   ]
  },
  {
   "cell_type": "code",
   "execution_count": 5,
   "metadata": {},
   "outputs": [
    {
     "name": "stdout",
     "output_type": "stream",
     "text": [
      "This dataset has 10 stars.\n"
     ]
    },
    {
     "data": {
      "application/vnd.jupyter.widget-view+json": {
       "model_id": "a3e02d32c4ec4e92900579edd0966f10",
       "version_major": 2,
       "version_minor": 0
      },
      "text/plain": [
       "VBox(children=(Output(), Button(description='KEEP', style=ButtonStyle()), Button(description='CONTINUE', style…"
      ]
     },
     "metadata": {},
     "output_type": "display_data"
    }
   ],
   "source": [
    "# ZTF PERIODOGRAM\n",
    "# =================\n",
    "ztf_per = category_analysis(blazhko_candidates, fits, periodogr, ztf_data, dataL,id_list=None,parameter='IndicatorType', value='Z')"
   ]
  },
  {
   "cell_type": "code",
   "execution_count": 6,
   "metadata": {},
   "outputs": [
    {
     "name": "stdout",
     "output_type": "stream",
     "text": [
      "(4, 34)\n"
     ]
    }
   ],
   "source": [
    "blazhko_analyzer = ztf_per.get_save_data()\n",
    "end = 'Z_p'\n",
    "blazhko_analyzer.to_csv(\"../outputs/group\"+end+\".csv\", index=False)\n",
    "\n",
    "print(blazhko_analyzer.shape)"
   ]
  },
  {
   "cell_type": "code",
   "execution_count": 7,
   "metadata": {},
   "outputs": [
    {
     "name": "stdout",
     "output_type": "stream",
     "text": [
      "This dataset has 42 stars.\n"
     ]
    },
    {
     "data": {
      "application/vnd.jupyter.widget-view+json": {
       "model_id": "9b884d729e194b61a1dfe5a6629041ec",
       "version_major": 2,
       "version_minor": 0
      },
      "text/plain": [
       "VBox(children=(Output(), Button(description='KEEP', style=ButtonStyle()), Button(description='CONTINUE', style…"
      ]
     },
     "metadata": {},
     "output_type": "display_data"
    }
   ],
   "source": [
    "# LINEAR PERIODOGRAM\n",
    "# ======================\n",
    "linear_per = category_analysis(blazhko_candidates, fits, periodogr, ztf_data, dataL,id_list=None,parameter='IndicatorType', value='L')"
   ]
  },
  {
   "cell_type": "code",
   "execution_count": 8,
   "metadata": {},
   "outputs": [
    {
     "name": "stdout",
     "output_type": "stream",
     "text": [
      "(10, 34)\n"
     ]
    }
   ],
   "source": [
    "blazhko_analyzerl = linear_per.get_save_data()\n",
    "end = 'L_p'\n",
    "blazhko_analyzerl.to_csv(\"../outputs/group\"+end+\".csv\", index=False)\n",
    "\n",
    "print(blazhko_analyzerl.shape)"
   ]
  },
  {
   "cell_type": "markdown",
   "metadata": {},
   "source": [
    "## Score group"
   ]
  },
  {
   "cell_type": "code",
   "execution_count": 5,
   "metadata": {},
   "outputs": [
    {
     "name": "stdout",
     "output_type": "stream",
     "text": [
      "(479, 34)\n"
     ]
    },
    {
     "data": {
      "text/html": [
       "<div>\n",
       "<style scoped>\n",
       "    .dataframe tbody tr th:only-of-type {\n",
       "        vertical-align: middle;\n",
       "    }\n",
       "\n",
       "    .dataframe tbody tr th {\n",
       "        vertical-align: top;\n",
       "    }\n",
       "\n",
       "    .dataframe thead th {\n",
       "        text-align: right;\n",
       "    }\n",
       "</style>\n",
       "<table border=\"1\" class=\"dataframe\">\n",
       "  <thead>\n",
       "    <tr style=\"text-align: right;\">\n",
       "      <th></th>\n",
       "      <th>LINEAR id</th>\n",
       "      <th>Plinear</th>\n",
       "      <th>Pztf</th>\n",
       "      <th>Pmean</th>\n",
       "      <th>Pratio</th>\n",
       "      <th>NdataLINEAR</th>\n",
       "      <th>L_chi2dof</th>\n",
       "      <th>L_chi2dofR</th>\n",
       "      <th>Lmean_chi2dof</th>\n",
       "      <th>Lmean_chi2dofR</th>\n",
       "      <th>...</th>\n",
       "      <th>MainPeakZ</th>\n",
       "      <th>BlazhkoPeakZ</th>\n",
       "      <th>BlazhkoPeriodZ</th>\n",
       "      <th>BpowerRatioZ</th>\n",
       "      <th>BsignificanceZ</th>\n",
       "      <th>Ampl_diff</th>\n",
       "      <th>dP</th>\n",
       "      <th>IndicatorType</th>\n",
       "      <th>ChiType</th>\n",
       "      <th>BE_score</th>\n",
       "    </tr>\n",
       "  </thead>\n",
       "  <tbody>\n",
       "    <tr>\n",
       "      <th>0</th>\n",
       "      <td>158779</td>\n",
       "      <td>0.609207</td>\n",
       "      <td>0.609189</td>\n",
       "      <td>0.609198</td>\n",
       "      <td>0.999970</td>\n",
       "      <td>293</td>\n",
       "      <td>3.7</td>\n",
       "      <td>1.6</td>\n",
       "      <td>4.3</td>\n",
       "      <td>1.6</td>\n",
       "      <td>...</td>\n",
       "      <td>1.6415</td>\n",
       "      <td>1.6444</td>\n",
       "      <td>350.2627</td>\n",
       "      <td>0.0123</td>\n",
       "      <td>16.5371</td>\n",
       "      <td>0.21</td>\n",
       "      <td>0.00003</td>\n",
       "      <td>-</td>\n",
       "      <td>LZ4</td>\n",
       "      <td>7</td>\n",
       "    </tr>\n",
       "    <tr>\n",
       "      <th>1</th>\n",
       "      <td>263541</td>\n",
       "      <td>0.558218</td>\n",
       "      <td>0.558221</td>\n",
       "      <td>0.558220</td>\n",
       "      <td>1.000005</td>\n",
       "      <td>270</td>\n",
       "      <td>15.8</td>\n",
       "      <td>2.9</td>\n",
       "      <td>16.2</td>\n",
       "      <td>3.0</td>\n",
       "      <td>...</td>\n",
       "      <td>1.7914</td>\n",
       "      <td>1.8025</td>\n",
       "      <td>89.9685</td>\n",
       "      <td>0.0021</td>\n",
       "      <td>7.5968</td>\n",
       "      <td>0.18</td>\n",
       "      <td>0.00001</td>\n",
       "      <td>-</td>\n",
       "      <td>LZ5</td>\n",
       "      <td>7</td>\n",
       "    </tr>\n",
       "    <tr>\n",
       "      <th>2</th>\n",
       "      <td>393084</td>\n",
       "      <td>0.530027</td>\n",
       "      <td>0.530033</td>\n",
       "      <td>0.530030</td>\n",
       "      <td>1.000011</td>\n",
       "      <td>493</td>\n",
       "      <td>1.6</td>\n",
       "      <td>1.1</td>\n",
       "      <td>1.6</td>\n",
       "      <td>1.1</td>\n",
       "      <td>...</td>\n",
       "      <td>1.8867</td>\n",
       "      <td>1.8896</td>\n",
       "      <td>347.2222</td>\n",
       "      <td>0.0235</td>\n",
       "      <td>16.1149</td>\n",
       "      <td>0.35</td>\n",
       "      <td>0.00001</td>\n",
       "      <td>-</td>\n",
       "      <td>LZ4</td>\n",
       "      <td>6</td>\n",
       "    </tr>\n",
       "    <tr>\n",
       "      <th>3</th>\n",
       "      <td>514883</td>\n",
       "      <td>0.557723</td>\n",
       "      <td>0.557737</td>\n",
       "      <td>0.557730</td>\n",
       "      <td>1.000025</td>\n",
       "      <td>289</td>\n",
       "      <td>5.3</td>\n",
       "      <td>1.7</td>\n",
       "      <td>5.4</td>\n",
       "      <td>1.6</td>\n",
       "      <td>...</td>\n",
       "      <td>1.7930</td>\n",
       "      <td>1.7958</td>\n",
       "      <td>357.1429</td>\n",
       "      <td>0.0149</td>\n",
       "      <td>17.9476</td>\n",
       "      <td>0.17</td>\n",
       "      <td>0.00003</td>\n",
       "      <td>-</td>\n",
       "      <td>LZ5</td>\n",
       "      <td>8</td>\n",
       "    </tr>\n",
       "    <tr>\n",
       "      <th>4</th>\n",
       "      <td>737951</td>\n",
       "      <td>0.357023</td>\n",
       "      <td>0.357023</td>\n",
       "      <td>0.357023</td>\n",
       "      <td>1.000000</td>\n",
       "      <td>273</td>\n",
       "      <td>6.0</td>\n",
       "      <td>2.2</td>\n",
       "      <td>6.0</td>\n",
       "      <td>2.2</td>\n",
       "      <td>...</td>\n",
       "      <td>2.8009</td>\n",
       "      <td>2.8039</td>\n",
       "      <td>332.2259</td>\n",
       "      <td>0.0020</td>\n",
       "      <td>13.7006</td>\n",
       "      <td>0.09</td>\n",
       "      <td>0.00000</td>\n",
       "      <td>-</td>\n",
       "      <td>LZ5</td>\n",
       "      <td>6</td>\n",
       "    </tr>\n",
       "  </tbody>\n",
       "</table>\n",
       "<p>5 rows × 34 columns</p>\n",
       "</div>"
      ],
      "text/plain": [
       "   LINEAR id   Plinear      Pztf     Pmean    Pratio  NdataLINEAR  L_chi2dof  \\\n",
       "0     158779  0.609207  0.609189  0.609198  0.999970          293        3.7   \n",
       "1     263541  0.558218  0.558221  0.558220  1.000005          270       15.8   \n",
       "2     393084  0.530027  0.530033  0.530030  1.000011          493        1.6   \n",
       "3     514883  0.557723  0.557737  0.557730  1.000025          289        5.3   \n",
       "4     737951  0.357023  0.357023  0.357023  1.000000          273        6.0   \n",
       "\n",
       "   L_chi2dofR  Lmean_chi2dof  Lmean_chi2dofR  ...  MainPeakZ  BlazhkoPeakZ  \\\n",
       "0         1.6            4.3             1.6  ...     1.6415        1.6444   \n",
       "1         2.9           16.2             3.0  ...     1.7914        1.8025   \n",
       "2         1.1            1.6             1.1  ...     1.8867        1.8896   \n",
       "3         1.7            5.4             1.6  ...     1.7930        1.7958   \n",
       "4         2.2            6.0             2.2  ...     2.8009        2.8039   \n",
       "\n",
       "   BlazhkoPeriodZ  BpowerRatioZ  BsignificanceZ  Ampl_diff       dP  \\\n",
       "0        350.2627        0.0123         16.5371       0.21  0.00003   \n",
       "1         89.9685        0.0021          7.5968       0.18  0.00001   \n",
       "2        347.2222        0.0235         16.1149       0.35  0.00001   \n",
       "3        357.1429        0.0149         17.9476       0.17  0.00003   \n",
       "4        332.2259        0.0020         13.7006       0.09  0.00000   \n",
       "\n",
       "   IndicatorType  ChiType  BE_score  \n",
       "0              -      LZ4         7  \n",
       "1              -      LZ5         7  \n",
       "2              -      LZ4         6  \n",
       "3              -      LZ5         8  \n",
       "4              -      LZ5         6  \n",
       "\n",
       "[5 rows x 34 columns]"
      ]
     },
     "execution_count": 5,
     "metadata": {},
     "output_type": "execute_result"
    }
   ],
   "source": [
    "# OTHER\n",
    "# =======\n",
    "be_other = blazhko_candidates[(blazhko_candidates['IndicatorType']!= 'Z') & (blazhko_candidates['IndicatorType']!= 'L')]\n",
    "be_other = be_other.reset_index(drop=True)\n",
    "print(be_other.shape)\n",
    "be_other.head()"
   ]
  },
  {
   "cell_type": "code",
   "execution_count": 7,
   "metadata": {},
   "outputs": [
    {
     "data": {
      "text/html": [
       "<div>\n",
       "<style scoped>\n",
       "    .dataframe tbody tr th:only-of-type {\n",
       "        vertical-align: middle;\n",
       "    }\n",
       "\n",
       "    .dataframe tbody tr th {\n",
       "        vertical-align: top;\n",
       "    }\n",
       "\n",
       "    .dataframe thead th {\n",
       "        text-align: right;\n",
       "    }\n",
       "</style>\n",
       "<table border=\"1\" class=\"dataframe\">\n",
       "  <thead>\n",
       "    <tr style=\"text-align: right;\">\n",
       "      <th></th>\n",
       "      <th>LINEAR id</th>\n",
       "      <th>Plinear</th>\n",
       "      <th>Pztf</th>\n",
       "      <th>Pmean</th>\n",
       "      <th>Pratio</th>\n",
       "      <th>NdataLINEAR</th>\n",
       "      <th>L_chi2dof</th>\n",
       "      <th>L_chi2dofR</th>\n",
       "      <th>Lmean_chi2dof</th>\n",
       "      <th>Lmean_chi2dofR</th>\n",
       "      <th>...</th>\n",
       "      <th>MainPeakZ</th>\n",
       "      <th>BlazhkoPeakZ</th>\n",
       "      <th>BlazhkoPeriodZ</th>\n",
       "      <th>BpowerRatioZ</th>\n",
       "      <th>BsignificanceZ</th>\n",
       "      <th>Ampl_diff</th>\n",
       "      <th>dP</th>\n",
       "      <th>IndicatorType</th>\n",
       "      <th>ChiType</th>\n",
       "      <th>BE_score</th>\n",
       "    </tr>\n",
       "  </thead>\n",
       "  <tbody>\n",
       "    <tr>\n",
       "      <th>242</th>\n",
       "      <td>12172879</td>\n",
       "      <td>0.377286</td>\n",
       "      <td>0.377308</td>\n",
       "      <td>0.377297</td>\n",
       "      <td>1.000058</td>\n",
       "      <td>229</td>\n",
       "      <td>2.5</td>\n",
       "      <td>1.5</td>\n",
       "      <td>3.6</td>\n",
       "      <td>1.7</td>\n",
       "      <td>...</td>\n",
       "      <td>2.6504</td>\n",
       "      <td>2.6553</td>\n",
       "      <td>202.8398</td>\n",
       "      <td>0.0014</td>\n",
       "      <td>6.7895</td>\n",
       "      <td>0.11</td>\n",
       "      <td>0.00006</td>\n",
       "      <td>-</td>\n",
       "      <td>LZ4</td>\n",
       "      <td>7</td>\n",
       "    </tr>\n",
       "  </tbody>\n",
       "</table>\n",
       "<p>1 rows × 34 columns</p>\n",
       "</div>"
      ],
      "text/plain": [
       "     LINEAR id   Plinear      Pztf     Pmean    Pratio  NdataLINEAR  \\\n",
       "242   12172879  0.377286  0.377308  0.377297  1.000058          229   \n",
       "\n",
       "     L_chi2dof  L_chi2dofR  Lmean_chi2dof  Lmean_chi2dofR  ...  MainPeakZ  \\\n",
       "242        2.5         1.5            3.6             1.7  ...     2.6504   \n",
       "\n",
       "     BlazhkoPeakZ  BlazhkoPeriodZ  BpowerRatioZ  BsignificanceZ  Ampl_diff  \\\n",
       "242        2.6553        202.8398        0.0014          6.7895       0.11   \n",
       "\n",
       "          dP  IndicatorType  ChiType  BE_score  \n",
       "242  0.00006              -      LZ4         7  \n",
       "\n",
       "[1 rows x 34 columns]"
      ]
     },
     "execution_count": 7,
     "metadata": {},
     "output_type": "execute_result"
    }
   ],
   "source": [
    "ind = be_other.loc[be_other['LINEAR id'] == 12172879]\n",
    "ind"
   ]
  },
  {
   "cell_type": "code",
   "execution_count": 11,
   "metadata": {},
   "outputs": [
    {
     "data": {
      "text/plain": [
       "236"
      ]
     },
     "execution_count": 11,
     "metadata": {},
     "output_type": "execute_result"
    }
   ],
   "source": [
    "other = list(be_other['LINEAR id'])[243:]\n",
    "len(other)"
   ]
  },
  {
   "cell_type": "code",
   "execution_count": 12,
   "metadata": {},
   "outputs": [
    {
     "name": "stdout",
     "output_type": "stream",
     "text": [
      "This dataset has 236 stars.\n"
     ]
    },
    {
     "data": {
      "application/vnd.jupyter.widget-view+json": {
       "model_id": "6649bbfc9a7d4410ad7c5892e17ad085",
       "version_major": 2,
       "version_minor": 0
      },
      "text/plain": [
       "VBox(children=(Output(), Button(description='KEEP', style=ButtonStyle()), Button(description='CONTINUE', style…"
      ]
     },
     "metadata": {},
     "output_type": "display_data"
    }
   ],
   "source": [
    "score = category_analysis(be_other, fits, periodogr, ztf_data, dataL, id_list=other)"
   ]
  },
  {
   "cell_type": "code",
   "execution_count": null,
   "metadata": {},
   "outputs": [],
   "source": [
    "# star 109, 125 is an amazing example of blazhko"
   ]
  },
  {
   "cell_type": "code",
   "execution_count": 14,
   "metadata": {},
   "outputs": [
    {
     "name": "stdout",
     "output_type": "stream",
     "text": [
      "(93, 34)\n"
     ]
    }
   ],
   "source": [
    "blazhko_analyzerother = score.get_save_data()\n",
    "end = 'score_2'\n",
    "blazhko_analyzerother.to_csv(\"../outputs/group_\"+end+\".csv\", index=False)\n",
    "\n",
    "print(blazhko_analyzerother.shape)"
   ]
  },
  {
   "cell_type": "markdown",
   "metadata": {},
   "source": [
    "---"
   ]
  },
  {
   "cell_type": "code",
   "execution_count": 15,
   "metadata": {},
   "outputs": [],
   "source": [
    "bL = pd.read_csv('../outputs/groupL_p.csv')\n",
    "bZ = pd.read_csv('../outputs/groupZ_p.csv')\n",
    "bo1 = pd.read_csv('../outputs/group_score.csv')\n",
    "bo2 = pd.read_csv('../outputs/group_score_2.csv')"
   ]
  },
  {
   "cell_type": "code",
   "execution_count": 16,
   "metadata": {},
   "outputs": [
    {
     "name": "stdout",
     "output_type": "stream",
     "text": [
      "(228, 34)\n"
     ]
    },
    {
     "data": {
      "text/html": [
       "<div>\n",
       "<style scoped>\n",
       "    .dataframe tbody tr th:only-of-type {\n",
       "        vertical-align: middle;\n",
       "    }\n",
       "\n",
       "    .dataframe tbody tr th {\n",
       "        vertical-align: top;\n",
       "    }\n",
       "\n",
       "    .dataframe thead th {\n",
       "        text-align: right;\n",
       "    }\n",
       "</style>\n",
       "<table border=\"1\" class=\"dataframe\">\n",
       "  <thead>\n",
       "    <tr style=\"text-align: right;\">\n",
       "      <th></th>\n",
       "      <th>LINEAR id</th>\n",
       "      <th>Plinear</th>\n",
       "      <th>Pztf</th>\n",
       "      <th>Pmean</th>\n",
       "      <th>Pratio</th>\n",
       "      <th>NdataLINEAR</th>\n",
       "      <th>L_chi2dof</th>\n",
       "      <th>L_chi2dofR</th>\n",
       "      <th>Lmean_chi2dof</th>\n",
       "      <th>Lmean_chi2dofR</th>\n",
       "      <th>...</th>\n",
       "      <th>MainPeakZ</th>\n",
       "      <th>BlazhkoPeakZ</th>\n",
       "      <th>BlazhkoPeriodZ</th>\n",
       "      <th>BpowerRatioZ</th>\n",
       "      <th>BsignificanceZ</th>\n",
       "      <th>Ampl_diff</th>\n",
       "      <th>dP</th>\n",
       "      <th>IndicatorType</th>\n",
       "      <th>ChiType</th>\n",
       "      <th>BE_score</th>\n",
       "    </tr>\n",
       "  </thead>\n",
       "  <tbody>\n",
       "    <tr>\n",
       "      <th>0</th>\n",
       "      <td>3632428</td>\n",
       "      <td>0.710123</td>\n",
       "      <td>0.710081</td>\n",
       "      <td>0.710102</td>\n",
       "      <td>0.999941</td>\n",
       "      <td>216</td>\n",
       "      <td>1.1</td>\n",
       "      <td>0.9</td>\n",
       "      <td>1.3</td>\n",
       "      <td>1.1</td>\n",
       "      <td>...</td>\n",
       "      <td>1.4083</td>\n",
       "      <td>1.4148</td>\n",
       "      <td>153.9646</td>\n",
       "      <td>0.0025</td>\n",
       "      <td>9.7161</td>\n",
       "      <td>0.15</td>\n",
       "      <td>0.00006</td>\n",
       "      <td>L</td>\n",
       "      <td>-</td>\n",
       "      <td>0</td>\n",
       "    </tr>\n",
       "    <tr>\n",
       "      <th>1</th>\n",
       "      <td>7545954</td>\n",
       "      <td>0.555952</td>\n",
       "      <td>0.555959</td>\n",
       "      <td>0.555956</td>\n",
       "      <td>1.000013</td>\n",
       "      <td>228</td>\n",
       "      <td>29.7</td>\n",
       "      <td>3.7</td>\n",
       "      <td>28.4</td>\n",
       "      <td>3.8</td>\n",
       "      <td>...</td>\n",
       "      <td>1.7987</td>\n",
       "      <td>1.8021</td>\n",
       "      <td>296.2963</td>\n",
       "      <td>0.0031</td>\n",
       "      <td>9.2400</td>\n",
       "      <td>0.04</td>\n",
       "      <td>0.00001</td>\n",
       "      <td>L</td>\n",
       "      <td>-</td>\n",
       "      <td>0</td>\n",
       "    </tr>\n",
       "    <tr>\n",
       "      <th>2</th>\n",
       "      <td>8955278</td>\n",
       "      <td>0.547521</td>\n",
       "      <td>0.547514</td>\n",
       "      <td>0.547518</td>\n",
       "      <td>0.999987</td>\n",
       "      <td>200</td>\n",
       "      <td>3.8</td>\n",
       "      <td>1.3</td>\n",
       "      <td>4.1</td>\n",
       "      <td>1.3</td>\n",
       "      <td>...</td>\n",
       "      <td>1.8264</td>\n",
       "      <td>1.8402</td>\n",
       "      <td>72.7273</td>\n",
       "      <td>0.0095</td>\n",
       "      <td>10.8462</td>\n",
       "      <td>0.01</td>\n",
       "      <td>0.00001</td>\n",
       "      <td>L</td>\n",
       "      <td>-</td>\n",
       "      <td>0</td>\n",
       "    </tr>\n",
       "    <tr>\n",
       "      <th>3</th>\n",
       "      <td>13331395</td>\n",
       "      <td>0.646706</td>\n",
       "      <td>0.646719</td>\n",
       "      <td>0.646712</td>\n",
       "      <td>1.000020</td>\n",
       "      <td>194</td>\n",
       "      <td>5.4</td>\n",
       "      <td>1.2</td>\n",
       "      <td>5.5</td>\n",
       "      <td>1.2</td>\n",
       "      <td>...</td>\n",
       "      <td>1.5463</td>\n",
       "      <td>1.5572</td>\n",
       "      <td>91.4913</td>\n",
       "      <td>0.0042</td>\n",
       "      <td>17.7771</td>\n",
       "      <td>0.15</td>\n",
       "      <td>0.00002</td>\n",
       "      <td>L</td>\n",
       "      <td>-</td>\n",
       "      <td>0</td>\n",
       "    </tr>\n",
       "    <tr>\n",
       "      <th>4</th>\n",
       "      <td>14225011</td>\n",
       "      <td>0.610380</td>\n",
       "      <td>0.610382</td>\n",
       "      <td>0.610381</td>\n",
       "      <td>1.000003</td>\n",
       "      <td>167</td>\n",
       "      <td>1.2</td>\n",
       "      <td>1.0</td>\n",
       "      <td>1.2</td>\n",
       "      <td>1.0</td>\n",
       "      <td>...</td>\n",
       "      <td>1.6383</td>\n",
       "      <td>1.6436</td>\n",
       "      <td>187.9699</td>\n",
       "      <td>0.0005</td>\n",
       "      <td>6.4955</td>\n",
       "      <td>0.23</td>\n",
       "      <td>0.00000</td>\n",
       "      <td>L</td>\n",
       "      <td>-</td>\n",
       "      <td>0</td>\n",
       "    </tr>\n",
       "  </tbody>\n",
       "</table>\n",
       "<p>5 rows × 34 columns</p>\n",
       "</div>"
      ],
      "text/plain": [
       "   LINEAR id   Plinear      Pztf     Pmean    Pratio  NdataLINEAR  L_chi2dof  \\\n",
       "0    3632428  0.710123  0.710081  0.710102  0.999941          216        1.1   \n",
       "1    7545954  0.555952  0.555959  0.555956  1.000013          228       29.7   \n",
       "2    8955278  0.547521  0.547514  0.547518  0.999987          200        3.8   \n",
       "3   13331395  0.646706  0.646719  0.646712  1.000020          194        5.4   \n",
       "4   14225011  0.610380  0.610382  0.610381  1.000003          167        1.2   \n",
       "\n",
       "   L_chi2dofR  Lmean_chi2dof  Lmean_chi2dofR  ...  MainPeakZ  BlazhkoPeakZ  \\\n",
       "0         0.9            1.3             1.1  ...     1.4083        1.4148   \n",
       "1         3.7           28.4             3.8  ...     1.7987        1.8021   \n",
       "2         1.3            4.1             1.3  ...     1.8264        1.8402   \n",
       "3         1.2            5.5             1.2  ...     1.5463        1.5572   \n",
       "4         1.0            1.2             1.0  ...     1.6383        1.6436   \n",
       "\n",
       "   BlazhkoPeriodZ  BpowerRatioZ  BsignificanceZ  Ampl_diff       dP  \\\n",
       "0        153.9646        0.0025          9.7161       0.15  0.00006   \n",
       "1        296.2963        0.0031          9.2400       0.04  0.00001   \n",
       "2         72.7273        0.0095         10.8462       0.01  0.00001   \n",
       "3         91.4913        0.0042         17.7771       0.15  0.00002   \n",
       "4        187.9699        0.0005          6.4955       0.23  0.00000   \n",
       "\n",
       "   IndicatorType  ChiType  BE_score  \n",
       "0              L        -         0  \n",
       "1              L        -         0  \n",
       "2              L        -         0  \n",
       "3              L        -         0  \n",
       "4              L        -         0  \n",
       "\n",
       "[5 rows x 34 columns]"
      ]
     },
     "execution_count": 16,
     "metadata": {},
     "output_type": "execute_result"
    }
   ],
   "source": [
    "FINAL_BE_CATALOGUE = pd.DataFrame()\n",
    "FINAL_BE_CATALOGUE = pd.concat([FINAL_BE_CATALOGUE, bL.reset_index(drop=True)],ignore_index=True, axis=0)\n",
    "FINAL_BE_CATALOGUE = pd.concat([FINAL_BE_CATALOGUE, bZ.reset_index(drop=True)],ignore_index=True, axis=0)\n",
    "FINAL_BE_CATALOGUE = pd.concat([FINAL_BE_CATALOGUE, bo1.reset_index(drop=True)],ignore_index=True, axis=0)\n",
    "FINAL_BE_CATALOGUE = pd.concat([FINAL_BE_CATALOGUE, bo2.reset_index(drop=True)],ignore_index=True, axis=0)\n",
    "\n",
    "print(FINAL_BE_CATALOGUE.shape)\n",
    "FINAL_BE_CATALOGUE.head()"
   ]
  },
  {
   "cell_type": "code",
   "execution_count": 17,
   "metadata": {},
   "outputs": [],
   "source": [
    "FINAL_BE_CATALOGUE.to_csv('../outputs/be_final.csv', index=False)"
   ]
  },
  {
   "cell_type": "code",
   "execution_count": null,
   "metadata": {},
   "outputs": [],
   "source": []
  }
 ],
 "metadata": {
  "kernelspec": {
   "display_name": "rr_lyrae",
   "language": "python",
   "name": "python3"
  },
  "language_info": {
   "codemirror_mode": {
    "name": "ipython",
    "version": 3
   },
   "file_extension": ".py",
   "mimetype": "text/x-python",
   "name": "python",
   "nbconvert_exporter": "python",
   "pygments_lexer": "ipython3",
   "version": "3.11.4"
  }
 },
 "nbformat": 4,
 "nbformat_minor": 2
}
