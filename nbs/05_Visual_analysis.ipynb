{
 "cells": [
  {
   "cell_type": "code",
   "execution_count": 1,
   "metadata": {},
   "outputs": [],
   "source": [
    "%load_ext autoreload\n",
    "%autoreload 2"
   ]
  },
  {
   "cell_type": "code",
   "execution_count": 2,
   "metadata": {},
   "outputs": [],
   "source": [
    "#| code-fold: false\n",
    "# IMPORTING LIBRARIES\n",
    "# --------------------\n",
    "\n",
    "# AstroML\n",
    "from astroML.datasets import fetch_LINEAR_sample\n",
    "from astropy.timeseries import LombScargle\n",
    "from astroML.datasets import fetch_LINEAR_sample\n",
    "from astroML.datasets import fetch_LINEAR_geneva\n",
    "from astropy.timeseries import TimeSeries\n",
    "from astropy.table import Table\n",
    "from astroML.time_series import MultiTermFit\n",
    "\n",
    "# ZTF\n",
    "from ztfquery import lightcurve\n",
    "\n",
    "# Basic libraries\n",
    "import pickle\n",
    "import os\n",
    "import sys\n",
    "from tqdm import tqdm\n",
    "\n",
    "# Plotting\n",
    "import seaborn as sns\n",
    "from matplotlib import pyplot as plt\n",
    "from matplotlib import ticker\n",
    "import matplotlib.colors as mcolors\n",
    "from matplotlib.font_manager import FontProperties\n",
    "\n",
    "# DataFrame analysis\n",
    "import pandas as pd\n",
    "\n",
    "# Math libraries\n",
    "import numpy as np\n",
    "import scipy as sc\n",
    "from scipy.stats import norm\n",
    "\n",
    "# CONFIGURATION\n",
    "# -------------\n",
    "sns.set_theme(style='white') # setting the theme for plotting\n",
    "sys.path.insert(0,'../src/')\n",
    "np.random.seed(42)\n",
    "\n",
    "# configuring plotting colors\n",
    "colors = ['#465BBB', '#3F8FCE', '#7ABBCE', '#3A3865', '#A82F43', '#612A37', '#DC5433', '#F29457']\n",
    "b1 = '#465BBB'\n",
    "b2 = '#3F8FCE'\n",
    "b3 = '#7ABBCE'\n",
    "b4 = '#3A3865'\n",
    "black1 = '#22212A'\n",
    "black2 = '#2D1E21'\n",
    "or1 = '#A82F43'\n",
    "or2 = '#612A37'\n",
    "or3 = '#DC5433'\n",
    "or4 = '#F29457'\n",
    "muted_colors = sns.set_palette(sns.color_palette(colors))\n",
    "\n",
    "# configuring fonts for plotting\n",
    "font = FontProperties()\n",
    "font.set_family('serif')\n",
    "font.set_name('Andale Mono')\n",
    "font.set_style('normal')\n",
    "#font.set_size('normal')\n",
    "\n",
    "\n",
    "%matplotlib inline "
   ]
  },
  {
   "cell_type": "code",
   "execution_count": 3,
   "metadata": {},
   "outputs": [],
   "source": [
    "#| code-fold: false\n",
    "# Importing custom libraries\n",
    "# ----------------------------\n",
    "from data_access import*\n",
    "from helper import*\n",
    "from RR_lyrae_params import*\n",
    "from blazhko_analysis import*\n",
    "from BE_plotting import*"
   ]
  },
  {
   "cell_type": "markdown",
   "metadata": {},
   "source": [
    "# Visual analysis"
   ]
  },
  {
   "cell_type": "markdown",
   "metadata": {},
   "source": [
    "The final step of this project is to visually analyze and confirm the algorithms selection of Blazhko candidates. We perform this operation using a custom made interface that displays 4 graphs, letting the user analyze them and click 'KEEP' if it confirms the star is Blazhko, or 'CONTINUE' if it is not."
   ]
  },
  {
   "cell_type": "code",
   "execution_count": 4,
   "metadata": {},
   "outputs": [],
   "source": [
    "# DATA\n",
    "# ======\n",
    "# LINEAR data\n",
    "dataL = fetch_LINEAR_sample(data_home='../inputs')\n",
    "\n",
    "# calcualted data\n",
    "end = 'ffinal'\n",
    "\n",
    "# light curve table\n",
    "lc_analysis = pd.read_csv(\"../outputs/LC_ANALYSIS_\"+end+\".csv\")\n",
    "# rr lyrae\n",
    "rrlyrae = pd.read_csv('../outputs/Lrrlyr_unprocessed.csv')\n",
    "# blazhko candidates\n",
    "blazhko_candidates = pd.read_csv('../outputs/blazhko_canmodfinal.csv')\n",
    "# periodogram data\n",
    "periodogr = pickle.load(open(\"../outputs/periodograms_\"+end+\".pkl\", \"rb\"))\n",
    "# fits data\n",
    "fits = np.load(\"../outputs/fits_\"+end+\".npy\", allow_pickle=True)\n",
    "# ztf data\n",
    "ztf_data = np.load(\"../outputs/ztf_data_filter\"+end+\".npy\", allow_pickle=True)"
   ]
  },
  {
   "cell_type": "markdown",
   "metadata": {},
   "source": [
    "This process was conducted in 4 phases:\n",
    "1. ### The phased graph\n",
    "Firstly, the shape and noisiness of the phased light curves were examined. If the light curve had the correct shape, there wasn't too much noise ($\\chi^2$ wasn't too high) and there appeared to be smearing of the phased light curve ( a sign of modulation ), the light curve passed the first phase.\n",
    "\n",
    "2. ### The periodogram\n",
    "Secondly, the correctness of the algorithm in recognizing the blazhko frequency was looked at. If the blazhko peaks are right next to the yearly alias and not statistically significant, or if the algorithm detected a false signal, the light curve wouldn't pass this phase.\n",
    "\n",
    "3. ### The full data\n",
    "Thirdly, the general shape of the light curve was looked at. If the data showed a wave-like pattern, it would indicate the presence of amplitude modulation.\n",
    "\n",
    "4. ### Seasons of observation\n",
    "Finally, the most important phase, where we analyzed the light curve fit for each observation season, comparing how the light curve changed depending on the phased and normalized graph. We look for a translation in the x-coordinate, or a *phase modulation*, or if the width of the light curve changes during seasons, we found *amplitude modulation*.\n",
    "\n",
    "A star can satisfy all 4 criteria, the first and final stage, or just the second stage to be considered a Blazhko star."
   ]
  },
  {
   "cell_type": "markdown",
   "metadata": {},
   "source": [
    "We split up our 409 candidates into 3 categories for more efficient visual analysis:\n",
    "1. ZTF periodogram group\n",
    "2. LINEAR periodogram group\n",
    "3. Other metrics group"
   ]
  },
  {
   "cell_type": "markdown",
   "metadata": {},
   "source": [
    "## ZTF periodogram group"
   ]
  },
  {
   "cell_type": "code",
   "execution_count": null,
   "metadata": {},
   "outputs": [],
   "source": [
    "# ZTF PERIODOGRAM\n",
    "# =================\n",
    "ztf_per = category_analysis(blazhko_candidates, fits, periodogr, ztf_data, dataL,id_list=None,parameter='IndicatorType', value='Z')"
   ]
  },
  {
   "cell_type": "code",
   "execution_count": null,
   "metadata": {},
   "outputs": [],
   "source": [
    "blazhko_analyzer = ztf_per.get_save_data()\n",
    "end = 'Z_p'\n",
    "blazhko_analyzer.to_csv(\"../outputs/group\"+end+\".csv\", index=False)\n",
    "\n",
    "print(blazhko_analyzer.shape)"
   ]
  },
  {
   "cell_type": "markdown",
   "metadata": {},
   "source": [
    "## LINEAR periodogram group"
   ]
  },
  {
   "cell_type": "code",
   "execution_count": null,
   "metadata": {},
   "outputs": [],
   "source": [
    "# LINEAR PERIODOGRAM\n",
    "# ======================\n",
    "linear_per = category_analysis(blazhko_candidates, fits, periodogr, ztf_data, dataL,id_list=None,parameter='IndicatorType', value='L')"
   ]
  },
  {
   "cell_type": "code",
   "execution_count": null,
   "metadata": {},
   "outputs": [],
   "source": [
    "blazhko_analyzerl = linear_per.get_save_data()\n",
    "end = 'L_p'\n",
    "blazhko_analyzerl.to_csv(\"../outputs/group\"+end+\".csv\", index=False)\n",
    "\n",
    "print(blazhko_analyzerl.shape)"
   ]
  },
  {
   "cell_type": "markdown",
   "metadata": {},
   "source": [
    "## Score group"
   ]
  },
  {
   "cell_type": "code",
   "execution_count": null,
   "metadata": {},
   "outputs": [],
   "source": [
    "# OTHER\n",
    "# =======\n",
    "be_other = blazhko_candidates[(blazhko_candidates['IndicatorType']!= 'Z') & (blazhko_candidates['IndicatorType']!= 'L')]\n",
    "be_other = be_other.reset_index(drop=True)\n",
    "print(be_other.shape)\n",
    "be_other.head()"
   ]
  },
  {
   "cell_type": "code",
   "execution_count": null,
   "metadata": {},
   "outputs": [],
   "source": [
    "score = category_analysis(be_other, fits, periodogr, ztf_data, dataL, 'other')"
   ]
  },
  {
   "cell_type": "code",
   "execution_count": null,
   "metadata": {},
   "outputs": [],
   "source": [
    "blazhko_analyzerother = score.get_save_data()\n",
    "end = 'score'\n",
    "blazhko_analyzerother.to_csv(\"../outputs/group\"+end+\".csv\", index=False)\n",
    "\n",
    "print(blazhko_analyzerother.shape)"
   ]
  },
  {
   "cell_type": "markdown",
   "metadata": {},
   "source": [
    "---"
   ]
  },
  {
   "cell_type": "code",
   "execution_count": null,
   "metadata": {},
   "outputs": [],
   "source": [
    "FINAL_BE_CATALOGUE = pd.DataFrame()\n",
    "FINAL_BE_CATALOGUE = pd.concat([FINAL_BE_CATALOGUE, blazhko_analyzer.reset_index(drop=True)],ignore_index=True, axis=0)\n",
    "FINAL_BE_CATALOGUE = pd.concat([FINAL_BE_CATALOGUE, blazhko_analyzerl.reset_index(drop=True)],ignore_index=True, axis=0)\n",
    "FINAL_BE_CATALOGUE = pd.concat([FINAL_BE_CATALOGUE, blazhko_analyzerother.reset_index(drop=True)],ignore_index=True, axis=0)\n",
    "\n",
    "print(FINAL_BE_CATALOGUE.shape)\n",
    "FINAL_BE_CATALOGUE.head()"
   ]
  },
  {
   "cell_type": "code",
   "execution_count": null,
   "metadata": {},
   "outputs": [],
   "source": [
    "FINAL_BE_CATALOGUE.to_csv('../outputs/FINAL_BE_CATALOGUE.csv', index=False)"
   ]
  },
  {
   "cell_type": "markdown",
   "metadata": {},
   "source": [
    "---"
   ]
  },
  {
   "cell_type": "markdown",
   "metadata": {},
   "source": [
    "# Analysis of results"
   ]
  },
  {
   "cell_type": "markdown",
   "metadata": {},
   "source": [
    "Here, we present the final stylized version of all the data collected so far, including a large table from all RR Lyrae with their designated flags for not a candidate, candidate, and confirmed blazhko star. We also present graphs which further analyze our results."
   ]
  },
  {
   "cell_type": "code",
   "execution_count": null,
   "metadata": {},
   "outputs": [],
   "source": [
    "lctype = []\n",
    "\n",
    "for i in range(len(list(rrlyrae['LINEARobjectID']))):\n",
    "    lctype.append((rrlyrae['LINEARobjectID'][i], rrlyrae['LCtype'][i]))\n",
    "\n",
    "be_lctype = []\n",
    "for i in list(lc_analysis['LINEAR id']):\n",
    "    for n in lctype:\n",
    "        if i==n[0]:\n",
    "            be_lctype.append(n)\n",
    "print(len(be_lctype))\n",
    "\n",
    "LCTYPE = [x[1] for x in be_lctype]\n",
    "\n",
    "lc_analysis['LCtype'] = LCTYPE\n",
    "lc_analysis.head()"
   ]
  },
  {
   "cell_type": "markdown",
   "metadata": {},
   "source": [
    "## Creating the master table"
   ]
  },
  {
   "cell_type": "code",
   "execution_count": 5,
   "metadata": {},
   "outputs": [
    {
     "data": {
      "text/html": [
       "<div>\n",
       "<style scoped>\n",
       "    .dataframe tbody tr th:only-of-type {\n",
       "        vertical-align: middle;\n",
       "    }\n",
       "\n",
       "    .dataframe tbody tr th {\n",
       "        vertical-align: top;\n",
       "    }\n",
       "\n",
       "    .dataframe thead th {\n",
       "        text-align: right;\n",
       "    }\n",
       "</style>\n",
       "<table border=\"1\" class=\"dataframe\">\n",
       "  <thead>\n",
       "    <tr style=\"text-align: right;\">\n",
       "      <th></th>\n",
       "      <th>LINEAR id</th>\n",
       "      <th>Plinear</th>\n",
       "      <th>Pztf</th>\n",
       "      <th>Pmean</th>\n",
       "      <th>Pratio</th>\n",
       "      <th>NdataLINEAR</th>\n",
       "      <th>L_chi2dof</th>\n",
       "      <th>L_chi2dofR</th>\n",
       "      <th>Lmean_chi2dof</th>\n",
       "      <th>Lmean_chi2dofR</th>\n",
       "      <th>...</th>\n",
       "      <th>MainPeakZ</th>\n",
       "      <th>BlazhkoPeakZ</th>\n",
       "      <th>BlazhkoPeriodZ</th>\n",
       "      <th>BpowerRatioZ</th>\n",
       "      <th>BsignificanceZ</th>\n",
       "      <th>Ampl_diff</th>\n",
       "      <th>dP</th>\n",
       "      <th>IndicatorType</th>\n",
       "      <th>ChiType</th>\n",
       "      <th>BE_score</th>\n",
       "    </tr>\n",
       "  </thead>\n",
       "  <tbody>\n",
       "    <tr>\n",
       "      <th>0</th>\n",
       "      <td>29848</td>\n",
       "      <td>0.557020</td>\n",
       "      <td>0.557040</td>\n",
       "      <td>0.557030</td>\n",
       "      <td>1.000036</td>\n",
       "      <td>301</td>\n",
       "      <td>3.0</td>\n",
       "      <td>1.4</td>\n",
       "      <td>3.3</td>\n",
       "      <td>1.6</td>\n",
       "      <td>...</td>\n",
       "      <td>1.7952</td>\n",
       "      <td>1.7982</td>\n",
       "      <td>333.3333</td>\n",
       "      <td>0.2573</td>\n",
       "      <td>10.0729</td>\n",
       "      <td>0.37</td>\n",
       "      <td>0.00004</td>\n",
       "      <td>NaN</td>\n",
       "      <td>NaN</td>\n",
       "      <td>NaN</td>\n",
       "    </tr>\n",
       "    <tr>\n",
       "      <th>1</th>\n",
       "      <td>50402</td>\n",
       "      <td>0.643303</td>\n",
       "      <td>0.643294</td>\n",
       "      <td>0.643298</td>\n",
       "      <td>0.999986</td>\n",
       "      <td>284</td>\n",
       "      <td>0.6</td>\n",
       "      <td>0.7</td>\n",
       "      <td>0.6</td>\n",
       "      <td>0.7</td>\n",
       "      <td>...</td>\n",
       "      <td>1.5545</td>\n",
       "      <td>1.5918</td>\n",
       "      <td>26.8420</td>\n",
       "      <td>0.0027</td>\n",
       "      <td>8.9208</td>\n",
       "      <td>0.21</td>\n",
       "      <td>0.00001</td>\n",
       "      <td>NaN</td>\n",
       "      <td>NaN</td>\n",
       "      <td>NaN</td>\n",
       "    </tr>\n",
       "    <tr>\n",
       "      <th>2</th>\n",
       "      <td>62892</td>\n",
       "      <td>0.530776</td>\n",
       "      <td>0.530785</td>\n",
       "      <td>0.530780</td>\n",
       "      <td>1.000017</td>\n",
       "      <td>276</td>\n",
       "      <td>1.1</td>\n",
       "      <td>0.9</td>\n",
       "      <td>1.1</td>\n",
       "      <td>1.0</td>\n",
       "      <td>...</td>\n",
       "      <td>1.8840</td>\n",
       "      <td>1.9433</td>\n",
       "      <td>16.8634</td>\n",
       "      <td>0.0048</td>\n",
       "      <td>13.1609</td>\n",
       "      <td>0.02</td>\n",
       "      <td>0.00002</td>\n",
       "      <td>NaN</td>\n",
       "      <td>NaN</td>\n",
       "      <td>NaN</td>\n",
       "    </tr>\n",
       "    <tr>\n",
       "      <th>3</th>\n",
       "      <td>91437</td>\n",
       "      <td>0.674733</td>\n",
       "      <td>0.674737</td>\n",
       "      <td>0.674735</td>\n",
       "      <td>1.000006</td>\n",
       "      <td>177</td>\n",
       "      <td>2.8</td>\n",
       "      <td>1.3</td>\n",
       "      <td>2.8</td>\n",
       "      <td>1.3</td>\n",
       "      <td>...</td>\n",
       "      <td>1.4821</td>\n",
       "      <td>1.4849</td>\n",
       "      <td>355.8719</td>\n",
       "      <td>0.0233</td>\n",
       "      <td>16.1566</td>\n",
       "      <td>0.34</td>\n",
       "      <td>0.00001</td>\n",
       "      <td>NaN</td>\n",
       "      <td>NaN</td>\n",
       "      <td>NaN</td>\n",
       "    </tr>\n",
       "    <tr>\n",
       "      <th>4</th>\n",
       "      <td>95250</td>\n",
       "      <td>0.313870</td>\n",
       "      <td>0.313876</td>\n",
       "      <td>0.313873</td>\n",
       "      <td>1.000019</td>\n",
       "      <td>222</td>\n",
       "      <td>0.8</td>\n",
       "      <td>0.8</td>\n",
       "      <td>0.9</td>\n",
       "      <td>0.8</td>\n",
       "      <td>...</td>\n",
       "      <td>3.1860</td>\n",
       "      <td>3.1889</td>\n",
       "      <td>342.4658</td>\n",
       "      <td>0.0028</td>\n",
       "      <td>13.4528</td>\n",
       "      <td>0.02</td>\n",
       "      <td>0.00002</td>\n",
       "      <td>NaN</td>\n",
       "      <td>NaN</td>\n",
       "      <td>NaN</td>\n",
       "    </tr>\n",
       "  </tbody>\n",
       "</table>\n",
       "<p>5 rows × 34 columns</p>\n",
       "</div>"
      ],
      "text/plain": [
       "   LINEAR id   Plinear      Pztf     Pmean    Pratio  NdataLINEAR  L_chi2dof  \\\n",
       "0      29848  0.557020  0.557040  0.557030  1.000036          301        3.0   \n",
       "1      50402  0.643303  0.643294  0.643298  0.999986          284        0.6   \n",
       "2      62892  0.530776  0.530785  0.530780  1.000017          276        1.1   \n",
       "3      91437  0.674733  0.674737  0.674735  1.000006          177        2.8   \n",
       "4      95250  0.313870  0.313876  0.313873  1.000019          222        0.8   \n",
       "\n",
       "   L_chi2dofR  Lmean_chi2dof  Lmean_chi2dofR  ...  MainPeakZ  BlazhkoPeakZ  \\\n",
       "0         1.4            3.3             1.6  ...     1.7952        1.7982   \n",
       "1         0.7            0.6             0.7  ...     1.5545        1.5918   \n",
       "2         0.9            1.1             1.0  ...     1.8840        1.9433   \n",
       "3         1.3            2.8             1.3  ...     1.4821        1.4849   \n",
       "4         0.8            0.9             0.8  ...     3.1860        3.1889   \n",
       "\n",
       "   BlazhkoPeriodZ  BpowerRatioZ  BsignificanceZ  Ampl_diff       dP  \\\n",
       "0        333.3333        0.2573         10.0729       0.37  0.00004   \n",
       "1         26.8420        0.0027          8.9208       0.21  0.00001   \n",
       "2         16.8634        0.0048         13.1609       0.02  0.00002   \n",
       "3        355.8719        0.0233         16.1566       0.34  0.00001   \n",
       "4        342.4658        0.0028         13.4528       0.02  0.00002   \n",
       "\n",
       "   IndicatorType  ChiType  BE_score  \n",
       "0            NaN      NaN       NaN  \n",
       "1            NaN      NaN       NaN  \n",
       "2            NaN      NaN       NaN  \n",
       "3            NaN      NaN       NaN  \n",
       "4            NaN      NaN       NaN  \n",
       "\n",
       "[5 rows x 34 columns]"
      ]
     },
     "execution_count": 5,
     "metadata": {},
     "output_type": "execute_result"
    }
   ],
   "source": [
    "lc_analysis.head()"
   ]
  },
  {
   "cell_type": "code",
   "execution_count": null,
   "metadata": {},
   "outputs": [],
   "source": [
    "lc_MASTER = pd.DataFrame(())\n",
    "lc_MASTER['LINEAR ID'] = lc_analysis['LINEAR id']\n",
    "lc_MASTER['Plinear'] = lc_analysis['Plinear']\n",
    "lc_MASTER['Pztf'] = lc_analysis['Pztf']\n",
    "lc_MASTER['N_L'] = lc_analysis['NdataLINEAR']\n",
    "lc_MASTER['N_Z'] = lc_analysis['NdataZTF']\n",
    "lc_MASTER['L_chi2r'] = lc_analysis['L_chi2dofR']\n",
    "lc_MASTER['Z_chi2r'] = lc_analysis['Zchi2dofR']\n",
    "lc_MASTER['L_chi2'] = lc_analysis['L_chi2dof']\n",
    "lc_MASTER['Z_chi2'] = lc_analysis['Zchi2dof']\n",
    "lc_MASTER['Lampl'] = lc_analysis['Lampl']\n",
    "lc_MASTER['Zampl'] = lc_analysis['Zampl']\n",
    "lc_MASTER['Ampl_diff'] = lc_analysis['Ampl_diff']\n",
    "lc_MASTER['BpeakL'] = lc_analysis['BlazhkoPeakL']\n",
    "lc_MASTER['BpeakZ'] = lc_analysis['BlazhkoPeakZ']\n",
    "lc_MASTER['BperiodL'] = lc_analysis['BlazhkoPeriodL']\n",
    "lc_MASTER['BperiodZ'] = lc_analysis['BlazhkoPeriodZ']\n",
    "lc_MASTER['LCtype'] = lc_analysis['LCtype']\n",
    "lc_MASTER['Periodogram_f'] = '-'\n",
    "lc_MASTER['B_score'] = 0  # Assuming a default value of 0 for B_score\n",
    "lc_MASTER['Blazhko_f'] = '-1'  # Default value"
   ]
  },
  {
   "cell_type": "code",
   "execution_count": null,
   "metadata": {},
   "outputs": [],
   "source": [
    "lcLids = list(lc_MASTER['LINEAR ID'])\n",
    "bcLids = list(blazhko_candidates['LINEAR id'])\n",
    "bLids = list(FINAL_BE_CATALOGUE['LINEAR id'])"
   ]
  },
  {
   "cell_type": "code",
   "execution_count": null,
   "metadata": {},
   "outputs": [],
   "source": [
    "for n, i in enumerate(lcLids):\n",
    "    for m, j in enumerate(bcLids):\n",
    "        if i == j:\n",
    "            if blazhko_candidates.loc[m, 'BE_score'] > 0:\n",
    "                lc_MASTER.loc[n, 'B_score'] = blazhko_candidates.loc[m, 'BE_score']\n",
    "            for nm, k in enumerate(bLids):\n",
    "                if i == k:\n",
    "                    if FINAL_BE_CATALOGUE.loc[nm, 'IndicatorType'] == 'Z' or FINAL_BE_CATALOGUE.loc[nm, 'IndicatorType'] == 'L' or FINAL_BE_CATALOGUE.loc[nm, 'IndicatorType'] == 'LZ':\n",
    "                        lc_MASTER.loc[n, 'Periodogram_f'] = FINAL_BE_CATALOGUE.loc[nm, 'IndicatorType']\n",
    "                        lc_MASTER.loc[n, 'Blazhko_f'] = '2'\n",
    "                    else:\n",
    "                        lc_MASTER.loc[n, 'Blazhko_f'] = '1'\n",
    "                    break  \n",
    "                else:\n",
    "                    lc_MASTER.loc[n, 'Blazhko_f'] = '0'\n",
    "            break "
   ]
  },
  {
   "cell_type": "code",
   "execution_count": null,
   "metadata": {},
   "outputs": [],
   "source": [
    "lc_MASTER.head()"
   ]
  },
  {
   "cell_type": "code",
   "execution_count": null,
   "metadata": {},
   "outputs": [],
   "source": [
    "lc_MASTER.to_csv(\"../outputs/lc_MASTER.csv\", index=False)"
   ]
  },
  {
   "cell_type": "code",
   "execution_count": null,
   "metadata": {},
   "outputs": [],
   "source": [
    "with open('../PAPER/lc_master.tex', \"w\") as f:\n",
    "    f.write(lc_MASTER.to_latex(index=False))"
   ]
  },
  {
   "cell_type": "markdown",
   "metadata": {},
   "source": [
    "---"
   ]
  },
  {
   "cell_type": "markdown",
   "metadata": {},
   "source": [
    "### Selecting the Blazhko stars from the main catalogue"
   ]
  },
  {
   "cell_type": "code",
   "execution_count": null,
   "metadata": {},
   "outputs": [],
   "source": [
    "b_MAIN = pd.DataFrame(columns=lc_MASTER.columns)\n",
    "lids = list(lc_MASTER['LINEAR ID'])\n",
    "\n",
    "for n, i in enumerate(lids):\n",
    "    if lc_MASTER.loc[n, 'Blazhko_f'] in [0, 1, 2]:  # Check for valid Blazhko_f values\n",
    "        row = lc_MASTER.iloc[[n]]  # Extract the row as a DataFrame\n",
    "        b_MAIN = pd.concat([b_MAIN, row], ignore_index=True)\n",
    "\n",
    "print(b_MAIN.shape)\n",
    "b_MAIN.head()"
   ]
  },
  {
   "cell_type": "markdown",
   "metadata": {},
   "source": [
    "---"
   ]
  },
  {
   "cell_type": "markdown",
   "metadata": {},
   "source": [
    "# Plots"
   ]
  },
  {
   "cell_type": "code",
   "execution_count": null,
   "metadata": {},
   "outputs": [],
   "source": [
    "fig = plt.figure(figsize=(10,10))\n",
    "ax = plt.axes(xscale='linear', yscale='linear') \n",
    "ax.xaxis.set_tick_params(labelsize=18) \n",
    "ax.yaxis.set_tick_params(labelsize=18) \n",
    "plt.rc('font', size=24) \n",
    "\n",
    "\n",
    "sns.scatterplot(data=lc_MASTER, x='L_chi2r', y='Z_chi2r', marker='x', color=b1)\n",
    "sns.scatterplot(data=FINAL_BE_CATALOGUE, x='L_chi2dofR', y='Zchi2dofR', marker='o', color=or3)\n",
    "plt.xlim([0, 20])\n",
    "plt.ylim([0, 20])\n",
    "plt.xlabel(r'LINEAR $\\chi^2_{dof}$', fontproperties=font, fontsize=22)\n",
    "plt.ylabel(r'ZTF $\\chi^2_{dof}$', fontproperties=font,fontsize=22)\n",
    "plt.plot([1.8, 1.8], [0, 20], ls='--', c='black')\n",
    "plt.plot([3.0, 3.0], [0, 20], ls='--', c='black')\n",
    "plt.plot([0, 20.0], [2, 2], ls='--', c='black')\n",
    "plt.plot([0, 20.0], [4, 4], ls='--', c='black')\n",
    "\n",
    "\n",
    "#plt.savefig('../img_rsc/chi_scatter_zi.png', dpi=150)\n",
    "plt.show()"
   ]
  },
  {
   "cell_type": "markdown",
   "metadata": {},
   "source": [
    "- number of blazhko stars\n",
    "- algorithm success\n",
    "- incidence rate"
   ]
  },
  {
   "cell_type": "code",
   "execution_count": null,
   "metadata": {},
   "outputs": [],
   "source": []
  }
 ],
 "metadata": {
  "kernelspec": {
   "display_name": "rr_lyrae",
   "language": "python",
   "name": "python3"
  },
  "language_info": {
   "codemirror_mode": {
    "name": "ipython",
    "version": 3
   },
   "file_extension": ".py",
   "mimetype": "text/x-python",
   "name": "python",
   "nbconvert_exporter": "python",
   "pygments_lexer": "ipython3",
   "version": "3.11.4"
  }
 },
 "nbformat": 4,
 "nbformat_minor": 2
}
