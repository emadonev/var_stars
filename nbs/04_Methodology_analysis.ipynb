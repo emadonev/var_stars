{
 "cells": [
  {
   "cell_type": "code",
   "execution_count": 2,
   "metadata": {},
   "outputs": [],
   "source": [
    "%load_ext autoreload\n",
    "%autoreload 2"
   ]
  },
  {
   "cell_type": "code",
   "execution_count": 3,
   "metadata": {},
   "outputs": [],
   "source": [
    "#| code-fold: false\n",
    "# IMPORTING LIBRARIES\n",
    "# --------------------\n",
    "\n",
    "# AstroML\n",
    "from astroML.datasets import fetch_LINEAR_sample\n",
    "from astropy.timeseries import LombScargle\n",
    "from astroML.datasets import fetch_LINEAR_sample\n",
    "from astroML.datasets import fetch_LINEAR_geneva\n",
    "from astropy.timeseries import TimeSeries\n",
    "from astropy.table import Table\n",
    "from astroML.time_series import MultiTermFit\n",
    "\n",
    "# ZTF\n",
    "from ztfquery import lightcurve\n",
    "\n",
    "# Basic libraries\n",
    "import pickle\n",
    "import os\n",
    "import sys\n",
    "from tqdm import tqdm\n",
    "\n",
    "# Plotting\n",
    "import seaborn as sns\n",
    "from matplotlib import pyplot as plt\n",
    "from matplotlib import ticker\n",
    "import matplotlib.colors as mcolors\n",
    "from matplotlib.font_manager import FontProperties\n",
    "\n",
    "# DataFrame analysis\n",
    "import pandas as pd\n",
    "\n",
    "# Math libraries\n",
    "import numpy as np\n",
    "import scipy as sc\n",
    "from scipy.stats import norm\n",
    "\n",
    "# CONFIGURATION\n",
    "# -------------\n",
    "sns.set_theme() # setting the theme for plotting\n",
    "sys.path.insert(0,'../src/')\n",
    "np.random.seed(42)\n",
    "\n",
    "# configuring plotting colors\n",
    "colors = ['#5F6372', '#79A8A4', '#B2AD8F', '#92A186', '#AD8082']\n",
    "blue = '#5F6372'\n",
    "turqoise = '#79A8A4'\n",
    "light_green = '#B2AD8F'\n",
    "green = '#92A186'\n",
    "pink = '#AD8082'\n",
    "cmap = mcolors.ListedColormap(colors)\n",
    "\n",
    "# configuring fonts for plotting\n",
    "font = FontProperties()\n",
    "font.set_family('avenir')\n",
    "font.set_name('Big Caslon')\n",
    "font.set_style('normal')\n",
    "font.set_size('xx-large')\n",
    "\n",
    "\n",
    "%matplotlib inline  "
   ]
  },
  {
   "cell_type": "code",
   "execution_count": 4,
   "metadata": {},
   "outputs": [],
   "source": [
    "#| code-fold: false\n",
    "# Importing custom libraries\n",
    "# ----------------------------\n",
    "from data_access import*\n",
    "from helper import*\n",
    "from RR_lyrae_params import*"
   ]
  },
  {
   "cell_type": "code",
   "execution_count": 5,
   "metadata": {},
   "outputs": [],
   "source": [
    "#| code-fold: false\n",
    "# LINEAR DATA\n",
    "# ------------\n",
    "dataL = fetch_LINEAR_sample(data_home='../inputs')"
   ]
  },
  {
   "cell_type": "code",
   "execution_count": 6,
   "metadata": {},
   "outputs": [],
   "source": [
    "end = 'ffinal'\n",
    "ZTF_data_lca= np.load(\"../outputs/ZTF_dataset_\"+end+\".npy\", allow_pickle=True)"
   ]
  },
  {
   "cell_type": "markdown",
   "metadata": {},
   "source": [
    "---"
   ]
  },
  {
   "cell_type": "markdown",
   "metadata": {},
   "source": [
    "# Period calculation"
   ]
  },
  {
   "cell_type": "markdown",
   "metadata": {},
   "source": []
  },
  {
   "cell_type": "markdown",
   "metadata": {},
   "source": [
    "---"
   ]
  },
  {
   "cell_type": "markdown",
   "metadata": {},
   "source": [
    "# Chi square"
   ]
  },
  {
   "cell_type": "markdown",
   "metadata": {},
   "source": [
    "---"
   ]
  },
  {
   "cell_type": "markdown",
   "metadata": {},
   "source": [
    "# Periodogram analysis"
   ]
  },
  {
   "cell_type": "markdown",
   "metadata": {},
   "source": [
    "# Full run"
   ]
  },
  {
   "cell_type": "code",
   "execution_count": 7,
   "metadata": {},
   "outputs": [],
   "source": [
    "Lrrlyr = pd.read_csv('../outputs/Lrrlyr_unprocessed.csv')\n",
    "end = 'ffinal'\n",
    "dataZTF = np.load(\"../outputs/ZTF_dataset_\"+end+\".npy\", allow_pickle=True)"
   ]
  },
  {
   "cell_type": "code",
   "execution_count": 8,
   "metadata": {},
   "outputs": [],
   "source": [
    "Lids = Lrrlyr['LINEARobjectID'].to_numpy()\n",
    "rectascension = Lrrlyr['ra'].to_numpy() # list of rectascension coordinates\n",
    "declination = Lrrlyr['dec'].to_numpy() # list of declination coordinates"
   ]
  },
  {
   "cell_type": "code",
   "execution_count": 9,
   "metadata": {},
   "outputs": [],
   "source": [
    "test = 1 #len(Lids)\n",
    "ZTF_data_best = []\n",
    "periodograms = []\n",
    "lc_analysis = {}\n",
    "fits = []"
   ]
  },
  {
   "cell_type": "code",
   "execution_count": 13,
   "metadata": {},
   "outputs": [
    {
     "name": "stderr",
     "output_type": "stream",
     "text": [
      "  0%|          | 0/1 [00:00<?, ?it/s]"
     ]
    },
    {
     "name": "stdout",
     "output_type": "stream",
     "text": [
      "(82, 5)\n",
      "------------------------------------------------------------\n",
      "Period and light curve analysis for LINEAR ID = 29848\n",
      "computing LINEAR period...\n",
      "Engaging in period calculation\n",
      "Autopower mode\n"
     ]
    },
    {
     "name": "stderr",
     "output_type": "stream",
     "text": [
      "100%|██████████| 1/1 [00:57<00:00, 57.05s/it]"
     ]
    },
    {
     "name": "stdout",
     "output_type": "stream",
     "text": [
      "There is no data!\n",
      "LINEAR period =  0.0\n"
     ]
    },
    {
     "name": "stderr",
     "output_type": "stream",
     "text": [
      "\n"
     ]
    }
   ],
   "source": [
    "for i in tqdm(range(test)):\n",
    "        Lid = Lids[i]\n",
    "        for j in dataZTF:\n",
    "           if j[0]==Lid:\n",
    "               dataZ = j[1]\n",
    "               if dataZ.shape[0] == 0:\n",
    "                    continue\n",
    "        \n",
    "        print(dataZ.shape)\n",
    "               \n",
    "        # PERIOD ANALYSIS\n",
    "        Plinear, fL, pL, tL, mL, meL = LINEARLS(dataL, Lid, 3, verbose=True)\n",
    "        #Pztf, Zbestf, Zbestp, fZ, pZ, tZ, mZ, meZ = ZTFs(dataZ, Lid, 3)\n",
    "        \n",
    "        #Plinear = round(Plinear, 6)\n",
    "        #Pztf = round(Pztf, 6)\n",
    "        #Pmean = round((Plinear+Pztf)/2, 6)\n",
    "        #Pratio = round((Pztf/Plinear), 6)\n",
    "\n",
    "        #fFoldedL, pFoldedL, fMainPeakL, fBlazhkoPeakL, BlazhkoPeriodL, BpowerRatioL, BsignificanceL = getBlazhkoPeak(fL, pL)\n",
    "        #fFoldedZ, pFoldedZ, fMainPeakZ, fBlazhkoPeakZ, BlazhkoPeriodZ, BpowerRatioZ, BsignificanceZ = getBlazhkoPeak(fZ, pZ)\n",
    "\n",
    "        #periodograms.append((Lid, (fL, pL, fFoldedL, pFoldedL), (fZ, pZ, fFoldedZ, pFoldedZ)))\n",
    "\n",
    "        ntermsModels = 6\n",
    "\n",
    "        #LINEAR_Plinear = LCanalysisFromP(tL, mL, meL, Plinear, ntermsModels)\n",
    "        #LINEAR_Pmean = LCanalysisFromP(tL, mL, meL, Pmean, ntermsModels)\n",
    "\n",
    "\n",
    "        #ZTF_Pztf = LCanalysisFromP(tZ, mZ, meZ, Pztf, ntermsModels)\n",
    "        #ZTF_Pmean = LCanalysisFromP(tZ, mZ, meZ, Pmean, ntermsModels)\n",
    "\n",
    "        #STAR = [Plinear, Pztf, Pmean, Pratio, np.size(tL), round(LINEAR_Plinear['chi2dof'], 1), round(LINEAR_Plinear['chi2dofR'], 1),\n",
    "            #round(LINEAR_Pmean['chi2dof'],1), round(LINEAR_Pmean['chi2dofR'],1), round(LINEAR_Plinear['mmax'],2), round(LINEAR_Plinear['A'],2),\n",
    "            #np.size(tZ), round(ZTF_Pztf['chi2dof'],1), round(ZTF_Pztf['chi2dofR'],1), round(ZTF_Pmean['chi2dof'],1), round(ZTF_Pmean['chi2dofR'],1), round(ZTF_Pztf['mmax'],2), round(ZTF_Pztf['A'],2),\n",
    "            #fMainPeakL, fBlazhkoPeakL, BlazhkoPeriodL, BpowerRatioL, BsignificanceL, fMainPeakZ, \n",
    "            #fBlazhkoPeakZ, BlazhkoPeriodZ, BpowerRatioZ, BsignificanceZ]\n",
    "            \n",
    "        #lc_analysis[Lid] = STAR\n",
    "        #fits.append((Lid, (LINEAR_Plinear, LINEAR_Pmean, ZTF_Pztf, ZTF_Pmean)))\n",
    "\n",
    "        '''\n",
    "\n",
    "        if i%10==0:\n",
    "            # save dictionary to pkl file\n",
    "            with open('../outputs/lc_analysis_'+end+'.pkl', 'wb') as fp:\n",
    "                pickle.dump(lc_analysis, fp)\n",
    "            with open(\"../outputs/periodograms_\"+end+\".pkl\", \"wb\") as x:\n",
    "                pickle.dump(periodograms, x)\n",
    "            FITS = np.array(fits, dtype=object)\n",
    "            np.save(\"../outputs/fits_\"+end+\".npy\", FITS, allow_pickle=True)\n",
    "            ZTF_data_lca = np.array(ZTF_data_best, dtype=object)\n",
    "            np.save(\"../outputs/ztf_data_filter\"+end+\".npy\", ZTF_data_lca, allow_pickle=True)\n",
    "            '''"
   ]
  },
  {
   "cell_type": "code",
   "execution_count": null,
   "metadata": {},
   "outputs": [],
   "source": []
  }
 ],
 "metadata": {
  "kernelspec": {
   "display_name": "rr_lyrae",
   "language": "python",
   "name": "python3"
  },
  "language_info": {
   "codemirror_mode": {
    "name": "ipython",
    "version": 3
   },
   "file_extension": ".py",
   "mimetype": "text/x-python",
   "name": "python",
   "nbconvert_exporter": "python",
   "pygments_lexer": "ipython3",
   "version": "3.11.4"
  }
 },
 "nbformat": 4,
 "nbformat_minor": 2
}
