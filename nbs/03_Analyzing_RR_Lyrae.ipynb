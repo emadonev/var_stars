{
 "cells": [
  {
   "cell_type": "code",
   "execution_count": 1,
   "metadata": {},
   "outputs": [],
   "source": [
    "%load_ext autoreload\n",
    "%autoreload 2"
   ]
  },
  {
   "cell_type": "markdown",
   "metadata": {},
   "source": [
    "# Analysis of RR Lyrae"
   ]
  },
  {
   "cell_type": "markdown",
   "metadata": {},
   "source": [
    "*Authors: Ema Donev and dr. Ivezić*\n",
    "\n",
    "In this notebook we tackle the portion of our stars which are RR Lyraes. We use a fine-grid Lomb Scargle periodogram to calculate the periods of `LINEAR` and `ZTF` light curves, after querying for `ZTF` data, to ensure that the `LINEAR` and its `ZTF` counterpart are fully and correctly matched. We use the periodogram given by the Lomb-Scargle method and use it to indicate the star as a possible Blazhko star. Then we proceed to fitting the light curves and calculating rms and chi-2 metrics. We save all of this data and use it for later analysis."
   ]
  },
  {
   "cell_type": "code",
   "execution_count": 2,
   "metadata": {},
   "outputs": [],
   "source": [
    "# IMPORTING LIBRARIES\n",
    "# --------------------\n",
    "\n",
    "# AstroML & Astropy\n",
    "from astroML.datasets import fetch_LINEAR_sample\n",
    "from astropy.timeseries import LombScargle\n",
    "from astroML.datasets import fetch_LINEAR_sample\n",
    "from astroML.datasets import fetch_LINEAR_geneva\n",
    "from astropy.timeseries import TimeSeries\n",
    "from astropy.table import Table\n",
    "from astroML.time_series import MultiTermFit\n",
    "\n",
    "# ZTF\n",
    "from ztfquery import lightcurve\n",
    "\n",
    "# Basic libraries\n",
    "import random\n",
    "import pickle\n",
    "import os\n",
    "import sys\n",
    "from tqdm import tqdm\n",
    "\n",
    "# Plotting\n",
    "import seaborn as sns\n",
    "from matplotlib import pyplot as plt\n",
    "from matplotlib import ticker\n",
    "import matplotlib.colors as mcolors\n",
    "from matplotlib.font_manager import FontProperties\n",
    "\n",
    "# DataFrame analysis\n",
    "import pandas as pd\n",
    "import dask.dataframe as dd \n",
    "\n",
    "# Math libraries\n",
    "import numpy as np\n",
    "import scipy as sc\n",
    "from scipy.stats import norm\n",
    "from scipy.signal import find_peaks\n",
    "from array import array"
   ]
  },
  {
   "cell_type": "code",
   "execution_count": 3,
   "metadata": {},
   "outputs": [],
   "source": [
    "# CONFIG\n",
    "sns.set_theme() # setting the theme for plotting\n",
    "np.random.seed(42)\n",
    "\n",
    "colors = ['#1A090D', '#D8C99B', '#D8973C', '#BD632F', '#273E47']\n",
    "cmap = mcolors.ListedColormap(colors)\n",
    "\n",
    "font = FontProperties()\n",
    "font.set_family('avenir')\n",
    "font.set_name('Avenir')\n",
    "font.set_style('normal')\n",
    "font.set_size('xx-large')\n",
    "\n",
    "%matplotlib inline  "
   ]
  },
  {
   "cell_type": "code",
   "execution_count": 4,
   "metadata": {},
   "outputs": [
    {
     "name": "stdout",
     "output_type": "stream",
     "text": [
      "Loading the data!\n"
     ]
    }
   ],
   "source": [
    "# Importing custom libraries\n",
    "# ----------------------------\n",
    "sys.path.insert(0,'../src/')\n",
    "from config import*\n",
    "from descriptive_stats import *\n",
    "from plots import *\n",
    "\n",
    "from selection import *\n",
    "from lc_analysis import *"
   ]
  },
  {
   "cell_type": "code",
   "execution_count": 5,
   "metadata": {},
   "outputs": [],
   "source": [
    "# DATA\n",
    "data = fetch_LINEAR_sample(data_home='../inputs') # fetching the data from astroML data library"
   ]
  },
  {
   "cell_type": "markdown",
   "metadata": {},
   "source": [
    "# Methods"
   ]
  },
  {
   "cell_type": "markdown",
   "metadata": {},
   "source": [
    "The Lomb-Scargle method of computing the period of a variable star using light curves involves fitting multi-level sinusoidal waves to our light curve data over various trial periods, and the period with the most prominent strength or the best fit is the actual period."
   ]
  },
  {
   "cell_type": "markdown",
   "metadata": {},
   "source": [
    "This is the formula for the Lomb-Scargle periodogram:\n",
    "\n",
    "$$P(ω)= \\frac{1}{2σ^2}​*(\\frac{[∑y_k cosω(t_k−τ)]^2}{∑cos^2 ω(t_k−τ)} + \\frac{[∑y_k sin ω(t_k−τ)]^2}{∑ sin^2 ω(t_k−τ)})$$"
   ]
  },
  {
   "cell_type": "markdown",
   "metadata": {},
   "source": [
    "- $ω$ is the frequency we test to see if it matches our light curve.\n",
    "- $σ^2$ is the variance of the data. We are dividing by it to normalize the data across all distributions.\n",
    "- $∑y_k cosω(t_k−τ)$ and $∑y_k sin ω(t_k−τ)$: checking how well the fitted cosine and sine waves align with the data. $t_k$ is the particular time point, and $τ$ is the time delay, for efficiency.\n",
    "- $∑cos^2 ω(t_k−τ)$ and $∑ sin^2 ω(t_k−τ)$: normalization of the fitting in order to eliminate bias towards powerful or weak wave components. "
   ]
  },
  {
   "cell_type": "markdown",
   "metadata": {},
   "source": [
    "We use the Lomb-Scargle periodogram because it is the most famous tool for determining the periodic variable stars' period. It combines multiple methods of analysis, with its core being in Fourier analysis, and it operates with non-uniformly spaced data, such is the nature of light curves."
   ]
  },
  {
   "cell_type": "markdown",
   "metadata": {},
   "source": [
    "### Light curve folding (phasing)"
   ]
  },
  {
   "cell_type": "markdown",
   "metadata": {},
   "source": [
    "**Light curve phasing or folding** is when we condense the entire timeseries of the light curve into one *phase*, or one cycle of variability. Phase is defined with the period of the light curve, as such: $$phase = \\frac{time}{period} - int(\\frac{time}{period})$$ This function defines the period as a value from 0 to 1 defining how far in is the star in its variability cycle. We can then adjust the `time` array using this function."
   ]
  },
  {
   "cell_type": "markdown",
   "metadata": {},
   "source": [
    "### Fitting light curves\n",
    "**Light curve fitting** requires a sophisticated function which uses Fourier analysis to correctly fit a curve through light curve `time`, `mag` and `magerr` data. We can define how many terms we want our fit to have. *The more terms we use, the more complicated shapes we can graph*. The fitting is an essential part of light curve analysis, as we can then calculate the goodness of fit and monitor how that fit changes over long periods of time, like in the case of `LINEAR` and `ZTF`."
   ]
  },
  {
   "cell_type": "markdown",
   "metadata": {},
   "source": [
    "### `Chi-2 test` and `RMS scatter`"
   ]
  },
  {
   "cell_type": "markdown",
   "metadata": {},
   "source": [
    "#### `RMS scatter`\n",
    "RMS scatter is a statistical metric that, in this case, measures the goodness of fit versus the actuall data. It is calculated as such: $$RMS = \\sqrt{\\frac{1}{n}\\sum^n_{i=1} x_i^2}$$"
   ]
  },
  {
   "cell_type": "markdown",
   "metadata": {},
   "source": [
    "#### `Chi-2 test`\n",
    "This test asseses the \"goodness of fit\" of light curves, by comparing the fitted values and the actual magnitude values of the light curve. The lower the chi-2 value, the better the correlation between the observed and expected values (based on some model), and the higher the chi-2 value, the poorer the correlation. At which point the value is too high or too low is determined by the statistician, based on the degrees of freedom and the nature of the data. The chi-2 value for every point of a light curve is calculated as such: $$\\chi^2 = \\sum{\\frac{(O_i - E_i)^2}{E_i}}$$"
   ]
  },
  {
   "cell_type": "markdown",
   "metadata": {},
   "source": [
    "# Selecting RR Lyrae stars"
   ]
  },
  {
   "cell_type": "markdown",
   "metadata": {},
   "source": [
    "In order to select the RR Lyrae stars, we need information about their classification type and which stars have enough datapoints for correct period calculation. We access data with the `fetch_LINEAR_geneva()` which contains additional information about the light curves in the **Geneva catalog** of the `LINEAR` variable stars."
   ]
  },
  {
   "cell_type": "code",
   "execution_count": 6,
   "metadata": {},
   "outputs": [],
   "source": [
    "L = select_LINEAR('LINEAR_Periods_nterm3')"
   ]
  },
  {
   "cell_type": "code",
   "execution_count": 7,
   "metadata": {},
   "outputs": [
    {
     "data": {
      "text/html": [
       "<div>\n",
       "<style scoped>\n",
       "    .dataframe tbody tr th:only-of-type {\n",
       "        vertical-align: middle;\n",
       "    }\n",
       "\n",
       "    .dataframe tbody tr th {\n",
       "        vertical-align: top;\n",
       "    }\n",
       "\n",
       "    .dataframe thead th {\n",
       "        text-align: right;\n",
       "    }\n",
       "</style>\n",
       "<table border=\"1\" class=\"dataframe\">\n",
       "  <thead>\n",
       "    <tr style=\"text-align: right;\">\n",
       "      <th></th>\n",
       "      <th>ID</th>\n",
       "      <th>Porig</th>\n",
       "      <th>Pnew</th>\n",
       "      <th>ra</th>\n",
       "      <th>dec</th>\n",
       "      <th>ug</th>\n",
       "      <th>gi</th>\n",
       "      <th>iK</th>\n",
       "      <th>JK</th>\n",
       "      <th>logP</th>\n",
       "      <th>Ampl</th>\n",
       "      <th>skew</th>\n",
       "      <th>kurt</th>\n",
       "      <th>magMed</th>\n",
       "      <th>nObs</th>\n",
       "      <th>LCtype</th>\n",
       "    </tr>\n",
       "  </thead>\n",
       "  <tbody>\n",
       "    <tr>\n",
       "      <th>0</th>\n",
       "      <td>29848</td>\n",
       "      <td>0.557009</td>\n",
       "      <td>0.557019</td>\n",
       "      <td>119.526443</td>\n",
       "      <td>46.962120</td>\n",
       "      <td>1.17</td>\n",
       "      <td>0.37</td>\n",
       "      <td>1.02</td>\n",
       "      <td>0.27</td>\n",
       "      <td>-0.254138</td>\n",
       "      <td>0.62</td>\n",
       "      <td>-0.31</td>\n",
       "      <td>-0.57</td>\n",
       "      <td>16.37</td>\n",
       "      <td>301</td>\n",
       "      <td>1</td>\n",
       "    </tr>\n",
       "    <tr>\n",
       "      <th>1</th>\n",
       "      <td>32086</td>\n",
       "      <td>0.569258</td>\n",
       "      <td>0.569266</td>\n",
       "      <td>119.324013</td>\n",
       "      <td>47.095505</td>\n",
       "      <td>1.36</td>\n",
       "      <td>0.52</td>\n",
       "      <td>1.17</td>\n",
       "      <td>0.31</td>\n",
       "      <td>-0.244691</td>\n",
       "      <td>0.71</td>\n",
       "      <td>-0.49</td>\n",
       "      <td>-1.00</td>\n",
       "      <td>15.02</td>\n",
       "      <td>289</td>\n",
       "      <td>1</td>\n",
       "    </tr>\n",
       "    <tr>\n",
       "      <th>2</th>\n",
       "      <td>50402</td>\n",
       "      <td>0.643293</td>\n",
       "      <td>0.643286</td>\n",
       "      <td>119.712975</td>\n",
       "      <td>52.149574</td>\n",
       "      <td>1.18</td>\n",
       "      <td>0.39</td>\n",
       "      <td>1.10</td>\n",
       "      <td>0.20</td>\n",
       "      <td>-0.191591</td>\n",
       "      <td>0.49</td>\n",
       "      <td>-0.29</td>\n",
       "      <td>-0.88</td>\n",
       "      <td>16.46</td>\n",
       "      <td>284</td>\n",
       "      <td>1</td>\n",
       "    </tr>\n",
       "    <tr>\n",
       "      <th>3</th>\n",
       "      <td>61011</td>\n",
       "      <td>0.662369</td>\n",
       "      <td>0.662376</td>\n",
       "      <td>118.491257</td>\n",
       "      <td>53.168125</td>\n",
       "      <td>0.81</td>\n",
       "      <td>0.55</td>\n",
       "      <td>1.62</td>\n",
       "      <td>0.20</td>\n",
       "      <td>-0.178900</td>\n",
       "      <td>0.69</td>\n",
       "      <td>-0.03</td>\n",
       "      <td>-1.06</td>\n",
       "      <td>14.08</td>\n",
       "      <td>274</td>\n",
       "      <td>1</td>\n",
       "    </tr>\n",
       "    <tr>\n",
       "      <th>4</th>\n",
       "      <td>62892</td>\n",
       "      <td>0.530772</td>\n",
       "      <td>0.530764</td>\n",
       "      <td>119.187241</td>\n",
       "      <td>53.379295</td>\n",
       "      <td>1.12</td>\n",
       "      <td>0.21</td>\n",
       "      <td>1.07</td>\n",
       "      <td>0.21</td>\n",
       "      <td>-0.275092</td>\n",
       "      <td>0.62</td>\n",
       "      <td>-0.55</td>\n",
       "      <td>-0.32</td>\n",
       "      <td>16.54</td>\n",
       "      <td>276</td>\n",
       "      <td>1</td>\n",
       "    </tr>\n",
       "  </tbody>\n",
       "</table>\n",
       "</div>"
      ],
      "text/plain": [
       "      ID     Porig      Pnew          ra        dec    ug    gi    iK    JK  \\\n",
       "0  29848  0.557009  0.557019  119.526443  46.962120  1.17  0.37  1.02  0.27   \n",
       "1  32086  0.569258  0.569266  119.324013  47.095505  1.36  0.52  1.17  0.31   \n",
       "2  50402  0.643293  0.643286  119.712975  52.149574  1.18  0.39  1.10  0.20   \n",
       "3  61011  0.662369  0.662376  118.491257  53.168125  0.81  0.55  1.62  0.20   \n",
       "4  62892  0.530772  0.530764  119.187241  53.379295  1.12  0.21  1.07  0.21   \n",
       "\n",
       "       logP  Ampl  skew  kurt  magMed  nObs  LCtype  \n",
       "0 -0.254138  0.62 -0.31 -0.57   16.37   301       1  \n",
       "1 -0.244691  0.71 -0.49 -1.00   15.02   289       1  \n",
       "2 -0.191591  0.49 -0.29 -0.88   16.46   284       1  \n",
       "3 -0.178900  0.69 -0.03 -1.06   14.08   274       1  \n",
       "4 -0.275092  0.62 -0.55 -0.32   16.54   276       1  "
      ]
     },
     "execution_count": 7,
     "metadata": {},
     "output_type": "execute_result"
    }
   ],
   "source": [
    "L.head()"
   ]
  },
  {
   "cell_type": "markdown",
   "metadata": {},
   "source": [
    "We have now selected all of the \"good\" `LINEAR` IDs, now we need to select the RR Lyrae stars."
   ]
  },
  {
   "cell_type": "markdown",
   "metadata": {},
   "source": [
    "We first select \"1 dip stars\" using the coefficient between the original (correct) and our calculated period. Since 1 dip stars are easy to calculate periods for, they should match very well (from a range from 0.99 to 1.01). However, Eclipsing Binaries do not match up well, and often times have a ratio where our calculated period is 2 times bigger than the correct one. This is the easiest way to differentiate the two."
   ]
  },
  {
   "cell_type": "code",
   "execution_count": 8,
   "metadata": {},
   "outputs": [
    {
     "data": {
      "text/html": [
       "<div>\n",
       "<style scoped>\n",
       "    .dataframe tbody tr th:only-of-type {\n",
       "        vertical-align: middle;\n",
       "    }\n",
       "\n",
       "    .dataframe tbody tr th {\n",
       "        vertical-align: top;\n",
       "    }\n",
       "\n",
       "    .dataframe thead th {\n",
       "        text-align: right;\n",
       "    }\n",
       "</style>\n",
       "<table border=\"1\" class=\"dataframe\">\n",
       "  <thead>\n",
       "    <tr style=\"text-align: right;\">\n",
       "      <th></th>\n",
       "      <th>ID</th>\n",
       "      <th>Porig</th>\n",
       "      <th>Pnew</th>\n",
       "      <th>ra</th>\n",
       "      <th>dec</th>\n",
       "      <th>ug</th>\n",
       "      <th>gi</th>\n",
       "      <th>iK</th>\n",
       "      <th>JK</th>\n",
       "      <th>logP</th>\n",
       "      <th>Ampl</th>\n",
       "      <th>skew</th>\n",
       "      <th>kurt</th>\n",
       "      <th>magMed</th>\n",
       "      <th>nObs</th>\n",
       "      <th>LCtype</th>\n",
       "    </tr>\n",
       "  </thead>\n",
       "  <tbody>\n",
       "    <tr>\n",
       "      <th>0</th>\n",
       "      <td>29848</td>\n",
       "      <td>0.557009</td>\n",
       "      <td>0.557019</td>\n",
       "      <td>119.526443</td>\n",
       "      <td>46.962120</td>\n",
       "      <td>1.17</td>\n",
       "      <td>0.37</td>\n",
       "      <td>1.02</td>\n",
       "      <td>0.27</td>\n",
       "      <td>-0.254138</td>\n",
       "      <td>0.62</td>\n",
       "      <td>-0.31</td>\n",
       "      <td>-0.57</td>\n",
       "      <td>16.37</td>\n",
       "      <td>301</td>\n",
       "      <td>1</td>\n",
       "    </tr>\n",
       "    <tr>\n",
       "      <th>1</th>\n",
       "      <td>32086</td>\n",
       "      <td>0.569258</td>\n",
       "      <td>0.569266</td>\n",
       "      <td>119.324013</td>\n",
       "      <td>47.095505</td>\n",
       "      <td>1.36</td>\n",
       "      <td>0.52</td>\n",
       "      <td>1.17</td>\n",
       "      <td>0.31</td>\n",
       "      <td>-0.244691</td>\n",
       "      <td>0.71</td>\n",
       "      <td>-0.49</td>\n",
       "      <td>-1.00</td>\n",
       "      <td>15.02</td>\n",
       "      <td>289</td>\n",
       "      <td>1</td>\n",
       "    </tr>\n",
       "    <tr>\n",
       "      <th>2</th>\n",
       "      <td>50402</td>\n",
       "      <td>0.643293</td>\n",
       "      <td>0.643286</td>\n",
       "      <td>119.712975</td>\n",
       "      <td>52.149574</td>\n",
       "      <td>1.18</td>\n",
       "      <td>0.39</td>\n",
       "      <td>1.10</td>\n",
       "      <td>0.20</td>\n",
       "      <td>-0.191591</td>\n",
       "      <td>0.49</td>\n",
       "      <td>-0.29</td>\n",
       "      <td>-0.88</td>\n",
       "      <td>16.46</td>\n",
       "      <td>284</td>\n",
       "      <td>1</td>\n",
       "    </tr>\n",
       "    <tr>\n",
       "      <th>3</th>\n",
       "      <td>61011</td>\n",
       "      <td>0.662369</td>\n",
       "      <td>0.662376</td>\n",
       "      <td>118.491257</td>\n",
       "      <td>53.168125</td>\n",
       "      <td>0.81</td>\n",
       "      <td>0.55</td>\n",
       "      <td>1.62</td>\n",
       "      <td>0.20</td>\n",
       "      <td>-0.178900</td>\n",
       "      <td>0.69</td>\n",
       "      <td>-0.03</td>\n",
       "      <td>-1.06</td>\n",
       "      <td>14.08</td>\n",
       "      <td>274</td>\n",
       "      <td>1</td>\n",
       "    </tr>\n",
       "    <tr>\n",
       "      <th>4</th>\n",
       "      <td>62892</td>\n",
       "      <td>0.530772</td>\n",
       "      <td>0.530764</td>\n",
       "      <td>119.187241</td>\n",
       "      <td>53.379295</td>\n",
       "      <td>1.12</td>\n",
       "      <td>0.21</td>\n",
       "      <td>1.07</td>\n",
       "      <td>0.21</td>\n",
       "      <td>-0.275092</td>\n",
       "      <td>0.62</td>\n",
       "      <td>-0.55</td>\n",
       "      <td>-0.32</td>\n",
       "      <td>16.54</td>\n",
       "      <td>276</td>\n",
       "      <td>1</td>\n",
       "    </tr>\n",
       "  </tbody>\n",
       "</table>\n",
       "</div>"
      ],
      "text/plain": [
       "      ID     Porig      Pnew          ra        dec    ug    gi    iK    JK  \\\n",
       "0  29848  0.557009  0.557019  119.526443  46.962120  1.17  0.37  1.02  0.27   \n",
       "1  32086  0.569258  0.569266  119.324013  47.095505  1.36  0.52  1.17  0.31   \n",
       "2  50402  0.643293  0.643286  119.712975  52.149574  1.18  0.39  1.10  0.20   \n",
       "3  61011  0.662369  0.662376  118.491257  53.168125  0.81  0.55  1.62  0.20   \n",
       "4  62892  0.530772  0.530764  119.187241  53.379295  1.12  0.21  1.07  0.21   \n",
       "\n",
       "       logP  Ampl  skew  kurt  magMed  nObs  LCtype  \n",
       "0 -0.254138  0.62 -0.31 -0.57   16.37   301       1  \n",
       "1 -0.244691  0.71 -0.49 -1.00   15.02   289       1  \n",
       "2 -0.191591  0.49 -0.29 -0.88   16.46   284       1  \n",
       "3 -0.178900  0.69 -0.03 -1.06   14.08   274       1  \n",
       "4 -0.275092  0.62 -0.55 -0.32   16.54   276       1  "
      ]
     },
     "execution_count": 8,
     "metadata": {},
     "output_type": "execute_result"
    }
   ],
   "source": [
    "# SELECTING 1 dip STARS\n",
    "# -------------------------\n",
    "\n",
    "P_ratio = L['Porig']/L['Pnew']\n",
    "\n",
    "L_1 = L[(P_ratio>0.99)&(P_ratio<1.01)] # where the ratio between the original (correct) and currently calculated periods are 1:1\n",
    "L_1.head()"
   ]
  },
  {
   "cell_type": "markdown",
   "metadata": {},
   "source": [
    "Now, we select the *RR Lyrae* stars using the color filter values `(g-i)` and the light curve classification `(LCtype)`. "
   ]
  },
  {
   "cell_type": "code",
   "execution_count": 9,
   "metadata": {},
   "outputs": [
    {
     "name": "stdout",
     "output_type": "stream",
     "text": [
      "2710\n"
     ]
    },
    {
     "data": {
      "text/html": [
       "<div>\n",
       "<style scoped>\n",
       "    .dataframe tbody tr th:only-of-type {\n",
       "        vertical-align: middle;\n",
       "    }\n",
       "\n",
       "    .dataframe tbody tr th {\n",
       "        vertical-align: top;\n",
       "    }\n",
       "\n",
       "    .dataframe thead th {\n",
       "        text-align: right;\n",
       "    }\n",
       "</style>\n",
       "<table border=\"1\" class=\"dataframe\">\n",
       "  <thead>\n",
       "    <tr style=\"text-align: right;\">\n",
       "      <th></th>\n",
       "      <th>ID</th>\n",
       "      <th>Porig</th>\n",
       "      <th>Pnew</th>\n",
       "      <th>ra</th>\n",
       "      <th>dec</th>\n",
       "      <th>ug</th>\n",
       "      <th>gi</th>\n",
       "      <th>iK</th>\n",
       "      <th>JK</th>\n",
       "      <th>logP</th>\n",
       "      <th>Ampl</th>\n",
       "      <th>skew</th>\n",
       "      <th>kurt</th>\n",
       "      <th>magMed</th>\n",
       "      <th>nObs</th>\n",
       "      <th>LCtype</th>\n",
       "    </tr>\n",
       "  </thead>\n",
       "  <tbody>\n",
       "    <tr>\n",
       "      <th>0</th>\n",
       "      <td>29848</td>\n",
       "      <td>0.557009</td>\n",
       "      <td>0.557019</td>\n",
       "      <td>119.526443</td>\n",
       "      <td>46.962120</td>\n",
       "      <td>1.17</td>\n",
       "      <td>0.37</td>\n",
       "      <td>1.02</td>\n",
       "      <td>0.27</td>\n",
       "      <td>-0.254138</td>\n",
       "      <td>0.62</td>\n",
       "      <td>-0.31</td>\n",
       "      <td>-0.57</td>\n",
       "      <td>16.37</td>\n",
       "      <td>301</td>\n",
       "      <td>1</td>\n",
       "    </tr>\n",
       "    <tr>\n",
       "      <th>2</th>\n",
       "      <td>50402</td>\n",
       "      <td>0.643293</td>\n",
       "      <td>0.643286</td>\n",
       "      <td>119.712975</td>\n",
       "      <td>52.149574</td>\n",
       "      <td>1.18</td>\n",
       "      <td>0.39</td>\n",
       "      <td>1.10</td>\n",
       "      <td>0.20</td>\n",
       "      <td>-0.191591</td>\n",
       "      <td>0.49</td>\n",
       "      <td>-0.29</td>\n",
       "      <td>-0.88</td>\n",
       "      <td>16.46</td>\n",
       "      <td>284</td>\n",
       "      <td>1</td>\n",
       "    </tr>\n",
       "    <tr>\n",
       "      <th>4</th>\n",
       "      <td>62892</td>\n",
       "      <td>0.530772</td>\n",
       "      <td>0.530764</td>\n",
       "      <td>119.187241</td>\n",
       "      <td>53.379295</td>\n",
       "      <td>1.12</td>\n",
       "      <td>0.21</td>\n",
       "      <td>1.07</td>\n",
       "      <td>0.21</td>\n",
       "      <td>-0.275092</td>\n",
       "      <td>0.62</td>\n",
       "      <td>-0.55</td>\n",
       "      <td>-0.32</td>\n",
       "      <td>16.54</td>\n",
       "      <td>276</td>\n",
       "      <td>1</td>\n",
       "    </tr>\n",
       "    <tr>\n",
       "      <th>5</th>\n",
       "      <td>91437</td>\n",
       "      <td>0.674728</td>\n",
       "      <td>0.674711</td>\n",
       "      <td>120.294960</td>\n",
       "      <td>40.932457</td>\n",
       "      <td>1.18</td>\n",
       "      <td>0.24</td>\n",
       "      <td>1.09</td>\n",
       "      <td>0.37</td>\n",
       "      <td>-0.170871</td>\n",
       "      <td>0.75</td>\n",
       "      <td>-0.12</td>\n",
       "      <td>-0.93</td>\n",
       "      <td>15.39</td>\n",
       "      <td>177</td>\n",
       "      <td>1</td>\n",
       "    </tr>\n",
       "    <tr>\n",
       "      <th>6</th>\n",
       "      <td>95250</td>\n",
       "      <td>0.313869</td>\n",
       "      <td>0.313869</td>\n",
       "      <td>120.124542</td>\n",
       "      <td>40.656620</td>\n",
       "      <td>1.18</td>\n",
       "      <td>-0.14</td>\n",
       "      <td>0.83</td>\n",
       "      <td>0.28</td>\n",
       "      <td>-0.503252</td>\n",
       "      <td>0.55</td>\n",
       "      <td>0.14</td>\n",
       "      <td>-0.65</td>\n",
       "      <td>16.98</td>\n",
       "      <td>222</td>\n",
       "      <td>2</td>\n",
       "    </tr>\n",
       "  </tbody>\n",
       "</table>\n",
       "</div>"
      ],
      "text/plain": [
       "      ID     Porig      Pnew          ra        dec    ug    gi    iK    JK  \\\n",
       "0  29848  0.557009  0.557019  119.526443  46.962120  1.17  0.37  1.02  0.27   \n",
       "2  50402  0.643293  0.643286  119.712975  52.149574  1.18  0.39  1.10  0.20   \n",
       "4  62892  0.530772  0.530764  119.187241  53.379295  1.12  0.21  1.07  0.21   \n",
       "5  91437  0.674728  0.674711  120.294960  40.932457  1.18  0.24  1.09  0.37   \n",
       "6  95250  0.313869  0.313869  120.124542  40.656620  1.18 -0.14  0.83  0.28   \n",
       "\n",
       "       logP  Ampl  skew  kurt  magMed  nObs  LCtype  \n",
       "0 -0.254138  0.62 -0.31 -0.57   16.37   301       1  \n",
       "2 -0.191591  0.49 -0.29 -0.88   16.46   284       1  \n",
       "4 -0.275092  0.62 -0.55 -0.32   16.54   276       1  \n",
       "5 -0.170871  0.75 -0.12 -0.93   15.39   177       1  \n",
       "6 -0.503252  0.55  0.14 -0.65   16.98   222       2  "
      ]
     },
     "execution_count": 9,
     "metadata": {},
     "output_type": "execute_result"
    }
   ],
   "source": [
    "Lrrlyr = L_1[(L_1['gi']>-0.5)&(L_1['gi']<0.4)&(L_1['LCtype']>0)&(L_1['LCtype']<3)]\n",
    "print(len(Lrrlyr))\n",
    "Lrrlyr.head()"
   ]
  },
  {
   "cell_type": "markdown",
   "metadata": {},
   "source": [
    "We now have 2710 RR Lyrae stars from the `LINEAR` database. We can differentiate them further into *RR Lyrae AB* and *RR Lyrae C* types, but this can be done later (we just have to conserve the `LCtype` column)."
   ]
  },
  {
   "cell_type": "markdown",
   "metadata": {},
   "source": [
    "# Analysis of RR Lyrae stars"
   ]
  },
  {
   "cell_type": "markdown",
   "metadata": {},
   "source": [
    "In this section we showcase the code used for the entire analysis. The definitions of functions can be found in the `lc_analysis.py` file."
   ]
  },
  {
   "cell_type": "code",
   "execution_count": 10,
   "metadata": {},
   "outputs": [],
   "source": [
    "Lids = Lrrlyr['ID'].to_numpy()\n",
    "#Lids = Lids[:2]\n",
    "Lids.shape\n",
    "\n",
    "rectascension = Lrrlyr['ra'].to_numpy()\n",
    "declination = Lrrlyr['dec'].to_numpy()"
   ]
  },
  {
   "cell_type": "code",
   "execution_count": 11,
   "metadata": {},
   "outputs": [
    {
     "name": "stderr",
     "output_type": "stream",
     "text": [
      " 16%|█▌        | 424/2710 [2:35:03<13:55:57, 21.94s/it]\n"
     ]
    },
    {
     "ename": "ValueError",
     "evalue": "list.remove(x): x not in list",
     "output_type": "error",
     "traceback": [
      "\u001b[0;31m---------------------------------------------------------------------------\u001b[0m",
      "\u001b[0;31mValueError\u001b[0m                                Traceback (most recent call last)",
      "\u001b[1;32m/Users/icdonev/Library/Mobile Documents/com~apple~CloudDocs/2_PERSONAL/Ema/PROJECTS/var_stars/nbs/03_Analyzing_RR_Lyrae.ipynb Cell 32\u001b[0m line \u001b[0;36m<cell line: 5>\u001b[0;34m()\u001b[0m\n\u001b[1;32m     <a href='vscode-notebook-cell:/Users/icdonev/Library/Mobile%20Documents/com~apple~CloudDocs/2_PERSONAL/Ema/PROJECTS/var_stars/nbs/03_Analyzing_RR_Lyrae.ipynb#X43sZmlsZQ%3D%3D?line=64'>65</a>\u001b[0m     Zindicator, Zlimit \u001b[39m=\u001b[39m np\u001b[39m.\u001b[39mnan, np\u001b[39m.\u001b[39mnan\n\u001b[1;32m     <a href='vscode-notebook-cell:/Users/icdonev/Library/Mobile%20Documents/com~apple~CloudDocs/2_PERSONAL/Ema/PROJECTS/var_stars/nbs/03_Analyzing_RR_Lyrae.ipynb#X43sZmlsZQ%3D%3D?line=65'>66</a>\u001b[0m \u001b[39melse\u001b[39;00m:\n\u001b[0;32m---> <a href='vscode-notebook-cell:/Users/icdonev/Library/Mobile%20Documents/com~apple~CloudDocs/2_PERSONAL/Ema/PROJECTS/var_stars/nbs/03_Analyzing_RR_Lyrae.ipynb#X43sZmlsZQ%3D%3D?line=66'>67</a>\u001b[0m     Zindicator, Zlimit \u001b[39m=\u001b[39m periodogram_blazhko(pZ, \u001b[39m0.3\u001b[39;49m, \u001b[39m0.2\u001b[39;49m)\n\u001b[1;32m     <a href='vscode-notebook-cell:/Users/icdonev/Library/Mobile%20Documents/com~apple~CloudDocs/2_PERSONAL/Ema/PROJECTS/var_stars/nbs/03_Analyzing_RR_Lyrae.ipynb#X43sZmlsZQ%3D%3D?line=68'>69</a>\u001b[0m STAR\u001b[39m.\u001b[39mappend(Lindicator)\n\u001b[1;32m     <a href='vscode-notebook-cell:/Users/icdonev/Library/Mobile%20Documents/com~apple~CloudDocs/2_PERSONAL/Ema/PROJECTS/var_stars/nbs/03_Analyzing_RR_Lyrae.ipynb#X43sZmlsZQ%3D%3D?line=69'>70</a>\u001b[0m STAR\u001b[39m.\u001b[39mappend(Llimit)\n",
      "File \u001b[0;32m~/Library/Mobile Documents/com~apple~CloudDocs/2_PERSONAL/Ema/PROJECTS/var_stars/nbs/../src/lc_analysis.py:369\u001b[0m, in \u001b[0;36mperiodogram_blazhko\u001b[0;34m(power, limit, perc_xshift)\u001b[0m\n\u001b[1;32m    367\u001b[0m     \u001b[39mif\u001b[39;00m x[\u001b[39m0\u001b[39m] \u001b[39min\u001b[39;00m peaks_inside:\n\u001b[1;32m    368\u001b[0m         x_peaks\u001b[39m.\u001b[39mappend(x[\u001b[39m1\u001b[39m])\n\u001b[0;32m--> 369\u001b[0m x_peaks\u001b[39m.\u001b[39;49mremove(max_peak_x)    \n\u001b[1;32m    372\u001b[0m \u001b[39mfor\u001b[39;00m i \u001b[39min\u001b[39;00m x_peaks:\n\u001b[1;32m    373\u001b[0m     \u001b[39mif\u001b[39;00m max_peak_x\u001b[39m<\u001b[39mi:\n",
      "\u001b[0;31mValueError\u001b[0m: list.remove(x): x not in list"
     ]
    }
   ],
   "source": [
    "lc_analysis = {}\n",
    "fits = []\n",
    "PERIODOGRAMS = []\n",
    "\n",
    "for n, i in enumerate(tqdm(range(len(Lids)))):\n",
    "    STAR = []\n",
    "    # STEP 1: Gather the data\n",
    "    # --------------------------\n",
    "    # LINEAR\n",
    "    Lid = Lids[i]\n",
    "    tL, mL, mLerr = data.get_light_curve(Lid).T\n",
    "    ra = rectascension[i]\n",
    "    dec = declination[i]\n",
    "\n",
    "    # ZTF\n",
    "    ZTFdata = getZTFlightcurve(ra, dec)\n",
    "\n",
    "    # STEP 2: Calculating the periods + accessing the periodograms\n",
    "    # ---------------------------------------------------------------\n",
    "    nterms = 3\n",
    "    Plinear, fL, pL = doPeriods(tL, mL, mLerr, nterms, lsPS=True)\n",
    "    if ZTFdata.empty==True:\n",
    "        Pztf, fZ, pZ = 0,np.array(()),np.array(())\n",
    "    else:\n",
    "        Pztf, fZ, pZ = getZTFperiod(ZTFdata, nterms, ZTFbands=['zg', 'zr', 'zi'], lsPS=True)\n",
    "\n",
    "    Pmean = (Plinear+Pztf)/2\n",
    "    Pratio = Pztf/Plinear\n",
    "\n",
    "    per = (fL, pL, fZ, pZ)\n",
    "    PERIODOGRAMS.append(per)\n",
    "\n",
    "    # STEP 3: Analysing the light curve fits\n",
    "    # ---------------------------------------\n",
    "    ntermsModels = 6\n",
    "    d = ZTFdata.loc[ZTFdata['filtercode'] == 'zr']\n",
    "    timeZ = d['mjd']\n",
    "    magZ = d['mag']\n",
    "    magErrZ = d['magerr']\n",
    "    \n",
    "    if ZTFdata.empty==True or d.empty==True:\n",
    "        STAR = [Lid,Plinear, Pztf, Pmean, Pratio, np.size(tL),0,0,0,0,0,0,0,0,0,0,0,0,0,0,0,0,0,0]\n",
    "    else:\n",
    "        if np.size(tL)<30 or np.size(timeZ)<30:\n",
    "            STAR = [Lid,Plinear, Pztf, Pmean, Pratio, np.size(tL),0,0,0,0,0,0,0,0,np.size(timeZ),0,0,0,0,0,0,0,0]\n",
    "        else:\n",
    "            LINEAR_Plinear = LCanalysisFromP(tL, mL, mLerr, Plinear, ntermsModels)\n",
    "            LINEAR_Pmean = LCanalysisFromP(tL, mL, mLerr, Pmean, ntermsModels)\n",
    "\n",
    "\n",
    "            ZTF_Pztf = LCanalysisFromP(timeZ, magZ, magErrZ, Pztf, ntermsModels)\n",
    "            ZTF_Pmean = LCanalysisFromP(timeZ, magZ, magErrZ, Pmean, ntermsModels)\n",
    "\n",
    "            STAR = [Plinear, Pztf, Pmean, Pratio, np.size(tL), LINEAR_Plinear['rms'], LINEAR_Plinear['chi2dof'], LINEAR_Plinear['chi2dofR'],LINEAR_Pmean['rms'],\n",
    "                    LINEAR_Pmean['chi2dof'],LINEAR_Pmean['chi2dofR'], LINEAR_Plinear['mmax'], LINEAR_Plinear['A'],\n",
    "                    np.size(timeZ), ZTF_Pztf['rms'], ZTF_Pztf['chi2dof'], ZTF_Pztf['chi2dofR'], ZTF_Pmean['rms'], ZTF_Pmean['chi2dof'], ZTF_Pmean['chi2dofR'], ZTF_Pztf['mmax'], ZTF_Pztf['A']]\n",
    "            \n",
    "            \n",
    "            fits.append((LINEAR_Plinear, LINEAR_Pmean,ZTF_Pztf,ZTF_Pmean))\n",
    "\n",
    "    # STEP 4: Analyzing periodograms\n",
    "    # ---------------------------------\n",
    "    Lindicator, Llimit = periodogram_blazhko(pL, 0.3, 0.2)\n",
    "    if ZTFdata.empty==True:\n",
    "        Zindicator, Zlimit = np.nan, np.nan\n",
    "    else:\n",
    "        Zindicator, Zlimit = periodogram_blazhko(pZ, 0.3, 0.2)\n",
    "\n",
    "    STAR.append(Lindicator)\n",
    "    STAR.append(Llimit)\n",
    "    STAR.append(Zindicator)\n",
    "    STAR.append(Zlimit)\n",
    "\n",
    "    lc_analysis[Lid] = STAR\n",
    "\n",
    "    # Fail-safe saving\n",
    "    # PERIODS\n",
    "    if (n % 100) == 0:\n",
    "        # save dictionary to pkl file\n",
    "        with open('../outputs/lc_analysis.pkl', 'wb') as fp:\n",
    "            pickle.dump(lc_analysis, fp)\n",
    "        FITS = np.array(fits)\n",
    "        np.save(\"../outputs/fits.npy\", FITS, allow_pickle=True)\n",
    "        with open(\"../outputs/periodograms.pkl\", \"wb\") as x:\n",
    "            pickle.dump(PERIODOGRAMS, x)\n",
    "    \n",
    "with open('../outputs/lc_analysis.pkl', 'wb') as f:\n",
    "    pickle.dump(lc_analysis, f)\n",
    "FITS = np.array(fits)\n",
    "np.save(\"../outputs/fits.npy\", FITS, allow_pickle=True)\n",
    "with open(\"../outputs/periodograms.pkl\", \"wb\") as y:\n",
    "        pickle.dump(PERIODOGRAMS, y)"
   ]
  },
  {
   "cell_type": "code",
   "execution_count": null,
   "metadata": {},
   "outputs": [],
   "source": [
    "lc_analysis = pickle.load(open(\"../outputs/lc_analysis.pkl\", \"rb\"))"
   ]
  },
  {
   "cell_type": "code",
   "execution_count": null,
   "metadata": {},
   "outputs": [],
   "source": [
    "periodograms = pickle.load(open(\"../outputs/periodograms.pkl\", \"rb\"))"
   ]
  },
  {
   "cell_type": "code",
   "execution_count": null,
   "metadata": {},
   "outputs": [],
   "source": [
    "fits = np.load(\"../outputs/fits.npy\", allow_pickle=True)"
   ]
  },
  {
   "cell_type": "code",
   "execution_count": 112,
   "metadata": {},
   "outputs": [],
   "source": [
    "i = 21\n",
    "Lid = Lids[i]\n",
    "tL, mL, mLerr = data.get_light_curve(Lid).T\n",
    "ra = rectascension[i]\n",
    "dec = declination[i]\n",
    "\n",
    "# ZTF\n",
    "ZTFdata = getZTFlightcurve(ra, dec)\n",
    "\n",
    "# STEP 2: Calculating the periods + accessing the periodograms\n",
    "# ---------------------------------------------------------------\n",
    "nterms = 3\n",
    "Plinear, fL, pL = doPeriods(tL, mL, mLerr, nterms, lsPS=True)\n",
    "if ZTFdata.empty==True:\n",
    "    Pztf, fZ, pZ = 0,np.array(()),np.array(())\n",
    "else:\n",
    "    Pztf, fZ, pZ = getZTFperiod(ZTFdata, nterms, ZTFbands=['zg', 'zr', 'zi'], lsPS=True)\n",
    "    \n",
    "zindicator, zlimit = periodogram_blazhko(pZ, 0.3, 0.2)"
   ]
  },
  {
   "cell_type": "code",
   "execution_count": 113,
   "metadata": {},
   "outputs": [
    {
     "data": {
      "image/png": "[encoded data removed]",
      "text/plain": [
       "<Figure size 432x288 with 1 Axes>"
      ]
     },
     "metadata": {
      "needs_background": "light"
     },
     "output_type": "display_data"
    }
   ],
   "source": [
    "plt.plot(pZ)\n",
    "plt.show()"
   ]
  },
  {
   "cell_type": "code",
   "execution_count": 114,
   "metadata": {},
   "outputs": [
    {
     "data": {
      "text/plain": [
       "array([0.07838326, 0.07766642, 0.07698984, ..., 0.14340052, 0.14147423,\n",
       "       0.13958411])"
      ]
     },
     "execution_count": 114,
     "metadata": {},
     "output_type": "execute_result"
    }
   ],
   "source": [
    "pZ"
   ]
  },
  {
   "cell_type": "code",
   "execution_count": 115,
   "metadata": {},
   "outputs": [
    {
     "data": {
      "text/plain": [
       "array([ 4633,  7322,  7517,  7764, 11433])"
      ]
     },
     "execution_count": 115,
     "metadata": {},
     "output_type": "execute_result"
    }
   ],
   "source": [
    "peaks, _ = find_peaks(pZ, height=0.3)\n",
    "peaks"
   ]
  },
  {
   "cell_type": "code",
   "execution_count": 116,
   "metadata": {},
   "outputs": [
    {
     "data": {
      "image/png": "[encoded data removed]",
      "text/plain": [
       "<Figure size 432x288 with 1 Axes>"
      ]
     },
     "metadata": {
      "needs_background": "light"
     },
     "output_type": "display_data"
    }
   ],
   "source": [
    "plt.plot(pZ)\n",
    "plt.show()"
   ]
  },
  {
   "cell_type": "code",
   "execution_count": 117,
   "metadata": {},
   "outputs": [
    {
     "name": "stdout",
     "output_type": "stream",
     "text": [
      "0.2 4478\n",
      "0.2 10556\n",
      "7517\n",
      "[0.16434697 0.1644415  0.16454177]\n"
     ]
    }
   ],
   "source": [
    "a = 0\n",
    "perc_xshift = 0.2\n",
    "while a != 1:\n",
    "    max_peak_x = peaks[np.argmax(pZ[peaks])]\n",
    "    min_lim = max_peak_x - int((len(pZ) * perc_xshift))\n",
    "    print(perc_xshift, min_lim)\n",
    "    max_lim = max_peak_x + int((len(pZ) * perc_xshift))\n",
    "    print(perc_xshift, max_lim)\n",
    "    p = pZ[min_lim:max_lim]\n",
    "    \n",
    "    if any(p) == False:\n",
    "        perc_xshift -= 0.05\n",
    "        print('Decrease shift')\n",
    "    elif len(p) == 1:\n",
    "        perc_xshift += 0.05\n",
    "        print('Increase shift')\n",
    "    else:\n",
    "        a = 1\n",
    "\n",
    "print(max_peak_x)\n",
    "print(p[:3])"
   ]
  },
  {
   "cell_type": "code",
   "execution_count": 118,
   "metadata": {},
   "outputs": [
    {
     "data": {
      "image/png": "[encoded data removed]",
      "text/plain": [
       "<Figure size 432x288 with 1 Axes>"
      ]
     },
     "metadata": {
      "needs_background": "light"
     },
     "output_type": "display_data"
    }
   ],
   "source": [
    "plt.plot(p)\n",
    "plt.show()"
   ]
  },
  {
   "cell_type": "code",
   "execution_count": 111,
   "metadata": {},
   "outputs": [
    {
     "data": {
      "text/plain": [
       "10341"
      ]
     },
     "execution_count": 111,
     "metadata": {},
     "output_type": "execute_result"
    }
   ],
   "source": [
    "min_lim"
   ]
  },
  {
   "cell_type": "code",
   "execution_count": 90,
   "metadata": {},
   "outputs": [],
   "source": [
    "matches = []\n",
    "for x in range(len(peaks)):\n",
    "    matches.append((pZ[peaks][x], peaks[x]))"
   ]
  },
  {
   "cell_type": "code",
   "execution_count": 91,
   "metadata": {},
   "outputs": [
    {
     "data": {
      "text/plain": [
       "[(0.3265157400465893, 1521),\n",
       " (0.3519068070366041, 5897),\n",
       " (0.32878827991057247, 7159)]"
      ]
     },
     "execution_count": 91,
     "metadata": {},
     "output_type": "execute_result"
    }
   ],
   "source": [
    "matches[:3]"
   ]
  },
  {
   "cell_type": "code",
   "execution_count": 92,
   "metadata": {},
   "outputs": [],
   "source": [
    "peaks_inside = []\n",
    "c = 0\n",
    "for x in pZ[peaks]:\n",
    "    if x in p:\n",
    "        c += 1\n",
    "        peaks_inside.append(x)"
   ]
  },
  {
   "cell_type": "code",
   "execution_count": 93,
   "metadata": {},
   "outputs": [
    {
     "data": {
      "text/plain": [
       "[0.3519068070366041, 0.32878827991057247, 0.9191296600090394]"
      ]
     },
     "execution_count": 93,
     "metadata": {},
     "output_type": "execute_result"
    }
   ],
   "source": [
    "peaks_inside[:3]"
   ]
  },
  {
   "cell_type": "code",
   "execution_count": 94,
   "metadata": {},
   "outputs": [],
   "source": [
    "x_peaks = []\n",
    "for x in matches:\n",
    "    if x[0] in peaks_inside:\n",
    "        x_peaks.append(x[1])\n",
    "x_peaks.remove(max_peak_x) "
   ]
  },
  {
   "cell_type": "code",
   "execution_count": 71,
   "metadata": {},
   "outputs": [],
   "source": [
    "lc_analysis = pickle.load(open(\"../outputs/lc_analysis.pkl\", \"rb\"))"
   ]
  },
  {
   "cell_type": "code",
   "execution_count": 11,
   "metadata": {},
   "outputs": [
    {
     "data": {
      "text/plain": [
       "201"
      ]
     },
     "execution_count": 11,
     "metadata": {},
     "output_type": "execute_result"
    }
   ],
   "source": [
    "len(lc_analysis)"
   ]
  },
  {
   "cell_type": "code",
   "execution_count": 33,
   "metadata": {},
   "outputs": [],
   "source": [
    "cols = ['Plinear', 'Pztf', 'Pmean', 'Pratio', 'NdataLINEAR', 'LPlin_rmsdmag', 'LPlin_chi2dof', 'LPlin_chi2dofR', 'LPmean_rmsdmag', 'LPmean_chi2dof', 'LPmean_chi2dofR', 'Lmmax', 'Lampl', 'NdataZTF', 'ZPztf_rmsdmag', 'ZPztf_chi2dof', 'ZPztf_chi2dofR', 'ZPmean_rmsdmag', 'ZPmean_chi2dof', 'ZPmean_chi2dofR', 'Zmmax', 'Zampl', \"Lindicator\", \"Llimit\", \"Zindicator\", \"Zlimit\", \"what\", \"what 2\"]"
   ]
  },
  {
   "cell_type": "code",
   "execution_count": 80,
   "metadata": {},
   "outputs": [],
   "source": [
    "LC_ANALYSIS = pd.DataFrame.from_dict(lc_analysis, orient='index', columns=cols)\n",
    "LC_ANALYSIS.index.name='LINEAR id'\n",
    "LC_ANALYSIS = LC_ANALYSIS.drop([\"what\"], axis=1)\n",
    "LC_ANALYSIS = LC_ANALYSIS.drop([\"what 2\"], axis=1)\n",
    "LC_ANALYSIS = LC_ANALYSIS.reset_index()"
   ]
  },
  {
   "cell_type": "code",
   "execution_count": 81,
   "metadata": {},
   "outputs": [
    {
     "data": {
      "text/html": [
       "<div>\n",
       "<style scoped>\n",
       "    .dataframe tbody tr th:only-of-type {\n",
       "        vertical-align: middle;\n",
       "    }\n",
       "\n",
       "    .dataframe tbody tr th {\n",
       "        vertical-align: top;\n",
       "    }\n",
       "\n",
       "    .dataframe thead th {\n",
       "        text-align: right;\n",
       "    }\n",
       "</style>\n",
       "<table border=\"1\" class=\"dataframe\">\n",
       "  <thead>\n",
       "    <tr style=\"text-align: right;\">\n",
       "      <th></th>\n",
       "      <th>LINEAR id</th>\n",
       "      <th>Plinear</th>\n",
       "      <th>Pztf</th>\n",
       "      <th>Pmean</th>\n",
       "      <th>Pratio</th>\n",
       "      <th>NdataLINEAR</th>\n",
       "      <th>LPlin_rmsdmag</th>\n",
       "      <th>LPlin_chi2dof</th>\n",
       "      <th>LPlin_chi2dofR</th>\n",
       "      <th>LPmean_rmsdmag</th>\n",
       "      <th>...</th>\n",
       "      <th>ZPztf_chi2dofR</th>\n",
       "      <th>ZPmean_rmsdmag</th>\n",
       "      <th>ZPmean_chi2dof</th>\n",
       "      <th>ZPmean_chi2dofR</th>\n",
       "      <th>Zmmax</th>\n",
       "      <th>Zampl</th>\n",
       "      <th>Lindicator</th>\n",
       "      <th>Llimit</th>\n",
       "      <th>Zindicator</th>\n",
       "      <th>Zlimit</th>\n",
       "    </tr>\n",
       "  </thead>\n",
       "  <tbody>\n",
       "    <tr>\n",
       "      <th>0</th>\n",
       "      <td>29848</td>\n",
       "      <td>0.557021</td>\n",
       "      <td>0.557037</td>\n",
       "      <td>0.557029</td>\n",
       "      <td>1.000028</td>\n",
       "      <td>301.0</td>\n",
       "      <td>0.178198</td>\n",
       "      <td>3.028026</td>\n",
       "      <td>1.451336</td>\n",
       "      <td>0.185326</td>\n",
       "      <td>...</td>\n",
       "      <td>3.645075</td>\n",
       "      <td>0.052598</td>\n",
       "      <td>16.195588</td>\n",
       "      <td>3.955532</td>\n",
       "      <td>15.756993</td>\n",
       "      <td>0.925157</td>\n",
       "      <td>1</td>\n",
       "      <td>0.3</td>\n",
       "      <td>0.0</td>\n",
       "      <td>0.3</td>\n",
       "    </tr>\n",
       "    <tr>\n",
       "      <th>1</th>\n",
       "      <td>50402</td>\n",
       "      <td>0.643301</td>\n",
       "      <td>0.643296</td>\n",
       "      <td>0.643298</td>\n",
       "      <td>0.999992</td>\n",
       "      <td>284.0</td>\n",
       "      <td>0.107683</td>\n",
       "      <td>0.595738</td>\n",
       "      <td>0.733869</td>\n",
       "      <td>0.106092</td>\n",
       "      <td>...</td>\n",
       "      <td>1.162370</td>\n",
       "      <td>0.031558</td>\n",
       "      <td>2.097207</td>\n",
       "      <td>1.177316</td>\n",
       "      <td>16.088901</td>\n",
       "      <td>0.486372</td>\n",
       "      <td>0</td>\n",
       "      <td>0.3</td>\n",
       "      <td>0.0</td>\n",
       "      <td>0.3</td>\n",
       "    </tr>\n",
       "    <tr>\n",
       "      <th>2</th>\n",
       "      <td>62892</td>\n",
       "      <td>0.530776</td>\n",
       "      <td>0.530785</td>\n",
       "      <td>0.530781</td>\n",
       "      <td>1.000017</td>\n",
       "      <td>276.0</td>\n",
       "      <td>0.108544</td>\n",
       "      <td>1.058829</td>\n",
       "      <td>0.934727</td>\n",
       "      <td>0.114002</td>\n",
       "      <td>...</td>\n",
       "      <td>3.137436</td>\n",
       "      <td>0.069562</td>\n",
       "      <td>19.794606</td>\n",
       "      <td>3.288505</td>\n",
       "      <td>15.961735</td>\n",
       "      <td>0.641651</td>\n",
       "      <td>1</td>\n",
       "      <td>0.3</td>\n",
       "      <td>1.0</td>\n",
       "      <td>0.3</td>\n",
       "    </tr>\n",
       "    <tr>\n",
       "      <th>3</th>\n",
       "      <td>91437</td>\n",
       "      <td>0.674732</td>\n",
       "      <td>0.674738</td>\n",
       "      <td>0.674735</td>\n",
       "      <td>1.000009</td>\n",
       "      <td>177.0</td>\n",
       "      <td>0.040798</td>\n",
       "      <td>2.775415</td>\n",
       "      <td>1.352923</td>\n",
       "      <td>0.040888</td>\n",
       "      <td>...</td>\n",
       "      <td>1.556614</td>\n",
       "      <td>0.020152</td>\n",
       "      <td>4.243845</td>\n",
       "      <td>1.580792</td>\n",
       "      <td>15.002323</td>\n",
       "      <td>0.864724</td>\n",
       "      <td>0</td>\n",
       "      <td>0.3</td>\n",
       "      <td>0.0</td>\n",
       "      <td>0.3</td>\n",
       "    </tr>\n",
       "    <tr>\n",
       "      <th>4</th>\n",
       "      <td>95250</td>\n",
       "      <td>0.313870</td>\n",
       "      <td>0.313876</td>\n",
       "      <td>0.313873</td>\n",
       "      <td>1.000019</td>\n",
       "      <td>222.0</td>\n",
       "      <td>0.162040</td>\n",
       "      <td>0.816590</td>\n",
       "      <td>0.859616</td>\n",
       "      <td>0.165801</td>\n",
       "      <td>...</td>\n",
       "      <td>1.341415</td>\n",
       "      <td>0.054686</td>\n",
       "      <td>3.709448</td>\n",
       "      <td>1.515406</td>\n",
       "      <td>16.680144</td>\n",
       "      <td>0.461509</td>\n",
       "      <td>1</td>\n",
       "      <td>0.3</td>\n",
       "      <td>0.0</td>\n",
       "      <td>0.3</td>\n",
       "    </tr>\n",
       "  </tbody>\n",
       "</table>\n",
       "<p>5 rows × 27 columns</p>\n",
       "</div>"
      ],
      "text/plain": [
       "   LINEAR id   Plinear      Pztf     Pmean    Pratio  NdataLINEAR  \\\n",
       "0      29848  0.557021  0.557037  0.557029  1.000028        301.0   \n",
       "1      50402  0.643301  0.643296  0.643298  0.999992        284.0   \n",
       "2      62892  0.530776  0.530785  0.530781  1.000017        276.0   \n",
       "3      91437  0.674732  0.674738  0.674735  1.000009        177.0   \n",
       "4      95250  0.313870  0.313876  0.313873  1.000019        222.0   \n",
       "\n",
       "   LPlin_rmsdmag  LPlin_chi2dof  LPlin_chi2dofR  LPmean_rmsdmag  ...  \\\n",
       "0       0.178198       3.028026        1.451336        0.185326  ...   \n",
       "1       0.107683       0.595738        0.733869        0.106092  ...   \n",
       "2       0.108544       1.058829        0.934727        0.114002  ...   \n",
       "3       0.040798       2.775415        1.352923        0.040888  ...   \n",
       "4       0.162040       0.816590        0.859616        0.165801  ...   \n",
       "\n",
       "   ZPztf_chi2dofR  ZPmean_rmsdmag  ZPmean_chi2dof  ZPmean_chi2dofR      Zmmax  \\\n",
       "0        3.645075        0.052598       16.195588         3.955532  15.756993   \n",
       "1        1.162370        0.031558        2.097207         1.177316  16.088901   \n",
       "2        3.137436        0.069562       19.794606         3.288505  15.961735   \n",
       "3        1.556614        0.020152        4.243845         1.580792  15.002323   \n",
       "4        1.341415        0.054686        3.709448         1.515406  16.680144   \n",
       "\n",
       "      Zampl  Lindicator  Llimit  Zindicator  Zlimit  \n",
       "0  0.925157           1     0.3         0.0     0.3  \n",
       "1  0.486372           0     0.3         0.0     0.3  \n",
       "2  0.641651           1     0.3         1.0     0.3  \n",
       "3  0.864724           0     0.3         0.0     0.3  \n",
       "4  0.461509           1     0.3         0.0     0.3  \n",
       "\n",
       "[5 rows x 27 columns]"
      ]
     },
     "execution_count": 81,
     "metadata": {},
     "output_type": "execute_result"
    }
   ],
   "source": [
    "LC_ANALYSIS.head()"
   ]
  },
  {
   "cell_type": "markdown",
   "metadata": {},
   "source": [
    "# Analysis of data"
   ]
  },
  {
   "cell_type": "code",
   "execution_count": 42,
   "metadata": {},
   "outputs": [
    {
     "data": {
      "image/png": "[encoded data removed]",
      "text/plain": [
       "<Figure size 864x648 with 1 Axes>"
      ]
     },
     "metadata": {
      "needs_background": "light"
     },
     "output_type": "display_data"
    }
   ],
   "source": [
    "plt.figure(figsize=(12,9))\n",
    "sns.scatterplot(LC_ANALYSIS, x='Pratio', y='ZPztf_chi2dofR')\n",
    "plt.title('Ratio of periods vs. chi square of ztf data', fontproperties=font)\n",
    "plt.xlabel('Ratio of periods', fontproperties=font)\n",
    "plt.ylabel('Chi square of ztf data', fontproperties=font)\n",
    "plt.show()"
   ]
  },
  {
   "cell_type": "code",
   "execution_count": 53,
   "metadata": {},
   "outputs": [
    {
     "data": {
      "image/png": "[encoded data removed]",
      "text/plain": [
       "<Figure size 864x648 with 1 Axes>"
      ]
     },
     "metadata": {
      "needs_background": "light"
     },
     "output_type": "display_data"
    }
   ],
   "source": [
    "plt.figure(figsize=(12,9))\n",
    "sns.scatterplot(LC_ANALYSIS, x='LPlin_chi2dofR', y='LPmean_chi2dofR')\n",
    "plt.title('Chi square of linear period vs. chi square of mean period with linear data', fontproperties=font)\n",
    "plt.xlabel('Chi square of linear period', fontproperties=font)\n",
    "plt.ylabel('chi square of mean period with linear data', fontproperties=font)\n",
    "plt.show()"
   ]
  },
  {
   "cell_type": "code",
   "execution_count": 52,
   "metadata": {},
   "outputs": [
    {
     "data": {
      "image/png": "[encoded data removed]",
      "text/plain": [
       "<Figure size 864x648 with 1 Axes>"
      ]
     },
     "metadata": {
      "needs_background": "light"
     },
     "output_type": "display_data"
    }
   ],
   "source": [
    "plt.figure(figsize=(12,9))\n",
    "sns.scatterplot(LC_ANALYSIS, x='ZPztf_chi2dofR', y='ZPmean_chi2dofR')\n",
    "plt.title('Chi square of ztf period vs. chi square of mean period with ztf data', fontproperties=font)\n",
    "plt.xlabel('Chi square of ztf period', fontproperties=font)\n",
    "plt.ylabel('chi square of mean period with ztf data', fontproperties=font)\n",
    "plt.show()"
   ]
  },
  {
   "cell_type": "code",
   "execution_count": 51,
   "metadata": {},
   "outputs": [
    {
     "data": {
      "image/png": "[encoded data removed]",
      "text/plain": [
       "<Figure size 864x648 with 1 Axes>"
      ]
     },
     "metadata": {
      "needs_background": "light"
     },
     "output_type": "display_data"
    }
   ],
   "source": [
    "plt.figure(figsize=(12,9))\n",
    "sns.scatterplot(LC_ANALYSIS, x='Lampl', y='Zampl')\n",
    "plt.xlim([-1,2.5])\n",
    "plt.ylim([-1,3])\n",
    "plt.title('Linear amplitude vs. ZTF amplitude', fontproperties=font)\n",
    "plt.xlabel('Linear amplitude', fontproperties=font)\n",
    "plt.ylabel('ZTF amplitude', fontproperties=font)\n",
    "plt.show()"
   ]
  },
  {
   "cell_type": "code",
   "execution_count": 82,
   "metadata": {},
   "outputs": [
    {
     "data": {
      "text/html": [
       "<div>\n",
       "<style scoped>\n",
       "    .dataframe tbody tr th:only-of-type {\n",
       "        vertical-align: middle;\n",
       "    }\n",
       "\n",
       "    .dataframe tbody tr th {\n",
       "        vertical-align: top;\n",
       "    }\n",
       "\n",
       "    .dataframe thead th {\n",
       "        text-align: right;\n",
       "    }\n",
       "</style>\n",
       "<table border=\"1\" class=\"dataframe\">\n",
       "  <thead>\n",
       "    <tr style=\"text-align: right;\">\n",
       "      <th></th>\n",
       "      <th>LINEAR id</th>\n",
       "      <th>Plinear</th>\n",
       "      <th>Pztf</th>\n",
       "      <th>Pmean</th>\n",
       "      <th>Pratio</th>\n",
       "      <th>NdataLINEAR</th>\n",
       "      <th>LPlin_rmsdmag</th>\n",
       "      <th>LPlin_chi2dof</th>\n",
       "      <th>LPlin_chi2dofR</th>\n",
       "      <th>LPmean_rmsdmag</th>\n",
       "      <th>...</th>\n",
       "      <th>ZPztf_chi2dofR</th>\n",
       "      <th>ZPmean_rmsdmag</th>\n",
       "      <th>ZPmean_chi2dof</th>\n",
       "      <th>ZPmean_chi2dofR</th>\n",
       "      <th>Zmmax</th>\n",
       "      <th>Zampl</th>\n",
       "      <th>Lindicator</th>\n",
       "      <th>Llimit</th>\n",
       "      <th>Zindicator</th>\n",
       "      <th>Zlimit</th>\n",
       "    </tr>\n",
       "  </thead>\n",
       "  <tbody>\n",
       "    <tr>\n",
       "      <th>2</th>\n",
       "      <td>62892</td>\n",
       "      <td>0.530776</td>\n",
       "      <td>0.530785</td>\n",
       "      <td>0.530781</td>\n",
       "      <td>1.000017</td>\n",
       "      <td>276.0</td>\n",
       "      <td>0.108544</td>\n",
       "      <td>1.058829</td>\n",
       "      <td>0.934727</td>\n",
       "      <td>0.114002</td>\n",
       "      <td>...</td>\n",
       "      <td>3.137436</td>\n",
       "      <td>0.069562</td>\n",
       "      <td>19.794606</td>\n",
       "      <td>3.288505</td>\n",
       "      <td>15.961735</td>\n",
       "      <td>0.641651</td>\n",
       "      <td>1</td>\n",
       "      <td>0.3</td>\n",
       "      <td>1.0</td>\n",
       "      <td>0.3</td>\n",
       "    </tr>\n",
       "    <tr>\n",
       "      <th>7</th>\n",
       "      <td>136668</td>\n",
       "      <td>0.532922</td>\n",
       "      <td>0.532929</td>\n",
       "      <td>0.532926</td>\n",
       "      <td>1.000012</td>\n",
       "      <td>310.0</td>\n",
       "      <td>0.122892</td>\n",
       "      <td>1.639568</td>\n",
       "      <td>1.114588</td>\n",
       "      <td>0.121226</td>\n",
       "      <td>...</td>\n",
       "      <td>2.309517</td>\n",
       "      <td>0.050996</td>\n",
       "      <td>19.659028</td>\n",
       "      <td>2.478210</td>\n",
       "      <td>16.107864</td>\n",
       "      <td>0.775380</td>\n",
       "      <td>1</td>\n",
       "      <td>0.3</td>\n",
       "      <td>1.0</td>\n",
       "      <td>0.3</td>\n",
       "    </tr>\n",
       "    <tr>\n",
       "      <th>16</th>\n",
       "      <td>215632</td>\n",
       "      <td>0.572162</td>\n",
       "      <td>0.572166</td>\n",
       "      <td>0.572164</td>\n",
       "      <td>1.000008</td>\n",
       "      <td>286.0</td>\n",
       "      <td>0.049926</td>\n",
       "      <td>0.944326</td>\n",
       "      <td>0.964423</td>\n",
       "      <td>0.050853</td>\n",
       "      <td>...</td>\n",
       "      <td>1.318336</td>\n",
       "      <td>0.025191</td>\n",
       "      <td>3.686780</td>\n",
       "      <td>1.354043</td>\n",
       "      <td>15.594858</td>\n",
       "      <td>0.683728</td>\n",
       "      <td>0</td>\n",
       "      <td>0.3</td>\n",
       "      <td>1.0</td>\n",
       "      <td>0.3</td>\n",
       "    </tr>\n",
       "    <tr>\n",
       "      <th>19</th>\n",
       "      <td>303860</td>\n",
       "      <td>0.492145</td>\n",
       "      <td>0.492164</td>\n",
       "      <td>0.492155</td>\n",
       "      <td>1.000040</td>\n",
       "      <td>280.0</td>\n",
       "      <td>0.090758</td>\n",
       "      <td>3.474911</td>\n",
       "      <td>1.398451</td>\n",
       "      <td>0.100403</td>\n",
       "      <td>...</td>\n",
       "      <td>3.035580</td>\n",
       "      <td>0.056274</td>\n",
       "      <td>49.825915</td>\n",
       "      <td>3.438669</td>\n",
       "      <td>15.599545</td>\n",
       "      <td>0.768657</td>\n",
       "      <td>0</td>\n",
       "      <td>0.3</td>\n",
       "      <td>1.0</td>\n",
       "      <td>0.3</td>\n",
       "    </tr>\n",
       "    <tr>\n",
       "      <th>21</th>\n",
       "      <td>355767</td>\n",
       "      <td>0.521368</td>\n",
       "      <td>0.521363</td>\n",
       "      <td>0.521366</td>\n",
       "      <td>0.999991</td>\n",
       "      <td>180.0</td>\n",
       "      <td>0.103821</td>\n",
       "      <td>0.987307</td>\n",
       "      <td>0.878734</td>\n",
       "      <td>0.109992</td>\n",
       "      <td>...</td>\n",
       "      <td>2.030014</td>\n",
       "      <td>0.037770</td>\n",
       "      <td>6.269881</td>\n",
       "      <td>1.994488</td>\n",
       "      <td>16.344715</td>\n",
       "      <td>0.842194</td>\n",
       "      <td>0</td>\n",
       "      <td>0.3</td>\n",
       "      <td>1.0</td>\n",
       "      <td>0.3</td>\n",
       "    </tr>\n",
       "  </tbody>\n",
       "</table>\n",
       "<p>5 rows × 27 columns</p>\n",
       "</div>"
      ],
      "text/plain": [
       "    LINEAR id   Plinear      Pztf     Pmean    Pratio  NdataLINEAR  \\\n",
       "2       62892  0.530776  0.530785  0.530781  1.000017        276.0   \n",
       "7      136668  0.532922  0.532929  0.532926  1.000012        310.0   \n",
       "16     215632  0.572162  0.572166  0.572164  1.000008        286.0   \n",
       "19     303860  0.492145  0.492164  0.492155  1.000040        280.0   \n",
       "21     355767  0.521368  0.521363  0.521366  0.999991        180.0   \n",
       "\n",
       "    LPlin_rmsdmag  LPlin_chi2dof  LPlin_chi2dofR  LPmean_rmsdmag  ...  \\\n",
       "2        0.108544       1.058829        0.934727        0.114002  ...   \n",
       "7        0.122892       1.639568        1.114588        0.121226  ...   \n",
       "16       0.049926       0.944326        0.964423        0.050853  ...   \n",
       "19       0.090758       3.474911        1.398451        0.100403  ...   \n",
       "21       0.103821       0.987307        0.878734        0.109992  ...   \n",
       "\n",
       "    ZPztf_chi2dofR  ZPmean_rmsdmag  ZPmean_chi2dof  ZPmean_chi2dofR  \\\n",
       "2         3.137436        0.069562       19.794606         3.288505   \n",
       "7         2.309517        0.050996       19.659028         2.478210   \n",
       "16        1.318336        0.025191        3.686780         1.354043   \n",
       "19        3.035580        0.056274       49.825915         3.438669   \n",
       "21        2.030014        0.037770        6.269881         1.994488   \n",
       "\n",
       "        Zmmax     Zampl  Lindicator  Llimit  Zindicator  Zlimit  \n",
       "2   15.961735  0.641651           1     0.3         1.0     0.3  \n",
       "7   16.107864  0.775380           1     0.3         1.0     0.3  \n",
       "16  15.594858  0.683728           0     0.3         1.0     0.3  \n",
       "19  15.599545  0.768657           0     0.3         1.0     0.3  \n",
       "21  16.344715  0.842194           0     0.3         1.0     0.3  \n",
       "\n",
       "[5 rows x 27 columns]"
      ]
     },
     "execution_count": 82,
     "metadata": {},
     "output_type": "execute_result"
    }
   ],
   "source": [
    "l = LC_ANALYSIS.loc[LC_ANALYSIS['Zindicator'] == 1]\n",
    "l.head()"
   ]
  },
  {
   "cell_type": "code",
   "execution_count": null,
   "metadata": {},
   "outputs": [],
   "source": []
  }
 ],
 "metadata": {
  "kernelspec": {
   "display_name": "var_stars",
   "language": "python",
   "name": "python3"
  },
  "language_info": {
   "codemirror_mode": {
    "name": "ipython",
    "version": 3
   },
   "file_extension": ".py",
   "mimetype": "text/x-python",
   "name": "python",
   "nbconvert_exporter": "python",
   "pygments_lexer": "ipython3",
   "version": "3.10.4"
  },
  "orig_nbformat": 4
 },
 "nbformat": 4,
 "nbformat_minor": 2
}
