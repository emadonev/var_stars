{
 "cells": [
  {
   "cell_type": "raw",
   "metadata": {},
   "source": [
    "---\n",
    "title: \"Calculating parameters for the analysis of RR Lyrae stars in search for the Blazhko effect\"\n",
    "theme: \"lux\"\n",
    "format:\n",
    "    html:\n",
    "        code-fold: true\n",
    "---"
   ]
  },
  {
   "cell_type": "code",
   "execution_count": 2,
   "metadata": {},
   "outputs": [
    {
     "name": "stdout",
     "output_type": "stream",
     "text": [
      "The autoreload extension is already loaded. To reload it, use:\n",
      "  %reload_ext autoreload\n"
     ]
    }
   ],
   "source": [
    "%load_ext autoreload\n",
    "%autoreload 2"
   ]
  },
  {
   "cell_type": "markdown",
   "metadata": {},
   "source": [
    "*Authors: Ema Donev and dr. Ivezić*\n",
    "\n",
    "In this notebook we tackle the portion of our stars which are RR Lyraes. We use a fine-grid Lomb Scargle periodogram to calculate the periods of `LINEAR` and `ZTF` light curves, after querying for `ZTF` data, to ensure that the `LINEAR` and its `ZTF` counterpart are fully and correctly matched. We use the periodogram given by the Lomb-Scargle method and use it to indicate the star as a possible Blazhko star. Then we proceed to fitting the light curves and calculating rms and chi-2 metrics. We save all of this data and use it for later analysis."
   ]
  },
  {
   "cell_type": "code",
   "execution_count": 3,
   "metadata": {},
   "outputs": [],
   "source": [
    "#| code-fold: false\n",
    "# IMPORTING LIBRARIES\n",
    "# --------------------\n",
    "\n",
    "# AstroML & Astropy\n",
    "from astroML.datasets import fetch_LINEAR_sample\n",
    "from astropy.timeseries import LombScargle\n",
    "from astroML.datasets import fetch_LINEAR_sample\n",
    "from astroML.datasets import fetch_LINEAR_geneva\n",
    "from astropy.timeseries import TimeSeries\n",
    "from astropy.table import Table\n",
    "from astroML.time_series import MultiTermFit\n",
    "\n",
    "# ZTF\n",
    "from ztfquery import lightcurve\n",
    "\n",
    "# Basic libraries\n",
    "import random\n",
    "import pickle\n",
    "import os\n",
    "import sys\n",
    "from tqdm import tqdm\n",
    "\n",
    "# Plotting\n",
    "import seaborn as sns\n",
    "from matplotlib import pyplot as plt\n",
    "from matplotlib import ticker\n",
    "import matplotlib.colors as mcolors\n",
    "from matplotlib.font_manager import FontProperties\n",
    "\n",
    "# DataFrame analysis\n",
    "import pandas as pd\n",
    "import dask.dataframe as dd \n",
    "\n",
    "# Math libraries\n",
    "import numpy as np\n",
    "import scipy as sc\n",
    "from scipy.stats import norm\n",
    "from scipy.signal import find_peaks\n",
    "from array import array"
   ]
  },
  {
   "cell_type": "code",
   "execution_count": 4,
   "metadata": {},
   "outputs": [],
   "source": [
    "#| code-fold: false\n",
    "# CONFIG\n",
    "sns.set_theme() # setting the theme for plotting\n",
    "np.random.seed(42)\n",
    "\n",
    "colors = ['#1A090D', '#D8C99B', '#D8973C', '#BD632F', '#273E47']\n",
    "cmap = mcolors.ListedColormap(colors)\n",
    "\n",
    "font = FontProperties()\n",
    "font.set_family('avenir')\n",
    "font.set_name('Avenir')\n",
    "font.set_style('normal')\n",
    "font.set_size('xx-large')\n",
    "\n",
    "%matplotlib inline  "
   ]
  },
  {
   "cell_type": "code",
   "execution_count": 5,
   "metadata": {},
   "outputs": [
    {
     "name": "stdout",
     "output_type": "stream",
     "text": [
      "Loading the data!\n"
     ]
    }
   ],
   "source": [
    "#| code-fold: false\n",
    "# Importing custom libraries\n",
    "# ----------------------------\n",
    "sys.path.insert(0,'../src/')\n",
    "from config import*\n",
    "from descriptive_stats import *\n",
    "from plots import *\n",
    "\n",
    "from selection import *\n",
    "from lc_analysis import *"
   ]
  },
  {
   "cell_type": "code",
   "execution_count": 6,
   "metadata": {},
   "outputs": [],
   "source": [
    "#| code-fold: false\n",
    "# LINEAR DATA\n",
    "data = fetch_LINEAR_sample(data_home='../inputs') # fetching the data from astroML data library"
   ]
  },
  {
   "cell_type": "markdown",
   "metadata": {},
   "source": [
    "# Methods"
   ]
  },
  {
   "cell_type": "markdown",
   "metadata": {},
   "source": [
    "The Lomb-Scargle method of computing the period of a variable star using light curves involves fitting multi-level sinusoidal waves to our light curve data over various trial periods, and the period with the most prominent strength or the best fit is the actual period."
   ]
  },
  {
   "cell_type": "markdown",
   "metadata": {},
   "source": [
    "This is the formula for the Lomb-Scargle periodogram:\n",
    "\n",
    "$$P(ω)= \\frac{1}{2σ^2}​*(\\frac{[∑y_k cosω(t_k−τ)]^2}{∑cos^2 ω(t_k−τ)} + \\frac{[∑y_k sin ω(t_k−τ)]^2}{∑ sin^2 ω(t_k−τ)})$$"
   ]
  },
  {
   "cell_type": "markdown",
   "metadata": {},
   "source": [
    "- $ω$ is the frequency we test to see if it matches our light curve.\n",
    "- $σ^2$ is the variance of the data. We are dividing by it to normalize the data across all distributions.\n",
    "- $∑y_k cosω(t_k−τ)$ and $∑y_k sin ω(t_k−τ)$: checking how well the fitted cosine and sine waves align with the data. $t_k$ is the particular time point, and $τ$ is the time delay, for efficiency.\n",
    "- $∑cos^2 ω(t_k−τ)$ and $∑ sin^2 ω(t_k−τ)$: normalization of the fitting in order to eliminate bias towards powerful or weak wave components. "
   ]
  },
  {
   "cell_type": "markdown",
   "metadata": {},
   "source": [
    "We use the Lomb-Scargle periodogram because it is the most famous tool for determining the periodic variable stars' period. It combines multiple methods of analysis, with its core being in Fourier analysis, and it operates with non-uniformly spaced data, such is the nature of light curves."
   ]
  },
  {
   "cell_type": "markdown",
   "metadata": {},
   "source": [
    "### Light curve folding (phasing)"
   ]
  },
  {
   "cell_type": "markdown",
   "metadata": {},
   "source": [
    "**Light curve phasing or folding** is when we condense the entire timeseries of the light curve into one *phase*, or one cycle of variability. Phase is defined with the period of the light curve, as such: $$phase = \\frac{time}{period} - int(\\frac{time}{period})$$ This function defines the period as a value from 0 to 1 defining how far in is the star in its variability cycle. We can then adjust the `time` array using this function."
   ]
  },
  {
   "cell_type": "markdown",
   "metadata": {},
   "source": [
    "### Fitting light curves\n",
    "**Light curve fitting** requires a sophisticated function which uses Fourier analysis to correctly fit a curve through light curve `time`, `mag` and `magerr` data. We can define how many terms we want our fit to have. *The more terms we use, the more complicated shapes we can graph*. The fitting is an essential part of light curve analysis, as we can then calculate the goodness of fit and monitor how that fit changes over long periods of time, like in the case of `LINEAR` and `ZTF`."
   ]
  },
  {
   "cell_type": "markdown",
   "metadata": {},
   "source": [
    "### `Chi-2 test` and `RMS scatter`"
   ]
  },
  {
   "cell_type": "markdown",
   "metadata": {},
   "source": [
    "#### `RMS scatter`\n",
    "RMS scatter is a statistical metric that, in this case, measures the goodness of fit versus the actuall data. It is calculated as such: $$RMS = \\sqrt{\\frac{1}{n}\\sum^n_{i=1} x_i^2}$$"
   ]
  },
  {
   "cell_type": "markdown",
   "metadata": {},
   "source": [
    "#### `Chi-2 test`\n",
    "This test asseses the \"goodness of fit\" of light curves, by comparing the fitted values and the actual magnitude values of the light curve. The lower the chi-2 value, the better the correlation between the observed and expected values (based on some model), and the higher the chi-2 value, the poorer the correlation. At which point the value is too high or too low is determined by the statistician, based on the degrees of freedom and the nature of the data. The chi-2 value for every point of a light curve is calculated as such: $$\\chi^2 = \\sum{\\frac{(O_i - E_i)^2}{E_i}}$$"
   ]
  },
  {
   "cell_type": "markdown",
   "metadata": {},
   "source": [
    "# Selecting RR Lyrae stars"
   ]
  },
  {
   "cell_type": "markdown",
   "metadata": {},
   "source": [
    "In order to select the RR Lyrae stars, we need information about their classification type and which stars have enough datapoints for correct period calculation. We access data with the `fetch_LINEAR_geneva()` which contains additional information about the light curves in the **Geneva catalog** of the `LINEAR` variable stars."
   ]
  },
  {
   "cell_type": "markdown",
   "metadata": {},
   "source": [
    "We have calculated the periods of the RR Lyrae stars beforehand with only 3 Fourier coefficients, enough to differentiate \"1 dip\" and \"2 dip\" stars. You can find the entire code for `select_LINEAR` in the `selection.py` file."
   ]
  },
  {
   "cell_type": "code",
   "execution_count": 7,
   "metadata": {},
   "outputs": [
    {
     "data": {
      "text/html": [
       "<div>\n",
       "<style scoped>\n",
       "    .dataframe tbody tr th:only-of-type {\n",
       "        vertical-align: middle;\n",
       "    }\n",
       "\n",
       "    .dataframe tbody tr th {\n",
       "        vertical-align: top;\n",
       "    }\n",
       "\n",
       "    .dataframe thead th {\n",
       "        text-align: right;\n",
       "    }\n",
       "</style>\n",
       "<table border=\"1\" class=\"dataframe\">\n",
       "  <thead>\n",
       "    <tr style=\"text-align: right;\">\n",
       "      <th></th>\n",
       "      <th>ID</th>\n",
       "      <th>Porig</th>\n",
       "      <th>Pnew</th>\n",
       "      <th>ra</th>\n",
       "      <th>dec</th>\n",
       "      <th>ug</th>\n",
       "      <th>gi</th>\n",
       "      <th>iK</th>\n",
       "      <th>JK</th>\n",
       "      <th>logP</th>\n",
       "      <th>Ampl</th>\n",
       "      <th>skew</th>\n",
       "      <th>kurt</th>\n",
       "      <th>magMed</th>\n",
       "      <th>nObs</th>\n",
       "      <th>LCtype</th>\n",
       "    </tr>\n",
       "  </thead>\n",
       "  <tbody>\n",
       "    <tr>\n",
       "      <th>0</th>\n",
       "      <td>29848</td>\n",
       "      <td>0.557009</td>\n",
       "      <td>0.557019</td>\n",
       "      <td>119.526443</td>\n",
       "      <td>46.962120</td>\n",
       "      <td>1.17</td>\n",
       "      <td>0.37</td>\n",
       "      <td>1.02</td>\n",
       "      <td>0.27</td>\n",
       "      <td>-0.254138</td>\n",
       "      <td>0.62</td>\n",
       "      <td>-0.31</td>\n",
       "      <td>-0.57</td>\n",
       "      <td>16.37</td>\n",
       "      <td>301</td>\n",
       "      <td>1</td>\n",
       "    </tr>\n",
       "    <tr>\n",
       "      <th>1</th>\n",
       "      <td>32086</td>\n",
       "      <td>0.569258</td>\n",
       "      <td>0.569266</td>\n",
       "      <td>119.324013</td>\n",
       "      <td>47.095505</td>\n",
       "      <td>1.36</td>\n",
       "      <td>0.52</td>\n",
       "      <td>1.17</td>\n",
       "      <td>0.31</td>\n",
       "      <td>-0.244691</td>\n",
       "      <td>0.71</td>\n",
       "      <td>-0.49</td>\n",
       "      <td>-1.00</td>\n",
       "      <td>15.02</td>\n",
       "      <td>289</td>\n",
       "      <td>1</td>\n",
       "    </tr>\n",
       "    <tr>\n",
       "      <th>2</th>\n",
       "      <td>50402</td>\n",
       "      <td>0.643293</td>\n",
       "      <td>0.643286</td>\n",
       "      <td>119.712975</td>\n",
       "      <td>52.149574</td>\n",
       "      <td>1.18</td>\n",
       "      <td>0.39</td>\n",
       "      <td>1.10</td>\n",
       "      <td>0.20</td>\n",
       "      <td>-0.191591</td>\n",
       "      <td>0.49</td>\n",
       "      <td>-0.29</td>\n",
       "      <td>-0.88</td>\n",
       "      <td>16.46</td>\n",
       "      <td>284</td>\n",
       "      <td>1</td>\n",
       "    </tr>\n",
       "    <tr>\n",
       "      <th>3</th>\n",
       "      <td>61011</td>\n",
       "      <td>0.662369</td>\n",
       "      <td>0.662376</td>\n",
       "      <td>118.491257</td>\n",
       "      <td>53.168125</td>\n",
       "      <td>0.81</td>\n",
       "      <td>0.55</td>\n",
       "      <td>1.62</td>\n",
       "      <td>0.20</td>\n",
       "      <td>-0.178900</td>\n",
       "      <td>0.69</td>\n",
       "      <td>-0.03</td>\n",
       "      <td>-1.06</td>\n",
       "      <td>14.08</td>\n",
       "      <td>274</td>\n",
       "      <td>1</td>\n",
       "    </tr>\n",
       "    <tr>\n",
       "      <th>4</th>\n",
       "      <td>62892</td>\n",
       "      <td>0.530772</td>\n",
       "      <td>0.530764</td>\n",
       "      <td>119.187241</td>\n",
       "      <td>53.379295</td>\n",
       "      <td>1.12</td>\n",
       "      <td>0.21</td>\n",
       "      <td>1.07</td>\n",
       "      <td>0.21</td>\n",
       "      <td>-0.275092</td>\n",
       "      <td>0.62</td>\n",
       "      <td>-0.55</td>\n",
       "      <td>-0.32</td>\n",
       "      <td>16.54</td>\n",
       "      <td>276</td>\n",
       "      <td>1</td>\n",
       "    </tr>\n",
       "  </tbody>\n",
       "</table>\n",
       "</div>"
      ],
      "text/plain": [
       "      ID     Porig      Pnew          ra        dec    ug    gi    iK    JK  \\\n",
       "0  29848  0.557009  0.557019  119.526443  46.962120  1.17  0.37  1.02  0.27   \n",
       "1  32086  0.569258  0.569266  119.324013  47.095505  1.36  0.52  1.17  0.31   \n",
       "2  50402  0.643293  0.643286  119.712975  52.149574  1.18  0.39  1.10  0.20   \n",
       "3  61011  0.662369  0.662376  118.491257  53.168125  0.81  0.55  1.62  0.20   \n",
       "4  62892  0.530772  0.530764  119.187241  53.379295  1.12  0.21  1.07  0.21   \n",
       "\n",
       "       logP  Ampl  skew  kurt  magMed  nObs  LCtype  \n",
       "0 -0.254138  0.62 -0.31 -0.57   16.37   301       1  \n",
       "1 -0.244691  0.71 -0.49 -1.00   15.02   289       1  \n",
       "2 -0.191591  0.49 -0.29 -0.88   16.46   284       1  \n",
       "3 -0.178900  0.69 -0.03 -1.06   14.08   274       1  \n",
       "4 -0.275092  0.62 -0.55 -0.32   16.54   276       1  "
      ]
     },
     "execution_count": 7,
     "metadata": {},
     "output_type": "execute_result"
    }
   ],
   "source": [
    "#| code-fold: false\n",
    "L = select_LINEAR('LINEAR_Periods_nterm3')\n",
    "L.head()"
   ]
  },
  {
   "cell_type": "code",
   "execution_count": 8,
   "metadata": {},
   "outputs": [
    {
     "data": {
      "text/plain": [
       "(5204, 16)"
      ]
     },
     "execution_count": 8,
     "metadata": {},
     "output_type": "execute_result"
    }
   ],
   "source": [
    "L.shape"
   ]
  },
  {
   "cell_type": "markdown",
   "metadata": {},
   "source": [
    "We have now selected all of the \"good\" `LINEAR` IDs, now we need to select the RR Lyrae stars."
   ]
  },
  {
   "cell_type": "markdown",
   "metadata": {},
   "source": [
    "We first select \"1 dip stars\" using the coefficient between the original (correct) and our calculated period. Since 1 dip stars are easy to calculate periods for, they should match very well (from a range from 0.99 to 1.01). However, Eclipsing Binaries do not match up well, and often times have a ratio where our calculated period is 2 times bigger than the correct one. This is the easiest way to differentiate the two."
   ]
  },
  {
   "cell_type": "code",
   "execution_count": 9,
   "metadata": {},
   "outputs": [
    {
     "data": {
      "text/html": [
       "<div>\n",
       "<style scoped>\n",
       "    .dataframe tbody tr th:only-of-type {\n",
       "        vertical-align: middle;\n",
       "    }\n",
       "\n",
       "    .dataframe tbody tr th {\n",
       "        vertical-align: top;\n",
       "    }\n",
       "\n",
       "    .dataframe thead th {\n",
       "        text-align: right;\n",
       "    }\n",
       "</style>\n",
       "<table border=\"1\" class=\"dataframe\">\n",
       "  <thead>\n",
       "    <tr style=\"text-align: right;\">\n",
       "      <th></th>\n",
       "      <th>ID</th>\n",
       "      <th>Porig</th>\n",
       "      <th>Pnew</th>\n",
       "      <th>ra</th>\n",
       "      <th>dec</th>\n",
       "      <th>ug</th>\n",
       "      <th>gi</th>\n",
       "      <th>iK</th>\n",
       "      <th>JK</th>\n",
       "      <th>logP</th>\n",
       "      <th>Ampl</th>\n",
       "      <th>skew</th>\n",
       "      <th>kurt</th>\n",
       "      <th>magMed</th>\n",
       "      <th>nObs</th>\n",
       "      <th>LCtype</th>\n",
       "    </tr>\n",
       "  </thead>\n",
       "  <tbody>\n",
       "    <tr>\n",
       "      <th>0</th>\n",
       "      <td>29848</td>\n",
       "      <td>0.557009</td>\n",
       "      <td>0.557019</td>\n",
       "      <td>119.526443</td>\n",
       "      <td>46.962120</td>\n",
       "      <td>1.17</td>\n",
       "      <td>0.37</td>\n",
       "      <td>1.02</td>\n",
       "      <td>0.27</td>\n",
       "      <td>-0.254138</td>\n",
       "      <td>0.62</td>\n",
       "      <td>-0.31</td>\n",
       "      <td>-0.57</td>\n",
       "      <td>16.37</td>\n",
       "      <td>301</td>\n",
       "      <td>1</td>\n",
       "    </tr>\n",
       "    <tr>\n",
       "      <th>1</th>\n",
       "      <td>32086</td>\n",
       "      <td>0.569258</td>\n",
       "      <td>0.569266</td>\n",
       "      <td>119.324013</td>\n",
       "      <td>47.095505</td>\n",
       "      <td>1.36</td>\n",
       "      <td>0.52</td>\n",
       "      <td>1.17</td>\n",
       "      <td>0.31</td>\n",
       "      <td>-0.244691</td>\n",
       "      <td>0.71</td>\n",
       "      <td>-0.49</td>\n",
       "      <td>-1.00</td>\n",
       "      <td>15.02</td>\n",
       "      <td>289</td>\n",
       "      <td>1</td>\n",
       "    </tr>\n",
       "    <tr>\n",
       "      <th>2</th>\n",
       "      <td>50402</td>\n",
       "      <td>0.643293</td>\n",
       "      <td>0.643286</td>\n",
       "      <td>119.712975</td>\n",
       "      <td>52.149574</td>\n",
       "      <td>1.18</td>\n",
       "      <td>0.39</td>\n",
       "      <td>1.10</td>\n",
       "      <td>0.20</td>\n",
       "      <td>-0.191591</td>\n",
       "      <td>0.49</td>\n",
       "      <td>-0.29</td>\n",
       "      <td>-0.88</td>\n",
       "      <td>16.46</td>\n",
       "      <td>284</td>\n",
       "      <td>1</td>\n",
       "    </tr>\n",
       "    <tr>\n",
       "      <th>3</th>\n",
       "      <td>61011</td>\n",
       "      <td>0.662369</td>\n",
       "      <td>0.662376</td>\n",
       "      <td>118.491257</td>\n",
       "      <td>53.168125</td>\n",
       "      <td>0.81</td>\n",
       "      <td>0.55</td>\n",
       "      <td>1.62</td>\n",
       "      <td>0.20</td>\n",
       "      <td>-0.178900</td>\n",
       "      <td>0.69</td>\n",
       "      <td>-0.03</td>\n",
       "      <td>-1.06</td>\n",
       "      <td>14.08</td>\n",
       "      <td>274</td>\n",
       "      <td>1</td>\n",
       "    </tr>\n",
       "    <tr>\n",
       "      <th>4</th>\n",
       "      <td>62892</td>\n",
       "      <td>0.530772</td>\n",
       "      <td>0.530764</td>\n",
       "      <td>119.187241</td>\n",
       "      <td>53.379295</td>\n",
       "      <td>1.12</td>\n",
       "      <td>0.21</td>\n",
       "      <td>1.07</td>\n",
       "      <td>0.21</td>\n",
       "      <td>-0.275092</td>\n",
       "      <td>0.62</td>\n",
       "      <td>-0.55</td>\n",
       "      <td>-0.32</td>\n",
       "      <td>16.54</td>\n",
       "      <td>276</td>\n",
       "      <td>1</td>\n",
       "    </tr>\n",
       "  </tbody>\n",
       "</table>\n",
       "</div>"
      ],
      "text/plain": [
       "      ID     Porig      Pnew          ra        dec    ug    gi    iK    JK  \\\n",
       "0  29848  0.557009  0.557019  119.526443  46.962120  1.17  0.37  1.02  0.27   \n",
       "1  32086  0.569258  0.569266  119.324013  47.095505  1.36  0.52  1.17  0.31   \n",
       "2  50402  0.643293  0.643286  119.712975  52.149574  1.18  0.39  1.10  0.20   \n",
       "3  61011  0.662369  0.662376  118.491257  53.168125  0.81  0.55  1.62  0.20   \n",
       "4  62892  0.530772  0.530764  119.187241  53.379295  1.12  0.21  1.07  0.21   \n",
       "\n",
       "       logP  Ampl  skew  kurt  magMed  nObs  LCtype  \n",
       "0 -0.254138  0.62 -0.31 -0.57   16.37   301       1  \n",
       "1 -0.244691  0.71 -0.49 -1.00   15.02   289       1  \n",
       "2 -0.191591  0.49 -0.29 -0.88   16.46   284       1  \n",
       "3 -0.178900  0.69 -0.03 -1.06   14.08   274       1  \n",
       "4 -0.275092  0.62 -0.55 -0.32   16.54   276       1  "
      ]
     },
     "execution_count": 9,
     "metadata": {},
     "output_type": "execute_result"
    }
   ],
   "source": [
    "#| code-fold: false\n",
    "# SELECTING 1 dip STARS\n",
    "# -------------------------\n",
    "\n",
    "P_ratio = L['Porig']/L['Pnew']\n",
    "\n",
    "L_1 = L[(P_ratio>0.99)&(P_ratio<1.01)] # where the ratio between the original (correct) and currently calculated periods are 1:1\n",
    "L_1.head()"
   ]
  },
  {
   "cell_type": "code",
   "execution_count": 10,
   "metadata": {},
   "outputs": [
    {
     "data": {
      "text/plain": [
       "(3100, 16)"
      ]
     },
     "execution_count": 10,
     "metadata": {},
     "output_type": "execute_result"
    }
   ],
   "source": [
    "L_1.shape"
   ]
  },
  {
   "cell_type": "markdown",
   "metadata": {},
   "source": [
    "Now, we select the *RR Lyrae* stars using the color filter values `(g-i)` and the light curve classification `(LCtype)`. "
   ]
  },
  {
   "cell_type": "code",
   "execution_count": 11,
   "metadata": {},
   "outputs": [
    {
     "name": "stdout",
     "output_type": "stream",
     "text": [
      "2144 566\n"
     ]
    },
    {
     "data": {
      "text/html": [
       "<div>\n",
       "<style scoped>\n",
       "    .dataframe tbody tr th:only-of-type {\n",
       "        vertical-align: middle;\n",
       "    }\n",
       "\n",
       "    .dataframe tbody tr th {\n",
       "        vertical-align: top;\n",
       "    }\n",
       "\n",
       "    .dataframe thead th {\n",
       "        text-align: right;\n",
       "    }\n",
       "</style>\n",
       "<table border=\"1\" class=\"dataframe\">\n",
       "  <thead>\n",
       "    <tr style=\"text-align: right;\">\n",
       "      <th></th>\n",
       "      <th>ID</th>\n",
       "      <th>Porig</th>\n",
       "      <th>Pnew</th>\n",
       "      <th>ra</th>\n",
       "      <th>dec</th>\n",
       "      <th>ug</th>\n",
       "      <th>gi</th>\n",
       "      <th>iK</th>\n",
       "      <th>JK</th>\n",
       "      <th>logP</th>\n",
       "      <th>Ampl</th>\n",
       "      <th>skew</th>\n",
       "      <th>kurt</th>\n",
       "      <th>magMed</th>\n",
       "      <th>nObs</th>\n",
       "      <th>LCtype</th>\n",
       "    </tr>\n",
       "  </thead>\n",
       "  <tbody>\n",
       "    <tr>\n",
       "      <th>0</th>\n",
       "      <td>29848</td>\n",
       "      <td>0.557009</td>\n",
       "      <td>0.557019</td>\n",
       "      <td>119.526443</td>\n",
       "      <td>46.962120</td>\n",
       "      <td>1.17</td>\n",
       "      <td>0.37</td>\n",
       "      <td>1.02</td>\n",
       "      <td>0.27</td>\n",
       "      <td>-0.254138</td>\n",
       "      <td>0.62</td>\n",
       "      <td>-0.31</td>\n",
       "      <td>-0.57</td>\n",
       "      <td>16.37</td>\n",
       "      <td>301</td>\n",
       "      <td>1</td>\n",
       "    </tr>\n",
       "    <tr>\n",
       "      <th>2</th>\n",
       "      <td>50402</td>\n",
       "      <td>0.643293</td>\n",
       "      <td>0.643286</td>\n",
       "      <td>119.712975</td>\n",
       "      <td>52.149574</td>\n",
       "      <td>1.18</td>\n",
       "      <td>0.39</td>\n",
       "      <td>1.10</td>\n",
       "      <td>0.20</td>\n",
       "      <td>-0.191591</td>\n",
       "      <td>0.49</td>\n",
       "      <td>-0.29</td>\n",
       "      <td>-0.88</td>\n",
       "      <td>16.46</td>\n",
       "      <td>284</td>\n",
       "      <td>1</td>\n",
       "    </tr>\n",
       "    <tr>\n",
       "      <th>4</th>\n",
       "      <td>62892</td>\n",
       "      <td>0.530772</td>\n",
       "      <td>0.530764</td>\n",
       "      <td>119.187241</td>\n",
       "      <td>53.379295</td>\n",
       "      <td>1.12</td>\n",
       "      <td>0.21</td>\n",
       "      <td>1.07</td>\n",
       "      <td>0.21</td>\n",
       "      <td>-0.275092</td>\n",
       "      <td>0.62</td>\n",
       "      <td>-0.55</td>\n",
       "      <td>-0.32</td>\n",
       "      <td>16.54</td>\n",
       "      <td>276</td>\n",
       "      <td>1</td>\n",
       "    </tr>\n",
       "    <tr>\n",
       "      <th>5</th>\n",
       "      <td>91437</td>\n",
       "      <td>0.674728</td>\n",
       "      <td>0.674711</td>\n",
       "      <td>120.294960</td>\n",
       "      <td>40.932457</td>\n",
       "      <td>1.18</td>\n",
       "      <td>0.24</td>\n",
       "      <td>1.09</td>\n",
       "      <td>0.37</td>\n",
       "      <td>-0.170871</td>\n",
       "      <td>0.75</td>\n",
       "      <td>-0.12</td>\n",
       "      <td>-0.93</td>\n",
       "      <td>15.39</td>\n",
       "      <td>177</td>\n",
       "      <td>1</td>\n",
       "    </tr>\n",
       "    <tr>\n",
       "      <th>6</th>\n",
       "      <td>95250</td>\n",
       "      <td>0.313869</td>\n",
       "      <td>0.313869</td>\n",
       "      <td>120.124542</td>\n",
       "      <td>40.656620</td>\n",
       "      <td>1.18</td>\n",
       "      <td>-0.14</td>\n",
       "      <td>0.83</td>\n",
       "      <td>0.28</td>\n",
       "      <td>-0.503252</td>\n",
       "      <td>0.55</td>\n",
       "      <td>0.14</td>\n",
       "      <td>-0.65</td>\n",
       "      <td>16.98</td>\n",
       "      <td>222</td>\n",
       "      <td>2</td>\n",
       "    </tr>\n",
       "  </tbody>\n",
       "</table>\n",
       "</div>"
      ],
      "text/plain": [
       "      ID     Porig      Pnew          ra        dec    ug    gi    iK    JK  \\\n",
       "0  29848  0.557009  0.557019  119.526443  46.962120  1.17  0.37  1.02  0.27   \n",
       "2  50402  0.643293  0.643286  119.712975  52.149574  1.18  0.39  1.10  0.20   \n",
       "4  62892  0.530772  0.530764  119.187241  53.379295  1.12  0.21  1.07  0.21   \n",
       "5  91437  0.674728  0.674711  120.294960  40.932457  1.18  0.24  1.09  0.37   \n",
       "6  95250  0.313869  0.313869  120.124542  40.656620  1.18 -0.14  0.83  0.28   \n",
       "\n",
       "       logP  Ampl  skew  kurt  magMed  nObs  LCtype  \n",
       "0 -0.254138  0.62 -0.31 -0.57   16.37   301       1  \n",
       "2 -0.191591  0.49 -0.29 -0.88   16.46   284       1  \n",
       "4 -0.275092  0.62 -0.55 -0.32   16.54   276       1  \n",
       "5 -0.170871  0.75 -0.12 -0.93   15.39   177       1  \n",
       "6 -0.503252  0.55  0.14 -0.65   16.98   222       2  "
      ]
     },
     "execution_count": 11,
     "metadata": {},
     "output_type": "execute_result"
    }
   ],
   "source": [
    "#| code-fold: false\n",
    "Lrrlyr = L_1[(L_1['gi']>-0.5)&(L_1['gi']<0.4)&(L_1['LCtype']>0)&(L_1['LCtype']<3)] # RR lyrae type\n",
    "Lab = Lrrlyr[Lrrlyr['LCtype']==1] # RRab type\n",
    "Lc = Lrrlyr[Lrrlyr['LCtype']==2] # RRc type\n",
    "print(len(Lab), len(Lc))\n",
    "Lrrlyr.head()"
   ]
  },
  {
   "cell_type": "markdown",
   "metadata": {},
   "source": [
    "We now have 2710 RR Lyrae stars from the `LINEAR` database. We can differentiate them further into *RR Lyrae AB* and *RR Lyrae C* types, but this can be done later (we just have to conserve the `LCtype` column)."
   ]
  },
  {
   "cell_type": "markdown",
   "metadata": {},
   "source": [
    "# Analysis of RRab Lyrae stars"
   ]
  },
  {
   "cell_type": "markdown",
   "metadata": {},
   "source": [
    "In this section we showcase the code used for the entire analysis. The definitions of functions can be found in the `lc_analysis.py` file."
   ]
  },
  {
   "cell_type": "code",
   "execution_count": 12,
   "metadata": {},
   "outputs": [
    {
     "name": "stdout",
     "output_type": "stream",
     "text": [
      "(2710,)\n"
     ]
    }
   ],
   "source": [
    "#| code-fold: false\n",
    "# CONFIG BEFORE BIG RUN\n",
    "Lids = Lrrlyr['ID'].to_numpy() # list of good LINEAR Ids\n",
    "print(Lids.shape) # checking the shape\n",
    "lc_type = Lrrlyr['LCtype'].to_numpy()\n",
    "rectascension = Lrrlyr['ra'].to_numpy() # list of rectascension coordinates\n",
    "declination = Lrrlyr['dec'].to_numpy() # list of declination coordinates"
   ]
  },
  {
   "cell_type": "code",
   "execution_count": 14,
   "metadata": {},
   "outputs": [],
   "source": [
    "#| code-fold: false\n",
    "lc_analysis = {}\n",
    "fits = []\n",
    "PERIODOGRAMS = []\n",
    "distances = []\n",
    "end = 'complete'\n",
    "\n",
    "if os.path.isfile(\"../outputs/distances_\"+end+\".npy\") and os.path.isfile(\"../outputs/fits_\"+end+\".npy\") and os.path.isfile(\"../outputs/LC_ANALYSIS_FINAL.csv\") and os.path.isfile(\"../outputs/periodograms_c_\"+end+\".pkl\"):\n",
    "    lightcurve_analysis = pd.read_csv(\"../outputs/LC_ANALYSIS_FINAL.csv\")\n",
    "    periodograms = pickle.load(open(\"../outputs/periodograms_c_\"+end+\".pkl\", \"rb\"))\n",
    "    fits = np.load(\"../outputs/fits_\"+end+\".npy\", allow_pickle=True)\n",
    "    distances_per = np.load(\"../outputs/distances_\"+end+\".npy\", allow_pickle=True)\n",
    "else:\n",
    "    for n, i in enumerate(tqdm(range(len(Lids)))):\n",
    "        STAR = []\n",
    "        # STEP 1: Gather the data\n",
    "        # --------------------------\n",
    "        # LINEAR\n",
    "        Lid = Lids[i]\n",
    "        tL, mL, mLerr = data.get_light_curve(Lid).T\n",
    "        ra = rectascension[i]\n",
    "        dec = declination[i]\n",
    "\n",
    "        # ZTF\n",
    "        ZTFdata = getZTFlightcurve(ra, dec)\n",
    "\n",
    "        # STEP 2: Calculating the periods + accessing the periodograms\n",
    "        # ---------------------------------------------------------------\n",
    "        nterms = 3\n",
    "        Plinear, fL, pL = doPeriods(tL, mL, mLerr, nterms, lsPS=True)\n",
    "        if ZTFdata.size==0:\n",
    "            Pztf, fZ, pZ = 0,np.array(()),np.array(())\n",
    "        else:\n",
    "            Pztf, fZ, pZ = getZTFperiod(ZTFdata, nterms, ZTFbands=['zg', 'zr', 'zi'], lsPS=True)\n",
    "\n",
    "        Pmean = (Plinear+Pztf)/2\n",
    "        Pratio = Pztf/Plinear\n",
    "\n",
    "        per = (fL, pL, fZ, pZ)\n",
    "        PERIODOGRAMS.append(per)\n",
    "\n",
    "        # STEP 3: Analysing the light curve fits\n",
    "        # ---------------------------------------\n",
    "        ntermsModels = 6\n",
    "        d = ZTFdata.loc[ZTFdata['filtercode'] == 'zr']\n",
    "        timeZ = d['mjd']\n",
    "        magZ = d['mag']\n",
    "        magErrZ = d['magerr']\n",
    "        if ZTF_data.size==0 or d.size==0:\n",
    "            STAR = [Lid,Plinear, Pztf, Pmean, Pratio, np.size(tL),0,0,0,0,0,0,0,0,0,0,0,0,0,0,0,0,0,0]\n",
    "            LINEAR_Plinear, LINEAR_Pmean, ZTF_Pztf, ZTF_Pmean = np.array(()), np.array(()), np.array(()), np.array(())\n",
    "        else:\n",
    "            if np.size(tL)<30 or np.size(timeZ)<30:\n",
    "                STAR = [Lid,Plinear, Pztf, Pmean, Pratio, np.size(tL),0,0,0,0,0,0,0,0,np.size(timeZ),0,0,0,0,0,0,0,0]\n",
    "                LINEAR_Plinear, LINEAR_Pmean, ZTF_Pztf, ZTF_Pmean = np.array(()), np.array(()), np.array(()), np.array(())\n",
    "            else:\n",
    "                if Plinear == 0 or Pztf == 0 or Pmean == 0 or Pratio == 0:\n",
    "                    LINEAR_Plinear, LINEAR_Pmean, ZTF_Pztf, ZTF_Pmean = np.array(()), np.array(()), np.array(()), np.array(())\n",
    "                else:\n",
    "                    LINEAR_Plinear = LCanalysisFromP(tL, mL, mLerr, Plinear, ntermsModels)\n",
    "                    LINEAR_Pmean = LCanalysisFromP(tL, mL, mLerr, Pmean, ntermsModels)\n",
    "\n",
    "\n",
    "                    ZTF_Pztf = LCanalysisFromP(timeZ, magZ, magErrZ, Pztf, ntermsModels)\n",
    "                    ZTF_Pmean = LCanalysisFromP(timeZ, magZ, magErrZ, Pmean, ntermsModels)\n",
    "\n",
    "                    STAR = [Plinear, Pztf, Pmean, Pratio, np.size(tL), LINEAR_Plinear['rms'], LINEAR_Plinear['chi2dof'], LINEAR_Plinear['chi2dofR'],LINEAR_Pmean['rms'],\n",
    "                        LINEAR_Pmean['chi2dof'],LINEAR_Pmean['chi2dofR'], LINEAR_Plinear['mmax'], LINEAR_Plinear['A'],\n",
    "                        np.size(timeZ), ZTF_Pztf['rms'], ZTF_Pztf['chi2dof'], ZTF_Pztf['chi2dofR'], ZTF_Pmean['rms'], ZTF_Pmean['chi2dof'], ZTF_Pmean['chi2dofR'], ZTF_Pztf['mmax'], ZTF_Pztf['A']]\n",
    "                \n",
    "        # STEP 4: Analyzing periodograms\n",
    "        # ---------------------------------\n",
    "        Lindicator, Llimit, Ldistance = periodogram_blazhko(pL, 0.3, 0.2, 0.1)\n",
    "        if ZTFdata.size==0:\n",
    "            Zindicator, Zlimit, Zdistance = np.nan, np.nan, np.array(())\n",
    "        else:\n",
    "            Zindicator, Zlimit, Zdistance = periodogram_blazhko(pZ, 0.3, 0.2, 0.1)\n",
    "            \n",
    "        dist = (Ldistance, Zdistance)\n",
    "        \n",
    "        distances.append(dist)\n",
    "        \n",
    "        STAR.append(Lindicator)\n",
    "        STAR.append(Llimit)\n",
    "        STAR.append(Zindicator)\n",
    "        STAR.append(Zlimit)\n",
    "\n",
    "        lc_analysis[Lid] = STAR\n",
    "\n",
    "        # Fail-safe saving\n",
    "        # PERIODS\n",
    "        if (n % 100) == 0:\n",
    "            # save dictionary to pkl file\n",
    "            with open('../outputs/lc_analysis_'+end+'.pkl', 'wb') as fp:\n",
    "                pickle.dump(lc_analysis, fp)\n",
    "            DIST = np.array(distances, dtype=object)\n",
    "            np.save(\"../outputs/distances_\"+end+\".npy\", DIST, allow_pickle=True)\n",
    "            with open(\"../outputs/periodograms_\"+end+\".pkl\", \"wb\") as x:\n",
    "                pickle.dump(PERIODOGRAMS, x)\n",
    "        \n",
    "    with open('../outputs/lc_analysis_'+end+'.pkl', 'wb') as f:\n",
    "        pickle.dump(lc_analysis, f)\n",
    "    DIST = np.array(distances, dtype=object)\n",
    "    np.save(\"../outputs/distances_\"+end+\".npy\", DIST, allow_pickle=True)\n",
    "    with open(\"../outputs/periodograms_\"+end+\".pkl\", \"wb\") as y:\n",
    "            pickle.dump(PERIODOGRAMS, y)\n",
    "\n",
    "    cols = ['Plinear', 'Pztf', 'Pmean', 'Pratio', 'NdataLINEAR', 'LPlin_rmsdmag', 'LPlin_chi2dof', 'LPlin_chi2dofR', 'LPmean_rmsdmag', 'LPmean_chi2dof', 'LPmean_chi2dofR', 'Lmmax', 'Lampl', 'NdataZTF', 'ZPztf_rmsdmag', 'ZPztf_chi2dof', 'ZPztf_chi2dofR', 'ZPmean_rmsdmag', 'ZPmean_chi2dof', 'ZPmean_chi2dofR', 'Zmmax', 'Zampl', \"Lindicator\", \"Llimit\", \"Zindicator\", \"Zlimit\", \"what\", \"what 2\"]\n",
    "    LC_ANALYSIS = pd.DataFrame.from_dict(lc_analysis, orient='index', columns=cols)\n",
    "    LC_ANALYSIS.index.name='LINEAR id'\n",
    "    LC_ANALYSIS = LC_ANALYSIS.drop([\"what\"], axis=1)\n",
    "    LC_ANALYSIS = LC_ANALYSIS.drop([\"what 2\"], axis=1)\n",
    "    LC_ANALYSIS = LC_ANALYSIS.reset_index()\n",
    "    LC_ANALYSIS.to_csv(\"../outputs/LC_ANALYSIS_FINAL.csv\", index=False)"
   ]
  },
  {
   "cell_type": "markdown",
   "metadata": {},
   "source": [
    "***"
   ]
  },
  {
   "cell_type": "markdown",
   "metadata": {},
   "source": [
    "# Saving fit data"
   ]
  },
  {
   "cell_type": "markdown",
   "metadata": {},
   "source": [
    "Separate from the actual calculations we can calculate the fits and store them. "
   ]
  },
  {
   "cell_type": "code",
   "execution_count": 13,
   "metadata": {},
   "outputs": [],
   "source": [
    "lc_data = pd.read_csv(\"../outputs/LC_ANALYSIS_FINAL.csv\")"
   ]
  },
  {
   "cell_type": "code",
   "execution_count": 14,
   "metadata": {},
   "outputs": [
    {
     "name": "stderr",
     "output_type": "stream",
     "text": [
      "100%|██████████| 2710/2710 [5:23:30<00:00,  7.16s/it]  \n"
     ]
    }
   ],
   "source": [
    "fits = []\n",
    "end = 'FINAL_WHOLE'\n",
    "dataset = Lids\n",
    "for n, i in enumerate(tqdm(range(len(dataset)))):\n",
    "    # STEP 1: Gather the data\n",
    "    # --------------------------\n",
    "    # LINEAR\n",
    "    Lid = dataset[i]\n",
    "    tL, mL, mLerr = data.get_light_curve(Lid).T\n",
    "    ra = rectascension[i]\n",
    "    dec = declination[i]\n",
    "\n",
    "    # ZTF\n",
    "    ZTFdata = getZTFlightcurve(ra, dec)\n",
    "\n",
    "    # STEP 2: Saving the fits!\n",
    "    # ---------------------------------------\n",
    "    ntermsModels = 6\n",
    "    d = ZTFdata.loc[ZTFdata['filtercode'] == 'zr']\n",
    "    timeZ = d['mjd']\n",
    "    magZ = d['mag']\n",
    "    magErrZ = d['magerr']\n",
    "    # ------\n",
    "    Plinear = lc_data['Plinear'][i]\n",
    "    Pztf = lc_data['Pztf'][i]\n",
    "    Pmean = lc_data['Pmean'][i]\n",
    "    Pratio = lc_data['Pratio'][i]\n",
    "\n",
    "    if ZTF_data.size==0 or d.size==0:\n",
    "        LINEAR_Plinear, LINEAR_Pmean, ZTF_Pztf, ZTF_Pmean = np.array(()), np.array(()), np.array(()), np.array(())\n",
    "    else:\n",
    "        if np.size(tL)<30 or np.size(timeZ)<30:\n",
    "            LINEAR_Plinear, LINEAR_Pmean, ZTF_Pztf, ZTF_Pmean = np.array(()), np.array(()), np.array(()), np.array(())\n",
    "        else:\n",
    "            if Plinear == 0 or Pztf == 0 or Pmean == 0 or Pratio == 0:\n",
    "                LINEAR_Plinear, LINEAR_Pmean, ZTF_Pztf, ZTF_Pmean = np.array(()), np.array(()), np.array(()), np.array(())\n",
    "            else:\n",
    "                LINEAR_Plinear = LCanalysisFromP(tL, mL, mLerr, Plinear, ntermsModels)\n",
    "                LINEAR_Pmean = LCanalysisFromP(tL, mL, mLerr, Pmean, ntermsModels)\n",
    "\n",
    "\n",
    "                ZTF_Pztf = LCanalysisFromP(timeZ, magZ, magErrZ, Pztf, ntermsModels)\n",
    "                ZTF_Pmean = LCanalysisFromP(timeZ, magZ, magErrZ, Pmean, ntermsModels)\n",
    "\n",
    "    fits.append((Lid, (LINEAR_Plinear, LINEAR_Pmean, ZTF_Pztf, ZTF_Pmean)))\n",
    "\n",
    "    # Fail-safe saving\n",
    "    if (n % 10) == 0:\n",
    "        # save dictionary to pkl file\n",
    "        FITS = np.array(fits, dtype=object)\n",
    "        np.save(\"../outputs/fits_\"+end+\".npy\", FITS, allow_pickle=True)\n",
    "    \n",
    "FITS = np.array(fits, dtype=object)\n",
    "np.save(\"../outputs/fits_\"+end+\".npy\", FITS, allow_pickle=True)"
   ]
  },
  {
   "cell_type": "markdown",
   "metadata": {},
   "source": [
    "# Splitting the RR Lyrae into AB and C types"
   ]
  },
  {
   "cell_type": "markdown",
   "metadata": {},
   "source": [
    "After we have computed everything necessary for RR Lyrae, we need to split them into AB and C types, since the Blazhko effect might be differently distributed amongst the different RR Lyrae types."
   ]
  },
  {
   "cell_type": "code",
   "execution_count": 65,
   "metadata": {},
   "outputs": [
    {
     "data": {
      "text/html": [
       "<div>\n",
       "<style scoped>\n",
       "    .dataframe tbody tr th:only-of-type {\n",
       "        vertical-align: middle;\n",
       "    }\n",
       "\n",
       "    .dataframe tbody tr th {\n",
       "        vertical-align: top;\n",
       "    }\n",
       "\n",
       "    .dataframe thead th {\n",
       "        text-align: right;\n",
       "    }\n",
       "</style>\n",
       "<table border=\"1\" class=\"dataframe\">\n",
       "  <thead>\n",
       "    <tr style=\"text-align: right;\">\n",
       "      <th></th>\n",
       "      <th>LINEAR id</th>\n",
       "      <th>Plinear</th>\n",
       "      <th>Pztf</th>\n",
       "      <th>Pmean</th>\n",
       "      <th>Pratio</th>\n",
       "      <th>NdataLINEAR</th>\n",
       "      <th>LPlin_rmsdmag</th>\n",
       "      <th>LPlin_chi2dof</th>\n",
       "      <th>LPlin_chi2dofR</th>\n",
       "      <th>LPmean_rmsdmag</th>\n",
       "      <th>...</th>\n",
       "      <th>ZPmean_rmsdmag</th>\n",
       "      <th>ZPmean_chi2dof</th>\n",
       "      <th>ZPmean_chi2dofR</th>\n",
       "      <th>Zmmax</th>\n",
       "      <th>Zampl</th>\n",
       "      <th>Lindicator</th>\n",
       "      <th>Llimit</th>\n",
       "      <th>Zindicator</th>\n",
       "      <th>Zlimit</th>\n",
       "      <th>LC TYPE</th>\n",
       "    </tr>\n",
       "  </thead>\n",
       "  <tbody>\n",
       "    <tr>\n",
       "      <th>0</th>\n",
       "      <td>29848</td>\n",
       "      <td>0.557021</td>\n",
       "      <td>0.557037</td>\n",
       "      <td>0.557029</td>\n",
       "      <td>1.000028</td>\n",
       "      <td>301.0</td>\n",
       "      <td>0.178198</td>\n",
       "      <td>3.028026</td>\n",
       "      <td>1.451336</td>\n",
       "      <td>0.185326</td>\n",
       "      <td>...</td>\n",
       "      <td>0.052598</td>\n",
       "      <td>16.195588</td>\n",
       "      <td>3.955532</td>\n",
       "      <td>15.756993</td>\n",
       "      <td>0.925157</td>\n",
       "      <td>0</td>\n",
       "      <td>0.25</td>\n",
       "      <td>0.0</td>\n",
       "      <td>0.25</td>\n",
       "      <td>1</td>\n",
       "    </tr>\n",
       "    <tr>\n",
       "      <th>1</th>\n",
       "      <td>50402</td>\n",
       "      <td>0.643301</td>\n",
       "      <td>0.643296</td>\n",
       "      <td>0.643298</td>\n",
       "      <td>0.999992</td>\n",
       "      <td>284.0</td>\n",
       "      <td>0.107683</td>\n",
       "      <td>0.595738</td>\n",
       "      <td>0.733869</td>\n",
       "      <td>0.106092</td>\n",
       "      <td>...</td>\n",
       "      <td>0.031558</td>\n",
       "      <td>2.097207</td>\n",
       "      <td>1.177316</td>\n",
       "      <td>16.088901</td>\n",
       "      <td>0.486372</td>\n",
       "      <td>0</td>\n",
       "      <td>0.25</td>\n",
       "      <td>0.0</td>\n",
       "      <td>0.25</td>\n",
       "      <td>1</td>\n",
       "    </tr>\n",
       "    <tr>\n",
       "      <th>2</th>\n",
       "      <td>62892</td>\n",
       "      <td>0.530776</td>\n",
       "      <td>0.530785</td>\n",
       "      <td>0.530781</td>\n",
       "      <td>1.000017</td>\n",
       "      <td>276.0</td>\n",
       "      <td>0.108544</td>\n",
       "      <td>1.058829</td>\n",
       "      <td>0.934727</td>\n",
       "      <td>0.114002</td>\n",
       "      <td>...</td>\n",
       "      <td>0.069562</td>\n",
       "      <td>19.794606</td>\n",
       "      <td>3.288505</td>\n",
       "      <td>15.961735</td>\n",
       "      <td>0.641651</td>\n",
       "      <td>1</td>\n",
       "      <td>0.25</td>\n",
       "      <td>0.0</td>\n",
       "      <td>0.25</td>\n",
       "      <td>1</td>\n",
       "    </tr>\n",
       "    <tr>\n",
       "      <th>3</th>\n",
       "      <td>91437</td>\n",
       "      <td>0.674732</td>\n",
       "      <td>0.674738</td>\n",
       "      <td>0.674735</td>\n",
       "      <td>1.000009</td>\n",
       "      <td>177.0</td>\n",
       "      <td>0.040798</td>\n",
       "      <td>2.775415</td>\n",
       "      <td>1.352923</td>\n",
       "      <td>0.040888</td>\n",
       "      <td>...</td>\n",
       "      <td>0.020152</td>\n",
       "      <td>4.243845</td>\n",
       "      <td>1.580792</td>\n",
       "      <td>15.002323</td>\n",
       "      <td>0.864724</td>\n",
       "      <td>0</td>\n",
       "      <td>0.25</td>\n",
       "      <td>0.0</td>\n",
       "      <td>0.25</td>\n",
       "      <td>1</td>\n",
       "    </tr>\n",
       "    <tr>\n",
       "      <th>4</th>\n",
       "      <td>95250</td>\n",
       "      <td>0.313870</td>\n",
       "      <td>0.313876</td>\n",
       "      <td>0.313873</td>\n",
       "      <td>1.000019</td>\n",
       "      <td>222.0</td>\n",
       "      <td>0.162040</td>\n",
       "      <td>0.816590</td>\n",
       "      <td>0.859616</td>\n",
       "      <td>0.165801</td>\n",
       "      <td>...</td>\n",
       "      <td>0.054686</td>\n",
       "      <td>3.709448</td>\n",
       "      <td>1.515406</td>\n",
       "      <td>16.680144</td>\n",
       "      <td>0.461509</td>\n",
       "      <td>1</td>\n",
       "      <td>0.25</td>\n",
       "      <td>0.0</td>\n",
       "      <td>0.25</td>\n",
       "      <td>2</td>\n",
       "    </tr>\n",
       "  </tbody>\n",
       "</table>\n",
       "<p>5 rows × 28 columns</p>\n",
       "</div>"
      ],
      "text/plain": [
       "   LINEAR id   Plinear      Pztf     Pmean    Pratio  NdataLINEAR  \\\n",
       "0      29848  0.557021  0.557037  0.557029  1.000028        301.0   \n",
       "1      50402  0.643301  0.643296  0.643298  0.999992        284.0   \n",
       "2      62892  0.530776  0.530785  0.530781  1.000017        276.0   \n",
       "3      91437  0.674732  0.674738  0.674735  1.000009        177.0   \n",
       "4      95250  0.313870  0.313876  0.313873  1.000019        222.0   \n",
       "\n",
       "   LPlin_rmsdmag  LPlin_chi2dof  LPlin_chi2dofR  LPmean_rmsdmag  ...  \\\n",
       "0       0.178198       3.028026        1.451336        0.185326  ...   \n",
       "1       0.107683       0.595738        0.733869        0.106092  ...   \n",
       "2       0.108544       1.058829        0.934727        0.114002  ...   \n",
       "3       0.040798       2.775415        1.352923        0.040888  ...   \n",
       "4       0.162040       0.816590        0.859616        0.165801  ...   \n",
       "\n",
       "   ZPmean_rmsdmag  ZPmean_chi2dof  ZPmean_chi2dofR      Zmmax     Zampl  \\\n",
       "0        0.052598       16.195588         3.955532  15.756993  0.925157   \n",
       "1        0.031558        2.097207         1.177316  16.088901  0.486372   \n",
       "2        0.069562       19.794606         3.288505  15.961735  0.641651   \n",
       "3        0.020152        4.243845         1.580792  15.002323  0.864724   \n",
       "4        0.054686        3.709448         1.515406  16.680144  0.461509   \n",
       "\n",
       "   Lindicator  Llimit  Zindicator  Zlimit  LC TYPE  \n",
       "0           0    0.25         0.0    0.25        1  \n",
       "1           0    0.25         0.0    0.25        1  \n",
       "2           1    0.25         0.0    0.25        1  \n",
       "3           0    0.25         0.0    0.25        1  \n",
       "4           1    0.25         0.0    0.25        2  \n",
       "\n",
       "[5 rows x 28 columns]"
      ]
     },
     "execution_count": 65,
     "metadata": {},
     "output_type": "execute_result"
    }
   ],
   "source": [
    "lc_data['LC TYPE'] = lc_type\n",
    "lc_data.head()"
   ]
  },
  {
   "cell_type": "code",
   "execution_count": 69,
   "metadata": {},
   "outputs": [
    {
     "name": "stdout",
     "output_type": "stream",
     "text": [
      "(2144, 28)\n",
      "(566, 28)\n"
     ]
    }
   ],
   "source": [
    "RRLab = lc_data[lc_data['LC TYPE']==1]\n",
    "RRLc = lc_data[lc_data['LC TYPE']==2]\n",
    "print(RRLab.shape)\n",
    "print(RRLc.shape)"
   ]
  },
  {
   "cell_type": "code",
   "execution_count": 70,
   "metadata": {},
   "outputs": [],
   "source": [
    "RRLab.to_csv('../outputs/RRLAB.csv', index=False)\n",
    "RRLc.to_csv('../outputs/RRLC.csv', index=False)"
   ]
  },
  {
   "cell_type": "markdown",
   "metadata": {},
   "source": [
    "With the computations complete and all the data saved, it is time for the next step: analysis of RR Lyrae stars and the search for the Blazhko effect."
   ]
  },
  {
   "cell_type": "code",
   "execution_count": null,
   "metadata": {},
   "outputs": [],
   "source": []
  }
 ],
 "metadata": {
  "kernelspec": {
   "display_name": "var_stars",
   "language": "python",
   "name": "python3"
  },
  "language_info": {
   "codemirror_mode": {
    "name": "ipython",
    "version": 3
   },
   "file_extension": ".py",
   "mimetype": "text/x-python",
   "name": "python",
   "nbconvert_exporter": "python",
   "pygments_lexer": "ipython3",
   "version": "3.11.4"
  },
  "orig_nbformat": 4
 },
 "nbformat": 4,
 "nbformat_minor": 2
}
