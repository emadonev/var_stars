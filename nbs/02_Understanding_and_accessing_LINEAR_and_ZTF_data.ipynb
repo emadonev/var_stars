{
 "cells": [
  {
   "cell_type": "markdown",
   "metadata": {},
   "source": [
    "# Understanding and accessing `LINEAR` and `ZTF` data"
   ]
  },
  {
   "cell_type": "markdown",
   "metadata": {},
   "source": [
    "*Authors: Ema Donev and dr. Ivezić*\n",
    "\n",
    "This notebook contains all the information necessary to understand the data, its descriptive statistics, and how to plot light curves of both `LINEAR` and `ZTF` data."
   ]
  },
  {
   "cell_type": "code",
   "execution_count": 21,
   "metadata": {},
   "outputs": [],
   "source": [
    "# IMPORTING LIBRARIES\n",
    "# --------------------\n",
    "\n",
    "# AstroML\n",
    "from astroML.datasets import fetch_LINEAR_sample\n",
    "\n",
    "# ZTF\n",
    "from ztfquery import lightcurve\n",
    "\n",
    "# Basic libraries\n",
    "import random\n",
    "import pickle\n",
    "import os\n",
    "import sys\n",
    "\n",
    "# Plotting\n",
    "import seaborn as sns\n",
    "from matplotlib import pyplot as plt\n",
    "from matplotlib import ticker\n",
    "import matplotlib.colors as mcolors\n",
    "from matplotlib.font_manager import FontProperties\n",
    "\n",
    "# DataFrame analysis\n",
    "import pandas as pd\n",
    "import dask.dataframe as dd \n",
    "\n",
    "# Math libraries\n",
    "import numpy as np\n",
    "import scipy as sc\n",
    "from scipy.stats import norm\n",
    "\n",
    "# Multithreading/multiprocessing libraries\n",
    "from concurrent.futures import ThreadPoolExecutor\n",
    "from concurrent.futures import ProcessPoolExecutor\n",
    "import threading"
   ]
  },
  {
   "cell_type": "code",
   "execution_count": 30,
   "metadata": {},
   "outputs": [],
   "source": [
    "# CONFIG\n",
    "sns.set_theme() # setting the theme for plotting\n",
    "np.random.seed(42)\n",
    "\n",
    "colors = ['#1A090D', '#D8C99B', '#D8973C', '#BD632F', '#273E47']\n",
    "cmap = mcolors.ListedColormap(colors)\n",
    "\n",
    "font = FontProperties()\n",
    "font.set_family('avenir')\n",
    "font.set_name('Avenir')\n",
    "font.set_style('normal')\n",
    "font.set_size('xx-large')\n",
    "\n",
    "%matplotlib inline  "
   ]
  },
  {
   "cell_type": "code",
   "execution_count": 4,
   "metadata": {},
   "outputs": [],
   "source": [
    "# Importing custom libraries\n",
    "# ----------------------------\n",
    "sys.path.insert(0,'../src/')\n",
    "from ZTF_data import *\n",
    "from config import*"
   ]
  },
  {
   "cell_type": "markdown",
   "metadata": {},
   "source": [
    "# Downloading `LINEAR` and `ZTF` data"
   ]
  },
  {
   "cell_type": "markdown",
   "metadata": {},
   "source": [
    "## `LINEAR` dataset"
   ]
  },
  {
   "cell_type": "markdown",
   "metadata": {},
   "source": [
    "The `LINEAR dataset` *(Lincon Near-Earth Asteroid Research)* contains 7010 light curves of periodic variable stars. While the original mission of this survey was to find asteroids, it subsequently monitored a substantial portion of the sky, cataloging the brightness of various variable stars. This survey was operated with two telescopes on a site in New Mexico. The two telescopes are equatorially mounted of GEODSS type, where each telescope is denoted as L1 and L2. They observed a broad part of the visible spectrum and the near-infrared spectrum. \n",
    "\n",
    "The preprocessing process contained the following procedures:\n",
    "1. **Bias correction**: removing noise created by the camera\n",
    "2. **Flat-field correction**: removing artificial lines and gradients due to varying sensitivities of pixels\n",
    "3. **Preliminary fixed-aperture photometry**: subtracting the background light using Poisson statistics\n",
    "\n",
    "After preprocessing, the data had to be astrometrically recalibrated, meaning that the scientists had to ensure the coordinates of the objects in the data matched another survey, like SDSS. Of all the data, 7% had bad astrometry (the coordinates did not fit), so the scientists removed them from the dataset. The rest of the data had a 1-2% error in astrometry.\n",
    "\n",
    "Next up was photometric recalibration, meaning that the filters and fluxes had to be recalibrated to match SDSS data. The corrections regarded CCD camera errors, correcting the magnitudes of objects in the data, and correcting underestimated magnitude errors. After the photometric recalibration, the data were grouped into various categories, including a variable star category. While the original dataset has 5 billion objects, *only 7010 are confirmed periodic variable stars*. The scientists subsequently analyzed this portion of the dataset by categorizing the light curves, calculating their periods, and inferring conclusions from the preceding factors. "
   ]
  },
  {
   "cell_type": "markdown",
   "metadata": {},
   "source": [
    "We can access the `LINEAR` dataset via one line of code since we are downloading the data from the AstroML library."
   ]
  },
  {
   "cell_type": "code",
   "execution_count": 11,
   "metadata": {},
   "outputs": [
    {
     "data": {
      "text/plain": [
       "<astroML.datasets.LINEAR_sample.LINEARdata at 0x7f7d565951b0>"
      ]
     },
     "execution_count": 11,
     "metadata": {},
     "output_type": "execute_result"
    }
   ],
   "source": [
    "# LINEAR DATA\n",
    "# ------------\n",
    "\n",
    "dataL = fetch_LINEAR_sample(data_home='../inputs')\n",
    "dataL"
   ]
  },
  {
   "cell_type": "code",
   "execution_count": 12,
   "metadata": {},
   "outputs": [
    {
     "name": "stdout",
     "output_type": "stream",
     "text": [
      "7010\n"
     ]
    }
   ],
   "source": [
    "# acessing all of the light curves from the dataL and checking if any light curve is missing\n",
    "c = 0 \n",
    "for i in dataL.ids: # iterating through all of the dataL ID's\n",
    "    light_curve = dataL.get_light_curve(i) # fetching the light curve dataL for a specific ID\n",
    "    c += 1 \n",
    "print(c) "
   ]
  },
  {
   "cell_type": "markdown",
   "metadata": {},
   "source": [
    "The counter has printed the number `7010`, the correct amount of light curves in this dataset. No light curves are missing!"
   ]
  },
  {
   "cell_type": "markdown",
   "metadata": {},
   "source": [
    "#### Structure of `LINEAR` dataset"
   ]
  },
  {
   "cell_type": "markdown",
   "metadata": {},
   "source": [
    "The structure of the `LINEAR` dataset is as such:\n",
    "- `dataL` is a `AstroML.datasets` object and it contains the following:\n",
    "    - `dataL.ids` is a list of all the IDs of the stars\n",
    "    - `dataL.get_light_curve()` is a function which acceses the data for a specific ID of a light curve\n",
    "        - every light curve is a `np.array()` object where every column is `time`, `magnitude` and the `magnitude error`. In order to get an array for every column the original array must be transposed.\n",
    "    - `dataL.targets` contains all of the metadata for every light curve eg. rectascension, declination, etc."
   ]
  },
  {
   "cell_type": "markdown",
   "metadata": {},
   "source": [
    "Here is an example of a light curve:"
   ]
  },
  {
   "cell_type": "code",
   "execution_count": 31,
   "metadata": {},
   "outputs": [
    {
     "name": "stdout",
     "output_type": "stream",
     "text": [
      "LINEAR ID:10003298\n",
      "(10003298, 207.52946, 33.70615, 207.529404, 33.706001, 15.73, 1.84, 0.81, 0.31, 0.16, 0.63, 15.89, 0.16, 0.19, 1.12, -0.61, -0.01, -1, 0)\n",
      "Rectascension:207.529404, and Declination:33.706001\n"
     ]
    },
    {
     "data": {
      "image/png": "[encoded data removed]",
      "text/plain": [
       "<Figure size 864x648 with 1 Axes>"
      ]
     },
     "metadata": {
      "needs_background": "light"
     },
     "output_type": "display_data"
    }
   ],
   "source": [
    "ID = dataL.ids[0] # accessing the first LINEAR ID\n",
    "lc = dataL.get_light_curve(ID)\n",
    "time, mag, magerr = lc.T # transposing the data\n",
    "#--------\n",
    "print(f'LINEAR ID:{ID}')\n",
    "targets = dataL.targets[0]\n",
    "print(targets)\n",
    "ra, dec = targets[3], targets[4]\n",
    "print(f'Rectascension:{ra}, and Declination:{dec}')\n",
    "#--------\n",
    "fig, ax = plt.subplots(1,1, figsize=(12,9)) # creating subplots with 2 columms and 3 rows\n",
    "ax.errorbar(time, mag, magerr, fmt='.k', ecolor='gray',lw=1, ms=4, capsize=1.5)\n",
    "ax.set_xlabel('Time (days)',fontproperties=font)\n",
    "ax.set_ylabel('Magnitude', fontproperties=font)\n",
    "ax.set_title('LINEAR object {0}'.format(ID), fontproperties=font)\n",
    "ax.invert_yaxis()\n",
    "plt.show()"
   ]
  },
  {
   "cell_type": "markdown",
   "metadata": {},
   "source": [
    "For further analysis we will require the `LINEAR ID`, the `ra` and `dec` values, and finally, the data for every light curve (time, magnitude, errors)."
   ]
  },
  {
   "cell_type": "markdown",
   "metadata": {},
   "source": [
    "### Introductory statistics of `LINEAR` data"
   ]
  },
  {
   "cell_type": "code",
   "execution_count": 33,
   "metadata": {},
   "outputs": [
    {
     "name": "stdout",
     "output_type": "stream",
     "text": [
      "1851936\n"
     ]
    }
   ],
   "source": [
    "# NUMBER OF MEASUREMENTS\n",
    "# -----------------------\n",
    "pL = []\n",
    "for i in dataL.ids:\n",
    "    lc = dataL.get_light_curve(i)\n",
    "    t, m, me = lc.T\n",
    "    pL.append(len(t))\n",
    "\n",
    "total_obser = sum(pL) # summing the number of measurements of every light curve\n",
    "print(total_obser)"
   ]
  },
  {
   "cell_type": "markdown",
   "metadata": {},
   "source": [
    "Our dataset contains 1 851 936 observations!"
   ]
  },
  {
   "cell_type": "code",
   "execution_count": 37,
   "metadata": {},
   "outputs": [
    {
     "data": {
      "image/png": "[encoded data removed]",
      "text/plain": [
       "<Figure size 864x648 with 1 Axes>"
      ]
     },
     "metadata": {
      "needs_background": "light"
     },
     "output_type": "display_data"
    }
   ],
   "source": [
    "plt.figure(figsize=(12,9))\n",
    "sns.histplot(data=pL,color='#BD632F') # drawing a histogram of the distribution of measurements\n",
    "plt.title('Distribution of measurements', fontproperties=font)\n",
    "plt.xlabel('Periods of measurements', fontproperties=font)\n",
    "plt.ylabel('Count', fontproperties=font)\n",
    "plt.show()"
   ]
  },
  {
   "cell_type": "markdown",
   "metadata": {},
   "source": [
    "The graph above shows that most of our light curves have around 200 to 300 measurements, with a subsequent peak at about 500 measurements per light curve."
   ]
  },
  {
   "cell_type": "code",
   "execution_count": 40,
   "metadata": {},
   "outputs": [],
   "source": [
    "# TIME DIFFERENCE\n",
    "tmL = []\n",
    "for i in dataL.ids:\n",
    "    lightc = dataL.get_light_curve(i)\n",
    "    t, m, me = lightc.T\n",
    "    time = t[len(t)-1] - t[0] # last time - first time\n",
    "    tmL.append(time)"
   ]
  },
  {
   "cell_type": "code",
   "execution_count": 41,
   "metadata": {},
   "outputs": [
    {
     "data": {
      "image/png": "[encoded data removed]",
      "text/plain": [
       "<Figure size 864x648 with 1 Axes>"
      ]
     },
     "metadata": {
      "needs_background": "light"
     },
     "output_type": "display_data"
    }
   ],
   "source": [
    "plt.figure(figsize=(12,9))\n",
    "sns.histplot(data=tmL,color='#D8973C', bins=100)\n",
    "plt.title('Distribution of time periods',fontproperties=font)\n",
    "plt.xlabel('Time intervals',fontproperties=font)\n",
    "plt.ylabel('Count', fontproperties=font)\n",
    "plt.show()"
   ]
  },
  {
   "cell_type": "markdown",
   "metadata": {},
   "source": [
    "This graph shows that most of our time intervals span around 1800 to 2000 days. So, no matter the variable star type, most actual time intervals are very long."
   ]
  },
  {
   "cell_type": "markdown",
   "metadata": {},
   "source": [
    "## `ZTF` dataset"
   ]
  },
  {
   "cell_type": "markdown",
   "metadata": {},
   "source": [
    "The `Zwicky Transient Facility` is an optical time-domain survey that uses the Palomar 48-inch Schmidt telescope to observe the entire Northern hemisphere sky in 3 different bands: `g,` `r`, and `i`, and has been operating since October 2017. This telescope has a large field of view, taking in a lot of data.\n",
    "\n",
    "All the data gathered by `ZTF` is stored at the IPAC, which can be accessed via IRSA, as shown in this project. All of the raw data was processed so that every pixel had an average of 5 bits, and although this increased sky noise by 1%, the increase is negligible. All the images were FITS images which the program processed in the following way:\n",
    "1. **Preprocessing:** removing bias frames and flat field correction frames.\n",
    "2. **Astrometry:** Using the `SCAMP` package, all objects were astrometrically calibrated to match the `GAIA` survey.\n",
    "3. **Photometry:** All images were photometrically calibrated following the `PanSTARRS 1` survey.\n",
    "4. **Final processing:** Finally, masks were made for saturation, bad pixels were removed, ghosts and any instrumental artifacts, and other defects.\n",
    "\n",
    "Every image was then categorized as either a moving or a changing source using the `ZOGY` algorithm. Furthermore, point-like moving objects were identified using the custom `ZTF Moving-object Discovery Engine (ZMODE).` \n",
    "\n",
    "`ZTF` was able to observe the following objects:\n",
    "\n",
    "**1. Transient objects**\n",
    "\n",
    "These objects are supernovae found in other galaxies, and the `ZTF` survey captured their light curves.\n",
    "\n",
    "**2. Neutrinos and gravitational-wave events**\n",
    "\n",
    "The `ZTF` survey showed that scientists could use `ZTF` in the future to undertake observations of neutrinos and gravitational-wave events. \n",
    "\n",
    "**3. Variable objects**\n",
    "\n",
    "These include variable stars but also light curves of asteroids. The light curves in the `ZTF`dataset were built upon every few months, and the light curves were stored in `HDF5` match files per each field of observation. `ZTF` contains many light curves, and some most notable types are *Be stars*, *RR Lyrae* stars, light curves of *NEOs*, *Asteroids*, and the activity of *Comets and Centaurs*.  "
   ]
  },
  {
   "cell_type": "markdown",
   "metadata": {},
   "source": [
    "### Accessing the `ZTF` data"
   ]
  },
  {
   "cell_type": "markdown",
   "metadata": {},
   "source": [
    "The `ZTF` data is on an extrenal API provided by the `IRSA` webpage. Since querying for the data takes a lot of time, we use **asynchronous** programming to tackle multiple queries at a time, significantly shortening the runtime. All light curves are searched by equatorial coordinates (found in `dataL.targets`) and saved as `DataFrames` inside an array, along with the search ID as a `tuple`. So, *array([(ID1, DataFrame object 1), (ID2, DataFrame object 2),...])*. All of the code can be found in the custom `ZTF_data.py` library."
   ]
  },
  {
   "cell_type": "code",
   "execution_count": 42,
   "metadata": {},
   "outputs": [
    {
     "name": "stdout",
     "output_type": "stream",
     "text": [
      "Loading the data!\n"
     ]
    }
   ],
   "source": [
    "ZTF_data = data_ztf('ZTF_light_curves.npy')"
   ]
  },
  {
   "cell_type": "code",
   "execution_count": null,
   "metadata": {},
   "outputs": [],
   "source": []
  }
 ],
 "metadata": {
  "kernelspec": {
   "display_name": "var_stars",
   "language": "python",
   "name": "var_stars"
  },
  "language_info": {
   "codemirror_mode": {
    "name": "ipython",
    "version": 3
   },
   "file_extension": ".py",
   "mimetype": "text/x-python",
   "name": "python",
   "nbconvert_exporter": "python",
   "pygments_lexer": "ipython3",
   "version": "3.10.4"
  },
  "orig_nbformat": 4
 },
 "nbformat": 4,
 "nbformat_minor": 2
}
