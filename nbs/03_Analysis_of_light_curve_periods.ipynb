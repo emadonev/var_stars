{
 "cells": [
  {
   "cell_type": "markdown",
   "metadata": {},
   "source": []
  },
  {
   "cell_type": "markdown",
   "metadata": {},
   "source": [
    "# Analysis of light curve periods"
   ]
  },
  {
   "cell_type": "markdown",
   "metadata": {},
   "source": [
    "In this notebook I will describe the process for calculating the periods of `LINEAR` light curves and `ZTF` light curves using the *Lomb-Scargle periodogram*. Afterwards, we will save all of the periods and the number of observation points in a `DataFrame` which I will then analyze using descriptive statistics. "
   ]
  },
  {
   "cell_type": "code",
   "execution_count": 1,
   "metadata": {},
   "outputs": [],
   "source": [
    "# importing all of the necessary libraries\n",
    "import numpy as np\n",
    "import seaborn as sns\n",
    "import pandas as pd\n",
    "import scipy as sc\n",
    "import random\n",
    "import pickle\n",
    "\n",
    "from matplotlib import pyplot as plt\n",
    "from scipy.stats import norm\n",
    "\n",
    "from astroML.utils.decorators import pickle_results\n",
    "from astroML.time_series import search_frequencies, lomb_scargle, MultiTermFit\n",
    "from gatspy import periodic\n",
    "from astropy.timeseries import LombScargle\n",
    "from astroML.datasets import fetch_LINEAR_sample\n",
    "\n",
    "from ztfquery import lightcurve\n",
    "from matplotlib import ticker\n",
    "import dask.dataframe as dd \n",
    "from concurrent.futures import ThreadPoolExecutor\n",
    "from concurrent.futures import ProcessPoolExecutor\n",
    "import threading\n",
    "import os\n",
    "\n",
    "np.random.seed(42)\n",
    "%matplotlib inline  "
   ]
  },
  {
   "cell_type": "code",
   "execution_count": 2,
   "metadata": {},
   "outputs": [],
   "source": [
    "sns.set_theme() # setting the theme for plotting"
   ]
  },
  {
   "cell_type": "code",
   "execution_count": 3,
   "metadata": {},
   "outputs": [
    {
     "name": "stdout",
     "output_type": "stream",
     "text": [
      "Loading the data!\n",
      "Loading the data!\n",
      "Loading the data!\n"
     ]
    }
   ],
   "source": [
    "import sys\n",
    "sys.path.insert(0,'../src/')\n",
    "sys.path\n",
    "from ZTF_data import data_ztf\n",
    "from descriptive_stats import*\n",
    "from plotting import*\n",
    "from config import*\n",
    "from periods import*"
   ]
  },
  {
   "cell_type": "markdown",
   "metadata": {},
   "source": [
    "## What is the Lomb-Scargle periodogram?"
   ]
  },
  {
   "cell_type": "markdown",
   "metadata": {},
   "source": [
    "The Lomb-Scargle method of computing the period of a variable star using light curves involves fitting multi-level sinusoidal waves to our light curve data over various trial periods, and the period with the largest strength or the best fit is the real period."
   ]
  },
  {
   "cell_type": "markdown",
   "metadata": {},
   "source": [
    "This is the formula for the Lomb-Scargle periodogram:\n",
    "\n",
    "$$P(ω)= \\frac{1}{2σ^2}​*(\\frac{[∑y_k cosω(t_k−τ)]^2}{∑cos^2 ω(t_k−τ)} + \\frac{[∑y_k sin ω(t_k−τ)]^2}{∑ sin^2 ω(t_k−τ)})$$"
   ]
  },
  {
   "cell_type": "markdown",
   "metadata": {},
   "source": [
    "- $ω$ is the frequency we are testing to see if it matches with our light curve.\n",
    "- $σ^2$ is the variance of the data. We are dividing by it to normalize the data to work across all distributions.\n",
    "- $∑y_k cosω(t_k−τ)$ and $∑y_k sin ω(t_k−τ)$: checking how well the fitted cosine and sine waves align with the data. $t_k$ is the particular time point, and $τ$ is the time delay, for efficiency.\n",
    "- $∑cos^2 ω(t_k−τ)$ and $∑ sin^2 ω(t_k−τ)$: normalization of the fitting, in order to eliminate bias towards very strong and/or weak wave components. "
   ]
  },
  {
   "cell_type": "markdown",
   "metadata": {},
   "source": [
    "## Why do I use the Lomb-Scargle periodogram?"
   ]
  },
  {
   "cell_type": "markdown",
   "metadata": {},
   "source": [
    "We use the Lomb-Scargle periodogram because it is the most popular tool used for determining the period of periodic variable stars. It combines multiple methods of analysis, with it's core being in Fourier analysis, and the fact that it operates with non-uniformly spaced data, such is the nature of light curves."
   ]
  },
  {
   "cell_type": "markdown",
   "metadata": {},
   "source": [
    "# Calculating the periods"
   ]
  },
  {
   "cell_type": "markdown",
   "metadata": {},
   "source": [
    "# `LINEAR` dataset"
   ]
  },
  {
   "cell_type": "code",
   "execution_count": 4,
   "metadata": {},
   "outputs": [],
   "source": [
    "data = fetch_LINEAR_sample(data_home='../inputs') # fetching the data from astroML data library"
   ]
  },
  {
   "cell_type": "markdown",
   "metadata": {},
   "source": [
    "### Example: light curve 10032668"
   ]
  },
  {
   "cell_type": "markdown",
   "metadata": {},
   "source": [
    "Here, we are going to calculate the period and phase the light curve of star 10032668. "
   ]
  },
  {
   "cell_type": "code",
   "execution_count": 5,
   "metadata": {},
   "outputs": [
    {
     "data": {
      "image/png": "[encoded data removed]",
      "text/plain": [
       "<Figure size 432x288 with 1 Axes>"
      ]
     },
     "metadata": {},
     "output_type": "display_data"
    }
   ],
   "source": [
    "# plotting the light curve\n",
    "\n",
    "t, mag, mager = data.get_light_curve(data.ids[10]).T\n",
    "fig, ax = plt.subplots()\n",
    "ax.errorbar(t, mag, mager, fmt='.b', ecolor='blue')\n",
    "ax.set(xlabel='Time (days)', ylabel='magitude',\n",
    "       title='LINEAR object {0}'.format(data.ids[10]))\n",
    "ax.invert_yaxis()"
   ]
  },
  {
   "cell_type": "markdown",
   "metadata": {},
   "source": [
    "After looking at the light curve in total, it is time to calculate the period. I use, as mentioned before, the Lomb-Scargle method, and the function is from the `Astropy` library. "
   ]
  },
  {
   "cell_type": "code",
   "execution_count": 6,
   "metadata": {},
   "outputs": [],
   "source": [
    "ls = LombScargle(t, mag, mager) # setting up the Lomb-Scargle object\n",
    "\n",
    "# calculating the frequency and the power of each frequency for that light curve\n",
    "frequency, power = ls.autopower(nyquist_factor=350) # here the nyquist factor is pretty high so we don't miss out on a frequency which might be important\n",
    "\n",
    "# calculating the period\n",
    "period = 1. / frequency # formula for the period\n",
    "best_period = period[np.argmax(power)] # choosing the period with the most power\n",
    "best_frequency = frequency[np.argmax(power)] # choosing the frequency with the highest power\n",
    "\n",
    "phase = (t / best_period) % 1 # calculating the phase"
   ]
  },
  {
   "cell_type": "code",
   "execution_count": 7,
   "metadata": {},
   "outputs": [
    {
     "data": {
      "text/plain": [
       "0.6105450399303926"
      ]
     },
     "execution_count": 7,
     "metadata": {},
     "output_type": "execute_result"
    }
   ],
   "source": [
    "best_period"
   ]
  },
  {
   "cell_type": "markdown",
   "metadata": {},
   "source": [
    "We see that for this light curve, the period is around 0.61 days. This is quite a short period, most likely a RR Lyrae star."
   ]
  },
  {
   "cell_type": "markdown",
   "metadata": {},
   "source": [
    "We can plot the Lomb-Scargle periodogram so we can see the power of each frequency."
   ]
  },
  {
   "cell_type": "code",
   "execution_count": 8,
   "metadata": {},
   "outputs": [
    {
     "data": {
      "text/plain": [
       "[(0.2, 1.4), (0.0, 0.8), Text(0.5, 0, 'Frequency'), Text(0, 0.5, 'Power')]"
      ]
     },
     "execution_count": 8,
     "metadata": {},
     "output_type": "execute_result"
    },
    {
     "data": {
      "image/png": "[encoded data removed]",
      "text/plain": [
       "<Figure size 432x288 with 1 Axes>"
      ]
     },
     "metadata": {},
     "output_type": "display_data"
    }
   ],
   "source": [
    "fig, ax = plt.subplots()\n",
    "ax.plot(frequency, power)\n",
    "ax.set(xlim=(0.2, 1.4), ylim=(0, 0.8),\n",
    "       xlabel='Frequency',\n",
    "       ylabel='Power')"
   ]
  },
  {
   "cell_type": "markdown",
   "metadata": {},
   "source": [
    "We can clearly see that around 0.6 is the most power. Let's plot the phased light curve!"
   ]
  },
  {
   "cell_type": "code",
   "execution_count": 9,
   "metadata": {},
   "outputs": [
    {
     "data": {
      "image/png": "[encoded data removed]",
      "text/plain": [
       "<Figure size 432x288 with 1 Axes>"
      ]
     },
     "metadata": {},
     "output_type": "display_data"
    }
   ],
   "source": [
    "fig, ax = plt.subplots()\n",
    "ax.errorbar(phase, mag, mager, fmt='.b', ecolor='blue')\n",
    "ax.set(xlabel='Time (days)', ylabel='magitude',\n",
    "       title='LINEAR object {0}'.format(data.ids[10]))\n",
    "ax.invert_yaxis()"
   ]
  },
  {
   "cell_type": "markdown",
   "metadata": {},
   "source": [
    "This looks much better than the previous light curve plot! We can actually see the structure. "
   ]
  },
  {
   "cell_type": "markdown",
   "metadata": {},
   "source": [
    "## Calculating LINEAR periods"
   ]
  },
  {
   "cell_type": "code",
   "execution_count": 11,
   "metadata": {},
   "outputs": [
    {
     "name": "stdout",
     "output_type": "stream",
     "text": [
      "Loading LINEAR data!\n"
     ]
    }
   ],
   "source": [
    "LINEAR_data = calculating_period('LINEAR', 1, 'LINEAR')"
   ]
  },
  {
   "cell_type": "code",
   "execution_count": 12,
   "metadata": {},
   "outputs": [
    {
     "data": {
      "text/html": [
       "<div>\n",
       "<style scoped>\n",
       "    .dataframe tbody tr th:only-of-type {\n",
       "        vertical-align: middle;\n",
       "    }\n",
       "\n",
       "    .dataframe tbody tr th {\n",
       "        vertical-align: top;\n",
       "    }\n",
       "\n",
       "    .dataframe thead th {\n",
       "        text-align: right;\n",
       "    }\n",
       "</style>\n",
       "<table border=\"1\" class=\"dataframe\">\n",
       "  <thead>\n",
       "    <tr style=\"text-align: right;\">\n",
       "      <th></th>\n",
       "      <th>Unnamed: 0</th>\n",
       "      <th>ID</th>\n",
       "      <th>Frequency</th>\n",
       "      <th>Period</th>\n",
       "      <th>N</th>\n",
       "    </tr>\n",
       "  </thead>\n",
       "  <tbody>\n",
       "    <tr>\n",
       "      <th>0</th>\n",
       "      <td>0</td>\n",
       "      <td>10003298.0</td>\n",
       "      <td>8.067333</td>\n",
       "      <td>0.123957</td>\n",
       "      <td>196.0</td>\n",
       "    </tr>\n",
       "    <tr>\n",
       "      <th>1</th>\n",
       "      <td>0</td>\n",
       "      <td>10004892.0</td>\n",
       "      <td>1.486845</td>\n",
       "      <td>0.672565</td>\n",
       "      <td>269.0</td>\n",
       "    </tr>\n",
       "    <tr>\n",
       "      <th>2</th>\n",
       "      <td>0</td>\n",
       "      <td>10013411.0</td>\n",
       "      <td>1.800789</td>\n",
       "      <td>0.555312</td>\n",
       "      <td>170.0</td>\n",
       "    </tr>\n",
       "    <tr>\n",
       "      <th>3</th>\n",
       "      <td>0</td>\n",
       "      <td>10021274.0</td>\n",
       "      <td>1.733287</td>\n",
       "      <td>0.576939</td>\n",
       "      <td>214.0</td>\n",
       "    </tr>\n",
       "    <tr>\n",
       "      <th>4</th>\n",
       "      <td>0</td>\n",
       "      <td>10022663.0</td>\n",
       "      <td>1.623512</td>\n",
       "      <td>0.615949</td>\n",
       "      <td>246.0</td>\n",
       "    </tr>\n",
       "    <tr>\n",
       "      <th>...</th>\n",
       "      <td>...</td>\n",
       "      <td>...</td>\n",
       "      <td>...</td>\n",
       "      <td>...</td>\n",
       "      <td>...</td>\n",
       "    </tr>\n",
       "    <tr>\n",
       "      <th>7005</th>\n",
       "      <td>0</td>\n",
       "      <td>9983476.0</td>\n",
       "      <td>2.252320</td>\n",
       "      <td>0.443987</td>\n",
       "      <td>286.0</td>\n",
       "    </tr>\n",
       "    <tr>\n",
       "      <th>7006</th>\n",
       "      <td>0</td>\n",
       "      <td>9983939.0</td>\n",
       "      <td>2.231729</td>\n",
       "      <td>0.448083</td>\n",
       "      <td>466.0</td>\n",
       "    </tr>\n",
       "    <tr>\n",
       "      <th>7007</th>\n",
       "      <td>0</td>\n",
       "      <td>9984569.0</td>\n",
       "      <td>2.867441</td>\n",
       "      <td>0.348743</td>\n",
       "      <td>478.0</td>\n",
       "    </tr>\n",
       "    <tr>\n",
       "      <th>7008</th>\n",
       "      <td>0</td>\n",
       "      <td>9987252.0</td>\n",
       "      <td>0.800516</td>\n",
       "      <td>1.249194</td>\n",
       "      <td>404.0</td>\n",
       "    </tr>\n",
       "    <tr>\n",
       "      <th>7009</th>\n",
       "      <td>0</td>\n",
       "      <td>999528.0</td>\n",
       "      <td>1.518817</td>\n",
       "      <td>0.658407</td>\n",
       "      <td>564.0</td>\n",
       "    </tr>\n",
       "  </tbody>\n",
       "</table>\n",
       "<p>7010 rows × 5 columns</p>\n",
       "</div>"
      ],
      "text/plain": [
       "      Unnamed: 0          ID  Frequency    Period      N\n",
       "0              0  10003298.0   8.067333  0.123957  196.0\n",
       "1              0  10004892.0   1.486845  0.672565  269.0\n",
       "2              0  10013411.0   1.800789  0.555312  170.0\n",
       "3              0  10021274.0   1.733287  0.576939  214.0\n",
       "4              0  10022663.0   1.623512  0.615949  246.0\n",
       "...          ...         ...        ...       ...    ...\n",
       "7005           0   9983476.0   2.252320  0.443987  286.0\n",
       "7006           0   9983939.0   2.231729  0.448083  466.0\n",
       "7007           0   9984569.0   2.867441  0.348743  478.0\n",
       "7008           0   9987252.0   0.800516  1.249194  404.0\n",
       "7009           0    999528.0   1.518817  0.658407  564.0\n",
       "\n",
       "[7010 rows x 5 columns]"
      ]
     },
     "execution_count": 12,
     "metadata": {},
     "output_type": "execute_result"
    }
   ],
   "source": [
    "LINEAR_data"
   ]
  },
  {
   "cell_type": "markdown",
   "metadata": {},
   "source": [
    "# `ZTF` dataset"
   ]
  },
  {
   "cell_type": "code",
   "execution_count": 15,
   "metadata": {},
   "outputs": [],
   "source": [
    "ZTF = np.load('../inputs/ZTF_curves.npy', allow_pickle=True) # loading the data"
   ]
  },
  {
   "cell_type": "markdown",
   "metadata": {},
   "source": [
    "## Calculating ZTF periods"
   ]
  },
  {
   "cell_type": "code",
   "execution_count": 16,
   "metadata": {},
   "outputs": [
    {
     "name": "stdout",
     "output_type": "stream",
     "text": [
      "Loading ZTF data!\n"
     ]
    }
   ],
   "source": [
    "ZTF_data = calculating_period('ZTF', 1, 'ZTF')"
   ]
  },
  {
   "cell_type": "code",
   "execution_count": 17,
   "metadata": {},
   "outputs": [
    {
     "data": {
      "text/html": [
       "<div>\n",
       "<style scoped>\n",
       "    .dataframe tbody tr th:only-of-type {\n",
       "        vertical-align: middle;\n",
       "    }\n",
       "\n",
       "    .dataframe tbody tr th {\n",
       "        vertical-align: top;\n",
       "    }\n",
       "\n",
       "    .dataframe thead th {\n",
       "        text-align: right;\n",
       "    }\n",
       "</style>\n",
       "<table border=\"1\" class=\"dataframe\">\n",
       "  <thead>\n",
       "    <tr style=\"text-align: right;\">\n",
       "      <th></th>\n",
       "      <th>ID</th>\n",
       "      <th>Frequency</th>\n",
       "      <th>Period</th>\n",
       "      <th>N</th>\n",
       "    </tr>\n",
       "  </thead>\n",
       "  <tbody>\n",
       "    <tr>\n",
       "      <th>0</th>\n",
       "      <td>0.0</td>\n",
       "      <td>8.067305</td>\n",
       "      <td>0.078646</td>\n",
       "      <td>2197.0</td>\n",
       "    </tr>\n",
       "    <tr>\n",
       "      <th>1</th>\n",
       "      <td>1.0</td>\n",
       "      <td>2.489658</td>\n",
       "      <td>0.655841</td>\n",
       "      <td>39.0</td>\n",
       "    </tr>\n",
       "    <tr>\n",
       "      <th>2</th>\n",
       "      <td>2.0</td>\n",
       "      <td>2.800860</td>\n",
       "      <td>0.053510</td>\n",
       "      <td>1404.0</td>\n",
       "    </tr>\n",
       "    <tr>\n",
       "      <th>3</th>\n",
       "      <td>3.0</td>\n",
       "      <td>1.733282</td>\n",
       "      <td>0.645009</td>\n",
       "      <td>1995.0</td>\n",
       "    </tr>\n",
       "    <tr>\n",
       "      <th>4</th>\n",
       "      <td>4.0</td>\n",
       "      <td>1.623467</td>\n",
       "      <td>0.578431</td>\n",
       "      <td>1533.0</td>\n",
       "    </tr>\n",
       "    <tr>\n",
       "      <th>...</th>\n",
       "      <td>...</td>\n",
       "      <td>...</td>\n",
       "      <td>...</td>\n",
       "      <td>...</td>\n",
       "    </tr>\n",
       "    <tr>\n",
       "      <th>6827</th>\n",
       "      <td>7004.0</td>\n",
       "      <td>3.201690</td>\n",
       "      <td>0.770133</td>\n",
       "      <td>546.0</td>\n",
       "    </tr>\n",
       "    <tr>\n",
       "      <th>6828</th>\n",
       "      <td>7006.0</td>\n",
       "      <td>2.231881</td>\n",
       "      <td>0.694322</td>\n",
       "      <td>553.0</td>\n",
       "    </tr>\n",
       "    <tr>\n",
       "      <th>6829</th>\n",
       "      <td>7007.0</td>\n",
       "      <td>2.867459</td>\n",
       "      <td>0.557196</td>\n",
       "      <td>549.0</td>\n",
       "    </tr>\n",
       "    <tr>\n",
       "      <th>6830</th>\n",
       "      <td>7008.0</td>\n",
       "      <td>1.803291</td>\n",
       "      <td>0.561482</td>\n",
       "      <td>547.0</td>\n",
       "    </tr>\n",
       "    <tr>\n",
       "      <th>6831</th>\n",
       "      <td>7009.0</td>\n",
       "      <td>1.518862</td>\n",
       "      <td>0.503702</td>\n",
       "      <td>610.0</td>\n",
       "    </tr>\n",
       "  </tbody>\n",
       "</table>\n",
       "<p>6832 rows × 4 columns</p>\n",
       "</div>"
      ],
      "text/plain": [
       "          ID  Frequency    Period       N\n",
       "0        0.0   8.067305  0.078646  2197.0\n",
       "1        1.0   2.489658  0.655841    39.0\n",
       "2        2.0   2.800860  0.053510  1404.0\n",
       "3        3.0   1.733282  0.645009  1995.0\n",
       "4        4.0   1.623467  0.578431  1533.0\n",
       "...      ...        ...       ...     ...\n",
       "6827  7004.0   3.201690  0.770133   546.0\n",
       "6828  7006.0   2.231881  0.694322   553.0\n",
       "6829  7007.0   2.867459  0.557196   549.0\n",
       "6830  7008.0   1.803291  0.561482   547.0\n",
       "6831  7009.0   1.518862  0.503702   610.0\n",
       "\n",
       "[6832 rows x 4 columns]"
      ]
     },
     "execution_count": 17,
     "metadata": {},
     "output_type": "execute_result"
    }
   ],
   "source": [
    "ZTF_data"
   ]
  },
  {
   "cell_type": "markdown",
   "metadata": {},
   "source": [
    "### Discussion of the results"
   ]
  },
  {
   "cell_type": "markdown",
   "metadata": {},
   "source": [
    "Our pool of light curves contain many light curves with only one \"dip\", however there is a large proportion of stars which are **eclipsing binaries**. These stars produce 2 dips, and using the Lomb-Scargle algorithm has to be adjusted. In the algorithm, we can use multi-term period fitting. In the tables beforehand, I used a standard sine wave, which works well for 1 dip stars, but poorly on eclipsing binaries. In the next section I will be using multi-term fitting to recalculate the periods, and hopefully correct the periods for eclipsing binaries. "
   ]
  },
  {
   "cell_type": "markdown",
   "metadata": {},
   "source": [
    "## Calculating the periods using multi-term sine waves"
   ]
  },
  {
   "cell_type": "code",
   "execution_count": null,
   "metadata": {},
   "outputs": [],
   "source": [
    "LINEAR_data_multi = calculating_period('LINEAR', 6, testing=False,'LINEAR_multi')"
   ]
  },
  {
   "cell_type": "code",
   "execution_count": null,
   "metadata": {},
   "outputs": [],
   "source": [
    "ZTF_data_multi = calculating_period('ZTF', 6, testing=False,'ZTF_multi')"
   ]
  },
  {
   "cell_type": "markdown",
   "metadata": {},
   "source": [
    "# Analysis of the periods of the light curves"
   ]
  },
  {
   "cell_type": "markdown",
   "metadata": {},
   "source": [
    "#### LINEAR"
   ]
  },
  {
   "cell_type": "code",
   "execution_count": 18,
   "metadata": {},
   "outputs": [
    {
     "data": {
      "text/html": [
       "<div>\n",
       "<style scoped>\n",
       "    .dataframe tbody tr th:only-of-type {\n",
       "        vertical-align: middle;\n",
       "    }\n",
       "\n",
       "    .dataframe tbody tr th {\n",
       "        vertical-align: top;\n",
       "    }\n",
       "\n",
       "    .dataframe thead th {\n",
       "        text-align: right;\n",
       "    }\n",
       "</style>\n",
       "<table border=\"1\" class=\"dataframe\">\n",
       "  <thead>\n",
       "    <tr style=\"text-align: right;\">\n",
       "      <th></th>\n",
       "      <th>Frequency</th>\n",
       "    </tr>\n",
       "  </thead>\n",
       "  <tbody>\n",
       "    <tr>\n",
       "      <th>0</th>\n",
       "      <td>8.067305</td>\n",
       "    </tr>\n",
       "    <tr>\n",
       "      <th>1</th>\n",
       "      <td>2.489658</td>\n",
       "    </tr>\n",
       "    <tr>\n",
       "      <th>2</th>\n",
       "      <td>2.800860</td>\n",
       "    </tr>\n",
       "    <tr>\n",
       "      <th>3</th>\n",
       "      <td>1.733282</td>\n",
       "    </tr>\n",
       "    <tr>\n",
       "      <th>4</th>\n",
       "      <td>1.623467</td>\n",
       "    </tr>\n",
       "    <tr>\n",
       "      <th>...</th>\n",
       "      <td>...</td>\n",
       "    </tr>\n",
       "    <tr>\n",
       "      <th>6827</th>\n",
       "      <td>3.201690</td>\n",
       "    </tr>\n",
       "    <tr>\n",
       "      <th>6828</th>\n",
       "      <td>2.231881</td>\n",
       "    </tr>\n",
       "    <tr>\n",
       "      <th>6829</th>\n",
       "      <td>2.867459</td>\n",
       "    </tr>\n",
       "    <tr>\n",
       "      <th>6830</th>\n",
       "      <td>1.803291</td>\n",
       "    </tr>\n",
       "    <tr>\n",
       "      <th>6831</th>\n",
       "      <td>1.518862</td>\n",
       "    </tr>\n",
       "  </tbody>\n",
       "</table>\n",
       "<p>6832 rows × 1 columns</p>\n",
       "</div>"
      ],
      "text/plain": [
       "      Frequency\n",
       "0      8.067305\n",
       "1      2.489658\n",
       "2      2.800860\n",
       "3      1.733282\n",
       "4      1.623467\n",
       "...         ...\n",
       "6827   3.201690\n",
       "6828   2.231881\n",
       "6829   2.867459\n",
       "6830   1.803291\n",
       "6831   1.518862\n",
       "\n",
       "[6832 rows x 1 columns]"
      ]
     },
     "execution_count": 18,
     "metadata": {},
     "output_type": "execute_result"
    }
   ],
   "source": [
    "LINEAR_p = lc_descriptive_dataframe(LINEAR_data, 'Period')\n",
    "LINEAR_p"
   ]
  },
  {
   "cell_type": "code",
   "execution_count": null,
   "metadata": {},
   "outputs": [],
   "source": [
    "LINEAR_f = lc_descriptive_dataframe(LINEAR_data, 'Frequency')\n",
    "LINEAR_f"
   ]
  },
  {
   "cell_type": "markdown",
   "metadata": {},
   "source": [
    "#### ZTF"
   ]
  },
  {
   "cell_type": "code",
   "execution_count": null,
   "metadata": {},
   "outputs": [],
   "source": [
    "ZTF_p = lc_descriptive_dataframe(ZTF_data, 'Period')\n",
    "ZTF_p"
   ]
  },
  {
   "cell_type": "code",
   "execution_count": null,
   "metadata": {},
   "outputs": [],
   "source": [
    "ZTF_f = lc_descriptive_dataframe(ZTF_data, 'Frequency')\n",
    "ZTF_f"
   ]
  },
  {
   "cell_type": "markdown",
   "metadata": {},
   "source": [
    "#### Multi-term LINEAR"
   ]
  },
  {
   "cell_type": "code",
   "execution_count": null,
   "metadata": {},
   "outputs": [],
   "source": [
    "LINEAR_f_multi = lc_descriptive_dataframe(LINEAR_data_multi, 'Frequency')\n",
    "LINEAR_f_multi"
   ]
  },
  {
   "cell_type": "code",
   "execution_count": null,
   "metadata": {},
   "outputs": [],
   "source": [
    "LINEAR_p_multi = lc_descriptive_dataframe(LINEAR_data_multi, 'Frequency')\n",
    "LINEAR_p_multi"
   ]
  },
  {
   "cell_type": "markdown",
   "metadata": {},
   "source": [
    "#### Multi-term ZTF"
   ]
  },
  {
   "cell_type": "code",
   "execution_count": null,
   "metadata": {},
   "outputs": [],
   "source": [
    "ZTF_f_multi = lc_descriptive_dataframe(ZTF_data_multi, 'Frequency')\n",
    "ZTF_f_multi"
   ]
  },
  {
   "cell_type": "code",
   "execution_count": null,
   "metadata": {},
   "outputs": [],
   "source": [
    "ZTF_p_multi = lc_descriptive_dataframe(ZTF_data_multi, 'Frequency')\n",
    "ZTF_p_multi"
   ]
  },
  {
   "cell_type": "markdown",
   "metadata": {},
   "source": [
    "## Analysis of graphs"
   ]
  },
  {
   "cell_type": "code",
   "execution_count": null,
   "metadata": {},
   "outputs": [],
   "source": [
    "# period of LINEAR single to LINEAR multi\n",
    "sns.histplot(data=LINEAR_data, x='Period',color=\"skyblue\", label='LINEAR single', kde=True)\n",
    "sns.histplot(data=LINEAR_data_multi, x='Period', color=\"red\", label=\"LINEAR multi\", kde=True)\n",
    "plt.legend()\n",
    "plt.show()"
   ]
  },
  {
   "cell_type": "code",
   "execution_count": null,
   "metadata": {},
   "outputs": [],
   "source": [
    "# period of ZTF single to ZTF multi\n",
    "sns.histplot(data=ZTF_data, x='Period',color=\"skyblue\", label='ZTF single', kde=True)\n",
    "sns.histplot(data=ZTF_data_multi, x='Period', color=\"red\", label=\"ZTF multi\", kde=True)\n",
    "plt.legend()\n",
    "plt.show()"
   ]
  },
  {
   "cell_type": "code",
   "execution_count": null,
   "metadata": {},
   "outputs": [],
   "source": [
    "# period of LINEAR single to ZTF single\n",
    "sns.histplot(data=LINEAR_data, x='Period',color=\"skyblue\", label='LINEAR single', kde=True)\n",
    "sns.histplot(data=ZTF_data, x='Period', color=\"red\", label=\"ZTF single\", kde=True)\n",
    "plt.legend()\n",
    "plt.show()"
   ]
  },
  {
   "cell_type": "code",
   "execution_count": null,
   "metadata": {},
   "outputs": [],
   "source": [
    "# period of LINEAR multi to ZTF multi\n",
    "sns.histplot(data=LINEAR_data_multi, x='Period',color=\"skyblue\", label='LINEAR multi', kde=True)\n",
    "sns.histplot(data=ZTF_data_multi, x='Period', color=\"red\", label=\"ZTF multi\", kde=True)\n",
    "plt.legend()\n",
    "plt.show()"
   ]
  },
  {
   "cell_type": "markdown",
   "metadata": {},
   "source": [
    "## Plotting examples of phased light curves from both `LINEAR` and `ZTF`"
   ]
  },
  {
   "cell_type": "markdown",
   "metadata": {},
   "source": [
    "### `LINEAR` single"
   ]
  },
  {
   "cell_type": "code",
   "execution_count": null,
   "metadata": {},
   "outputs": [],
   "source": [
    "plotting_lc_phased(LINEAR_data, 'LINEAR', 6, 3, 2)"
   ]
  },
  {
   "cell_type": "markdown",
   "metadata": {},
   "source": [
    "### `LINEAR` multi"
   ]
  },
  {
   "cell_type": "code",
   "execution_count": null,
   "metadata": {},
   "outputs": [],
   "source": [
    "plotting_lc_phased(LINEAR_data_multi, 'LINEAR', 6, 3, 2)"
   ]
  },
  {
   "cell_type": "markdown",
   "metadata": {},
   "source": [
    "### `ZTF` single"
   ]
  },
  {
   "cell_type": "code",
   "execution_count": null,
   "metadata": {},
   "outputs": [],
   "source": [
    "plotting_lc_phased(ZTF_data, 'ZTF', 6, 3, 2)"
   ]
  },
  {
   "cell_type": "markdown",
   "metadata": {},
   "source": [
    "### `ZTF` multi"
   ]
  },
  {
   "cell_type": "code",
   "execution_count": null,
   "metadata": {},
   "outputs": [],
   "source": [
    "plotting_lc_phased(ZTF_data_multi, 'ZTF', 6, 3, 2)"
   ]
  },
  {
   "cell_type": "markdown",
   "metadata": {},
   "source": []
  }
 ],
 "metadata": {
  "kernelspec": {
   "display_name": "var_stars",
   "language": "python",
   "name": "var_stars"
  },
  "language_info": {
   "codemirror_mode": {
    "name": "ipython",
    "version": 3
   },
   "file_extension": ".py",
   "mimetype": "text/x-python",
   "name": "python",
   "nbconvert_exporter": "python",
   "pygments_lexer": "ipython3",
   "version": "3.10.4"
  },
  "orig_nbformat": 4
 },
 "nbformat": 4,
 "nbformat_minor": 2
}
