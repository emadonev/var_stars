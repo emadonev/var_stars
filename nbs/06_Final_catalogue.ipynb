{
 "cells": [
  {
   "cell_type": "code",
   "execution_count": 1,
   "metadata": {},
   "outputs": [],
   "source": [
    "%load_ext autoreload\n",
    "%autoreload 2"
   ]
  },
  {
   "cell_type": "code",
   "execution_count": 2,
   "metadata": {},
   "outputs": [],
   "source": [
    "#| code-fold: false\n",
    "# IMPORTING LIBRARIES\n",
    "# --------------------\n",
    "\n",
    "# AstroML\n",
    "from astroML.datasets import fetch_LINEAR_sample\n",
    "from astropy.timeseries import LombScargle\n",
    "from astroML.datasets import fetch_LINEAR_sample\n",
    "from astroML.datasets import fetch_LINEAR_geneva\n",
    "from astropy.timeseries import TimeSeries\n",
    "from astropy.table import Table\n",
    "from astroML.time_series import MultiTermFit\n",
    "\n",
    "# ZTF\n",
    "from ztfquery import lightcurve\n",
    "\n",
    "# Basic libraries\n",
    "import pickle\n",
    "import os\n",
    "import sys\n",
    "from tqdm import tqdm\n",
    "\n",
    "# Plotting\n",
    "import seaborn as sns\n",
    "from matplotlib import pyplot as plt\n",
    "from matplotlib import ticker\n",
    "import matplotlib.colors as mcolors\n",
    "from matplotlib.font_manager import FontProperties\n",
    "\n",
    "# DataFrame analysis\n",
    "import pandas as pd\n",
    "\n",
    "# Math libraries\n",
    "import numpy as np\n",
    "import scipy as sc\n",
    "from scipy.stats import norm\n",
    "\n",
    "# CONFIGURATION\n",
    "# -------------\n",
    "sns.set_theme(style='white') # setting the theme for plotting\n",
    "sys.path.insert(0,'../src/')\n",
    "np.random.seed(42)\n",
    "\n",
    "# configuring plotting colors\n",
    "colors = ['#465BBB', '#3F8FCE', '#7ABBCE', '#3A3865', '#A82F43', '#612A37', '#DC5433', '#F29457']\n",
    "b1 = '#465BBB'\n",
    "b2 = '#3F8FCE'\n",
    "b3 = '#7ABBCE'\n",
    "b4 = '#3A3865'\n",
    "black1 = '#22212A'\n",
    "black2 = '#2D1E21'\n",
    "or1 = '#A82F43'\n",
    "or2 = '#612A37'\n",
    "or3 = '#DC5433'\n",
    "or4 = '#F29457'\n",
    "muted_colors = sns.set_palette(sns.color_palette(colors))\n",
    "\n",
    "# configuring fonts for plotting\n",
    "font = FontProperties()\n",
    "font.set_family('serif')\n",
    "font.set_name('Andale Mono')\n",
    "font.set_style('normal')\n",
    "#font.set_size('normal')\n",
    "\n",
    "\n",
    "%matplotlib inline "
   ]
  },
  {
   "cell_type": "code",
   "execution_count": 3,
   "metadata": {},
   "outputs": [],
   "source": [
    "#| code-fold: false\n",
    "# Importing custom libraries\n",
    "# ----------------------------\n",
    "from data_access import*\n",
    "from helper import*\n",
    "from RR_lyrae_params import*\n",
    "from blazhko_analysis import*\n",
    "from BE_plotting import*"
   ]
  },
  {
   "cell_type": "code",
   "execution_count": null,
   "metadata": {},
   "outputs": [],
   "source": [
    "# DATA\n",
    "# ======\n",
    "# LINEAR data\n",
    "dataL = fetch_LINEAR_sample(data_home='../inputs')\n",
    "\n",
    "# calcualted data\n",
    "end = 'ffinal'\n",
    "\n",
    "# light curve table\n",
    "lc_analysis = pd.read_csv(\"../outputs/LC_ANALYSIS_\"+end+\".csv\")\n",
    "# rr lyrae\n",
    "rrlyrae = pd.read_csv('../outputs/Lrrlyr_unprocessed.csv')\n",
    "# blazhko candidates\n",
    "blazhko_candidates = pd.read_csv('../outputs/blazhko_canmodfinal.csv')\n",
    "# periodogram data\n",
    "periodogr = pickle.load(open(\"../outputs/periodograms_\"+end+\".pkl\", \"rb\"))\n",
    "# fits data\n",
    "fits = np.load(\"../outputs/fits_\"+end+\".npy\", allow_pickle=True)\n",
    "# ztf data\n",
    "ztf_data = np.load(\"../outputs/ztf_data_filter\"+end+\".npy\", allow_pickle=True)\n",
    "\n",
    "# selection data\n",
    "ztf_per = pd.read_csv('../outputs/groupZ_p.csv')\n",
    "linear_per = pd.read_csv('../outputs/groupL_p.csv')\n",
    "score = pd.read_csv('../outputs/groupscore.csv')"
   ]
  },
  {
   "cell_type": "markdown",
   "metadata": {},
   "source": [
    "---"
   ]
  },
  {
   "cell_type": "code",
   "execution_count": null,
   "metadata": {},
   "outputs": [],
   "source": [
    "FINAL_BE_CATALOGUE = pd.DataFrame()\n",
    "FINAL_BE_CATALOGUE = pd.concat([FINAL_BE_CATALOGUE, ztf_per.reset_index(drop=True)],ignore_index=True, axis=0)\n",
    "FINAL_BE_CATALOGUE = pd.concat([FINAL_BE_CATALOGUE, linear_per.reset_index(drop=True)],ignore_index=True, axis=0)\n",
    "FINAL_BE_CATALOGUE = pd.concat([FINAL_BE_CATALOGUE, score.reset_index(drop=True)],ignore_index=True, axis=0)\n",
    "\n",
    "print(FINAL_BE_CATALOGUE.shape)\n",
    "FINAL_BE_CATALOGUE.head()"
   ]
  },
  {
   "cell_type": "code",
   "execution_count": null,
   "metadata": {},
   "outputs": [],
   "source": [
    "FINAL_BE_CATALOGUE.to_csv('../outputs/FINAL_BE_CATALOGUE.csv', index=False)"
   ]
  },
  {
   "cell_type": "markdown",
   "metadata": {},
   "source": [
    "# Analysis of final catalogue"
   ]
  },
  {
   "cell_type": "markdown",
   "metadata": {},
   "source": [
    "### Adding the light curve type"
   ]
  },
  {
   "cell_type": "code",
   "execution_count": null,
   "metadata": {},
   "outputs": [],
   "source": [
    "lctype = []\n",
    "\n",
    "for i in range(len(list(rrlyrae['LINEARobjectID']))):\n",
    "    lctype.append((rrlyrae['LINEARobjectID'][i], rrlyrae['LCtype'][i]))\n",
    "\n",
    "be_lctype = []\n",
    "for i in list(lc_analysis['LINEAR id']):\n",
    "    for n in lctype:\n",
    "        if i==n[0]:\n",
    "            be_lctype.append(n)\n",
    "print(len(be_lctype))\n",
    "\n",
    "LCTYPE = [x[1] for x in be_lctype]\n",
    "\n",
    "lc_analysis['LCtype'] = LCTYPE\n",
    "lc_analysis.head()"
   ]
  },
  {
   "cell_type": "markdown",
   "metadata": {},
   "source": [
    "### The master table"
   ]
  },
  {
   "cell_type": "code",
   "execution_count": null,
   "metadata": {},
   "outputs": [],
   "source": [
    "lc_MASTER = pd.DataFrame(())\n",
    "lc_MASTER['LINEAR ID'] = lc_analysis['LINEAR id']\n",
    "lc_MASTER['Plinear'] = lc_analysis['Plinear']\n",
    "lc_MASTER['Pztf'] = lc_analysis['Pztf']\n",
    "lc_MASTER['N_L'] = lc_analysis['NdataLINEAR']\n",
    "lc_MASTER['N_Z'] = lc_analysis['NdataZTF']\n",
    "lc_MASTER['L_chi2r'] = lc_analysis['L_chi2dofR']\n",
    "lc_MASTER['Z_chi2r'] = lc_analysis['Zchi2dofR']\n",
    "lc_MASTER['L_chi2'] = lc_analysis['L_chi2dof']\n",
    "lc_MASTER['Z_chi2'] = lc_analysis['Zchi2dof']\n",
    "lc_MASTER['Lampl'] = lc_analysis['Lampl']\n",
    "lc_MASTER['Zampl'] = lc_analysis['Zampl']\n",
    "lc_MASTER['Ampl_diff'] = lc_analysis['Ampl_diff']\n",
    "lc_MASTER['BpeakL'] = lc_analysis['BlazhkoPeakL']\n",
    "lc_MASTER['BpeakZ'] = lc_analysis['BlazhkoPeakZ']\n",
    "lc_MASTER['BperiodL'] = lc_analysis['BlazhkoPeriodL']\n",
    "lc_MASTER['BperiodZ'] = lc_analysis['BlazhkoPeriodZ']\n",
    "lc_MASTER['LCtype'] = lc_analysis['LCtype']\n",
    "lc_MASTER['Periodogram_f'] = '-'\n",
    "lc_MASTER['B_score'] = 0  # Assuming a default value of 0 for B_score\n",
    "lc_MASTER['Blazhko_f'] = '-1'  # Default value"
   ]
  },
  {
   "cell_type": "code",
   "execution_count": null,
   "metadata": {},
   "outputs": [],
   "source": [
    "lcLids = list(lc_MASTER['LINEAR ID'])\n",
    "bcLids = list(blazhko_candidates['LINEAR id'])\n",
    "bLids = list(FINAL_BE_CATALOGUE['LINEAR id'])"
   ]
  },
  {
   "cell_type": "code",
   "execution_count": null,
   "metadata": {},
   "outputs": [],
   "source": [
    "for n, i in enumerate(lcLids):\n",
    "    for m, j in enumerate(bcLids):\n",
    "        if i == j:\n",
    "            if blazhko_candidates.loc[m, 'BE_score'] > 0:\n",
    "                lc_MASTER.loc[n, 'B_score'] = blazhko_candidates.loc[m, 'BE_score']\n",
    "            for nm, k in enumerate(bLids):\n",
    "                if i == k:\n",
    "                    if FINAL_BE_CATALOGUE.loc[nm, 'IndicatorType'] == 'Z' or FINAL_BE_CATALOGUE.loc[nm, 'IndicatorType'] == 'L' or FINAL_BE_CATALOGUE.loc[nm, 'IndicatorType'] == 'LZ':\n",
    "                        lc_MASTER.loc[n, 'Periodogram_f'] = FINAL_BE_CATALOGUE.loc[nm, 'IndicatorType']\n",
    "                        lc_MASTER.loc[n, 'Blazhko_f'] = '2'\n",
    "                    else:\n",
    "                        lc_MASTER.loc[n, 'Blazhko_f'] = '1'\n",
    "                    break  \n",
    "                else:\n",
    "                    lc_MASTER.loc[n, 'Blazhko_f'] = '0'\n",
    "            break "
   ]
  },
  {
   "cell_type": "code",
   "execution_count": null,
   "metadata": {},
   "outputs": [],
   "source": [
    "lc_MASTER.head()"
   ]
  },
  {
   "cell_type": "code",
   "execution_count": null,
   "metadata": {},
   "outputs": [],
   "source": [
    "lc_MASTER.to_csv(\"../outputs/lc_MASTER.csv\", index=False)"
   ]
  },
  {
   "cell_type": "code",
   "execution_count": null,
   "metadata": {},
   "outputs": [],
   "source": [
    "with open('../PAPER/lc_master.tex', \"w\") as f:\n",
    "    f.write(lc_MASTER.to_latex(index=False))"
   ]
  },
  {
   "cell_type": "markdown",
   "metadata": {},
   "source": [
    "## Selecting blazhko stars from the main catalogue"
   ]
  },
  {
   "cell_type": "code",
   "execution_count": null,
   "metadata": {},
   "outputs": [],
   "source": [
    "b_MAIN = pd.DataFrame(columns=lc_MASTER.columns)\n",
    "lids = list(lc_MASTER['LINEAR ID'])\n",
    "\n",
    "for n, i in enumerate(lids):\n",
    "    if lc_MASTER.loc[n, 'Blazhko_f'] in [0, 1, 2]:  # Check for valid Blazhko_f values\n",
    "        row = lc_MASTER.iloc[[n]]  # Extract the row as a DataFrame\n",
    "        b_MAIN = pd.concat([b_MAIN, row], ignore_index=True)\n",
    "\n",
    "print(b_MAIN.shape)\n",
    "b_MAIN.head()"
   ]
  },
  {
   "cell_type": "markdown",
   "metadata": {},
   "source": [
    "# Plots"
   ]
  },
  {
   "cell_type": "code",
   "execution_count": null,
   "metadata": {},
   "outputs": [],
   "source": [
    "fig = plt.figure(figsize=(10,10))\n",
    "ax = plt.axes(xscale='linear', yscale='linear') \n",
    "ax.xaxis.set_tick_params(labelsize=18) \n",
    "ax.yaxis.set_tick_params(labelsize=18) \n",
    "plt.rc('font', size=24) \n",
    "\n",
    "\n",
    "sns.scatterplot(data=lc_MASTER, x='L_chi2r', y='Z_chi2r', marker='x', color=b1)\n",
    "sns.scatterplot(data=FINAL_BE_CATALOGUE, x='L_chi2dofR', y='Zchi2dofR', marker='o', color=or3)\n",
    "plt.xlim([0, 20])\n",
    "plt.ylim([0, 20])\n",
    "plt.xlabel(r'LINEAR $\\chi^2_{dof}$', fontproperties=font, fontsize=22)\n",
    "plt.ylabel(r'ZTF $\\chi^2_{dof}$', fontproperties=font,fontsize=22)\n",
    "plt.plot([1.8, 1.8], [0, 20], ls='--', c='black')\n",
    "plt.plot([3.0, 3.0], [0, 20], ls='--', c='black')\n",
    "plt.plot([0, 20.0], [2, 2], ls='--', c='black')\n",
    "plt.plot([0, 20.0], [4, 4], ls='--', c='black')\n",
    "\n",
    "\n",
    "#plt.savefig('../img_rsc/chi_scatter_zi.png', dpi=150)\n",
    "plt.show()"
   ]
  },
  {
   "cell_type": "markdown",
   "metadata": {},
   "source": [
    "- number of blazhko stars\n",
    "- algorithm success\n",
    "- incidence rate"
   ]
  },
  {
   "cell_type": "markdown",
   "metadata": {},
   "source": []
  }
 ],
 "metadata": {
  "kernelspec": {
   "display_name": "rr_lyrae",
   "language": "python",
   "name": "python3"
  },
  "language_info": {
   "codemirror_mode": {
    "name": "ipython",
    "version": 3
   },
   "file_extension": ".py",
   "mimetype": "text/x-python",
   "name": "python",
   "nbconvert_exporter": "python",
   "pygments_lexer": "ipython3",
   "version": "3.11.4"
  }
 },
 "nbformat": 4,
 "nbformat_minor": 2
}
