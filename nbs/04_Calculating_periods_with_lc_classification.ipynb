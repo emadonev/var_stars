{
 "cells": [
  {
   "cell_type": "markdown",
   "metadata": {},
   "source": [
    "# Analysis of light curve periods based on light curve classification"
   ]
  },
  {
   "cell_type": "code",
   "execution_count": null,
   "metadata": {},
   "outputs": [],
   "source": [
    "# importing all of the necessary libraries\n",
    "import numpy as np\n",
    "import seaborn as sns\n",
    "import pandas as pd\n",
    "import scipy as sc\n",
    "import random\n",
    "import pickle\n",
    "\n",
    "from matplotlib import pyplot as plt\n",
    "from scipy.stats import norm\n",
    "from astropy.table import Table\n",
    "\n",
    "from astroML.utils.decorators import pickle_results\n",
    "from astroML.time_series import search_frequencies, lomb_scargle, MultiTermFit\n",
    "#from gatspy import periodic\n",
    "from astropy.timeseries import LombScargle\n",
    "from astroML.datasets import fetch_LINEAR_sample\n",
    "from astroML.datasets import fetch_LINEAR_geneva\n",
    "\n",
    "from ztfquery import lightcurve\n",
    "from matplotlib import ticker\n",
    "import dask.dataframe as dd \n",
    "from concurrent.futures import ThreadPoolExecutor\n",
    "from concurrent.futures import ProcessPoolExecutor\n",
    "import threading\n",
    "import os\n",
    "import random\n",
    "\n",
    "np.random.seed(42)\n",
    "%matplotlib inline  "
   ]
  },
  {
   "cell_type": "code",
   "execution_count": null,
   "metadata": {},
   "outputs": [],
   "source": [
    "sns.set_theme() # setting the theme for plotting"
   ]
  },
  {
   "cell_type": "code",
   "execution_count": null,
   "metadata": {},
   "outputs": [],
   "source": [
    "import sys\n",
    "sys.path.insert(0,'../src/')\n",
    "sys.path\n",
    "from ZTF_data import *\n",
    "from descriptive_stats import *\n",
    "from plotting import *\n",
    "from config import *\n",
    "from periods import *"
   ]
  },
  {
   "cell_type": "markdown",
   "metadata": {},
   "source": []
  }
 ],
 "metadata": {
  "language_info": {
   "name": "python"
  },
  "orig_nbformat": 4
 },
 "nbformat": 4,
 "nbformat_minor": 2
}
