{
 "cells": [
  {
   "cell_type": "code",
   "execution_count": null,
   "metadata": {},
   "outputs": [],
   "source": [
    "star1 = [4101289]\n",
    "star2 = [6819457]\n",
    "star3 = [7048826]\n",
    "star4 = [10260828]"
   ]
  },
  {
   "cell_type": "code",
   "execution_count": null,
   "metadata": {},
   "outputs": [],
   "source": [
    "single = category_analysis(blazhko_can, fits, periodogr, ztf_data, dataL, end='test',id_list=star3, plotSave=True)"
   ]
  },
  {
   "cell_type": "code",
   "execution_count": null,
   "metadata": {},
   "outputs": [],
   "source": [
    "ID = 24\n",
    "Lids = list(FINAL_BE_CATALOGUE['LINEAR id'])"
   ]
  },
  {
   "cell_type": "code",
   "execution_count": null,
   "metadata": {},
   "outputs": [],
   "source": [
    "total_num = len(Lids)\n",
    "Lid = Lids[ID]\n",
    "lc_data_ID = dataL.get_light_curve(Lid)\n",
    "time, mag, magerr = lc_data_ID.T\n",
    "tZ, mZ, meZ = ztf_data[ID][1], ztf_data[ID][2], ztf_data[ID][3]\n",
    "for n, j in enumerate(fits):\n",
    "    if j[0]==Lid:\n",
    "        break\n",
    "\n",
    "L1 = fits[n][1][0]\n",
    "L2 = fits[n][1][2]\n",
    "\n",
    "fig, ax = plt.subplots(1,4, figsize=(30,5))   \n",
    "#fig.suptitle('STAR '+str(ID+1)+' from '+str(total_num), fontsize=30, fontproperties=font)\n",
    "fig.set_facecolor('white')\n",
    "\n",
    "#--------\n",
    "ax[0].errorbar(time, mag, magerr, fmt='.k', ecolor=black1,lw=1, ms=4, capsize=1.5,alpha=0.2)\n",
    "ax[0].set_xlabel('Time (days)',fontproperties=font)\n",
    "ax[0].set_ylabel('Magnitude (mag)', fontproperties=font)\n",
    "fig.suptitle('LINEAR object {0}'.format(Lid), fontproperties=font, fontsize=18)\n",
    "ax[0].invert_yaxis()\n",
    "\n",
    "# -----\n",
    "\n",
    "ax[1].set_xlabel('fit LINEAR light curve (best period)', fontproperties=font, fontsize=12)\n",
    "ax[1].set_ylabel('LINEAR normalized light curve', fontproperties=font, fontsize=12)\n",
    "ax[1].set_xlim(-0.1, 1.1)\n",
    "ax[1].set_ylim(1.3, -0.3)\n",
    "# data\n",
    "xx, yy, zz = sort3arr(L1['dataPhasedTime'], L1['dataTemplate'], L1['dataTemplateErr'])\n",
    "ax[1].errorbar(xx, yy, zz, fmt='.k', ecolor=black1, lw=1, ms=4, capsize=1.5, alpha=0.2)\n",
    "# fit for Plinear\n",
    "ax[1].plot(L1['modelPhaseGrid'], L1['modTemplate'], or3, markeredgecolor=or3, lw=2, fillstyle='top', linestyle='dashed')\n",
    "\n",
    "#--------\n",
    "ax[2].errorbar(tZ, mZ, meZ, fmt='.k', ecolor=black1,lw=1, ms=4, capsize=1.5,alpha=0.2)\n",
    "ax[2].set_xlabel('Time (days)',fontproperties=font)\n",
    "ax[2].set_ylabel('Magnitude (mag)', fontproperties=font)\n",
    "ax[2].invert_yaxis()\n",
    "\n",
    "# -----\n",
    "\n",
    "ax[3].set_xlabel('fit ZTF light curve (best period)', fontproperties=font, fontsize=12)\n",
    "ax[3].set_ylabel('ZTF normalized light curve', fontproperties=font, fontsize=12)\n",
    "ax[3].set_xlim(-0.1, 1.1)\n",
    "ax[3].set_ylim(1.3, -0.3)\n",
    "# data\n",
    "xx, yy, zz = sort3arr(L2['dataPhasedTime'], L2['dataTemplate'], L2['dataTemplateErr'])\n",
    "ax[3].errorbar(xx, yy, zz, fmt='.k', ecolor=black1, lw=1, ms=4, capsize=1.5, alpha=0.2)\n",
    "# fit for Plinear\n",
    "ax[3].plot(L2['modelPhaseGrid'], L2['modTemplate'], or3, markeredgecolor=or3, lw=2, fillstyle='top', linestyle='dashed')\n",
    "#plt.tight_layout()\n",
    "plt.savefig('../img_rsc/lc_pair.png', dpi=650)"
   ]
  }
 ],
 "metadata": {
  "language_info": {
   "name": "python"
  }
 },
 "nbformat": 4,
 "nbformat_minor": 2
}
