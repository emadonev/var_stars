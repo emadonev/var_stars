{
 "cells": [
  {
   "cell_type": "raw",
   "metadata": {},
   "source": [
    "---\n",
    "title: \"Determining BE candidates\"\n",
    "theme: \"lux\"\n",
    "format:\n",
    "    html:\n",
    "        code-fold: true\n",
    "---"
   ]
  },
  {
   "cell_type": "code",
   "execution_count": 1,
   "metadata": {},
   "outputs": [],
   "source": [
    "%load_ext autoreload\n",
    "%autoreload 2"
   ]
  },
  {
   "cell_type": "code",
   "execution_count": 2,
   "metadata": {},
   "outputs": [],
   "source": [
    "#| code-fold: false\n",
    "# IMPORTING LIBRARIES\n",
    "# --------------------\n",
    "\n",
    "# AstroML\n",
    "from astroML.datasets import fetch_LINEAR_sample\n",
    "from astropy.coordinates import SkyCoord\n",
    "import astropy.units as u\n",
    "\n",
    "# Basic libraries\n",
    "import pickle\n",
    "import os\n",
    "import sys\n",
    "from tqdm import tqdm\n",
    "\n",
    "# Plotting\n",
    "import seaborn as sns\n",
    "from matplotlib import pyplot as plt\n",
    "from matplotlib import ticker\n",
    "import matplotlib.colors as mcolors\n",
    "from matplotlib.font_manager import FontProperties\n",
    "\n",
    "# DataFrame analysis\n",
    "import pandas as pd\n",
    "\n",
    "# Math libraries\n",
    "import numpy as np\n",
    "import scipy as sc\n",
    "from scipy.stats import norm\n",
    "\n",
    "# CONFIGURATION\n",
    "# -------------\n",
    "sns.set_theme() # setting the theme for plotting\n",
    "sys.path.insert(0,'../src/')\n",
    "np.random.seed(42)\n",
    "\n",
    "# configuring plotting colors\n",
    "colors = ['#5F6372', '#79A8A4', '#B2AD8F', '#92A186', '#AD8082']\n",
    "blue = '#5F6372'\n",
    "turqoise = '#79A8A4'\n",
    "light_green = '#B2AD8F'\n",
    "green = '#92A186'\n",
    "pink = '#AD8082'\n",
    "muted_colors = sns.set_palette(sns.color_palette(colors))\n",
    "\n",
    "# configuring fonts for plotting\n",
    "font = FontProperties()\n",
    "font.set_family('avenir')\n",
    "font.set_name('Big Caslon')\n",
    "font.set_style('normal')\n",
    "font.set_size('xx-large')\n",
    "\n",
    "\n",
    "%matplotlib inline  "
   ]
  },
  {
   "cell_type": "code",
   "execution_count": 3,
   "metadata": {},
   "outputs": [],
   "source": [
    "#| code-fold: false\n",
    "# Importing custom libraries\n",
    "# ----------------------------\n",
    "sys.path.insert(0,'../src/')\n",
    "from BE_plotting import*\n",
    "#from RR_lyrae_params import*\n",
    "from blazhko_analysis import*"
   ]
  },
  {
   "cell_type": "markdown",
   "metadata": {},
   "source": [
    "## Importing data"
   ]
  },
  {
   "cell_type": "markdown",
   "metadata": {},
   "source": [
    "The first step is to import the `LINEAR` and `ZTF` data, as well as the data calculated in the previous notebook."
   ]
  },
  {
   "cell_type": "code",
   "execution_count": 4,
   "metadata": {},
   "outputs": [],
   "source": [
    "#| code-fold: false\n",
    "# DATA\n",
    "dataLINEAR = fetch_LINEAR_sample(data_home='../inputs') # fetching the data from astroML data library\n",
    "end = 'FINAL_FINAL_complete_revised'\n",
    "\n",
    "# DATA from previous notebook\n",
    "lc_analysis = pd.read_csv(\"../outputs/LC_ANALYSIS_\"+end+\".csv\")\n",
    "lc_select = pd.read_csv('../outputs/LC_ANALYSIS_complete_selectabove250.csv')\n",
    "periodogr = pickle.load(open(\"../outputs/periodograms_\"+end+\".pkl\", \"rb\"))\n",
    "fits = np.load(\"../outputs/fits_\"+end+\".npy\", allow_pickle=True)\n",
    "ztf_data = np.load(\"../outputs/ztf_data_filter\"+end+\".npy\", allow_pickle=True)"
   ]
  },
  {
   "cell_type": "code",
   "execution_count": 5,
   "metadata": {},
   "outputs": [
    {
     "name": "stdout",
     "output_type": "stream",
     "text": [
      "(1239, 38)\n"
     ]
    },
    {
     "data": {
      "text/html": [
       "<div>\n",
       "<style scoped>\n",
       "    .dataframe tbody tr th:only-of-type {\n",
       "        vertical-align: middle;\n",
       "    }\n",
       "\n",
       "    .dataframe tbody tr th {\n",
       "        vertical-align: top;\n",
       "    }\n",
       "\n",
       "    .dataframe thead th {\n",
       "        text-align: right;\n",
       "    }\n",
       "</style>\n",
       "<table border=\"1\" class=\"dataframe\">\n",
       "  <thead>\n",
       "    <tr style=\"text-align: right;\">\n",
       "      <th></th>\n",
       "      <th>LINEAR id</th>\n",
       "      <th>Plinear</th>\n",
       "      <th>Pztf</th>\n",
       "      <th>Pmean</th>\n",
       "      <th>Pratio</th>\n",
       "      <th>NdataLINEAR</th>\n",
       "      <th>L_rms</th>\n",
       "      <th>L_chi2dof</th>\n",
       "      <th>L_chi2dofR</th>\n",
       "      <th>Lmean_rms</th>\n",
       "      <th>...</th>\n",
       "      <th>MainPeakZ</th>\n",
       "      <th>BlazhkoPeakZ</th>\n",
       "      <th>BlazhkoPeriodZ</th>\n",
       "      <th>BpowerRatioZ</th>\n",
       "      <th>BsignificanceZ</th>\n",
       "      <th>Ampl_diff</th>\n",
       "      <th>dP</th>\n",
       "      <th>IndicatorType</th>\n",
       "      <th>ChiType</th>\n",
       "      <th>BE_score</th>\n",
       "    </tr>\n",
       "  </thead>\n",
       "  <tbody>\n",
       "    <tr>\n",
       "      <th>0</th>\n",
       "      <td>10030349</td>\n",
       "      <td>0.545073</td>\n",
       "      <td>0.545074</td>\n",
       "      <td>0.545074</td>\n",
       "      <td>1.000002</td>\n",
       "      <td>255</td>\n",
       "      <td>0.076910</td>\n",
       "      <td>8.7</td>\n",
       "      <td>2.1</td>\n",
       "      <td>0.071804</td>\n",
       "      <td>...</td>\n",
       "      <td>1.8346</td>\n",
       "      <td>1.9187</td>\n",
       "      <td>11.8963</td>\n",
       "      <td>0.0177</td>\n",
       "      <td>5.5569</td>\n",
       "      <td>0.10</td>\n",
       "      <td>0.00000</td>\n",
       "      <td>NaN</td>\n",
       "      <td>NaN</td>\n",
       "      <td>NaN</td>\n",
       "    </tr>\n",
       "    <tr>\n",
       "      <th>1</th>\n",
       "      <td>10040133</td>\n",
       "      <td>0.610543</td>\n",
       "      <td>0.610549</td>\n",
       "      <td>0.610546</td>\n",
       "      <td>1.000010</td>\n",
       "      <td>257</td>\n",
       "      <td>0.093696</td>\n",
       "      <td>0.9</td>\n",
       "      <td>0.9</td>\n",
       "      <td>0.093572</td>\n",
       "      <td>...</td>\n",
       "      <td>1.6379</td>\n",
       "      <td>1.6415</td>\n",
       "      <td>277.7778</td>\n",
       "      <td>0.0092</td>\n",
       "      <td>12.0512</td>\n",
       "      <td>0.11</td>\n",
       "      <td>0.00001</td>\n",
       "      <td>NaN</td>\n",
       "      <td>NaN</td>\n",
       "      <td>NaN</td>\n",
       "    </tr>\n",
       "    <tr>\n",
       "      <th>2</th>\n",
       "      <td>1004849</td>\n",
       "      <td>0.458463</td>\n",
       "      <td>0.458467</td>\n",
       "      <td>0.458465</td>\n",
       "      <td>1.000009</td>\n",
       "      <td>607</td>\n",
       "      <td>0.066321</td>\n",
       "      <td>6.5</td>\n",
       "      <td>1.3</td>\n",
       "      <td>0.068260</td>\n",
       "      <td>...</td>\n",
       "      <td>2.1811</td>\n",
       "      <td>2.2704</td>\n",
       "      <td>11.2020</td>\n",
       "      <td>0.0611</td>\n",
       "      <td>5.1960</td>\n",
       "      <td>0.27</td>\n",
       "      <td>0.00001</td>\n",
       "      <td>NaN</td>\n",
       "      <td>NaN</td>\n",
       "      <td>NaN</td>\n",
       "    </tr>\n",
       "    <tr>\n",
       "      <th>3</th>\n",
       "      <td>1005497</td>\n",
       "      <td>0.653607</td>\n",
       "      <td>0.653605</td>\n",
       "      <td>0.653606</td>\n",
       "      <td>0.999997</td>\n",
       "      <td>607</td>\n",
       "      <td>0.073102</td>\n",
       "      <td>2.1</td>\n",
       "      <td>1.1</td>\n",
       "      <td>0.073174</td>\n",
       "      <td>...</td>\n",
       "      <td>1.5300</td>\n",
       "      <td>1.5490</td>\n",
       "      <td>52.6316</td>\n",
       "      <td>0.0836</td>\n",
       "      <td>7.2669</td>\n",
       "      <td>0.09</td>\n",
       "      <td>0.00000</td>\n",
       "      <td>NaN</td>\n",
       "      <td>NaN</td>\n",
       "      <td>NaN</td>\n",
       "    </tr>\n",
       "    <tr>\n",
       "      <th>4</th>\n",
       "      <td>10064356</td>\n",
       "      <td>0.628286</td>\n",
       "      <td>0.628279</td>\n",
       "      <td>0.628283</td>\n",
       "      <td>0.999989</td>\n",
       "      <td>291</td>\n",
       "      <td>0.107486</td>\n",
       "      <td>2.0</td>\n",
       "      <td>1.0</td>\n",
       "      <td>0.112746</td>\n",
       "      <td>...</td>\n",
       "      <td>1.5917</td>\n",
       "      <td>1.6454</td>\n",
       "      <td>18.6254</td>\n",
       "      <td>0.0393</td>\n",
       "      <td>10.8542</td>\n",
       "      <td>0.14</td>\n",
       "      <td>0.00001</td>\n",
       "      <td>NaN</td>\n",
       "      <td>NaN</td>\n",
       "      <td>NaN</td>\n",
       "    </tr>\n",
       "  </tbody>\n",
       "</table>\n",
       "<p>5 rows × 38 columns</p>\n",
       "</div>"
      ],
      "text/plain": [
       "   LINEAR id   Plinear      Pztf     Pmean    Pratio  NdataLINEAR     L_rms  \\\n",
       "0   10030349  0.545073  0.545074  0.545074  1.000002          255  0.076910   \n",
       "1   10040133  0.610543  0.610549  0.610546  1.000010          257  0.093696   \n",
       "2    1004849  0.458463  0.458467  0.458465  1.000009          607  0.066321   \n",
       "3    1005497  0.653607  0.653605  0.653606  0.999997          607  0.073102   \n",
       "4   10064356  0.628286  0.628279  0.628283  0.999989          291  0.107486   \n",
       "\n",
       "   L_chi2dof  L_chi2dofR  Lmean_rms  ...  MainPeakZ  BlazhkoPeakZ  \\\n",
       "0        8.7         2.1   0.071804  ...     1.8346        1.9187   \n",
       "1        0.9         0.9   0.093572  ...     1.6379        1.6415   \n",
       "2        6.5         1.3   0.068260  ...     2.1811        2.2704   \n",
       "3        2.1         1.1   0.073174  ...     1.5300        1.5490   \n",
       "4        2.0         1.0   0.112746  ...     1.5917        1.6454   \n",
       "\n",
       "   BlazhkoPeriodZ  BpowerRatioZ  BsignificanceZ  Ampl_diff       dP  \\\n",
       "0         11.8963        0.0177          5.5569       0.10  0.00000   \n",
       "1        277.7778        0.0092         12.0512       0.11  0.00001   \n",
       "2         11.2020        0.0611          5.1960       0.27  0.00001   \n",
       "3         52.6316        0.0836          7.2669       0.09  0.00000   \n",
       "4         18.6254        0.0393         10.8542       0.14  0.00001   \n",
       "\n",
       "   IndicatorType  ChiType  BE_score  \n",
       "0            NaN      NaN       NaN  \n",
       "1            NaN      NaN       NaN  \n",
       "2            NaN      NaN       NaN  \n",
       "3            NaN      NaN       NaN  \n",
       "4            NaN      NaN       NaN  \n",
       "\n",
       "[5 rows x 38 columns]"
      ]
     },
     "execution_count": 5,
     "metadata": {},
     "output_type": "execute_result"
    }
   ],
   "source": [
    "lc_analysis = lc_analysis.loc[lc_analysis['NdataZTF']>40]\n",
    "lc_analysis = lc_analysis.reset_index(drop=True)\n",
    "print(lc_analysis.shape)\n",
    "lc_analysis.head()"
   ]
  },
  {
   "cell_type": "markdown",
   "metadata": {},
   "source": [
    "### Plotting a light curve as an example"
   ]
  },
  {
   "cell_type": "code",
   "execution_count": 6,
   "metadata": {},
   "outputs": [
    {
     "data": {
      "image/png": "[encoded data removed]",
      "text/plain": [
       "<Figure size 1400x500 with 2 Axes>"
      ]
     },
     "metadata": {},
     "output_type": "display_data"
    }
   ],
   "source": [
    "order = 0\n",
    "LiNeAr_ids = lc_analysis['LINEAR id'].to_numpy()\n",
    "total_num = len(lc_analysis['LINEAR id'].to_numpy())\n",
    "Lid = LiNeAr_ids[order]\n",
    "lc_data_order = dataLINEAR.get_light_curve(Lid)\n",
    "time, mag, magerr = lc_data_order.T\n",
    "for n, j in enumerate(fits):\n",
    "    if j[0]==Lid:\n",
    "        break\n",
    "\n",
    "L1 = fits[n][1][0]\n",
    "\n",
    "fig, ax = plt.subplots(1,2, figsize=(14,5))   \n",
    "#fig.suptitle('STAR '+str(order+1)+' from '+str(total_num), fontsize=30, fontproperties=font)\n",
    "fig.set_facecolor('white')\n",
    "\n",
    "#--------\n",
    "ax[0].errorbar(time, mag, magerr, fmt='.k', ecolor='gray',lw=1, ms=4, capsize=1.5,alpha=0.3)\n",
    "ax[0].set_xlabel('Vrijeme (dani)',fontproperties=font)\n",
    "ax[0].set_ylabel('Magnituda', fontproperties=font)\n",
    "fig.suptitle('LINEAR objekt {0}'.format(Lid), fontproperties=font)\n",
    "ax[0].invert_yaxis()\n",
    "\n",
    "# -----\n",
    "\n",
    "ax[1].set_xlabel('fit LINEAR svjetlosne krivulje s najboljim periodom', fontproperties=font, fontsize=14)\n",
    "ax[1].set_ylabel('LINEAR normalizirana svjetlosna krivulja', fontproperties=font, fontsize=14)\n",
    "ax[1].set_xlim(-0.1, 1.1)\n",
    "ax[1].set_ylim(1.3, -0.3)\n",
    "# data\n",
    "xx, yy, zz = sort3arr(L1['dataPhasedTime'], L1['dataTemplate'], L1['dataTemplateErr'])\n",
    "ax[1].errorbar(xx, yy, zz, fmt='.k', ecolor='gray', lw=1, ms=4, capsize=1.5, alpha=0.3)\n",
    "# fit for Plinear\n",
    "ax[1].plot(L1['modelPhaseGrid'], L1['modTemplate'], pink, markeredgecolor=pink, lw=1, fillstyle='top', linestyle='dashed')\n",
    "\n",
    "plt.savefig(\"../images/primjer_svkrivulje_sve.png\", dpi=600)"
   ]
  },
  {
   "cell_type": "code",
   "execution_count": 7,
   "metadata": {},
   "outputs": [
    {
     "data": {
      "text/html": [
       "<div>\n",
       "<style scoped>\n",
       "    .dataframe tbody tr th:only-of-type {\n",
       "        vertical-align: middle;\n",
       "    }\n",
       "\n",
       "    .dataframe tbody tr th {\n",
       "        vertical-align: top;\n",
       "    }\n",
       "\n",
       "    .dataframe thead th {\n",
       "        text-align: right;\n",
       "    }\n",
       "</style>\n",
       "<table border=\"1\" class=\"dataframe\">\n",
       "  <thead>\n",
       "    <tr style=\"text-align: right;\">\n",
       "      <th></th>\n",
       "      <th>LINEAR id</th>\n",
       "      <th>Plinear</th>\n",
       "      <th>Pztf</th>\n",
       "      <th>Pmean</th>\n",
       "      <th>Pratio</th>\n",
       "      <th>NdataLINEAR</th>\n",
       "      <th>L_rms</th>\n",
       "      <th>L_chi2dof</th>\n",
       "      <th>L_chi2dofR</th>\n",
       "      <th>Lmean_rms</th>\n",
       "      <th>...</th>\n",
       "      <th>MainPeakZ</th>\n",
       "      <th>BlazhkoPeakZ</th>\n",
       "      <th>BlazhkoPeriodZ</th>\n",
       "      <th>BpowerRatioZ</th>\n",
       "      <th>BsignificanceZ</th>\n",
       "      <th>Ampl_diff</th>\n",
       "      <th>dP</th>\n",
       "      <th>IndicatorType</th>\n",
       "      <th>ChiType</th>\n",
       "      <th>BE_score</th>\n",
       "    </tr>\n",
       "  </thead>\n",
       "  <tbody>\n",
       "    <tr>\n",
       "      <th>0</th>\n",
       "      <td>10030349</td>\n",
       "      <td>0.545073</td>\n",
       "      <td>0.545074</td>\n",
       "      <td>0.545074</td>\n",
       "      <td>1.000002</td>\n",
       "      <td>255</td>\n",
       "      <td>0.076910</td>\n",
       "      <td>8.7</td>\n",
       "      <td>2.1</td>\n",
       "      <td>0.071804</td>\n",
       "      <td>...</td>\n",
       "      <td>1.8346</td>\n",
       "      <td>1.9187</td>\n",
       "      <td>11.8963</td>\n",
       "      <td>0.0177</td>\n",
       "      <td>5.5569</td>\n",
       "      <td>0.10</td>\n",
       "      <td>0.00000</td>\n",
       "      <td>NaN</td>\n",
       "      <td>NaN</td>\n",
       "      <td>NaN</td>\n",
       "    </tr>\n",
       "    <tr>\n",
       "      <th>1</th>\n",
       "      <td>10040133</td>\n",
       "      <td>0.610543</td>\n",
       "      <td>0.610549</td>\n",
       "      <td>0.610546</td>\n",
       "      <td>1.000010</td>\n",
       "      <td>257</td>\n",
       "      <td>0.093696</td>\n",
       "      <td>0.9</td>\n",
       "      <td>0.9</td>\n",
       "      <td>0.093572</td>\n",
       "      <td>...</td>\n",
       "      <td>1.6379</td>\n",
       "      <td>1.6415</td>\n",
       "      <td>277.7778</td>\n",
       "      <td>0.0092</td>\n",
       "      <td>12.0512</td>\n",
       "      <td>0.11</td>\n",
       "      <td>0.00001</td>\n",
       "      <td>NaN</td>\n",
       "      <td>NaN</td>\n",
       "      <td>NaN</td>\n",
       "    </tr>\n",
       "    <tr>\n",
       "      <th>2</th>\n",
       "      <td>1004849</td>\n",
       "      <td>0.458463</td>\n",
       "      <td>0.458467</td>\n",
       "      <td>0.458465</td>\n",
       "      <td>1.000009</td>\n",
       "      <td>607</td>\n",
       "      <td>0.066321</td>\n",
       "      <td>6.5</td>\n",
       "      <td>1.3</td>\n",
       "      <td>0.068260</td>\n",
       "      <td>...</td>\n",
       "      <td>2.1811</td>\n",
       "      <td>2.2704</td>\n",
       "      <td>11.2020</td>\n",
       "      <td>0.0611</td>\n",
       "      <td>5.1960</td>\n",
       "      <td>0.27</td>\n",
       "      <td>0.00001</td>\n",
       "      <td>NaN</td>\n",
       "      <td>NaN</td>\n",
       "      <td>NaN</td>\n",
       "    </tr>\n",
       "    <tr>\n",
       "      <th>3</th>\n",
       "      <td>1005497</td>\n",
       "      <td>0.653607</td>\n",
       "      <td>0.653605</td>\n",
       "      <td>0.653606</td>\n",
       "      <td>0.999997</td>\n",
       "      <td>607</td>\n",
       "      <td>0.073102</td>\n",
       "      <td>2.1</td>\n",
       "      <td>1.1</td>\n",
       "      <td>0.073174</td>\n",
       "      <td>...</td>\n",
       "      <td>1.5300</td>\n",
       "      <td>1.5490</td>\n",
       "      <td>52.6316</td>\n",
       "      <td>0.0836</td>\n",
       "      <td>7.2669</td>\n",
       "      <td>0.09</td>\n",
       "      <td>0.00000</td>\n",
       "      <td>NaN</td>\n",
       "      <td>NaN</td>\n",
       "      <td>NaN</td>\n",
       "    </tr>\n",
       "    <tr>\n",
       "      <th>4</th>\n",
       "      <td>10064356</td>\n",
       "      <td>0.628286</td>\n",
       "      <td>0.628279</td>\n",
       "      <td>0.628283</td>\n",
       "      <td>0.999989</td>\n",
       "      <td>291</td>\n",
       "      <td>0.107486</td>\n",
       "      <td>2.0</td>\n",
       "      <td>1.0</td>\n",
       "      <td>0.112746</td>\n",
       "      <td>...</td>\n",
       "      <td>1.5917</td>\n",
       "      <td>1.6454</td>\n",
       "      <td>18.6254</td>\n",
       "      <td>0.0393</td>\n",
       "      <td>10.8542</td>\n",
       "      <td>0.14</td>\n",
       "      <td>0.00001</td>\n",
       "      <td>NaN</td>\n",
       "      <td>NaN</td>\n",
       "      <td>NaN</td>\n",
       "    </tr>\n",
       "  </tbody>\n",
       "</table>\n",
       "<p>5 rows × 38 columns</p>\n",
       "</div>"
      ],
      "text/plain": [
       "   LINEAR id   Plinear      Pztf     Pmean    Pratio  NdataLINEAR     L_rms  \\\n",
       "0   10030349  0.545073  0.545074  0.545074  1.000002          255  0.076910   \n",
       "1   10040133  0.610543  0.610549  0.610546  1.000010          257  0.093696   \n",
       "2    1004849  0.458463  0.458467  0.458465  1.000009          607  0.066321   \n",
       "3    1005497  0.653607  0.653605  0.653606  0.999997          607  0.073102   \n",
       "4   10064356  0.628286  0.628279  0.628283  0.999989          291  0.107486   \n",
       "\n",
       "   L_chi2dof  L_chi2dofR  Lmean_rms  ...  MainPeakZ  BlazhkoPeakZ  \\\n",
       "0        8.7         2.1   0.071804  ...     1.8346        1.9187   \n",
       "1        0.9         0.9   0.093572  ...     1.6379        1.6415   \n",
       "2        6.5         1.3   0.068260  ...     2.1811        2.2704   \n",
       "3        2.1         1.1   0.073174  ...     1.5300        1.5490   \n",
       "4        2.0         1.0   0.112746  ...     1.5917        1.6454   \n",
       "\n",
       "   BlazhkoPeriodZ  BpowerRatioZ  BsignificanceZ  Ampl_diff       dP  \\\n",
       "0         11.8963        0.0177          5.5569       0.10  0.00000   \n",
       "1        277.7778        0.0092         12.0512       0.11  0.00001   \n",
       "2         11.2020        0.0611          5.1960       0.27  0.00001   \n",
       "3         52.6316        0.0836          7.2669       0.09  0.00000   \n",
       "4         18.6254        0.0393         10.8542       0.14  0.00001   \n",
       "\n",
       "   IndicatorType  ChiType  BE_score  \n",
       "0            NaN      NaN       NaN  \n",
       "1            NaN      NaN       NaN  \n",
       "2            NaN      NaN       NaN  \n",
       "3            NaN      NaN       NaN  \n",
       "4            NaN      NaN       NaN  \n",
       "\n",
       "[5 rows x 38 columns]"
      ]
     },
     "execution_count": 7,
     "metadata": {},
     "output_type": "execute_result"
    }
   ],
   "source": [
    "lc_analysis.head()"
   ]
  },
  {
   "cell_type": "code",
   "execution_count": null,
   "metadata": {},
   "outputs": [],
   "source": [
    "order1 = 1\n",
    "order2 = 2\n",
    "LiNeAr_ids = lc_analysis['LINEAR id'].to_numpy()\n",
    "total_num = len(lc_analysis['LINEAR id'].to_numpy())\n",
    "Lid1 = LiNeAr_ids[order1]\n",
    "Lid2 = LiNeAr_ids[order2]\n",
    "for n, j in enumerate(fits):\n",
    "    if j[0]==Lid1:\n",
    "        L1 = fits[n][1][0]\n",
    "        break\n",
    "    if j[0]==Lid2:\n",
    "        L2 = fits[n][1][0]\n",
    "        break\n",
    "\n",
    "fig, ax = plt.subplots(1,2, figsize=(14,5)) \n",
    "fig.suptitle('LINEAR objekti {0} i {1}'.format(Lid1, Lid2), fontproperties=font)\n",
    "fig.set_facecolor('white')\n",
    "\n",
    "#--------\n",
    "ax[0].set_xlabel('fit LINEAR svjetlosne krivulje s najboljim periodom RRAB', fontproperties=font, fontsize=14)\n",
    "ax[0].set_ylabel('LINEAR normalizirana svjetlosna krivulja', fontproperties=font, fontsize=14)\n",
    "ax[0].set_xlim(-0.1, 1.1)\n",
    "ax[0].set_ylim(1.3, -0.3)\n",
    "# data\n",
    "xx, yy, zz = sort3arr(L1['dataPhasedTime'], L1['dataTemplate'], L1['dataTemplateErr'])\n",
    "ax[0].errorbar(xx, yy, zz, fmt='.k', ecolor='gray', lw=1, ms=4, capsize=1.5, alpha=0.3)\n",
    "# ft for Plinear\n",
    "ax[0].plot(L1['modelPhaseGrid'], L1['modTemplate'], pink, markeredgecolor=pink, lw=1, fillstyle='top', linestyle='dashed')\n",
    "\n",
    "# -----\n",
    "ax[1].set_xlabel('fit LINEAR svjetlosne krivulje s najboljim periodom RRC', fontproperties=font, fontsize=14)\n",
    "ax[1].set_ylabel('LINEAR normalizirana svjetlosna krivulja', fontproperties=font, fontsize=14)\n",
    "ax[1].set_xlim(-0.1, 1.1)\n",
    "ax[1].set_ylim(1.3, -0.3)\n",
    "# data\n",
    "xx, yy, zz = sort3arr(L2['dataPhasedTime'], L2['dataTemplate'], L2['dataTemplateErr'])\n",
    "ax[1].errorbar(xx, yy, zz, fmt='.k', ecolor='gray', lw=1, ms=4, capsize=1.5, alpha=0.3)\n",
    "# fit for Plinear\n",
    "ax[1].plot(L2['modelPhaseGrid'], L2['modTemplate'], pink, markeredgecolor=pink, lw=1, fillstyle='top', linestyle='dashed')\n",
    "\n",
    "plt.savefig(\"../images/rrabirrcprimjer.png\", dpi=600)"
   ]
  },
  {
   "cell_type": "markdown",
   "metadata": {},
   "source": [
    "# Determination of BE candidates"
   ]
  },
  {
   "cell_type": "markdown",
   "metadata": {},
   "source": [
    "(write up entire explanation of the algorithm)"
   ]
  },
  {
   "cell_type": "code",
   "execution_count": 8,
   "metadata": {},
   "outputs": [],
   "source": [
    "blazhko_can = pd.DataFrame(())\n",
    "blazhko_can = blazhko_determine(lc_analysis, blazhko_can)\n",
    "blazhko_can.to_csv(\"../outputs/blazhko_can\"+end+\".csv\", index=False)"
   ]
  },
  {
   "cell_type": "code",
   "execution_count": 9,
   "metadata": {},
   "outputs": [
    {
     "data": {
      "text/plain": [
       "(293, 39)"
      ]
     },
     "execution_count": 9,
     "metadata": {},
     "output_type": "execute_result"
    }
   ],
   "source": [
    "blazhko_can.shape"
   ]
  },
  {
   "cell_type": "code",
   "execution_count": 49,
   "metadata": {},
   "outputs": [],
   "source": [
    "blazhko_can_select = pd.DataFrame(())\n",
    "blazhko_can_select = blazhko_determine(lc_select, blazhko_can_select)\n",
    "blazhko_can.to_csv(\"../outputs/blazhko_can_select\"+end+\".csv\", index=False)"
   ]
  },
  {
   "cell_type": "code",
   "execution_count": 50,
   "metadata": {},
   "outputs": [
    {
     "data": {
      "text/plain": [
       "(3, 40)"
      ]
     },
     "execution_count": 50,
     "metadata": {},
     "output_type": "execute_result"
    }
   ],
   "source": [
    "blazhko_can_select.shape"
   ]
  },
  {
   "cell_type": "markdown",
   "metadata": {},
   "source": [
    "# Determining vallidity of BE candidates"
   ]
  },
  {
   "cell_type": "markdown",
   "metadata": {},
   "source": [
    "In order to make visual interpretation easier and more robust, we are dividing our BE candidates into smaller tables. The categories are:\n",
    "- LINEAR periodogram parameter satisfied\n",
    "- ZTF periodogram parameter satisfied\n",
    "- Chi2 parameter satisfied\n",
    "    - ZTF Chi2 parameter\n",
    "    - LINEAR Chi2 parameter\n",
    "\n",
    "The last three are based on the `ChiType` for determining LINEAR or ZTF parameter satisfaction. The periodogram parameter is determined by the `IndicatorType` column."
   ]
  },
  {
   "cell_type": "markdown",
   "metadata": {},
   "source": [
    "# Visual inspection of every category"
   ]
  },
  {
   "cell_type": "code",
   "execution_count": 10,
   "metadata": {},
   "outputs": [
    {
     "name": "stdout",
     "output_type": "stream",
     "text": [
      "This dataset has 127 stars.\n"
     ]
    },
    {
     "data": {
      "application/vnd.jupyter.widget-view+json": {
       "model_id": "936d0c69c2ec47df96a4e01bb3a62bc6",
       "version_major": 2,
       "version_minor": 0
      },
      "text/plain": [
       "VBox(children=(Output(), Button(description='KEEP', style=ButtonStyle()), Button(description='CONTINUE', style…"
      ]
     },
     "metadata": {},
     "output_type": "display_data"
    }
   ],
   "source": [
    "BE_candidates_ztf_per = category_analysis(blazhko_can, 'IndicatorType', 'Z', fits, periodogr, ztf_data, dataLINEAR, 'ztf_periodogram')"
   ]
  },
  {
   "cell_type": "code",
   "execution_count": 11,
   "metadata": {},
   "outputs": [
    {
     "name": "stdout",
     "output_type": "stream",
     "text": [
      "This dataset has 66 stars.\n"
     ]
    },
    {
     "data": {
      "application/vnd.jupyter.widget-view+json": {
       "model_id": "2d56ee57be40405882b376c4fd7115d4",
       "version_major": 2,
       "version_minor": 0
      },
      "text/plain": [
       "VBox(children=(Output(), Button(description='KEEP', style=ButtonStyle()), Button(description='CONTINUE', style…"
      ]
     },
     "metadata": {},
     "output_type": "display_data"
    }
   ],
   "source": [
    "BE_candidates_linear_per = category_analysis(blazhko_can, 'IndicatorType', 'L', fits, periodogr, ztf_data, dataLINEAR, 'linear_periodogram')"
   ]
  },
  {
   "cell_type": "code",
   "execution_count": 12,
   "metadata": {},
   "outputs": [
    {
     "name": "stdout",
     "output_type": "stream",
     "text": [
      "This dataset has 65 stars.\n"
     ]
    },
    {
     "data": {
      "application/vnd.jupyter.widget-view+json": {
       "model_id": "7ceec41bca0a4154aa34cf204d21bc2e",
       "version_major": 2,
       "version_minor": 0
      },
      "text/plain": [
       "VBox(children=(Output(), Button(description='KEEP', style=ButtonStyle()), Button(description='CONTINUE', style…"
      ]
     },
     "metadata": {},
     "output_type": "display_data"
    }
   ],
   "source": [
    "BE_candidates_ztf_chi = category_analysis(blazhko_can, 'ChiType', 'Z', fits, periodogr, ztf_data, dataLINEAR, 'ztf_chi')"
   ]
  },
  {
   "cell_type": "code",
   "execution_count": 13,
   "metadata": {},
   "outputs": [
    {
     "name": "stdout",
     "output_type": "stream",
     "text": [
      "This dataset has 16 stars.\n"
     ]
    },
    {
     "data": {
      "application/vnd.jupyter.widget-view+json": {
       "model_id": "8d172f31d0e243108f1fd83d7d267839",
       "version_major": 2,
       "version_minor": 0
      },
      "text/plain": [
       "VBox(children=(Output(), Button(description='KEEP', style=ButtonStyle()), Button(description='CONTINUE', style…"
      ]
     },
     "metadata": {},
     "output_type": "display_data"
    }
   ],
   "source": [
    "BE_candidates_linear_chi = category_analysis(blazhko_can, 'ChiType', 'L', fits, periodogr, ztf_data, dataLINEAR, 'ztf_chi')"
   ]
  },
  {
   "cell_type": "code",
   "execution_count": null,
   "metadata": {},
   "outputs": [],
   "source": []
  },
  {
   "cell_type": "code",
   "execution_count": null,
   "metadata": {},
   "outputs": [],
   "source": []
  }
 ],
 "metadata": {
  "kernelspec": {
   "display_name": "stars",
   "language": "python",
   "name": "python3"
  },
  "language_info": {
   "codemirror_mode": {
    "name": "ipython",
    "version": 3
   },
   "file_extension": ".py",
   "mimetype": "text/x-python",
   "name": "python",
   "nbconvert_exporter": "python",
   "pygments_lexer": "ipython3",
   "version": "3.11.4"
  }
 },
 "nbformat": 4,
 "nbformat_minor": 2
}
