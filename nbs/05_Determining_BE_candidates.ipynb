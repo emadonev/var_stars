{
 "cells": [
  {
   "cell_type": "raw",
   "metadata": {},
   "source": [
    "---\n",
    "title: \"Determining BE candidates\"\n",
    "theme: \"lux\"\n",
    "format:\n",
    "    html:\n",
    "        code-fold: true\n",
    "---"
   ]
  },
  {
   "cell_type": "code",
   "execution_count": 1,
   "metadata": {},
   "outputs": [],
   "source": [
    "%load_ext autoreload\n",
    "%autoreload 2"
   ]
  },
  {
   "cell_type": "code",
   "execution_count": 2,
   "metadata": {},
   "outputs": [],
   "source": [
    "#| code-fold: false\n",
    "# IMPORTING LIBRARIES\n",
    "# --------------------\n",
    "\n",
    "# AstroML\n",
    "from astroML.datasets import fetch_LINEAR_sample\n",
    "from astropy.coordinates import SkyCoord\n",
    "import astropy.units as u\n",
    "\n",
    "# Basic libraries\n",
    "import pickle\n",
    "import os\n",
    "import sys\n",
    "from tqdm import tqdm\n",
    "\n",
    "# Plotting\n",
    "import seaborn as sns\n",
    "from matplotlib import pyplot as plt\n",
    "from matplotlib import ticker\n",
    "import matplotlib.colors as mcolors\n",
    "from matplotlib.font_manager import FontProperties\n",
    "\n",
    "# DataFrame analysis\n",
    "import pandas as pd\n",
    "\n",
    "# Math libraries\n",
    "import numpy as np\n",
    "import scipy as sc\n",
    "from scipy.stats import norm\n",
    "\n",
    "# CONFIGURATION\n",
    "# -------------\n",
    "sns.set_theme() # setting the theme for plotting\n",
    "sys.path.insert(0,'../src/')\n",
    "np.random.seed(42)\n",
    "\n",
    "# configuring plotting colors\n",
    "colors = ['#5F6372', '#79A8A4', '#B2AD8F', '#92A186', '#AD8082']\n",
    "blue = '#5F6372'\n",
    "turqoise = '#79A8A4'\n",
    "light_green = '#B2AD8F'\n",
    "green = '#92A186'\n",
    "pink = '#AD8082'\n",
    "muted_colors = sns.set_palette(sns.color_palette(colors))\n",
    "\n",
    "# configuring fonts for plotting\n",
    "font = FontProperties()\n",
    "font.set_family('avenir')\n",
    "font.set_name('Big Caslon')\n",
    "font.set_style('normal')\n",
    "font.set_size('xx-large')\n",
    "\n",
    "\n",
    "%matplotlib inline  "
   ]
  },
  {
   "cell_type": "code",
   "execution_count": 3,
   "metadata": {},
   "outputs": [],
   "source": [
    "#| code-fold: false\n",
    "# Importing custom libraries\n",
    "# ----------------------------\n",
    "sys.path.insert(0,'../src/')\n",
    "from BE_plotting import*\n",
    "#from RR_lyrae_params import*\n",
    "from blazhko_analysis import*"
   ]
  },
  {
   "cell_type": "markdown",
   "metadata": {},
   "source": [
    "## Importing data"
   ]
  },
  {
   "cell_type": "markdown",
   "metadata": {},
   "source": [
    "The first step is to import the `LINEAR` and `ZTF` data, as well as the data calculated in the previous notebook."
   ]
  },
  {
   "cell_type": "code",
   "execution_count": 4,
   "metadata": {},
   "outputs": [],
   "source": [
    "#| code-fold: false\n",
    "# DATA\n",
    "dataLINEAR = fetch_LINEAR_sample(data_home='../inputs') # fetching the data from astroML data library\n",
    "end = 'FINAL_complete'\n",
    "\n",
    "# DATA from previous notebook\n",
    "lc_analysis = pd.read_csv('../outputs/LC_ANALYSIS_FINAL_complete.csv')\n",
    "lc_select = pd.read_csv('../outputs/LC_ANALYSIS_complete_selectabove250.csv')\n",
    "periodogr = pickle.load(open(\"../outputs/periodograms_\"+end+\".pkl\", \"rb\"))\n",
    "fits = np.load(\"../outputs/fits_\"+end+\".npy\", allow_pickle=True)\n",
    "ztf_data = np.load(\"../outputs/ztf_data_filter\"+end+\".npy\", allow_pickle=True)"
   ]
  },
  {
   "cell_type": "code",
   "execution_count": 5,
   "metadata": {},
   "outputs": [
    {
     "data": {
      "text/html": [
       "<div>\n",
       "<style scoped>\n",
       "    .dataframe tbody tr th:only-of-type {\n",
       "        vertical-align: middle;\n",
       "    }\n",
       "\n",
       "    .dataframe tbody tr th {\n",
       "        vertical-align: top;\n",
       "    }\n",
       "\n",
       "    .dataframe thead th {\n",
       "        text-align: right;\n",
       "    }\n",
       "</style>\n",
       "<table border=\"1\" class=\"dataframe\">\n",
       "  <thead>\n",
       "    <tr style=\"text-align: right;\">\n",
       "      <th></th>\n",
       "      <th>LINEAR id</th>\n",
       "      <th>Plinear</th>\n",
       "      <th>Pztf</th>\n",
       "      <th>Pmean</th>\n",
       "      <th>Pratio</th>\n",
       "      <th>NdataLINEAR</th>\n",
       "      <th>L_rms</th>\n",
       "      <th>L_chi2dof</th>\n",
       "      <th>L_chi2dofR</th>\n",
       "      <th>Lmean_rms</th>\n",
       "      <th>...</th>\n",
       "      <th>BlazhkoPeakZ</th>\n",
       "      <th>BlazhkoPeriodZ</th>\n",
       "      <th>BpowerRatioZ</th>\n",
       "      <th>BsignificanceZ</th>\n",
       "      <th>Ampl_diff</th>\n",
       "      <th>dP</th>\n",
       "      <th>LCtype</th>\n",
       "      <th>IndicatorType</th>\n",
       "      <th>ChiType</th>\n",
       "      <th>BE_score</th>\n",
       "    </tr>\n",
       "  </thead>\n",
       "  <tbody>\n",
       "    <tr>\n",
       "      <th>0</th>\n",
       "      <td>872620</td>\n",
       "      <td>0.549247</td>\n",
       "      <td>0.549248</td>\n",
       "      <td>0.5492</td>\n",
       "      <td>1.0000</td>\n",
       "      <td>282</td>\n",
       "      <td>0.079112</td>\n",
       "      <td>1.1</td>\n",
       "      <td>1.0</td>\n",
       "      <td>0.206811</td>\n",
       "      <td>...</td>\n",
       "      <td>1.8303</td>\n",
       "      <td>103.6269</td>\n",
       "      <td>0.0136</td>\n",
       "      <td>7.6183</td>\n",
       "      <td>0.22</td>\n",
       "      <td>0.00000</td>\n",
       "      <td>1</td>\n",
       "      <td>NaN</td>\n",
       "      <td>NaN</td>\n",
       "      <td>NaN</td>\n",
       "    </tr>\n",
       "    <tr>\n",
       "      <th>1</th>\n",
       "      <td>2041979</td>\n",
       "      <td>0.653694</td>\n",
       "      <td>0.653639</td>\n",
       "      <td>0.6537</td>\n",
       "      <td>0.9999</td>\n",
       "      <td>276</td>\n",
       "      <td>0.134647</td>\n",
       "      <td>1.5</td>\n",
       "      <td>1.2</td>\n",
       "      <td>0.137441</td>\n",
       "      <td>...</td>\n",
       "      <td>1.5347</td>\n",
       "      <td>207.4689</td>\n",
       "      <td>0.0144</td>\n",
       "      <td>9.8341</td>\n",
       "      <td>0.30</td>\n",
       "      <td>0.00008</td>\n",
       "      <td>1</td>\n",
       "      <td>NaN</td>\n",
       "      <td>NaN</td>\n",
       "      <td>NaN</td>\n",
       "    </tr>\n",
       "    <tr>\n",
       "      <th>2</th>\n",
       "      <td>2044369</td>\n",
       "      <td>0.534950</td>\n",
       "      <td>0.534950</td>\n",
       "      <td>0.5350</td>\n",
       "      <td>1.0000</td>\n",
       "      <td>253</td>\n",
       "      <td>0.095777</td>\n",
       "      <td>0.8</td>\n",
       "      <td>0.8</td>\n",
       "      <td>0.308125</td>\n",
       "      <td>...</td>\n",
       "      <td>1.8723</td>\n",
       "      <td>332.7787</td>\n",
       "      <td>0.0266</td>\n",
       "      <td>9.3489</td>\n",
       "      <td>0.15</td>\n",
       "      <td>0.00000</td>\n",
       "      <td>2</td>\n",
       "      <td>NaN</td>\n",
       "      <td>NaN</td>\n",
       "      <td>NaN</td>\n",
       "    </tr>\n",
       "    <tr>\n",
       "      <th>3</th>\n",
       "      <td>2227132</td>\n",
       "      <td>0.642661</td>\n",
       "      <td>0.642661</td>\n",
       "      <td>0.6427</td>\n",
       "      <td>1.0000</td>\n",
       "      <td>260</td>\n",
       "      <td>0.039765</td>\n",
       "      <td>2.2</td>\n",
       "      <td>1.0</td>\n",
       "      <td>0.117412</td>\n",
       "      <td>...</td>\n",
       "      <td>1.5916</td>\n",
       "      <td>28.1136</td>\n",
       "      <td>0.0191</td>\n",
       "      <td>10.9645</td>\n",
       "      <td>0.25</td>\n",
       "      <td>0.00000</td>\n",
       "      <td>2</td>\n",
       "      <td>NaN</td>\n",
       "      <td>NaN</td>\n",
       "      <td>NaN</td>\n",
       "    </tr>\n",
       "    <tr>\n",
       "      <th>4</th>\n",
       "      <td>2280940</td>\n",
       "      <td>0.562372</td>\n",
       "      <td>0.562374</td>\n",
       "      <td>0.5624</td>\n",
       "      <td>1.0000</td>\n",
       "      <td>310</td>\n",
       "      <td>0.120769</td>\n",
       "      <td>1.4</td>\n",
       "      <td>1.1</td>\n",
       "      <td>0.177601</td>\n",
       "      <td>...</td>\n",
       "      <td>1.7817</td>\n",
       "      <td>288.6003</td>\n",
       "      <td>0.0118</td>\n",
       "      <td>10.4442</td>\n",
       "      <td>0.23</td>\n",
       "      <td>0.00000</td>\n",
       "      <td>2</td>\n",
       "      <td>NaN</td>\n",
       "      <td>NaN</td>\n",
       "      <td>NaN</td>\n",
       "    </tr>\n",
       "  </tbody>\n",
       "</table>\n",
       "<p>5 rows × 39 columns</p>\n",
       "</div>"
      ],
      "text/plain": [
       "   LINEAR id   Plinear      Pztf   Pmean  Pratio  NdataLINEAR     L_rms  \\\n",
       "0     872620  0.549247  0.549248  0.5492  1.0000          282  0.079112   \n",
       "1    2041979  0.653694  0.653639  0.6537  0.9999          276  0.134647   \n",
       "2    2044369  0.534950  0.534950  0.5350  1.0000          253  0.095777   \n",
       "3    2227132  0.642661  0.642661  0.6427  1.0000          260  0.039765   \n",
       "4    2280940  0.562372  0.562374  0.5624  1.0000          310  0.120769   \n",
       "\n",
       "   L_chi2dof  L_chi2dofR  Lmean_rms  ...  BlazhkoPeakZ  BlazhkoPeriodZ  \\\n",
       "0        1.1         1.0   0.206811  ...        1.8303        103.6269   \n",
       "1        1.5         1.2   0.137441  ...        1.5347        207.4689   \n",
       "2        0.8         0.8   0.308125  ...        1.8723        332.7787   \n",
       "3        2.2         1.0   0.117412  ...        1.5916         28.1136   \n",
       "4        1.4         1.1   0.177601  ...        1.7817        288.6003   \n",
       "\n",
       "   BpowerRatioZ  BsignificanceZ  Ampl_diff       dP  LCtype  IndicatorType  \\\n",
       "0        0.0136          7.6183       0.22  0.00000       1            NaN   \n",
       "1        0.0144          9.8341       0.30  0.00008       1            NaN   \n",
       "2        0.0266          9.3489       0.15  0.00000       2            NaN   \n",
       "3        0.0191         10.9645       0.25  0.00000       2            NaN   \n",
       "4        0.0118         10.4442       0.23  0.00000       2            NaN   \n",
       "\n",
       "   ChiType  BE_score  \n",
       "0      NaN       NaN  \n",
       "1      NaN       NaN  \n",
       "2      NaN       NaN  \n",
       "3      NaN       NaN  \n",
       "4      NaN       NaN  \n",
       "\n",
       "[5 rows x 39 columns]"
      ]
     },
     "execution_count": 5,
     "metadata": {},
     "output_type": "execute_result"
    }
   ],
   "source": [
    "lc_select.head()"
   ]
  },
  {
   "cell_type": "code",
   "execution_count": 6,
   "metadata": {},
   "outputs": [
    {
     "data": {
      "text/html": [
       "<div>\n",
       "<style scoped>\n",
       "    .dataframe tbody tr th:only-of-type {\n",
       "        vertical-align: middle;\n",
       "    }\n",
       "\n",
       "    .dataframe tbody tr th {\n",
       "        vertical-align: top;\n",
       "    }\n",
       "\n",
       "    .dataframe thead th {\n",
       "        text-align: right;\n",
       "    }\n",
       "</style>\n",
       "<table border=\"1\" class=\"dataframe\">\n",
       "  <thead>\n",
       "    <tr style=\"text-align: right;\">\n",
       "      <th></th>\n",
       "      <th>LINEAR id</th>\n",
       "      <th>Plinear</th>\n",
       "      <th>Pztf</th>\n",
       "      <th>Pmean</th>\n",
       "      <th>Pratio</th>\n",
       "      <th>NdataLINEAR</th>\n",
       "      <th>L_rms</th>\n",
       "      <th>L_chi2dof</th>\n",
       "      <th>L_chi2dofR</th>\n",
       "      <th>Lmean_rms</th>\n",
       "      <th>...</th>\n",
       "      <th>BlazhkoPeakZ</th>\n",
       "      <th>BlazhkoPeriodZ</th>\n",
       "      <th>BpowerRatioZ</th>\n",
       "      <th>BsignificanceZ</th>\n",
       "      <th>Ampl_diff</th>\n",
       "      <th>dP</th>\n",
       "      <th>LCtype</th>\n",
       "      <th>IndicatorType</th>\n",
       "      <th>ChiType</th>\n",
       "      <th>BE_score</th>\n",
       "    </tr>\n",
       "  </thead>\n",
       "  <tbody>\n",
       "    <tr>\n",
       "      <th>0</th>\n",
       "      <td>50402</td>\n",
       "      <td>0.643303</td>\n",
       "      <td>0.643294</td>\n",
       "      <td>0.6433</td>\n",
       "      <td>1.0000</td>\n",
       "      <td>284</td>\n",
       "      <td>0.105976</td>\n",
       "      <td>0.6</td>\n",
       "      <td>0.7</td>\n",
       "      <td>0.107611</td>\n",
       "      <td>...</td>\n",
       "      <td>1.9160</td>\n",
       "      <td>295.8580</td>\n",
       "      <td>0.0149</td>\n",
       "      <td>2.2053</td>\n",
       "      <td>0.10</td>\n",
       "      <td>0.00001</td>\n",
       "      <td>1</td>\n",
       "      <td>NaN</td>\n",
       "      <td>NaN</td>\n",
       "      <td>NaN</td>\n",
       "    </tr>\n",
       "    <tr>\n",
       "      <th>1</th>\n",
       "      <td>62892</td>\n",
       "      <td>0.530776</td>\n",
       "      <td>0.530785</td>\n",
       "      <td>0.5308</td>\n",
       "      <td>1.0000</td>\n",
       "      <td>276</td>\n",
       "      <td>0.108535</td>\n",
       "      <td>1.1</td>\n",
       "      <td>0.9</td>\n",
       "      <td>0.131104</td>\n",
       "      <td>...</td>\n",
       "      <td>1.9434</td>\n",
       "      <td>16.8265</td>\n",
       "      <td>0.0291</td>\n",
       "      <td>4.9825</td>\n",
       "      <td>0.20</td>\n",
       "      <td>0.00002</td>\n",
       "      <td>1</td>\n",
       "      <td>NaN</td>\n",
       "      <td>NaN</td>\n",
       "      <td>NaN</td>\n",
       "    </tr>\n",
       "    <tr>\n",
       "      <th>2</th>\n",
       "      <td>136668</td>\n",
       "      <td>0.532923</td>\n",
       "      <td>0.532929</td>\n",
       "      <td>0.5329</td>\n",
       "      <td>1.0000</td>\n",
       "      <td>310</td>\n",
       "      <td>0.123066</td>\n",
       "      <td>1.6</td>\n",
       "      <td>1.1</td>\n",
       "      <td>0.151065</td>\n",
       "      <td>...</td>\n",
       "      <td>1.9396</td>\n",
       "      <td>15.8403</td>\n",
       "      <td>0.0801</td>\n",
       "      <td>8.7778</td>\n",
       "      <td>0.15</td>\n",
       "      <td>0.00001</td>\n",
       "      <td>1</td>\n",
       "      <td>NaN</td>\n",
       "      <td>NaN</td>\n",
       "      <td>NaN</td>\n",
       "    </tr>\n",
       "    <tr>\n",
       "      <th>3</th>\n",
       "      <td>141414</td>\n",
       "      <td>0.335690</td>\n",
       "      <td>0.335669</td>\n",
       "      <td>0.3357</td>\n",
       "      <td>0.9999</td>\n",
       "      <td>278</td>\n",
       "      <td>0.119125</td>\n",
       "      <td>0.6</td>\n",
       "      <td>0.8</td>\n",
       "      <td>0.180636</td>\n",
       "      <td>...</td>\n",
       "      <td>1.4928</td>\n",
       "      <td>306.2787</td>\n",
       "      <td>0.0211</td>\n",
       "      <td>4.7280</td>\n",
       "      <td>0.10</td>\n",
       "      <td>0.00006</td>\n",
       "      <td>1</td>\n",
       "      <td>NaN</td>\n",
       "      <td>NaN</td>\n",
       "      <td>NaN</td>\n",
       "    </tr>\n",
       "    <tr>\n",
       "      <th>4</th>\n",
       "      <td>142794</td>\n",
       "      <td>0.470787</td>\n",
       "      <td>0.470802</td>\n",
       "      <td>0.4708</td>\n",
       "      <td>1.0000</td>\n",
       "      <td>270</td>\n",
       "      <td>0.095003</td>\n",
       "      <td>1.8</td>\n",
       "      <td>1.0</td>\n",
       "      <td>0.116360</td>\n",
       "      <td>...</td>\n",
       "      <td>2.1851</td>\n",
       "      <td>16.3626</td>\n",
       "      <td>0.0286</td>\n",
       "      <td>6.0733</td>\n",
       "      <td>0.00</td>\n",
       "      <td>0.00003</td>\n",
       "      <td>2</td>\n",
       "      <td>NaN</td>\n",
       "      <td>NaN</td>\n",
       "      <td>NaN</td>\n",
       "    </tr>\n",
       "  </tbody>\n",
       "</table>\n",
       "<p>5 rows × 39 columns</p>\n",
       "</div>"
      ],
      "text/plain": [
       "   LINEAR id   Plinear      Pztf   Pmean  Pratio  NdataLINEAR     L_rms  \\\n",
       "0      50402  0.643303  0.643294  0.6433  1.0000          284  0.105976   \n",
       "1      62892  0.530776  0.530785  0.5308  1.0000          276  0.108535   \n",
       "2     136668  0.532923  0.532929  0.5329  1.0000          310  0.123066   \n",
       "3     141414  0.335690  0.335669  0.3357  0.9999          278  0.119125   \n",
       "4     142794  0.470787  0.470802  0.4708  1.0000          270  0.095003   \n",
       "\n",
       "   L_chi2dof  L_chi2dofR  Lmean_rms  ...  BlazhkoPeakZ  BlazhkoPeriodZ  \\\n",
       "0        0.6         0.7   0.107611  ...        1.9160        295.8580   \n",
       "1        1.1         0.9   0.131104  ...        1.9434         16.8265   \n",
       "2        1.6         1.1   0.151065  ...        1.9396         15.8403   \n",
       "3        0.6         0.8   0.180636  ...        1.4928        306.2787   \n",
       "4        1.8         1.0   0.116360  ...        2.1851         16.3626   \n",
       "\n",
       "   BpowerRatioZ  BsignificanceZ  Ampl_diff       dP  LCtype  IndicatorType  \\\n",
       "0        0.0149          2.2053       0.10  0.00001       1            NaN   \n",
       "1        0.0291          4.9825       0.20  0.00002       1            NaN   \n",
       "2        0.0801          8.7778       0.15  0.00001       1            NaN   \n",
       "3        0.0211          4.7280       0.10  0.00006       1            NaN   \n",
       "4        0.0286          6.0733       0.00  0.00003       2            NaN   \n",
       "\n",
       "   ChiType  BE_score  \n",
       "0      NaN       NaN  \n",
       "1      NaN       NaN  \n",
       "2      NaN       NaN  \n",
       "3      NaN       NaN  \n",
       "4      NaN       NaN  \n",
       "\n",
       "[5 rows x 39 columns]"
      ]
     },
     "execution_count": 6,
     "metadata": {},
     "output_type": "execute_result"
    }
   ],
   "source": [
    "lc_analysis.head()"
   ]
  },
  {
   "cell_type": "markdown",
   "metadata": {},
   "source": [
    "# Determination of BE candidates"
   ]
  },
  {
   "cell_type": "markdown",
   "metadata": {},
   "source": [
    "(write up entire explanation of the algorithm)"
   ]
  },
  {
   "cell_type": "code",
   "execution_count": 7,
   "metadata": {},
   "outputs": [],
   "source": [
    "blazhko_can = pd.DataFrame(())\n",
    "blazhko_can = blazhko_determine(lc_analysis, blazhko_can)\n",
    "end = 'final'\n",
    "blazhko_can.to_csv(\"../outputs/blazhko_can\"+end+\".csv\", index=False)"
   ]
  },
  {
   "cell_type": "code",
   "execution_count": 8,
   "metadata": {},
   "outputs": [
    {
     "data": {
      "text/plain": [
       "(173, 40)"
      ]
     },
     "execution_count": 8,
     "metadata": {},
     "output_type": "execute_result"
    }
   ],
   "source": [
    "blazhko_can.shape"
   ]
  },
  {
   "cell_type": "code",
   "execution_count": 9,
   "metadata": {},
   "outputs": [],
   "source": [
    "blazhko_can_select = pd.DataFrame(())\n",
    "blazhko_can_select = blazhko_determine(lc_select, blazhko_can_select)\n",
    "end = 'final'\n",
    "blazhko_can.to_csv(\"../outputs/blazhko_can_select\"+end+\".csv\", index=False)"
   ]
  },
  {
   "cell_type": "code",
   "execution_count": 10,
   "metadata": {},
   "outputs": [
    {
     "data": {
      "text/plain": [
       "(3, 40)"
      ]
     },
     "execution_count": 10,
     "metadata": {},
     "output_type": "execute_result"
    }
   ],
   "source": [
    "blazhko_can_select.shape"
   ]
  },
  {
   "cell_type": "markdown",
   "metadata": {},
   "source": [
    "# Determining vallidity of BE candidates"
   ]
  },
  {
   "cell_type": "markdown",
   "metadata": {},
   "source": [
    "In order to make visual interpretation easier and more robust, we are dividing our BE candidates into smaller tables. The categories are:\n",
    "- LINEAR periodogram parameter satisfied\n",
    "- ZTF periodogram parameter satisfied\n",
    "- Chi2 parameter satisfied\n",
    "    - ZTF Chi2 parameter\n",
    "    - LINEAR Chi2 parameter\n",
    "\n",
    "The last three are based on the `ChiType` for determining LINEAR or ZTF parameter satisfaction. The periodogram parameter is determined by the `IndicatorType` column."
   ]
  },
  {
   "cell_type": "markdown",
   "metadata": {},
   "source": [
    "# Visual inspection of every category"
   ]
  },
  {
   "cell_type": "code",
   "execution_count": 11,
   "metadata": {},
   "outputs": [
    {
     "name": "stdout",
     "output_type": "stream",
     "text": [
      "This dataset has 99 stars.\n"
     ]
    },
    {
     "data": {
      "application/vnd.jupyter.widget-view+json": {
       "model_id": "df9ae4689d074b3f8c220039d787cb50",
       "version_major": 2,
       "version_minor": 0
      },
      "text/plain": [
       "VBox(children=(Output(), Button(description='KEEP', style=ButtonStyle()), Button(description='CONTINUE', style…"
      ]
     },
     "metadata": {},
     "output_type": "display_data"
    }
   ],
   "source": [
    "BE_candidates_ztf_per = category_analysis(blazhko_can, 'IndicatorType', 'Z', fits, periodogr, ztf_data, dataLINEAR, 'ztf_periodogram')"
   ]
  },
  {
   "cell_type": "code",
   "execution_count": null,
   "metadata": {},
   "outputs": [],
   "source": [
    "BE_candidates_linear_per = category_analysis(blazhko_can, 'IndicatorType', 'L', fits, periodogr, ztf_data, dataLINEAR, 'linear_periodogram')"
   ]
  },
  {
   "cell_type": "code",
   "execution_count": null,
   "metadata": {},
   "outputs": [],
   "source": [
    "BE_candidates_ztf_chi = category_analysis(blazhko_can, 'ChiType', 'Z', fits, periodogr, ztf_data, dataLINEAR, 'ztf_chi')"
   ]
  },
  {
   "cell_type": "code",
   "execution_count": null,
   "metadata": {},
   "outputs": [],
   "source": [
    "BE_candidates_linear_chi = category_analysis(blazhko_can, 'ChiType', 'L', fits, periodogr, ztf_data, dataLINEAR, 'ztf_chi')"
   ]
  },
  {
   "cell_type": "code",
   "execution_count": null,
   "metadata": {},
   "outputs": [],
   "source": []
  }
 ],
 "metadata": {
  "kernelspec": {
   "display_name": "stars",
   "language": "python",
   "name": "python3"
  },
  "language_info": {
   "codemirror_mode": {
    "name": "ipython",
    "version": 3
   },
   "file_extension": ".py",
   "mimetype": "text/x-python",
   "name": "python",
   "nbconvert_exporter": "python",
   "pygments_lexer": "ipython3",
   "version": "3.11.4"
  }
 },
 "nbformat": 4,
 "nbformat_minor": 2
}
