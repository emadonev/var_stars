{
 "cells": [
  {
   "cell_type": "raw",
   "metadata": {},
   "source": [
    "---\n",
    "title: \"Determining BE candidates\"\n",
    "theme: \"lux\"\n",
    "format:\n",
    "    html:\n",
    "        code-fold: true\n",
    "---"
   ]
  },
  {
   "cell_type": "code",
   "execution_count": null,
   "metadata": {},
   "outputs": [],
   "source": [
    "%load_ext autoreload\n",
    "%autoreload 2"
   ]
  },
  {
   "cell_type": "code",
   "execution_count": null,
   "metadata": {},
   "outputs": [],
   "source": [
    "#| code-fold: false\n",
    "# IMPORTING LIBRARIES\n",
    "# --------------------\n",
    "\n",
    "# AstroML\n",
    "from astroML.datasets import fetch_LINEAR_sample\n",
    "from astropy.coordinates import SkyCoord\n",
    "import astropy.units as u\n",
    "\n",
    "# Basic libraries\n",
    "import pickle\n",
    "import os\n",
    "import sys\n",
    "from tqdm import tqdm\n",
    "\n",
    "# Plotting\n",
    "import seaborn as sns\n",
    "from matplotlib import pyplot as plt\n",
    "from matplotlib import ticker\n",
    "import matplotlib.colors as mcolors\n",
    "from matplotlib.font_manager import FontProperties\n",
    "\n",
    "# DataFrame analysis\n",
    "import pandas as pd\n",
    "\n",
    "# Math libraries\n",
    "import numpy as np\n",
    "import scipy as sc\n",
    "from scipy.stats import norm\n",
    "\n",
    "# CONFIGURATION\n",
    "# -------------\n",
    "sns.set_theme() # setting the theme for plotting\n",
    "sys.path.insert(0,'../src/')\n",
    "np.random.seed(42)\n",
    "\n",
    "# configuring plotting colors\n",
    "colors = ['#5F6372', '#79A8A4', '#B2AD8F', '#92A186', '#AD8082']\n",
    "blue = '#5F6372'\n",
    "turqoise = '#79A8A4'\n",
    "light_green = '#B2AD8F'\n",
    "green = '#92A186'\n",
    "pink = '#AD8082'\n",
    "muted_colors = sns.set_palette(sns.color_palette(colors))\n",
    "\n",
    "# configuring fonts for plotting\n",
    "font = FontProperties()\n",
    "font.set_family('avenir')\n",
    "font.set_name('Big Caslon')\n",
    "font.set_style('normal')\n",
    "font.set_size('xx-large')\n",
    "\n",
    "\n",
    "%matplotlib inline  "
   ]
  },
  {
   "cell_type": "code",
   "execution_count": null,
   "metadata": {},
   "outputs": [],
   "source": [
    "#| code-fold: false\n",
    "# Importing custom libraries\n",
    "# ----------------------------\n",
    "sys.path.insert(0,'../src/')\n",
    "from BE_plotting import*\n",
    "#from RR_lyrae_params import*\n",
    "from blazhko_analysis import*"
   ]
  },
  {
   "cell_type": "markdown",
   "metadata": {},
   "source": [
    "## Importing data"
   ]
  },
  {
   "cell_type": "markdown",
   "metadata": {},
   "source": [
    "The first step is to import the `LINEAR` and `ZTF` data, as well as the data calculated in the previous notebook."
   ]
  },
  {
   "cell_type": "code",
   "execution_count": null,
   "metadata": {},
   "outputs": [],
   "source": [
    "#| code-fold: false\n",
    "# DATA\n",
    "dataLINEAR = fetch_LINEAR_sample(data_home='../inputs') # fetching the data from astroML data library\n",
    "end = 'FINAL_FINAL_FINAL_complete'\n",
    "\n",
    "# DATA from previous notebook\n",
    "lc_analysis = pd.read_csv(\"../outputs/LC_ANALYSIS_\"+end+\".csv\")\n",
    "rrlyrae = pd.read_csv('../outputs/Lrrlyr_unprocessed.csv')\n",
    "periodogr = pickle.load(open(\"../outputs/periodograms_\"+end+\".pkl\", \"rb\"))\n",
    "fits = np.load(\"../outputs/fits_\"+end+\".npy\", allow_pickle=True)\n",
    "ztf_data = np.load(\"../outputs/ztf_data_filter\"+end+\".npy\", allow_pickle=True)"
   ]
  },
  {
   "cell_type": "code",
   "execution_count": null,
   "metadata": {},
   "outputs": [],
   "source": [
    "lc_analysis = lc_analysis.loc[lc_analysis['NdataZTF']>40]\n",
    "lc_analysis = lc_analysis.reset_index(drop=True)\n",
    "print(lc_analysis.shape)\n",
    "lc_analysis.head()"
   ]
  },
  {
   "cell_type": "markdown",
   "metadata": {},
   "source": [
    "### Plotting a light curve as an example"
   ]
  },
  {
   "cell_type": "code",
   "execution_count": null,
   "metadata": {},
   "outputs": [],
   "source": [
    "order = 0\n",
    "LiNeAr_ids = lc_analysis['LINEAR id'].to_numpy()\n",
    "total_num = len(lc_analysis['LINEAR id'].to_numpy())\n",
    "Lid = LiNeAr_ids[order]\n",
    "lc_data_order = dataLINEAR.get_light_curve(Lid)\n",
    "time, mag, magerr = lc_data_order.T\n",
    "for n, j in enumerate(fits):\n",
    "    if j[0]==Lid:\n",
    "        break\n",
    "\n",
    "L1 = fits[n][1][0]\n",
    "\n",
    "fig, ax = plt.subplots(1,2, figsize=(14,5))   \n",
    "#fig.suptitle('STAR '+str(order+1)+' from '+str(total_num), fontsize=30, fontproperties=font)\n",
    "fig.set_facecolor('white')\n",
    "\n",
    "#--------\n",
    "ax[0].errorbar(time, mag, magerr, fmt='.k', ecolor='gray',lw=1, ms=4, capsize=1.5,alpha=0.3)\n",
    "ax[0].set_xlabel('Vrijeme (dani)',fontproperties=font)\n",
    "ax[0].set_ylabel('Magnituda', fontproperties=font)\n",
    "fig.suptitle('LINEAR objekt {0}'.format(Lid), fontproperties=font)\n",
    "ax[0].invert_yaxis()\n",
    "\n",
    "# -----\n",
    "\n",
    "ax[1].set_xlabel('fit LINEAR svjetlosne krivulje s najboljim periodom', fontproperties=font, fontsize=14)\n",
    "ax[1].set_ylabel('LINEAR normalizirana svjetlosna krivulja', fontproperties=font, fontsize=14)\n",
    "ax[1].set_xlim(-0.1, 1.1)\n",
    "ax[1].set_ylim(1.3, -0.3)\n",
    "# data\n",
    "xx, yy, zz = sort3arr(L1['dataPhasedTime'], L1['dataTemplate'], L1['dataTemplateErr'])\n",
    "ax[1].errorbar(xx, yy, zz, fmt='.k', ecolor='gray', lw=1, ms=4, capsize=1.5, alpha=0.3)\n",
    "# fit for Plinear\n",
    "ax[1].plot(L1['modelPhaseGrid'], L1['modTemplate'], pink, markeredgecolor=pink, lw=1, fillstyle='top', linestyle='dashed')\n",
    "\n",
    "plt.savefig(\"../images/primjer_svkrivulje_sve.png\", dpi=600)"
   ]
  },
  {
   "cell_type": "code",
   "execution_count": null,
   "metadata": {},
   "outputs": [],
   "source": [
    "lc_analysis.head()"
   ]
  },
  {
   "cell_type": "markdown",
   "metadata": {},
   "source": [
    "# Determination of BE candidates"
   ]
  },
  {
   "cell_type": "markdown",
   "metadata": {},
   "source": [
    "(write up entire explanation of the algorithm)"
   ]
  },
  {
   "cell_type": "code",
   "execution_count": null,
   "metadata": {},
   "outputs": [],
   "source": [
    "blazhko_can = pd.DataFrame(())\n",
    "blazhko_can = blazhko_determine(lc_analysis, blazhko_can)\n",
    "blazhko_can.to_csv(\"../outputs/blazhko_can\"+end+\".csv\", index=False)"
   ]
  },
  {
   "cell_type": "code",
   "execution_count": null,
   "metadata": {},
   "outputs": [],
   "source": [
    "blazhko_can.shape"
   ]
  },
  {
   "cell_type": "markdown",
   "metadata": {},
   "source": [
    "# Determining vallidity of BE candidates"
   ]
  },
  {
   "cell_type": "markdown",
   "metadata": {},
   "source": [
    "In order to make visual interpretation easier and more robust, we are dividing our BE candidates into smaller tables. The categories are:\n",
    "- LINEAR periodogram parameter satisfied\n",
    "- ZTF periodogram parameter satisfied\n",
    "- Chi2 parameter satisfied\n",
    "    - ZTF Chi2 parameter\n",
    "    - LINEAR Chi2 parameter\n",
    "\n",
    "The last three are based on the `ChiType` for determining LINEAR or ZTF parameter satisfaction. The periodogram parameter is determined by the `IndicatorType` column."
   ]
  },
  {
   "cell_type": "markdown",
   "metadata": {},
   "source": [
    "# Visual inspection of every category"
   ]
  },
  {
   "cell_type": "code",
   "execution_count": null,
   "metadata": {},
   "outputs": [],
   "source": [
    "be_other = blazhko_can[(blazhko_can['IndicatorType']!= 'Z') & (blazhko_can['IndicatorType']!= 'L')&(blazhko_can['ChiType']!='Z')&(blazhko_can['ChiType']!='L')]\n",
    "be_other = be_other.reset_index(drop=True)\n",
    "print(be_other.shape)\n",
    "be_other.head()"
   ]
  },
  {
   "cell_type": "code",
   "execution_count": null,
   "metadata": {},
   "outputs": [],
   "source": [
    "BE_candidates_ztf_per = category_analysis(blazhko_can, fits, periodogr, ztf_data, dataLINEAR, 'ztf_periodogram',id_list=None,parameter='IndicatorType', value='Z')"
   ]
  },
  {
   "cell_type": "code",
   "execution_count": null,
   "metadata": {},
   "outputs": [],
   "source": [
    "blazhko_analyzer = BE_candidates_ztf_per.get_save_data()\n",
    "end = 'ztf_periodogram'\n",
    "blazhko_analyzer.to_csv(\"../outputs/blazhko_list\"+end+\".csv\", index=False)"
   ]
  },
  {
   "cell_type": "code",
   "execution_count": null,
   "metadata": {},
   "outputs": [],
   "source": [
    "blazhko_can_ztf = pd.read_csv('../outputs/blazhko_list'+end+'.csv')\n",
    "BE_candidates_ztf_per = category_analysis(blazhko_can_ztf, fits, periodogr, ztf_data, dataLINEAR, 'ztf_periodogram',id_list=None,parameter=None, value=None)"
   ]
  },
  {
   "cell_type": "code",
   "execution_count": null,
   "metadata": {},
   "outputs": [],
   "source": [
    "blazhko_analyzer = BE_candidates_ztf_per.get_save_data()\n",
    "end = 'ztf_periodogram_final'\n",
    "blazhko_analyzer.to_csv(\"../outputs/blazhko_list\"+end+\".csv\", index=False)"
   ]
  },
  {
   "cell_type": "markdown",
   "metadata": {},
   "source": [
    "---"
   ]
  },
  {
   "cell_type": "code",
   "execution_count": null,
   "metadata": {},
   "outputs": [],
   "source": [
    "BE_candidates_linear_per = category_analysis(blazhko_can, fits, periodogr, ztf_data, dataLINEAR, 'linear_periodogram',id_list=None,parameter='IndicatorType', value='L')"
   ]
  },
  {
   "cell_type": "code",
   "execution_count": null,
   "metadata": {},
   "outputs": [],
   "source": [
    "blazhko_analyzer = BE_candidates_linear_per.get_save_data()\n",
    "end = 'linear_periodogram'\n",
    "blazhko_analyzer.to_csv(\"../outputs/blazhko_list\"+end+\".csv\", index=False)"
   ]
  },
  {
   "cell_type": "code",
   "execution_count": null,
   "metadata": {},
   "outputs": [],
   "source": [
    "blazhko_can_linearper = pd.read_csv('../outputs/blazhko_list'+end+'.csv')\n",
    "BE_candidates_linear_per = category_analysis(blazhko_can_linearper, fits, periodogr, ztf_data, dataLINEAR, 'ztf_periodogram',id_list=None,parameter=None, value=None)"
   ]
  },
  {
   "cell_type": "code",
   "execution_count": null,
   "metadata": {},
   "outputs": [],
   "source": [
    "blazhko_analyzer = BE_candidates_linear_per.get_save_data()\n",
    "end = 'linear_periodogram_final'\n",
    "blazhko_analyzer.to_csv(\"../outputs/blazhko_list\"+end+\".csv\", index=False)"
   ]
  },
  {
   "cell_type": "markdown",
   "metadata": {},
   "source": [
    "---"
   ]
  },
  {
   "cell_type": "code",
   "execution_count": null,
   "metadata": {},
   "outputs": [],
   "source": [
    "BE_candidates_ztf_chi = category_analysis(blazhko_can, fits, periodogr, ztf_data, dataLINEAR, 'ztf_chi',id_list=None,parameter='ChiType', value='Z')"
   ]
  },
  {
   "cell_type": "code",
   "execution_count": null,
   "metadata": {},
   "outputs": [],
   "source": [
    "blazhko_analyzer = BE_candidates_ztf_chi.get_save_data()\n",
    "end = 'ztf_chi'\n",
    "blazhko_analyzer.to_csv(\"../outputs/blazhko_list\"+end+\".csv\", index=False)"
   ]
  },
  {
   "cell_type": "code",
   "execution_count": null,
   "metadata": {},
   "outputs": [],
   "source": [
    "blazhko_can_ztfchi = pd.read_csv('../outputs/blazhko_list'+end+'.csv')\n",
    "BE_candidates_ztf_chi = category_analysis(blazhko_can_ztfchi, fits, periodogr, ztf_data, dataLINEAR, 'ztf_periodogram',id_list=None,parameter=None, value=None)"
   ]
  },
  {
   "cell_type": "code",
   "execution_count": null,
   "metadata": {},
   "outputs": [],
   "source": [
    "blazhko_analyzer = BE_candidates_ztf_chi.get_save_data()\n",
    "end = 'ztf_chi_final'\n",
    "blazhko_analyzer.to_csv(\"../outputs/blazhko_list\"+end+\".csv\", index=False)"
   ]
  },
  {
   "cell_type": "markdown",
   "metadata": {},
   "source": [
    "---"
   ]
  },
  {
   "cell_type": "code",
   "execution_count": null,
   "metadata": {},
   "outputs": [],
   "source": [
    "BE_candidates_linear_chi = category_analysis(blazhko_can, fits, periodogr, ztf_data, dataLINEAR, 'linear_chi',id_list=None,parameter='ChiType', value='L')"
   ]
  },
  {
   "cell_type": "code",
   "execution_count": null,
   "metadata": {},
   "outputs": [],
   "source": [
    "blazhko_analyzer = BE_candidates_linear_chi.get_save_data()\n",
    "end = 'linear_chi'\n",
    "blazhko_analyzer.to_csv(\"../outputs/blazhko_list\"+end+\".csv\", index=False)"
   ]
  },
  {
   "cell_type": "code",
   "execution_count": null,
   "metadata": {},
   "outputs": [],
   "source": [
    "blazhko_canlinearchi = pd.read_csv('../outputs/blazhko_list'+end+'.csv')\n",
    "BE_candidates_linear_chi = category_analysis(blazhko_canlinearchi, fits, periodogr, ztf_data, dataLINEAR, 'ztf_periodogram',id_list=None,parameter=None, value=None)"
   ]
  },
  {
   "cell_type": "code",
   "execution_count": null,
   "metadata": {},
   "outputs": [],
   "source": [
    "blazhko_analyzer = BE_candidates_linear_chi.get_save_data()\n",
    "end = 'linear_chi_final'\n",
    "blazhko_analyzer.to_csv(\"../outputs/blazhko_list\"+end+\".csv\", index=False)"
   ]
  },
  {
   "cell_type": "markdown",
   "metadata": {},
   "source": [
    "---"
   ]
  },
  {
   "cell_type": "code",
   "execution_count": null,
   "metadata": {},
   "outputs": [],
   "source": [
    "BE_candidates_other = category_analysis(be_other, fits, periodogr, ztf_data, dataLINEAR, 'other')"
   ]
  },
  {
   "cell_type": "code",
   "execution_count": null,
   "metadata": {},
   "outputs": [],
   "source": [
    "blazhko_analyzer = BE_candidates_other.get_save_data()\n",
    "end = 'other'\n",
    "blazhko_analyzer.to_csv(\"../outputs/blazhko_list\"+end+\".csv\", index=False)"
   ]
  },
  {
   "cell_type": "code",
   "execution_count": null,
   "metadata": {},
   "outputs": [],
   "source": [
    "blazhko_can_other = pd.read_csv('../outputs/blazhko_list'+end+'.csv')\n",
    "BE_candidates_other = category_analysis(blazhko_can_other, fits, periodogr, ztf_data, dataLINEAR, 'ztf_periodogram',id_list=None,parameter=None, value=None)"
   ]
  },
  {
   "cell_type": "code",
   "execution_count": null,
   "metadata": {},
   "outputs": [],
   "source": [
    "blazhko_analyzer = BE_candidates_other.get_save_data()\n",
    "end = 'other_final'\n",
    "blazhko_analyzer.to_csv(\"../outputs/blazhko_list\"+end+\".csv\", index=False)"
   ]
  },
  {
   "cell_type": "markdown",
   "metadata": {},
   "source": [
    "---"
   ]
  },
  {
   "cell_type": "code",
   "execution_count": null,
   "metadata": {},
   "outputs": [],
   "source": [
    "blazhko_can['LINEAR id'].to_numpy()[240]"
   ]
  },
  {
   "cell_type": "code",
   "execution_count": null,
   "metadata": {},
   "outputs": [],
   "source": [
    "BE_candidates_experimental = category_analysis(blazhko_can, fits, periodogr, ztf_data, dataLINEAR, end='bla',id_list=[61011,999528,1308565])"
   ]
  },
  {
   "cell_type": "markdown",
   "metadata": {},
   "source": []
  }
 ],
 "metadata": {
  "kernelspec": {
   "display_name": "stars",
   "language": "python",
   "name": "python3"
  },
  "language_info": {
   "codemirror_mode": {
    "name": "ipython",
    "version": 3
   },
   "file_extension": ".py",
   "mimetype": "text/x-python",
   "name": "python",
   "nbconvert_exporter": "python",
   "pygments_lexer": "ipython3",
   "version": "3.11.4"
  }
 },
 "nbformat": 4,
 "nbformat_minor": 2
}
