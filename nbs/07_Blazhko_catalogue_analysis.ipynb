{
 "cells": [
  {
   "cell_type": "code",
   "execution_count": 1,
   "metadata": {},
   "outputs": [],
   "source": [
    "%load_ext autoreload\n",
    "%autoreload 2"
   ]
  },
  {
   "cell_type": "code",
   "execution_count": 2,
   "metadata": {},
   "outputs": [],
   "source": [
    "#| code-fold: false\n",
    "# IMPORTING LIBRARIES\n",
    "# --------------------\n",
    "\n",
    "# AstroML\n",
    "from astroML.datasets import fetch_LINEAR_sample\n",
    "from astroML.datasets import fetch_sdss_sspp\n",
    "from astropy.coordinates import SkyCoord\n",
    "import astropy.units as u\n",
    "\n",
    "# Basic libraries\n",
    "import pickle\n",
    "import os\n",
    "import sys\n",
    "from tqdm import tqdm\n",
    "\n",
    "# Plotting\n",
    "import seaborn as sns\n",
    "from matplotlib import pyplot as plt\n",
    "from matplotlib import ticker\n",
    "import matplotlib.colors as mcolors\n",
    "from matplotlib.font_manager import FontProperties\n",
    "\n",
    "# DataFrame analysis\n",
    "import pandas as pd\n",
    "\n",
    "# Math libraries\n",
    "import numpy as np\n",
    "import scipy as sc\n",
    "from scipy.stats import norm\n",
    "\n",
    "# CONFIGURATION\n",
    "# -------------\n",
    "sns.set_theme(style='white') # setting the theme for plotting\n",
    "sys.path.insert(0,'../src/')\n",
    "np.random.seed(42)\n",
    "\n",
    "# configuring plotting colors\n",
    "colors = ['#465BBB', '#3F8FCE', '#7ABBCE', '#3A3865', '#A82F43', '#612A37', '#DC5433', '#F29457']\n",
    "b1 = '#465BBB'\n",
    "b2 = '#3F8FCE'\n",
    "b3 = '#7ABBCE'\n",
    "b4 = '#3A3865'\n",
    "black1 = '#22212A'\n",
    "black2 = '#2D1E21'\n",
    "or1 = '#A82F43'\n",
    "or2 = '#612A37'\n",
    "or3 = '#DC5433'\n",
    "or4 = '#F29457'\n",
    "muted_colors = sns.set_palette(sns.color_palette(colors))\n",
    "\n",
    "# configuring fonts for plotting\n",
    "font = FontProperties()\n",
    "font.set_family('serif')\n",
    "font.set_name('Andale Mono')\n",
    "font.set_style('normal')\n",
    "#font.set_size('normal')\n",
    "\n",
    "\n",
    "%matplotlib inline "
   ]
  },
  {
   "cell_type": "code",
   "execution_count": 3,
   "metadata": {},
   "outputs": [],
   "source": [
    "plt.rcParams.update({\n",
    "    'font.serif': 'Andale Mono',\n",
    "    'font.family': 'serif'\n",
    "})"
   ]
  },
  {
   "cell_type": "code",
   "execution_count": 4,
   "metadata": {},
   "outputs": [],
   "source": [
    "from astroquery.sdss import SDSS\n",
    "from astropy import coordinates as coords\n",
    "import astropy.units as u"
   ]
  },
  {
   "cell_type": "code",
   "execution_count": 5,
   "metadata": {},
   "outputs": [],
   "source": [
    "Bstars = pd.read_csv('../outputs/FINAL_BE_CATALOGUE.csv')"
   ]
  },
  {
   "cell_type": "code",
   "execution_count": 12,
   "metadata": {},
   "outputs": [
    {
     "data": {
      "text/html": [
       "<div>\n",
       "<style scoped>\n",
       "    .dataframe tbody tr th:only-of-type {\n",
       "        vertical-align: middle;\n",
       "    }\n",
       "\n",
       "    .dataframe tbody tr th {\n",
       "        vertical-align: top;\n",
       "    }\n",
       "\n",
       "    .dataframe thead th {\n",
       "        text-align: right;\n",
       "    }\n",
       "</style>\n",
       "<table border=\"1\" class=\"dataframe\">\n",
       "  <thead>\n",
       "    <tr style=\"text-align: right;\">\n",
       "      <th></th>\n",
       "      <th>LINEAR id</th>\n",
       "      <th>Plinear</th>\n",
       "      <th>Pztf</th>\n",
       "      <th>Pmean</th>\n",
       "      <th>Pratio</th>\n",
       "      <th>NdataLINEAR</th>\n",
       "      <th>L_chi2dof</th>\n",
       "      <th>L_chi2dofR</th>\n",
       "      <th>Lmean_chi2dof</th>\n",
       "      <th>Lmean_chi2dofR</th>\n",
       "      <th>...</th>\n",
       "      <th>BlazhkoPeakZ</th>\n",
       "      <th>BlazhkoPeriodZ</th>\n",
       "      <th>BpowerRatioZ</th>\n",
       "      <th>BsignificanceZ</th>\n",
       "      <th>Ampl_diff</th>\n",
       "      <th>dP</th>\n",
       "      <th>IndicatorType</th>\n",
       "      <th>ChiType</th>\n",
       "      <th>BE_score</th>\n",
       "      <th>period_vs_amp</th>\n",
       "    </tr>\n",
       "  </thead>\n",
       "  <tbody>\n",
       "    <tr>\n",
       "      <th>0</th>\n",
       "      <td>523832</td>\n",
       "      <td>0.372376</td>\n",
       "      <td>0.372384</td>\n",
       "      <td>0.372380</td>\n",
       "      <td>1.000021</td>\n",
       "      <td>251</td>\n",
       "      <td>1.8</td>\n",
       "      <td>1.2</td>\n",
       "      <td>1.9</td>\n",
       "      <td>1.3</td>\n",
       "      <td>...</td>\n",
       "      <td>2.7122</td>\n",
       "      <td>37.3413</td>\n",
       "      <td>0.1528</td>\n",
       "      <td>6.3617</td>\n",
       "      <td>0.17</td>\n",
       "      <td>0.00002</td>\n",
       "      <td>Z</td>\n",
       "      <td>NaN</td>\n",
       "      <td>NaN</td>\n",
       "      <td>NaN</td>\n",
       "    </tr>\n",
       "    <tr>\n",
       "      <th>1</th>\n",
       "      <td>1240665</td>\n",
       "      <td>0.632528</td>\n",
       "      <td>0.632522</td>\n",
       "      <td>0.632525</td>\n",
       "      <td>0.999991</td>\n",
       "      <td>468</td>\n",
       "      <td>25.2</td>\n",
       "      <td>3.0</td>\n",
       "      <td>25.4</td>\n",
       "      <td>2.9</td>\n",
       "      <td>...</td>\n",
       "      <td>1.5865</td>\n",
       "      <td>182.3154</td>\n",
       "      <td>0.0570</td>\n",
       "      <td>15.9957</td>\n",
       "      <td>0.00</td>\n",
       "      <td>0.00001</td>\n",
       "      <td>Z</td>\n",
       "      <td>NaN</td>\n",
       "      <td>NaN</td>\n",
       "      <td>NaN</td>\n",
       "    </tr>\n",
       "    <tr>\n",
       "      <th>2</th>\n",
       "      <td>1736308</td>\n",
       "      <td>0.555848</td>\n",
       "      <td>0.555843</td>\n",
       "      <td>0.555846</td>\n",
       "      <td>0.999991</td>\n",
       "      <td>372</td>\n",
       "      <td>2.9</td>\n",
       "      <td>1.3</td>\n",
       "      <td>3.0</td>\n",
       "      <td>1.2</td>\n",
       "      <td>...</td>\n",
       "      <td>1.8264</td>\n",
       "      <td>36.6367</td>\n",
       "      <td>0.0529</td>\n",
       "      <td>5.6501</td>\n",
       "      <td>0.11</td>\n",
       "      <td>0.00001</td>\n",
       "      <td>Z</td>\n",
       "      <td>NaN</td>\n",
       "      <td>NaN</td>\n",
       "      <td>NaN</td>\n",
       "    </tr>\n",
       "    <tr>\n",
       "      <th>3</th>\n",
       "      <td>2669011</td>\n",
       "      <td>0.591153</td>\n",
       "      <td>0.591151</td>\n",
       "      <td>0.591152</td>\n",
       "      <td>0.999997</td>\n",
       "      <td>450</td>\n",
       "      <td>2.4</td>\n",
       "      <td>1.1</td>\n",
       "      <td>2.3</td>\n",
       "      <td>1.1</td>\n",
       "      <td>...</td>\n",
       "      <td>1.7015</td>\n",
       "      <td>101.2146</td>\n",
       "      <td>0.0751</td>\n",
       "      <td>6.5360</td>\n",
       "      <td>0.16</td>\n",
       "      <td>0.00000</td>\n",
       "      <td>Z</td>\n",
       "      <td>NaN</td>\n",
       "      <td>NaN</td>\n",
       "      <td>NaN</td>\n",
       "    </tr>\n",
       "    <tr>\n",
       "      <th>4</th>\n",
       "      <td>2742032</td>\n",
       "      <td>0.629676</td>\n",
       "      <td>0.629692</td>\n",
       "      <td>0.629684</td>\n",
       "      <td>1.000025</td>\n",
       "      <td>514</td>\n",
       "      <td>1.8</td>\n",
       "      <td>0.9</td>\n",
       "      <td>1.9</td>\n",
       "      <td>1.0</td>\n",
       "      <td>...</td>\n",
       "      <td>1.5956</td>\n",
       "      <td>133.2445</td>\n",
       "      <td>0.0602</td>\n",
       "      <td>7.4751</td>\n",
       "      <td>0.34</td>\n",
       "      <td>0.00003</td>\n",
       "      <td>Z</td>\n",
       "      <td>NaN</td>\n",
       "      <td>NaN</td>\n",
       "      <td>NaN</td>\n",
       "    </tr>\n",
       "  </tbody>\n",
       "</table>\n",
       "<p>5 rows × 35 columns</p>\n",
       "</div>"
      ],
      "text/plain": [
       "   LINEAR id   Plinear      Pztf     Pmean    Pratio  NdataLINEAR  L_chi2dof  \\\n",
       "0     523832  0.372376  0.372384  0.372380  1.000021          251        1.8   \n",
       "1    1240665  0.632528  0.632522  0.632525  0.999991          468       25.2   \n",
       "2    1736308  0.555848  0.555843  0.555846  0.999991          372        2.9   \n",
       "3    2669011  0.591153  0.591151  0.591152  0.999997          450        2.4   \n",
       "4    2742032  0.629676  0.629692  0.629684  1.000025          514        1.8   \n",
       "\n",
       "   L_chi2dofR  Lmean_chi2dof  Lmean_chi2dofR  ...  BlazhkoPeakZ  \\\n",
       "0         1.2            1.9             1.3  ...        2.7122   \n",
       "1         3.0           25.4             2.9  ...        1.5865   \n",
       "2         1.3            3.0             1.2  ...        1.8264   \n",
       "3         1.1            2.3             1.1  ...        1.7015   \n",
       "4         0.9            1.9             1.0  ...        1.5956   \n",
       "\n",
       "   BlazhkoPeriodZ  BpowerRatioZ  BsignificanceZ  Ampl_diff       dP  \\\n",
       "0         37.3413        0.1528          6.3617       0.17  0.00002   \n",
       "1        182.3154        0.0570         15.9957       0.00  0.00001   \n",
       "2         36.6367        0.0529          5.6501       0.11  0.00001   \n",
       "3        101.2146        0.0751          6.5360       0.16  0.00000   \n",
       "4        133.2445        0.0602          7.4751       0.34  0.00003   \n",
       "\n",
       "   IndicatorType  ChiType  BE_score  period_vs_amp  \n",
       "0              Z      NaN       NaN            NaN  \n",
       "1              Z      NaN       NaN            NaN  \n",
       "2              Z      NaN       NaN            NaN  \n",
       "3              Z      NaN       NaN            NaN  \n",
       "4              Z      NaN       NaN            NaN  \n",
       "\n",
       "[5 rows x 35 columns]"
      ]
     },
     "execution_count": 12,
     "metadata": {},
     "output_type": "execute_result"
    }
   ],
   "source": [
    "Bstars.head()"
   ]
  },
  {
   "cell_type": "code",
   "execution_count": 9,
   "metadata": {},
   "outputs": [],
   "source": [
    "dataLINEAR = fetch_LINEAR_sample(data_home='../inputs') # fetching the data from astroML data library"
   ]
  },
  {
   "cell_type": "code",
   "execution_count": 11,
   "metadata": {},
   "outputs": [
    {
     "data": {
      "text/plain": [
       "rec.array([(10003298, 207.52946, 33.70615, 207.529404, 33.706001, 15.73, 1.84,  0.81,  0.31,  0.16,  0.63, 15.89, 0.16, 0.19, 1.12, -0.61, -0.01, -1, 0),\n",
       "           (10004892, 206.20259, 34.05875, 206.202469, 34.058662, 16.76, 1.14,  0.24,  0.08,  0.01, -0.01, 16.84, 0.24, 0.22, 0.93, -0.17,  0.13, -1, 0),\n",
       "           (10013411, 206.09627, 36.64865, 206.096115, 36.648674, 15.44, 1.71,  0.75,  0.31,  0.16,  0.62, 15.5 , 0.19, 0.1 , 1.33, -0.45,  0.26, -1, 0),\n",
       "           ...,\n",
       "           ( 9984569, 207.759  , -1.79451, 207.758911, -1.794518, 16.49, 1.15, -0.05, -0.04, -0.04,  0.16, 16.89, 0.19, 0.22, 0.74,  0.14, -0.08,  1, 0),\n",
       "           ( 9987252, 207.2308 , -1.61549, 207.230789, -1.615576, 16.33, 1.17,  0.11, -0.  ,  0.01,  0.52, 16.62, 0.23, 0.28, 1.36, -0.26, -0.15,  1, 0),\n",
       "           (  999528, 169.0444 ,  5.63446, 169.044342,  5.634354, 16.17, 1.19,  0.12,  0.02, -0.03,  0.63, 16.59, 0.2 , 0.24, 1.05,  0.12, -0.11, -1, 0)],\n",
       "          dtype=[('objectID', '<i8'), ('raLIN', '<f8'), ('decLIN', '<f8'), ('raSDSS', '<f8'), ('decSDSS', '<f8'), ('r', '<f8'), ('ug', '<f8'), ('gr', '<f8'), ('ri', '<f8'), ('iz', '<f8'), ('JK', '<f8'), ('<mL>', '<f8'), ('std', '<f8'), ('rms', '<f8'), ('Lchi2', '<f8'), ('LP1', '<f8'), ('phi1', '<f8'), ('S', '<i8'), ('prior', '<i8')])"
      ]
     },
     "execution_count": 11,
     "metadata": {},
     "output_type": "execute_result"
    }
   ],
   "source": [
    "dataLINEAR.targets"
   ]
  },
  {
   "cell_type": "code",
   "execution_count": 10,
   "metadata": {},
   "outputs": [
    {
     "data": {
      "text/plain": [
       "(10003298, 207.52946, 33.70615, 207.529404, 33.706001, 15.73, 1.84, 0.81, 0.31, 0.16, 0.63, 15.89, 0.16, 0.19, 1.12, -0.61, -0.01, -1, 0)"
      ]
     },
     "execution_count": 10,
     "metadata": {},
     "output_type": "execute_result"
    }
   ],
   "source": [
    "dataLINEAR.targets[0]"
   ]
  },
  {
   "cell_type": "code",
   "execution_count": 26,
   "metadata": {},
   "outputs": [],
   "source": [
    "ra = []\n",
    "dec = []\n",
    "Bids = list(Bstars['LINEAR id'])\n",
    "\n",
    "for i in Bids:\n",
    "    for j in dataLINEAR.targets:\n",
    "        if i==j[0]:\n",
    "            ra.append(j[3])\n",
    "            dec.append(j[4])"
   ]
  },
  {
   "cell_type": "code",
   "execution_count": 28,
   "metadata": {},
   "outputs": [],
   "source": [
    "coord = coords.SkyCoord(ra=ra[0], dec=dec[0], unit=(u.deg, u.deg), frame='icrs')"
   ]
  },
  {
   "cell_type": "code",
   "execution_count": 29,
   "metadata": {},
   "outputs": [],
   "source": [
    "xid = SDSS.query_region(coord, spectro='apogee', radius=2*u.arcmin)"
   ]
  },
  {
   "cell_type": "code",
   "execution_count": 30,
   "metadata": {},
   "outputs": [],
   "source": [
    "sp = SDSS.get_spectra(matches=xid)"
   ]
  },
  {
   "cell_type": "code",
   "execution_count": 31,
   "metadata": {},
   "outputs": [
    {
     "data": {
      "text/plain": [
       "[[<astropy.io.fits.hdu.image.PrimaryHDU object at 0x165179a90>, <astropy.io.fits.hdu.table.BinTableHDU object at 0x165155510>, <astropy.io.fits.hdu.table.BinTableHDU object at 0x1651ab590>, <astropy.io.fits.hdu.table.BinTableHDU object at 0x1651b1e90>, <astropy.io.fits.hdu.table.BinTableHDU object at 0x166306b50>, <astropy.io.fits.hdu.table.BinTableHDU object at 0x16631b810>, <astropy.io.fits.hdu.table.BinTableHDU object at 0x166334510>, <astropy.io.fits.hdu.table.BinTableHDU object at 0x1663490d0>, <astropy.io.fits.hdu.table.BinTableHDU object at 0x166361d50>, <astropy.io.fits.hdu.table.BinTableHDU object at 0x166376950>, <astropy.io.fits.hdu.table.BinTableHDU object at 0x16638b4d0>, <astropy.io.fits.hdu.table.BinTableHDU object at 0x1650e8ed0>, <astropy.io.fits.hdu.table.BinTableHDU object at 0x16514ead0>, <astropy.io.fits.hdu.table.BinTableHDU object at 0x1663bb890>, <astropy.io.fits.hdu.table.BinTableHDU object at 0x1663d0490>, <astropy.io.fits.hdu.table.BinTableHDU object at 0x1663e9010>, <astropy.io.fits.hdu.table.BinTableHDU object at 0x1663fdbd0>, <astropy.io.fits.hdu.table.BinTableHDU object at 0x166512750>, <astropy.io.fits.hdu.table.BinTableHDU object at 0x16652f310>, <astropy.io.fits.hdu.table.BinTableHDU object at 0x16653fed0>, <astropy.io.fits.hdu.table.BinTableHDU object at 0x166558a90>, <astropy.io.fits.hdu.table.BinTableHDU object at 0x16656d650>],\n",
       " [<astropy.io.fits.hdu.image.PrimaryHDU object at 0x165135e50>, <astropy.io.fits.hdu.table.BinTableHDU object at 0x16656ee10>, <astropy.io.fits.hdu.table.BinTableHDU object at 0x1665ae110>, <astropy.io.fits.hdu.table.BinTableHDU object at 0x1665b0890>, <astropy.io.fits.hdu.table.BinTableHDU object at 0x1665cd550>, <astropy.io.fits.hdu.table.BinTableHDU object at 0x1665e2210>, <astropy.io.fits.hdu.table.BinTableHDU object at 0x1665f6e50>, <astropy.io.fits.hdu.table.BinTableHDU object at 0x16660fa10>, <astropy.io.fits.hdu.table.BinTableHDU object at 0x166624610>, <astropy.io.fits.hdu.table.BinTableHDU object at 0x1666411d0>, <astropy.io.fits.hdu.table.BinTableHDU object at 0x166655c10>, <astropy.io.fits.hdu.table.BinTableHDU object at 0x16666a910>, <astropy.io.fits.hdu.table.BinTableHDU object at 0x166683450>, <astropy.io.fits.hdu.table.BinTableHDU object at 0x166698050>, <astropy.io.fits.hdu.table.BinTableHDU object at 0x1666acc10>, <astropy.io.fits.hdu.table.BinTableHDU object at 0x1666c5850>, <astropy.io.fits.hdu.table.BinTableHDU object at 0x1666da3d0>, <astropy.io.fits.hdu.table.BinTableHDU object at 0x1666eef90>, <astropy.io.fits.hdu.table.BinTableHDU object at 0x166707b10>, <astropy.io.fits.hdu.table.BinTableHDU object at 0x16671c710>, <astropy.io.fits.hdu.table.BinTableHDU object at 0x1667392d0>, <astropy.io.fits.hdu.table.BinTableHDU object at 0x166749e50>]]"
      ]
     },
     "execution_count": 31,
     "metadata": {},
     "output_type": "execute_result"
    }
   ],
   "source": [
    "sp"
   ]
  },
  {
   "cell_type": "code",
   "execution_count": 32,
   "metadata": {},
   "outputs": [],
   "source": [
    "from astropy.io import fits"
   ]
  },
  {
   "cell_type": "code",
   "execution_count": 34,
   "metadata": {},
   "outputs": [
    {
     "name": "stdout",
     "output_type": "stream",
     "text": [
      "HDUList 0:\n",
      "Filename: (No file associated with this HDUList)\n",
      "No.    Name      Ver    Type      Cards   Dimensions   Format\n",
      "  0  PRIMARY       1 PrimaryHDU     135   ()      \n",
      "  1  COADD         1 BinTableHDU     26   4621R x 8C   [E, E, E, J, J, E, E, E]   \n",
      "  2  SPALL         1 BinTableHDU    488   1R x 236C   [27A, 14A, 4A, E, E, J, J, E, J, E, E, E, K, K, K, K, K, K, K, K, K, B, B, J, I, 5E, 5E, J, J, J, J, 7A, 7A, 16A, D, D, 6A, 21A, E, E, E, J, E, 24A, 10J, J, 10E, E, E, E, E, E, E, J, E, E, E, J, 5E, E, E, 10E, 10E, 10E, 5E, 5E, 5E, 5E, 5E, J, J, E, E, E, E, E, E, 16A, 9A, 12A, E, E, E, E, E, E, E, E, J, E, E, J, J, 6A, 21A, E, 35E, K, 19A, 19A, 19A, B, B, B, I, 3A, B, I, I, I, I, J, E, J, J, E, E, E, E, E, E, E, E, 5E, 5E, 5E, 5E, 5E, 5E, 5E, 5E, 5E, 5E, 5E, 5E, 5E, 5E, 5E, 5E, 5E, 5E, 5E, 5E, 5E, 5E, 5E, 5E, 5E, 5E, 5E, 5E, 5E, 5E, 5E, 5E, 5E, 5E, 5E, 5J, 5J, 5J, 5E, 5J, 75E, 75E, 5E, 5E, 5E, 5J, 5E, D, D, D, D, D, D, D, D, D, 5E, 5E, 5E, 5E, 5E, 5E, 5E, 5E, 5E, 5E, 5E, 5E, 5E, 5E, 5E, 5E, 5E, 5E, 5E, 5E, 5E, 5E, 5E, 5E, 5E, 5E, 5E, 5E, 5E, 5E, 5E, 5E, 5E, 5E, 5E, 5E, 5E, 5E, 5E, 5E, 5E, 5E, 40E, 40E, 5J, 5J, 5E, 5E, 5D, J, J, J, J, J, J, J, E]   \n",
      "  3  SPZLINE       1 BinTableHDU     48   32R x 19C   [J, J, J, 13A, D, E, E, E, E, E, E, E, E, E, E, J, J, E, E]   \n",
      "  4  B1-00175501-00175496-00175495    1 BinTableHDU    181   2515R x 8C   [E, E, E, J, E, E, E, E]   \n",
      "  5  B1-00175503-00175496-00175495    1 BinTableHDU    181   2515R x 8C   [E, E, E, J, E, E, E, E]   \n",
      "  6  B1-00175504-00175496-00175495    1 BinTableHDU    181   2515R x 8C   [E, E, E, J, E, E, E, E]   \n",
      "  7  B1-00175695-00175705-00175706    1 BinTableHDU    181   2517R x 8C   [E, E, E, J, E, E, E, E]   \n",
      "  8  B1-00175696-00175705-00175706    1 BinTableHDU    181   2517R x 8C   [E, E, E, J, E, E, E, E]   \n",
      "  9  B1-00175701-00175705-00175706    1 BinTableHDU    181   2517R x 8C   [E, E, E, J, E, E, E, E]   \n",
      " 10  B1-00175704-00175705-00175706    1 BinTableHDU    181   2516R x 8C   [E, E, E, J, E, E, E, E]   \n",
      " 11  B1-00175834-00175833-00175832    1 BinTableHDU    181   2516R x 8C   [E, E, E, J, E, E, E, E]   \n",
      " 12  B1-00175835-00175833-00175832    1 BinTableHDU    181   2516R x 8C   [E, E, E, J, E, E, E, E]   \n",
      " 13  R1-00175501-00175496-00175495    1 BinTableHDU    181   3113R x 8C   [E, E, E, J, E, E, E, E]   \n",
      " 14  R1-00175503-00175496-00175495    1 BinTableHDU    181   3113R x 8C   [E, E, E, J, E, E, E, E]   \n",
      " 15  R1-00175504-00175496-00175495    1 BinTableHDU    181   3113R x 8C   [E, E, E, J, E, E, E, E]   \n",
      " 16  R1-00175695-00175705-00175706    1 BinTableHDU    181   3114R x 8C   [E, E, E, J, E, E, E, E]   \n",
      " 17  R1-00175696-00175705-00175706    1 BinTableHDU    181   3114R x 8C   [E, E, E, J, E, E, E, E]   \n",
      " 18  R1-00175701-00175705-00175706    1 BinTableHDU    181   3114R x 8C   [E, E, E, J, E, E, E, E]   \n",
      " 19  R1-00175704-00175705-00175706    1 BinTableHDU    181   3114R x 8C   [E, E, E, J, E, E, E, E]   \n",
      " 20  R1-00175834-00175833-00175832    1 BinTableHDU    181   3114R x 8C   [E, E, E, J, E, E, E, E]   \n",
      " 21  R1-00175835-00175833-00175832    1 BinTableHDU    181   3118R x 8C   [E, E, E, J, E, E, E, E]   \n"
     ]
    },
    {
     "name": "stdout",
     "output_type": "stream",
     "text": [
      "<generator object Header.keys at 0x165168a00>\n",
      "HDUList 1:\n",
      "Filename: (No file associated with this HDUList)\n",
      "No.    Name      Ver    Type      Cards   Dimensions   Format\n",
      "  0  PRIMARY       1 PrimaryHDU     135   ()      \n",
      "  1  COADD         1 BinTableHDU     26   4621R x 8C   [E, E, E, J, J, E, E, E]   \n",
      "  2  SPALL         1 BinTableHDU    488   1R x 236C   [27A, 14A, 4A, E, E, J, J, E, J, E, E, E, K, K, K, K, K, K, K, K, K, B, B, J, I, 5E, 5E, J, J, J, J, 7A, 7A, 16A, D, D, 6A, 21A, E, E, E, J, E, 24A, 10J, J, 10E, E, E, E, E, E, E, J, E, E, E, J, 5E, E, E, 10E, 10E, 10E, 5E, 5E, 5E, 5E, 5E, J, J, E, E, E, E, E, E, 16A, 9A, 12A, E, E, E, E, E, E, E, E, J, E, E, J, J, 6A, 21A, E, 35E, K, 19A, 19A, 19A, B, B, B, I, 3A, B, I, I, I, I, J, E, J, J, E, E, E, E, E, E, E, E, 5E, 5E, 5E, 5E, 5E, 5E, 5E, 5E, 5E, 5E, 5E, 5E, 5E, 5E, 5E, 5E, 5E, 5E, 5E, 5E, 5E, 5E, 5E, 5E, 5E, 5E, 5E, 5E, 5E, 5E, 5E, 5E, 5E, 5E, 5E, 5J, 5J, 5J, 5E, 5J, 75E, 75E, 5E, 5E, 5E, 5J, 5E, D, D, D, D, D, D, D, D, D, 5E, 5E, 5E, 5E, 5E, 5E, 5E, 5E, 5E, 5E, 5E, 5E, 5E, 5E, 5E, 5E, 5E, 5E, 5E, 5E, 5E, 5E, 5E, 5E, 5E, 5E, 5E, 5E, 5E, 5E, 5E, 5E, 5E, 5E, 5E, 5E, 5E, 5E, 5E, 5E, 5E, 5E, 40E, 40E, 5J, 5J, 5E, 5E, 5D, J, J, J, J, J, J, J, E]   \n",
      "  3  SPZLINE       1 BinTableHDU     48   32R x 19C   [J, J, J, 13A, D, E, E, E, E, E, E, E, E, E, E, J, J, E, E]   \n",
      "  4  B1-00175501-00175496-00175495    1 BinTableHDU    181   2515R x 8C   [E, E, E, J, E, E, E, E]   \n",
      "  5  B1-00175503-00175496-00175495    1 BinTableHDU    181   2515R x 8C   [E, E, E, J, E, E, E, E]   \n",
      "  6  B1-00175504-00175496-00175495    1 BinTableHDU    181   2515R x 8C   [E, E, E, J, E, E, E, E]   \n",
      "  7  B1-00175695-00175705-00175706    1 BinTableHDU    181   2516R x 8C   [E, E, E, J, E, E, E, E]   \n",
      "  8  B1-00175696-00175705-00175706    1 BinTableHDU    181   2516R x 8C   [E, E, E, J, E, E, E, E]   \n",
      "  9  B1-00175701-00175705-00175706    1 BinTableHDU    181   2517R x 8C   [E, E, E, J, E, E, E, E]   \n",
      " 10  B1-00175704-00175705-00175706    1 BinTableHDU    181   2517R x 8C   [E, E, E, J, E, E, E, E]   \n",
      " 11  B1-00175834-00175833-00175832    1 BinTableHDU    181   2516R x 8C   [E, E, E, J, E, E, E, E]   \n",
      " 12  B1-00175835-00175833-00175832    1 BinTableHDU    181   2516R x 8C   [E, E, E, J, E, E, E, E]   \n",
      " 13  R1-00175501-00175496-00175495    1 BinTableHDU    181   3118R x 8C   [E, E, E, J, E, E, E, E]   \n",
      " 14  R1-00175503-00175496-00175495    1 BinTableHDU    181   3118R x 8C   [E, E, E, J, E, E, E, E]   \n",
      " 15  R1-00175504-00175496-00175495    1 BinTableHDU    181   3118R x 8C   [E, E, E, J, E, E, E, E]   \n",
      " 16  R1-00175695-00175705-00175706    1 BinTableHDU    181   3112R x 8C   [E, E, E, J, E, E, E, E]   \n",
      " 17  R1-00175696-00175705-00175706    1 BinTableHDU    181   3112R x 8C   [E, E, E, J, E, E, E, E]   \n",
      " 18  R1-00175701-00175705-00175706    1 BinTableHDU    181   3112R x 8C   [E, E, E, J, E, E, E, E]   \n",
      " 19  R1-00175704-00175705-00175706    1 BinTableHDU    181   3112R x 8C   [E, E, E, J, E, E, E, E]   \n",
      " 20  R1-00175834-00175833-00175832    1 BinTableHDU    181   3114R x 8C   [E, E, E, J, E, E, E, E]   \n",
      " 21  R1-00175835-00175833-00175832    1 BinTableHDU    181   3115R x 8C   [E, E, E, J, E, E, E, E]   \n",
      "<generator object Header.keys at 0x165168a00>\n"
     ]
    }
   ],
   "source": [
    "for i, hdu_list in enumerate(sp):\n",
    "    print(f\"HDUList {i}:\")\n",
    "    hdu_list.info()  # This prints information about each HDU in the list\n",
    "\n",
    "    # Accessing a specific HDU (e.g., the first HDU, which typically contains the primary data)\n",
    "    primary_hdu = hdu_list[0]  # Change the index as needed based on the structure of the FITS file\n",
    "\n",
    "    # Accessing data in this HDU\n",
    "    data = primary_hdu.data\n",
    "    header = primary_hdu.header\n",
    "\n",
    "    # Printing some header information (metadata)\n",
    "    print(header.keys())  # Prints all header keys"
   ]
  },
  {
   "cell_type": "code",
   "execution_count": null,
   "metadata": {},
   "outputs": [],
   "source": []
  }
 ],
 "metadata": {
  "kernelspec": {
   "display_name": "rr_lyrae",
   "language": "python",
   "name": "python3"
  },
  "language_info": {
   "codemirror_mode": {
    "name": "ipython",
    "version": 3
   },
   "file_extension": ".py",
   "mimetype": "text/x-python",
   "name": "python",
   "nbconvert_exporter": "python",
   "pygments_lexer": "ipython3",
   "version": "3.11.4"
  }
 },
 "nbformat": 4,
 "nbformat_minor": 2
}
