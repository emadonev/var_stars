{
 "cells": [
  {
   "attachments": {},
   "cell_type": "markdown",
   "metadata": {},
   "source": [
    "# Learning Chapter 2 of `Statistics, data mining and machine learning in astronomy`"
   ]
  },
  {
   "attachments": {},
   "cell_type": "markdown",
   "metadata": {},
   "source": [
    "## Chapter 2: Fast computation on massive data sets"
   ]
  },
  {
   "attachments": {},
   "cell_type": "markdown",
   "metadata": {},
   "source": [
    "## 1. example: Sorting"
   ]
  },
  {
   "cell_type": "code",
   "execution_count": 1,
   "metadata": {},
   "outputs": [],
   "source": [
    "import numpy as np"
   ]
  },
  {
   "cell_type": "code",
   "execution_count": 2,
   "metadata": {},
   "outputs": [],
   "source": [
    "np.random.seed(0)"
   ]
  },
  {
   "cell_type": "code",
   "execution_count": 3,
   "metadata": {},
   "outputs": [
    {
     "name": "stdout",
     "output_type": "stream",
     "text": [
      "CPU times: user 1.04 s, sys: 6.12 ms, total: 1.05 s\n",
      "Wall time: 1.08 s\n"
     ]
    }
   ],
   "source": [
    "X = np.random.rand(10000000) # pick 10000000 random numbers\n",
    "%time X.sort() "
   ]
  },
  {
   "cell_type": "code",
   "execution_count": 4,
   "metadata": {},
   "outputs": [
    {
     "name": "stdout",
     "output_type": "stream",
     "text": [
      "CPU times: user 183 ms, sys: 22.6 ms, total: 206 ms\n",
      "Wall time: 209 ms\n"
     ]
    },
    {
     "data": {
      "text/plain": [
       "array([2.51678389e-08, 1.63714365e-07, 1.89048978e-07, ...,\n",
       "       9.99999814e-01, 9.99999837e-01, 9.99999863e-01])"
      ]
     },
     "execution_count": 4,
     "metadata": {},
     "output_type": "execute_result"
    }
   ],
   "source": [
    "%time np.sort(X)"
   ]
  },
  {
   "cell_type": "code",
   "execution_count": 5,
   "metadata": {},
   "outputs": [
    {
     "data": {
      "text/plain": [
       "4998210"
      ]
     },
     "execution_count": 5,
     "metadata": {},
     "output_type": "execute_result"
    }
   ],
   "source": [
    "np.searchsorted(X, 0.5)"
   ]
  },
  {
   "attachments": {},
   "cell_type": "markdown",
   "metadata": {},
   "source": [
    "#### Python's built in `X.sort()` is much slower than NumPy's `np.sort()`. The reason why is that Numpy's function is writen in C, which is much faster than Python. It uses `quicksort`, an efficient algorithm for sorting. It chooses an element which is a 'pivot'. Then it rearranges the array so all the elements less than the pivot go on the left, and all the elements larger go on the right. This step is repeated untill everything is sorted. Also, Numpy stores its arrays in a contiguous block of emory, and not like Python which stores it somewhere else. As a final note, Numpy uses less memory which is why it's so efficient. "
   ]
  },
  {
   "attachments": {},
   "cell_type": "markdown",
   "metadata": {},
   "source": [
    "#### Sorting by column"
   ]
  },
  {
   "cell_type": "code",
   "execution_count": 8,
   "metadata": {},
   "outputs": [],
   "source": [
    "X = np.random.random((5,3))\n"
   ]
  },
  {
   "cell_type": "code",
   "execution_count": 9,
   "metadata": {},
   "outputs": [
    {
     "data": {
      "text/plain": [
       "array([[0.25, 0.72, 0.35],\n",
       "       [0.15, 0.95, 0.27],\n",
       "       [0.49, 0.76, 0.52],\n",
       "       [0.42, 0.71, 0.63],\n",
       "       [0.98, 0.35, 0.61]])"
      ]
     },
     "execution_count": 9,
     "metadata": {},
     "output_type": "execute_result"
    }
   ],
   "source": [
    "np.set_printoptions(precision=2)\n",
    "X"
   ]
  },
  {
   "cell_type": "code",
   "execution_count": 12,
   "metadata": {},
   "outputs": [
    {
     "data": {
      "text/plain": [
       "array([[0.15, 0.95, 0.27],\n",
       "       [0.25, 0.72, 0.35],\n",
       "       [0.42, 0.71, 0.63],\n",
       "       [0.49, 0.76, 0.52],\n",
       "       [0.98, 0.35, 0.61]])"
      ]
     },
     "execution_count": 12,
     "metadata": {},
     "output_type": "execute_result"
    }
   ],
   "source": [
    "i_sort = np.argsort(X[:, 0]) # sorts the first column by size\n",
    "X[i_sort]"
   ]
  },
  {
   "cell_type": "code",
   "execution_count": 13,
   "metadata": {},
   "outputs": [
    {
     "data": {
      "text/plain": [
       "array([[0.98, 0.35, 0.61],\n",
       "       [0.42, 0.71, 0.63],\n",
       "       [0.25, 0.72, 0.35],\n",
       "       [0.49, 0.76, 0.52],\n",
       "       [0.15, 0.95, 0.27]])"
      ]
     },
     "execution_count": 13,
     "metadata": {},
     "output_type": "execute_result"
    }
   ],
   "source": [
    "i_sort = np.argsort(X[:, 1]) # sorts the second column by size\n",
    "X[i_sort]"
   ]
  },
  {
   "cell_type": "code",
   "execution_count": 14,
   "metadata": {},
   "outputs": [
    {
     "data": {
      "text/plain": [
       "array([[0.25, 0.72, 0.35]])"
      ]
     },
     "execution_count": 14,
     "metadata": {},
     "output_type": "execute_result"
    }
   ],
   "source": [
    "i_sort = np.argsort(X[1, 2]) # sorts the first row by size\n",
    "X[i_sort]"
   ]
  },
  {
   "cell_type": "code",
   "execution_count": 15,
   "metadata": {},
   "outputs": [
    {
     "data": {
      "text/plain": [
       "array([[0.15, 0.95, 0.27],\n",
       "       [0.25, 0.72, 0.35],\n",
       "       [0.42, 0.71, 0.63],\n",
       "       [0.49, 0.76, 0.52],\n",
       "       [0.98, 0.35, 0.61]])"
      ]
     },
     "execution_count": 15,
     "metadata": {},
     "output_type": "execute_result"
    }
   ],
   "source": [
    "i_sort = np.argsort(X[:, 0]) # sorts the first column by size\n",
    "X[i_sort]"
   ]
  },
  {
   "cell_type": "code",
   "execution_count": 16,
   "metadata": {},
   "outputs": [],
   "source": [
    "X.sort(0)"
   ]
  },
  {
   "cell_type": "code",
   "execution_count": 18,
   "metadata": {},
   "outputs": [
    {
     "data": {
      "text/plain": [
       "array([[0.15, 0.35, 0.27],\n",
       "       [0.25, 0.71, 0.35],\n",
       "       [0.42, 0.72, 0.52],\n",
       "       [0.49, 0.76, 0.61],\n",
       "       [0.98, 0.95, 0.63]])"
      ]
     },
     "execution_count": 18,
     "metadata": {},
     "output_type": "execute_result"
    }
   ],
   "source": [
    "X # all of the columns are now ordered by size based on the first column"
   ]
  },
  {
   "attachments": {},
   "cell_type": "markdown",
   "metadata": {},
   "source": [
    "## Example 2: Near neighbor search"
   ]
  },
  {
   "attachments": {},
   "cell_type": "markdown",
   "metadata": {},
   "source": [
    "### Version 1: brute force"
   ]
  },
  {
   "cell_type": "code",
   "execution_count": 19,
   "metadata": {},
   "outputs": [],
   "source": [
    "def easy_nns(X): # input is a 2D object (matrix)\n",
    "    N, D = X.shape # N is number of datapoints and D number of dimensions\n",
    "    neighbors = np.zeros(N, dtype=int) # creates an array which will\n",
    "    # store the indices of closest neighbors of each datapoint \n",
    "    for i in range(N): # for every data point in the dataset\n",
    "        j_closest = i # initializes the current data point\n",
    "        d_closest = np.inf # initialize closest distance to infinity\n",
    "        # this represents the closest distance encountered so far\n",
    "        for j in range(N): # every other data point other than i\n",
    "            if i == j:\n",
    "                continue # skip distance between a point and itself!!\n",
    "            d = np.sqrt(np.sum((X[i] - X[j])**2)) # euclidian metric\n",
    "            if d < d_closest: # if a closer neighbor is found, update it\n",
    "                j_closest = j\n",
    "                d_closest = d\n",
    "        neighbors[i] = j_closest # assigns the index of the closest neighbor\n",
    "        # for the current data point i\n",
    "    return neighbors"
   ]
  },
  {
   "cell_type": "code",
   "execution_count": 26,
   "metadata": {},
   "outputs": [
    {
     "data": {
      "text/plain": [
       "array([3, 7, 6, 0, 3, 1, 2, 1, 3, 7])"
      ]
     },
     "execution_count": 26,
     "metadata": {},
     "output_type": "execute_result"
    }
   ],
   "source": [
    "np.random.seed(0)\n",
    "X = np.random.random((10,3)) # 10 points in 3 dimensions\n",
    "easy_nns(X)"
   ]
  },
  {
   "cell_type": "code",
   "execution_count": 27,
   "metadata": {},
   "outputs": [
    {
     "name": "stdout",
     "output_type": "stream",
     "text": [
      "CPU times: user 2 µs, sys: 0 ns, total: 2 µs\n",
      "Wall time: 4.29 µs\n"
     ]
    },
    {
     "data": {
      "text/plain": [
       "array([410, 806, 455, 686, 373, 934,  62, 553, 604, 912,   8, 228, 586,\n",
       "       901, 768, 150, 302, 184, 153, 758, 763, 199, 214, 717, 445, 405,\n",
       "        85,  96, 412, 298, 932, 544, 269, 748, 530,  25, 602, 712, 856,\n",
       "       517,  87, 641, 416, 304, 203, 300, 898, 961, 946, 626, 910, 326,\n",
       "        35, 103, 873, 449, 120, 574,  94, 116, 637, 809,   6, 968, 341,\n",
       "        66, 650, 256, 360, 751, 206, 304, 395, 189, 409, 719, 347, 345,\n",
       "       415, 599, 507, 646, 548, 357, 670,  13, 468,  40, 395, 963, 456,\n",
       "       370, 723, 299,  58, 690,  27, 681, 503, 547, 798, 623,  95, 585,\n",
       "       799, 953, 691, 328, 715, 276, 326, 759, 801, 651, 904, 971,  59,\n",
       "       178, 538, 911,  91, 355, 514, 377, 500, 627, 430, 264, 565,  58,\n",
       "       149, 910, 584, 688, 131, 871, 955, 447, 738, 594, 940, 761,   4,\n",
       "       781, 984, 361, 766, 532, 246, 130, 403, 878, 509, 877, 819, 211,\n",
       "       912, 818, 420, 200, 442, 443, 190, 733, 539, 240, 869, 260,   8,\n",
       "       883,  75, 752, 969, 948, 680, 200, 760, 500, 117, 429, 663, 196,\n",
       "       286, 577,  17, 617, 578, 876, 940,  73, 162, 480, 688, 233, 908,\n",
       "       677, 181, 920, 952, 574, 159, 437, 770,  44, 755, 460,  70,  72,\n",
       "       206, 736, 634, 155, 672, 289, 587, 868, 941,  61, 376, 609, 848,\n",
       "       233, 340, 290, 489, 461,  87, 880, 659, 872, 447, 412, 870, 221,\n",
       "       457, 658,  47, 488,  41, 692, 316, 774, 693, 861, 282, 130,  82,\n",
       "       128, 481, 309, 377, 992, 902, 953, 422, 223,  67, 289, 409, 506,\n",
       "       167, 976, 849, 595, 127, 653, 885, 205, 271, 515, 645, 268, 136,\n",
       "       298, 352, 813, 109, 387, 609, 243, 832, 607, 244, 651, 516, 342,\n",
       "       182, 624, 656, 213, 223, 999, 150, 854, 958, 257, 212, 499,  29,\n",
       "        93,  45, 862,  16, 561,  43, 939, 536, 976, 530, 528, 525, 627,\n",
       "       324, 991, 720, 912, 240, 805, 477, 586, 795, 312, 747, 985, 312,\n",
       "       753,  51, 772, 107, 337, 895, 881, 837, 566, 952, 709, 916, 195,\n",
       "       704, 268, 549,  64, 989, 541, 708,  77, 908,  76, 903, 721, 173,\n",
       "       811, 274, 855, 498, 121, 705, 375, 860, 907,  68, 145,  22,  63,\n",
       "       183, 811,  67, 906, 996, 672,  91, 813, 156,   4, 729, 357, 218,\n",
       "       250, 202, 749, 846, 691, 282, 603,  57, 997, 198, 143, 677, 252,\n",
       "       158,  27, 889, 951, 836, 788, 492, 847, 248, 885, 894, 697, 452,\n",
       "       150, 979, 475, 375, 499, 670, 258,   0, 528, 231, 730, 363, 283,\n",
       "       579, 463, 140, 944, 158, 799, 254, 905, 850, 626, 148,  91, 409,\n",
       "       179, 126, 506, 194, 766, 739, 789, 875, 201, 536, 545, 746, 986,\n",
       "       160, 101, 743,  24, 317, 230, 798,  55, 820, 287, 928, 688, 524,\n",
       "         2,  90, 234, 847, 631, 205, 225, 540, 417, 735, 938, 669,  56,\n",
       "       541, 198, 676, 629, 593, 172, 601, 405, 646, 318, 283, 938, 654,\n",
       "       248, 184, 300, 578, 851, 527,  36, 237, 572, 210, 691, 396, 615,\n",
       "       990, 750, 873, 684, 354, 602, 177, 704, 571,  98, 228, 703, 259,\n",
       "        80, 854, 775, 889,  86, 551, 818, 560, 675, 857, 258, 726, 673,\n",
       "       415, 809, 556, 182, 775, 310,  29, 486, 771, 978, 308, 866, 147,\n",
       "       801, 661, 324, 438, 959, 942, 508, 462, 468, 674, 579,  31, 439,\n",
       "       723, 777,  82, 340, 101, 512, 679, 278, 618, 621, 522, 622, 233,\n",
       "       687, 514, 303, 913, 203, 960, 128, 606, 122, 853, 790, 589, 502,\n",
       "       489,  33, 199, 775, 915, 183, 484, 543, 405, 702, 660, 317, 132,\n",
       "       103,  12, 820,  29, 570, 996, 681, 863, 472, 139, 730, 870, 694,\n",
       "       942,  79, 372, 456, 808, 383,   8, 756, 566, 281, 398, 278, 848,\n",
       "       776, 749, 178, 936, 633, 827, 185, 554, 577, 492, 555, 557, 101,\n",
       "       287, 176,  49, 829, 652, 471, 792, 459, 971, 615, 210, 728, 993,\n",
       "       183, 934, 732, 215,  41, 445, 830, 898, 270, 476, 427, 630, 822,\n",
       "        66, 113, 628, 979, 480, 757, 288, 135, 877, 228, 855, 534, 789,\n",
       "       180, 838, 972, 819, 237, 623, 466, 408, 945, 369, 293, 542, 515,\n",
       "       470, 388, 831, 700, 725,  97, 887, 986, 706, 445,   3, 559, 192,\n",
       "       786,  95, 381, 239, 264, 604, 750, 162, 401, 755, 650, 679, 908,\n",
       "       581, 505, 338, 657, 684, 797, 344, 335, 754, 571,  37, 555,   7,\n",
       "       931, 179, 105, 187,  75, 314, 349, 210,  92, 195, 680, 518, 901,\n",
       "       794, 374, 413, 935, 639, 163, 243, 464, 862, 430, 138, 434, 954,\n",
       "       769, 679, 444, 918, 801, 440, 278,  33, 379, 695, 877, 171, 325,\n",
       "       821, 204, 706, 655,  19, 111, 176, 141, 580, 525, 860, 234, 146,\n",
       "       875,  14, 741, 833, 528, 327, 661, 987, 509,  55, 547, 791, 796,\n",
       "       944, 143, 358, 899, 403, 712, 689,  96, 395, 435, 569,   2, 630,\n",
       "       376, 728, 403, 779, 646, 100, 104, 958, 533, 567, 713, 536, 317,\n",
       "       993, 917, 602,  61, 816, 351, 741, 275, 983, 629, 810, 887, 513,\n",
       "       154, 587, 754, 649, 570, 620, 302, 342, 945, 726, 627, 884, 678,\n",
       "       280, 770, 288, 358, 577, 332, 664, 104, 390,  83, 543, 922, 530,\n",
       "       659, 380, 998, 206, 262, 424, 485, 281, 568, 293, 660,  38, 516,\n",
       "       376, 543, 358, 243, 736, 592, 351, 358, 531,  43, 215, 333, 232,\n",
       "       135, 229,  51, 345, 767, 721, 153, 151, 980, 982, 331, 819, 169,\n",
       "       559, 399, 686, 817,  56, 392, 376, 178, 205, 791, 400, 330, 966,\n",
       "       982, 644, 783, 616,  13, 252, 348, 962, 423, 367, 359, 194, 901,\n",
       "        50, 965, 156, 562, 585, 576, 336, 807, 744, 804, 409, 269, 843,\n",
       "       657, 345, 476, 660, 245, 199, 810, 163, 589, 112, 928,   5, 927,\n",
       "       902, 968, 603, 305, 188, 216, 502, 828, 419, 827,  48,  48, 173,\n",
       "       191, 368, 393, 334, 253, 740, 136, 701, 424, 294, 233, 564, 978,\n",
       "       904, 598, 220, 156, 907, 300, 937, 868, 110, 115, 665, 219, 633,\n",
       "       520, 261, 828, 961, 653, 879,  16, 897, 814, 144, 323, 441, 774,\n",
       "       326, 342, 494, 313, 251, 806, 914, 732, 368, 385, 847, 291])"
      ]
     },
     "execution_count": 27,
     "metadata": {},
     "output_type": "execute_result"
    }
   ],
   "source": [
    "X = np.random.random((1000,3))\n",
    "%time\n",
    "easy_nns(X)"
   ]
  },
  {
   "attachments": {},
   "cell_type": "markdown",
   "metadata": {},
   "source": [
    "### Version 2: vectorized operations"
   ]
  },
  {
   "cell_type": "code",
   "execution_count": 29,
   "metadata": {},
   "outputs": [],
   "source": [
    "def vectorized_nns(X):\n",
    "    XXT = np.dot(X, X.T) # dot product between X and X.T \n",
    "    Xii = XXT.diagonal() # extracts the diagonal elements of the dot product\n",
    "    # these products are squares!!\n",
    "\n",
    "    # euclidian metric\n",
    "    D = np.sqrt(Xii - 2*XXT + Xii[:, np.newaxis]) # reshapes Xii into a column vector\n",
    "    # allowing for broadcasting\n",
    "\n",
    "    return np.argsort(D, axis=1)[:, 1]\n",
    "    # indirect sort, extracts the second column which corresponds to the index of\n",
    "    # the second closest neighbor, other than itself"
   ]
  },
  {
   "cell_type": "code",
   "execution_count": 30,
   "metadata": {},
   "outputs": [
    {
     "name": "stdout",
     "output_type": "stream",
     "text": [
      "CPU times: user 2 µs, sys: 1 µs, total: 3 µs\n",
      "Wall time: 5.01 µs\n"
     ]
    },
    {
     "data": {
      "text/plain": [
       "array([3, 2, 1, 9, 9, 3, 0, 5, 9, 3])"
      ]
     },
     "execution_count": 30,
     "metadata": {},
     "output_type": "execute_result"
    }
   ],
   "source": [
    "X = np.random.random((10,3))\n",
    "%time\n",
    "vectorized_nns(X)"
   ]
  },
  {
   "cell_type": "code",
   "execution_count": 31,
   "metadata": {},
   "outputs": [
    {
     "name": "stdout",
     "output_type": "stream",
     "text": [
      "CPU times: user 2 µs, sys: 0 ns, total: 2 µs\n",
      "Wall time: 4.05 µs\n"
     ]
    },
    {
     "data": {
      "text/plain": [
       "array([613, 424, 752, 315, 545,  74, 963, 279,  18, 766, 107, 911, 810,\n",
       "       157, 804, 966, 329,  66, 324, 318, 487, 160, 458, 306, 738, 918,\n",
       "       802, 350,  90, 758, 772, 127, 977,  81, 533, 897, 847, 549, 728,\n",
       "       864, 649, 665, 396, 500, 120, 165, 394, 214, 585, 365, 539, 760,\n",
       "       639, 779, 741, 906, 577, 312, 354, 394, 694, 487, 862, 877,  84,\n",
       "       281,  17,  62,  97, 913, 104, 723, 974, 295,   5, 580, 509, 512,\n",
       "       119, 240, 933, 753, 389, 524,  64, 299, 219, 277, 953, 201, 984,\n",
       "       474, 851, 763, 669,  28, 458,  68, 899, 846, 818, 985, 393, 331,\n",
       "       765, 201, 652,  10, 524, 277, 522, 544, 746, 417, 497, 374, 512,\n",
       "       791, 561,  78,  44, 188, 932, 990, 678, 173, 421, 670, 667, 327,\n",
       "       948, 840, 116, 880, 878, 471, 445, 768, 883, 960, 693, 605, 592,\n",
       "       271, 223, 871, 290, 642, 596, 461, 387, 636, 794, 742, 843, 757,\n",
       "       978, 860, 799, 507, 969, 350, 925,  99, 749,  45, 902, 521, 544,\n",
       "       422, 948, 688, 160, 125, 838, 791, 783, 241, 781,  90, 462, 115,\n",
       "       602, 108, 346, 538, 392, 670, 121, 516, 151, 177, 794, 879, 915,\n",
       "       405, 907, 505, 439, 800, 784,  89, 933, 876, 416,  71, 456, 314,\n",
       "       344, 788, 249, 385, 935, 175,  47, 600, 823, 652,  65, 961, 174,\n",
       "       964, 631, 144, 555, 568, 884, 253, 241, 947, 398, 494, 593, 967,\n",
       "       293, 496, 388, 377, 658,  37,  79, 177,  79, 786, 976, 471, 346,\n",
       "       477, 295, 210, 674, 278, 297, 774, 993, 728, 342, 623, 658, 735,\n",
       "       369, 117, 384, 349,  38, 587, 872, 817, 847, 463, 972, 143, 651,\n",
       "       567, 401, 956, 686, 109, 251,   7, 289,  65, 639, 813, 423, 549,\n",
       "       685, 350, 822, 280, 146, 836, 309, 234, 991, 248, 938, 564,  49,\n",
       "       413, 527, 111, 289, 967, 257, 465,  23, 549, 396, 701, 433, 199,\n",
       "        57, 651, 207,   3, 972, 529, 270, 559, 837, 365, 119, 429,  18,\n",
       "       403, 982, 129, 279,  16, 119, 103, 693, 418, 464, 511, 605, 783,\n",
       "       479, 696, 469, 541, 256, 461, 208, 743, 246, 833, 659, 564, 287,\n",
       "        71, 493, 664, 673, 689, 751, 529, 706, 984, 501, 771, 936, 540,\n",
       "       644,  49, 942, 155, 883, 260, 868, 819,  16, 478, 115, 773, 410,\n",
       "       237, 153, 873, 952,  66, 506, 852, 262, 252, 536, 608, 236,  82,\n",
       "       785, 923, 450, 102, 849, 825, 308, 966, 230, 744, 758, 336, 934,\n",
       "       325, 423, 195, 557, 769, 971, 777, 376, 927, 428, 299, 355, 655,\n",
       "       552, 983, 502, 781, 284, 126, 457, 284,   1, 799, 594, 417, 412,\n",
       "       323, 219, 844, 591, 310, 639,  79, 881, 695, 905, 198, 365, 889,\n",
       "       105, 963, 518, 136, 713, 692, 696, 341, 392, 697, 484, 533, 161,\n",
       "       370, 206, 422,  96, 621, 127, 343, 180, 269, 334, 826, 975, 775,\n",
       "       908, 340, 815, 135, 525, 596,  91, 966, 261, 247, 832, 340, 411,\n",
       "       389,  96, 243, 452, 537, 348,  20, 824, 162, 880, 560, 959, 989,\n",
       "       231, 875, 235, 114, 806, 855,  43, 456, 666,  16, 995, 197, 914,\n",
       "       813, 858, 748, 622, 335, 116, 345, 734, 915, 189, 543, 444, 616,\n",
       "       861, 243, 188, 401, 108, 472, 524, 300, 668, 317, 588, 364, 912,\n",
       "       453, 387, 952, 386, 485, 185, 706, 363, 978,   7, 981, 168,   4,\n",
       "       486, 768, 617, 285,  72, 830, 416, 795, 382, 224,   5, 718, 589,\n",
       "       895, 859, 118, 380, 936, 297, 345, 841, 273, 331, 699, 945, 107,\n",
       "       686, 574, 573, 835, 256, 925, 956, 625,  75, 642, 700, 610, 166,\n",
       "        48, 155, 265, 283, 558, 800, 432, 142, 638, 426, 916, 148, 436,\n",
       "        64, 469, 215, 643, 858, 493, 668, 336, 559, 373, 387, 752, 801,\n",
       "       765, 122, 854, 789, 604, 519,  17, 433, 702, 768, 459, 510, 924,\n",
       "       440, 614, 507, 936, 764, 953, 185, 222, 982, 975, 173, 874, 151,\n",
       "       198, 593, 282, 997,   2, 147, 601, 364, 601, 994, 917, 716,  40,\n",
       "        29, 313, 217, 807, 174, 415, 676,  41, 238, 348, 413, 719, 262,\n",
       "       732, 778,  41, 807, 737, 604,  94, 187, 291, 545, 354, 250, 233,\n",
       "       656, 894, 182, 633, 170, 802,   1, 754, 918, 286, 276, 790, 171,\n",
       "       355, 764, 928, 721, 756,  58, 800, 448, 451, 886, 859, 582, 309,\n",
       "       619, 710, 724, 660, 539, 957, 871,  97, 703, 615, 992, 446, 933,\n",
       "         4, 762, 812, 557, 661, 980, 692, 760,  71, 704, 153, 494, 845,\n",
       "        38, 808, 920, 143, 663, 412, 514, 259, 727, 667,  24, 821, 230,\n",
       "        54, 153, 345, 399, 770, 112, 368, 509, 278, 892, 356, 609,  81,\n",
       "       683,  57, 693, 718, 107, 566,  51, 499, 716, 812, 628, 611,   9,\n",
       "       306, 620, 407, 745, 361,  30, 375, 253, 840, 898, 891, 664, 929,\n",
       "       869, 419, 397, 337, 200, 390, 243, 809, 141, 614, 369, 117, 110,\n",
       "       563, 192, 120, 689, 907, 860, 425, 199, 610,  26, 528,  14, 937,\n",
       "       498, 666, 963, 787,  12, 439, 717, 283, 848, 955, 572, 262, 100,\n",
       "       371, 187, 992, 343, 216, 216, 395, 465, 640, 388, 740, 551, 252,\n",
       "       984, 426, 238, 621, 664, 320, 174, 826, 131, 566, 909, 154, 431,\n",
       "       727,  99,  36, 814, 394, 487, 911, 383, 484, 613, 499, 230, 224,\n",
       "       602, 699, 157, 520,  62, 946,  39, 712,  62, 398, 370, 780, 917,\n",
       "       145, 266, 379, 635, 495,  25,  63, 134, 193, 133, 436, 987, 368,\n",
       "       226, 246, 137, 797,  73, 573, 895, 777, 750, 634,  26, 559, 472,\n",
       "        35, 776,  98, 906, 745, 166, 748, 486, 943,  55, 797, 932, 131,\n",
       "       429, 851, 532, 529, 506, 194, 595, 870, 684,   3, 705, 349, 277,\n",
       "       391, 623, 162, 574, 411, 910, 779, 386, 889, 908,  80, 402, 212,\n",
       "       362, 183, 296, 534, 853, 546, 697, 905, 505,  13,  34, 717, 170,\n",
       "       907,  68, 287, 380,  88, 137, 815, 578, 472, 689, 479, 139, 219,\n",
       "       125,   6, 221, 938, 397, 233, 573, 160, 898, 408, 270, 320,  72,\n",
       "       466, 244,  32, 156, 633, 720, 543, 326, 417,  90, 101, 848, 485,\n",
       "       991, 666, 123, 294, 336, 778, 646, 555, 931, 640, 216, 454])"
      ]
     },
     "execution_count": 31,
     "metadata": {},
     "output_type": "execute_result"
    }
   ],
   "source": [
    "X = np.random.random((1000,3))\n",
    "%time\n",
    "vectorized_nns(X)"
   ]
  },
  {
   "attachments": {},
   "cell_type": "markdown",
   "metadata": {},
   "source": [
    "### Method 3: Trees"
   ]
  },
  {
   "cell_type": "code",
   "execution_count": 33,
   "metadata": {},
   "outputs": [
    {
     "data": {
      "text/plain": [
       "(array([[0.  , 0.08],\n",
       "        [0.  , 0.08],\n",
       "        [0.  , 0.02],\n",
       "        ...,\n",
       "        [0.  , 0.05],\n",
       "        [0.  , 0.08],\n",
       "        [0.  , 0.03]]),\n",
       " array([[  0, 647],\n",
       "        [  1,  65],\n",
       "        [  2, 179],\n",
       "        ...,\n",
       "        [997, 127],\n",
       "        [998, 669],\n",
       "        [999, 594]]))"
      ]
     },
     "execution_count": 33,
     "metadata": {},
     "output_type": "execute_result"
    }
   ],
   "source": [
    "from scipy.spatial import cKDTree\n",
    "X = np.random.random((1000,3))\n",
    "kdt = cKDTree(X) # build tree\n",
    "kdt.query(X, k=2) # find 2 neighbors"
   ]
  },
  {
   "cell_type": "code",
   "execution_count": 34,
   "metadata": {},
   "outputs": [
    {
     "data": {
      "text/plain": [
       "(array([[0.  , 0.04],\n",
       "        [0.  , 0.04],\n",
       "        [0.  , 0.05],\n",
       "        ...,\n",
       "        [0.  , 0.02],\n",
       "        [0.  , 0.08],\n",
       "        [0.  , 0.08]]),\n",
       " array([[  0, 120],\n",
       "        [  1, 320],\n",
       "        [  2, 536],\n",
       "        ...,\n",
       "        [997, 941],\n",
       "        [998, 613],\n",
       "        [999, 739]]))"
      ]
     },
     "execution_count": 34,
     "metadata": {},
     "output_type": "execute_result"
    }
   ],
   "source": [
    "from sklearn.neighbors import BallTree\n",
    "X = np.random.random((1000,3))\n",
    "bt = BallTree(X)\n",
    "bt.query(X, k=2)"
   ]
  },
  {
   "cell_type": "code",
   "execution_count": null,
   "metadata": {},
   "outputs": [],
   "source": []
  },
  {
   "cell_type": "code",
   "execution_count": 2,
   "metadata": {},
   "outputs": [],
   "source": [
    "# importing all of the necessary libraries\n",
    "import numpy as np\n",
    "#import seaborn as sns\n",
    "import pandas as pd\n",
    "import scipy as sc\n",
    "import random\n",
    "import pickle\n",
    "\n",
    "from matplotlib import pyplot as plt\n",
    "from scipy.stats import norm\n",
    "\n",
    "from astroML.utils.decorators import pickle_results\n",
    "from astroML.time_series import search_frequencies, lomb_scargle, MultiTermFit\n",
    "from astroML.datasets import fetch_LINEAR_sample\n",
    "\n",
    "from ztfquery import lightcurve\n",
    "from matplotlib import ticker\n",
    "\n",
    "np.random.seed(42)\n",
    "%matplotlib inline  "
   ]
  },
  {
   "cell_type": "code",
   "execution_count": 26,
   "metadata": {},
   "outputs": [],
   "source": [
    "data = fetch_LINEAR_sample(data_home='../inputs') # fetching the data from astroML data library"
   ]
  },
  {
   "cell_type": "code",
   "execution_count": 3,
   "metadata": {},
   "outputs": [],
   "source": [
    "import dask.dataframe as dd \n",
    "from concurrent.futures import ThreadPoolExecutor\n",
    "from concurrent.futures import ProcessPoolExecutor\n",
    "import threading\n",
    "import os"
   ]
  },
  {
   "cell_type": "code",
   "execution_count": 23,
   "metadata": {},
   "outputs": [],
   "source": [
    "def getZTFlightcurve(ra:float, \n",
    "                     dec:float, \n",
    "                     iD,\n",
    "                     radius:float=3.0):\n",
    "    \"\"\"Defines a function for acessing the light curve data based on which area of the sky it should search\n",
    "\n",
    "    Arguments:\n",
    "        ra (float): rectascension coordinate of star\n",
    "        dec (float): declination coordinate of star\n",
    "        radius(float, default=3.0): how wide should the search radius be\n",
    "    \n",
    "    \"\"\"\n",
    "    try: \n",
    "        lcq = lightcurve.LCQuery() #this object is used to query for the data\n",
    "        res = lcq.from_position(ra, dec, radius) \n",
    "        try:\n",
    "            ZTFdata = res.data[['mjd', 'mag', 'magerr', 'catflags', 'filtercode']]\n",
    "        except:\n",
    "            print(f\"Something went wrong when extracting DataFrame: {iD}\")\n",
    "            try:\n",
    "                f = dd.ZTFdata['filtercode'].mode()[0].compute()\n",
    "                ZTFdata = dd.ZTFdata.loc[ZTFdata['filtercode'] == f].compute()\n",
    "            except:\n",
    "                print(f\"Something went wrong when filtering for filter: {iD}\")\n",
    "                try:\n",
    "                    ZTFdata = dd.ZTFdata.loc[ZTFdata['catflags']< 32768].compute()\n",
    "                except:\n",
    "                    print(f\"Something went wrong when filerting catflags: {iD}\")\n",
    "        finally:   \n",
    "            ZTFdata = ZTFdata.drop(['catflags','filtercode'],axis=1)\n",
    "    except:\n",
    "        print(f\"Something went wrong with finding the light curve: {iD}\")\n",
    "        ZTFdata = None\n",
    "    return ZTFdata"
   ]
  },
  {
   "cell_type": "code",
   "execution_count": 24,
   "metadata": {},
   "outputs": [],
   "source": [
    "def lc_access(iD):\n",
    "    '''\n",
    "    Defines a function for acessing the light curve data based on equatorial coordinates of the LINEAR dataset.\n",
    "\n",
    "    Arguments:\n",
    "        iD (integer): ID of every light curve in the LINEAR dataset\n",
    "    '''\n",
    "    StarAttributes = data.targets[iD]\n",
    "    ra, dec = StarAttributes[3], StarAttributes[4]\n",
    "    light = getZTFlightcurve(ra, dec, iD)\n",
    "    return light"
   ]
  },
  {
   "cell_type": "code",
   "execution_count": 10,
   "metadata": {},
   "outputs": [],
   "source": [
    "import os\n",
    "num_cores = os.cpu_count()\n",
    "num = [x for x in range(7010)]"
   ]
  },
  {
   "cell_type": "code",
   "execution_count": 19,
   "metadata": {},
   "outputs": [
    {
     "data": {
      "text/plain": [
       "4"
      ]
     },
     "execution_count": 19,
     "metadata": {},
     "output_type": "execute_result"
    }
   ],
   "source": [
    "num_cores"
   ]
  },
  {
   "cell_type": "code",
   "execution_count": 20,
   "metadata": {},
   "outputs": [
    {
     "data": {
      "text/plain": [
       "[(1, 2)]"
      ]
     },
     "execution_count": 20,
     "metadata": {},
     "output_type": "execute_result"
    }
   ],
   "source": [
    "l = []\n",
    "tup = (1, 2)\n",
    "l.append(tup)\n",
    "l"
   ]
  },
  {
   "cell_type": "code",
   "execution_count": 21,
   "metadata": {},
   "outputs": [
    {
     "data": {
      "text/plain": [
       "1"
      ]
     },
     "execution_count": 21,
     "metadata": {},
     "output_type": "execute_result"
    }
   ],
   "source": [
    "l[0][0]"
   ]
  },
  {
   "cell_type": "code",
   "execution_count": 22,
   "metadata": {},
   "outputs": [],
   "source": [
    "import sys\n",
    "sys.path.insert(0,'../src/')\n",
    "sys.path\n",
    "from ZTF_data import lc_access"
   ]
  },
  {
   "cell_type": "code",
   "execution_count": 23,
   "metadata": {},
   "outputs": [],
   "source": [
    "lightcurves1 = []\n",
    "\n",
    "if __name__ == '__main__':\n",
    "    lightcurves1 = []\n",
    "    with ProcessPoolExecutor(max_workers=num_cores) as exe:\n",
    "        exe.submit(lc_access,2)\n",
    "\n",
    "        lightcurves1 = list(exe.map(lc_access, num))"
   ]
  },
  {
   "cell_type": "code",
   "execution_count": 24,
   "metadata": {},
   "outputs": [
    {
     "data": {
      "text/plain": [
       "10"
      ]
     },
     "execution_count": 24,
     "metadata": {},
     "output_type": "execute_result"
    }
   ],
   "source": [
    "len(lightcurves1)"
   ]
  },
  {
   "cell_type": "code",
   "execution_count": 40,
   "metadata": {},
   "outputs": [
    {
     "data": {
      "text/html": [
       "<div>\n",
       "<style scoped>\n",
       "    .dataframe tbody tr th:only-of-type {\n",
       "        vertical-align: middle;\n",
       "    }\n",
       "\n",
       "    .dataframe tbody tr th {\n",
       "        vertical-align: top;\n",
       "    }\n",
       "\n",
       "    .dataframe thead th {\n",
       "        text-align: right;\n",
       "    }\n",
       "</style>\n",
       "<table border=\"1\" class=\"dataframe\">\n",
       "  <thead>\n",
       "    <tr style=\"text-align: right;\">\n",
       "      <th></th>\n",
       "      <th>mjd</th>\n",
       "      <th>mag</th>\n",
       "      <th>magerr</th>\n",
       "    </tr>\n",
       "  </thead>\n",
       "  <tbody>\n",
       "    <tr>\n",
       "      <th>0</th>\n",
       "      <td>58202.353634</td>\n",
       "      <td>16.516510</td>\n",
       "      <td>0.016864</td>\n",
       "    </tr>\n",
       "    <tr>\n",
       "      <th>1</th>\n",
       "      <td>58202.357454</td>\n",
       "      <td>16.517498</td>\n",
       "      <td>0.016866</td>\n",
       "    </tr>\n",
       "    <tr>\n",
       "      <th>2</th>\n",
       "      <td>58205.341262</td>\n",
       "      <td>16.568840</td>\n",
       "      <td>0.017013</td>\n",
       "    </tr>\n",
       "    <tr>\n",
       "      <th>3</th>\n",
       "      <td>58205.392616</td>\n",
       "      <td>17.055435</td>\n",
       "      <td>0.019523</td>\n",
       "    </tr>\n",
       "    <tr>\n",
       "      <th>4</th>\n",
       "      <td>58208.322326</td>\n",
       "      <td>16.585726</td>\n",
       "      <td>0.017066</td>\n",
       "    </tr>\n",
       "    <tr>\n",
       "      <th>...</th>\n",
       "      <td>...</td>\n",
       "      <td>...</td>\n",
       "      <td>...</td>\n",
       "    </tr>\n",
       "    <tr>\n",
       "      <th>2192</th>\n",
       "      <td>59272.303634</td>\n",
       "      <td>16.044613</td>\n",
       "      <td>0.014280</td>\n",
       "    </tr>\n",
       "    <tr>\n",
       "      <th>2193</th>\n",
       "      <td>59272.304097</td>\n",
       "      <td>16.037762</td>\n",
       "      <td>0.014258</td>\n",
       "    </tr>\n",
       "    <tr>\n",
       "      <th>2194</th>\n",
       "      <td>59324.245914</td>\n",
       "      <td>15.973496</td>\n",
       "      <td>0.014059</td>\n",
       "    </tr>\n",
       "    <tr>\n",
       "      <th>2195</th>\n",
       "      <td>59324.246389</td>\n",
       "      <td>15.962948</td>\n",
       "      <td>0.014028</td>\n",
       "    </tr>\n",
       "    <tr>\n",
       "      <th>2196</th>\n",
       "      <td>59325.292060</td>\n",
       "      <td>15.718016</td>\n",
       "      <td>0.013395</td>\n",
       "    </tr>\n",
       "  </tbody>\n",
       "</table>\n",
       "<p>2197 rows × 3 columns</p>\n",
       "</div>"
      ],
      "text/plain": [
       "               mjd        mag    magerr\n",
       "0     58202.353634  16.516510  0.016864\n",
       "1     58202.357454  16.517498  0.016866\n",
       "2     58205.341262  16.568840  0.017013\n",
       "3     58205.392616  17.055435  0.019523\n",
       "4     58208.322326  16.585726  0.017066\n",
       "...            ...        ...       ...\n",
       "2192  59272.303634  16.044613  0.014280\n",
       "2193  59272.304097  16.037762  0.014258\n",
       "2194  59324.245914  15.973496  0.014059\n",
       "2195  59324.246389  15.962948  0.014028\n",
       "2196  59325.292060  15.718016  0.013395\n",
       "\n",
       "[2197 rows x 3 columns]"
      ]
     },
     "execution_count": 40,
     "metadata": {},
     "output_type": "execute_result"
    }
   ],
   "source": [
    "lightcurves1[0][1]"
   ]
  },
  {
   "cell_type": "code",
   "execution_count": 17,
   "metadata": {},
   "outputs": [],
   "source": [
    "np.save('../inputs/lightcurves1.npy', np.array(lightcurves1, dtype=object), allow_pickle=True)"
   ]
  },
  {
   "cell_type": "code",
   "execution_count": 3,
   "metadata": {},
   "outputs": [
    {
     "data": {
      "text/plain": [
       "7010"
      ]
     },
     "execution_count": 3,
     "metadata": {},
     "output_type": "execute_result"
    }
   ],
   "source": [
    "a = np.load('../inputs/lightcurves1.npy', allow_pickle=True)\n",
    "len(a)"
   ]
  },
  {
   "cell_type": "code",
   "execution_count": 5,
   "metadata": {},
   "outputs": [
    {
     "data": {
      "text/plain": [
       "<ErrorbarContainer object of 3 artists>"
      ]
     },
     "execution_count": 5,
     "metadata": {},
     "output_type": "execute_result"
    },
    {
     "data": {
      "image/png": "[encoded data removed]",
      "text/plain": [
       "<Figure size 432x288 with 1 Axes>"
      ]
     },
     "metadata": {
      "needs_background": "light"
     },
     "output_type": "display_data"
    }
   ],
   "source": [
    "plt.errorbar(a[3]['mjd'],a[3]['mag'], yerr=a[3]['magerr'], fmt='.b', ecolor='b')"
   ]
  },
  {
   "cell_type": "code",
   "execution_count": 14,
   "metadata": {},
   "outputs": [
    {
     "data": {
      "text/html": [
       "<div>\n",
       "<style scoped>\n",
       "    .dataframe tbody tr th:only-of-type {\n",
       "        vertical-align: middle;\n",
       "    }\n",
       "\n",
       "    .dataframe tbody tr th {\n",
       "        vertical-align: top;\n",
       "    }\n",
       "\n",
       "    .dataframe thead th {\n",
       "        text-align: right;\n",
       "    }\n",
       "</style>\n",
       "<table border=\"1\" class=\"dataframe\">\n",
       "  <thead>\n",
       "    <tr style=\"text-align: right;\">\n",
       "      <th></th>\n",
       "      <th>mjd</th>\n",
       "      <th>mag</th>\n",
       "      <th>magerr</th>\n",
       "    </tr>\n",
       "  </thead>\n",
       "  <tbody>\n",
       "    <tr>\n",
       "      <th>0</th>\n",
       "      <td>58236.343900</td>\n",
       "      <td>17.252327</td>\n",
       "      <td>0.020999</td>\n",
       "    </tr>\n",
       "    <tr>\n",
       "      <th>1</th>\n",
       "      <td>58236.344363</td>\n",
       "      <td>17.254246</td>\n",
       "      <td>0.021015</td>\n",
       "    </tr>\n",
       "    <tr>\n",
       "      <th>2</th>\n",
       "      <td>58246.288773</td>\n",
       "      <td>17.166143</td>\n",
       "      <td>0.020332</td>\n",
       "    </tr>\n",
       "    <tr>\n",
       "      <th>3</th>\n",
       "      <td>58246.289224</td>\n",
       "      <td>17.145496</td>\n",
       "      <td>0.020180</td>\n",
       "    </tr>\n",
       "    <tr>\n",
       "      <th>4</th>\n",
       "      <td>58482.536204</td>\n",
       "      <td>17.296938</td>\n",
       "      <td>0.021367</td>\n",
       "    </tr>\n",
       "    <tr>\n",
       "      <th>5</th>\n",
       "      <td>58507.492546</td>\n",
       "      <td>17.272144</td>\n",
       "      <td>0.021161</td>\n",
       "    </tr>\n",
       "    <tr>\n",
       "      <th>6</th>\n",
       "      <td>58522.449479</td>\n",
       "      <td>16.665062</td>\n",
       "      <td>0.017408</td>\n",
       "    </tr>\n",
       "    <tr>\n",
       "      <th>7</th>\n",
       "      <td>58538.414849</td>\n",
       "      <td>17.325613</td>\n",
       "      <td>0.021613</td>\n",
       "    </tr>\n",
       "    <tr>\n",
       "      <th>8</th>\n",
       "      <td>58540.386933</td>\n",
       "      <td>17.351080</td>\n",
       "      <td>0.021836</td>\n",
       "    </tr>\n",
       "    <tr>\n",
       "      <th>9</th>\n",
       "      <td>58567.404907</td>\n",
       "      <td>16.568600</td>\n",
       "      <td>0.016999</td>\n",
       "    </tr>\n",
       "    <tr>\n",
       "      <th>10</th>\n",
       "      <td>58588.215012</td>\n",
       "      <td>17.067615</td>\n",
       "      <td>0.019634</td>\n",
       "    </tr>\n",
       "    <tr>\n",
       "      <th>11</th>\n",
       "      <td>58851.527384</td>\n",
       "      <td>17.108242</td>\n",
       "      <td>0.019914</td>\n",
       "    </tr>\n",
       "    <tr>\n",
       "      <th>12</th>\n",
       "      <td>58851.527824</td>\n",
       "      <td>17.114784</td>\n",
       "      <td>0.019960</td>\n",
       "    </tr>\n",
       "    <tr>\n",
       "      <th>13</th>\n",
       "      <td>59273.368762</td>\n",
       "      <td>17.206005</td>\n",
       "      <td>0.020633</td>\n",
       "    </tr>\n",
       "    <tr>\n",
       "      <th>14</th>\n",
       "      <td>59273.369236</td>\n",
       "      <td>17.243843</td>\n",
       "      <td>0.020931</td>\n",
       "    </tr>\n",
       "    <tr>\n",
       "      <th>15</th>\n",
       "      <td>59344.326863</td>\n",
       "      <td>16.747387</td>\n",
       "      <td>0.017791</td>\n",
       "    </tr>\n",
       "    <tr>\n",
       "      <th>16</th>\n",
       "      <td>59344.327326</td>\n",
       "      <td>16.749521</td>\n",
       "      <td>0.017802</td>\n",
       "    </tr>\n",
       "    <tr>\n",
       "      <th>17</th>\n",
       "      <td>58284.182928</td>\n",
       "      <td>17.061743</td>\n",
       "      <td>0.018475</td>\n",
       "    </tr>\n",
       "    <tr>\n",
       "      <th>18</th>\n",
       "      <td>58284.183380</td>\n",
       "      <td>17.060190</td>\n",
       "      <td>0.018463</td>\n",
       "    </tr>\n",
       "    <tr>\n",
       "      <th>19</th>\n",
       "      <td>58449.520081</td>\n",
       "      <td>16.929821</td>\n",
       "      <td>0.017499</td>\n",
       "    </tr>\n",
       "    <tr>\n",
       "      <th>20</th>\n",
       "      <td>58476.478275</td>\n",
       "      <td>17.011099</td>\n",
       "      <td>0.018084</td>\n",
       "    </tr>\n",
       "    <tr>\n",
       "      <th>21</th>\n",
       "      <td>58481.496470</td>\n",
       "      <td>16.654470</td>\n",
       "      <td>0.015862</td>\n",
       "    </tr>\n",
       "    <tr>\n",
       "      <th>22</th>\n",
       "      <td>58493.498310</td>\n",
       "      <td>16.478769</td>\n",
       "      <td>0.015057</td>\n",
       "    </tr>\n",
       "    <tr>\n",
       "      <th>23</th>\n",
       "      <td>58503.498171</td>\n",
       "      <td>16.575338</td>\n",
       "      <td>0.015479</td>\n",
       "    </tr>\n",
       "    <tr>\n",
       "      <th>24</th>\n",
       "      <td>58509.478808</td>\n",
       "      <td>17.081219</td>\n",
       "      <td>0.018631</td>\n",
       "    </tr>\n",
       "    <tr>\n",
       "      <th>25</th>\n",
       "      <td>58534.393449</td>\n",
       "      <td>16.983326</td>\n",
       "      <td>0.017878</td>\n",
       "    </tr>\n",
       "    <tr>\n",
       "      <th>26</th>\n",
       "      <td>58540.291875</td>\n",
       "      <td>16.931610</td>\n",
       "      <td>0.017511</td>\n",
       "    </tr>\n",
       "    <tr>\n",
       "      <th>27</th>\n",
       "      <td>58558.241030</td>\n",
       "      <td>16.754982</td>\n",
       "      <td>0.016402</td>\n",
       "    </tr>\n",
       "    <tr>\n",
       "      <th>28</th>\n",
       "      <td>58574.242049</td>\n",
       "      <td>16.505730</td>\n",
       "      <td>0.015170</td>\n",
       "    </tr>\n",
       "    <tr>\n",
       "      <th>29</th>\n",
       "      <td>58580.331458</td>\n",
       "      <td>16.635475</td>\n",
       "      <td>0.015767</td>\n",
       "    </tr>\n",
       "    <tr>\n",
       "      <th>30</th>\n",
       "      <td>58589.234387</td>\n",
       "      <td>16.792284</td>\n",
       "      <td>0.016619</td>\n",
       "    </tr>\n",
       "    <tr>\n",
       "      <th>31</th>\n",
       "      <td>58593.302523</td>\n",
       "      <td>16.846693</td>\n",
       "      <td>0.016951</td>\n",
       "    </tr>\n",
       "    <tr>\n",
       "      <th>32</th>\n",
       "      <td>58602.267361</td>\n",
       "      <td>16.974806</td>\n",
       "      <td>0.017816</td>\n",
       "    </tr>\n",
       "    <tr>\n",
       "      <th>33</th>\n",
       "      <td>58852.566551</td>\n",
       "      <td>16.513220</td>\n",
       "      <td>0.015202</td>\n",
       "    </tr>\n",
       "    <tr>\n",
       "      <th>34</th>\n",
       "      <td>58852.567002</td>\n",
       "      <td>16.510685</td>\n",
       "      <td>0.015191</td>\n",
       "    </tr>\n",
       "    <tr>\n",
       "      <th>35</th>\n",
       "      <td>58976.333264</td>\n",
       "      <td>16.429140</td>\n",
       "      <td>0.014859</td>\n",
       "    </tr>\n",
       "    <tr>\n",
       "      <th>36</th>\n",
       "      <td>59324.245914</td>\n",
       "      <td>16.745132</td>\n",
       "      <td>0.016346</td>\n",
       "    </tr>\n",
       "    <tr>\n",
       "      <th>37</th>\n",
       "      <td>59324.246389</td>\n",
       "      <td>16.757212</td>\n",
       "      <td>0.016415</td>\n",
       "    </tr>\n",
       "    <tr>\n",
       "      <th>38</th>\n",
       "      <td>59325.292060</td>\n",
       "      <td>17.057346</td>\n",
       "      <td>0.018440</td>\n",
       "    </tr>\n",
       "  </tbody>\n",
       "</table>\n",
       "</div>"
      ],
      "text/plain": [
       "             mjd        mag    magerr\n",
       "0   58236.343900  17.252327  0.020999\n",
       "1   58236.344363  17.254246  0.021015\n",
       "2   58246.288773  17.166143  0.020332\n",
       "3   58246.289224  17.145496  0.020180\n",
       "4   58482.536204  17.296938  0.021367\n",
       "5   58507.492546  17.272144  0.021161\n",
       "6   58522.449479  16.665062  0.017408\n",
       "7   58538.414849  17.325613  0.021613\n",
       "8   58540.386933  17.351080  0.021836\n",
       "9   58567.404907  16.568600  0.016999\n",
       "10  58588.215012  17.067615  0.019634\n",
       "11  58851.527384  17.108242  0.019914\n",
       "12  58851.527824  17.114784  0.019960\n",
       "13  59273.368762  17.206005  0.020633\n",
       "14  59273.369236  17.243843  0.020931\n",
       "15  59344.326863  16.747387  0.017791\n",
       "16  59344.327326  16.749521  0.017802\n",
       "17  58284.182928  17.061743  0.018475\n",
       "18  58284.183380  17.060190  0.018463\n",
       "19  58449.520081  16.929821  0.017499\n",
       "20  58476.478275  17.011099  0.018084\n",
       "21  58481.496470  16.654470  0.015862\n",
       "22  58493.498310  16.478769  0.015057\n",
       "23  58503.498171  16.575338  0.015479\n",
       "24  58509.478808  17.081219  0.018631\n",
       "25  58534.393449  16.983326  0.017878\n",
       "26  58540.291875  16.931610  0.017511\n",
       "27  58558.241030  16.754982  0.016402\n",
       "28  58574.242049  16.505730  0.015170\n",
       "29  58580.331458  16.635475  0.015767\n",
       "30  58589.234387  16.792284  0.016619\n",
       "31  58593.302523  16.846693  0.016951\n",
       "32  58602.267361  16.974806  0.017816\n",
       "33  58852.566551  16.513220  0.015202\n",
       "34  58852.567002  16.510685  0.015191\n",
       "35  58976.333264  16.429140  0.014859\n",
       "36  59324.245914  16.745132  0.016346\n",
       "37  59324.246389  16.757212  0.016415\n",
       "38  59325.292060  17.057346  0.018440"
      ]
     },
     "execution_count": 14,
     "metadata": {},
     "output_type": "execute_result"
    }
   ],
   "source": [
    "lightcurves1[1]"
   ]
  },
  {
   "cell_type": "code",
   "execution_count": null,
   "metadata": {},
   "outputs": [],
   "source": [
    "from pathlib import Path\n",
    "fnames = ['allLINEARfinal_dat.tar.gz', ]\n",
    "DATA_DIR = Path('../input')\n",
    "\n",
    "for f in fnames:\n",
    "    #check whether the file name is in the directory\n",
    "    # if so then read the data\n",
    "    data = \n",
    "    # else\n",
    "    # import"
   ]
  },
  {
   "cell_type": "code",
   "execution_count": 4,
   "metadata": {},
   "outputs": [],
   "source": [
    "ZTF_data = np.load('../inputs/ZTF_curves.npy', allow_pickle=True)"
   ]
  },
  {
   "cell_type": "code",
   "execution_count": 7,
   "metadata": {},
   "outputs": [
    {
     "data": {
      "text/plain": [
       "0"
      ]
     },
     "execution_count": 7,
     "metadata": {},
     "output_type": "execute_result"
    }
   ],
   "source": [
    "ZTF_data[0][0]"
   ]
  },
  {
   "cell_type": "code",
   "execution_count": 67,
   "metadata": {},
   "outputs": [],
   "source": [
    "n = [x for x in num if ZTF_data[x][0]==2101]"
   ]
  },
  {
   "cell_type": "code",
   "execution_count": 68,
   "metadata": {},
   "outputs": [
    {
     "data": {
      "text/plain": [
       "[2101]"
      ]
     },
     "execution_count": 68,
     "metadata": {},
     "output_type": "execute_result"
    }
   ],
   "source": [
    "n"
   ]
  },
  {
   "cell_type": "code",
   "execution_count": 69,
   "metadata": {},
   "outputs": [
    {
     "data": {
      "text/plain": [
       "array([[2101,                mjd        mag    magerr\n",
       "              0     58203.492778  16.244103  0.016859\n",
       "              1     58206.460069  15.790794  0.016660\n",
       "              2     58206.508623  15.927025  0.016627\n",
       "              3     58209.463704  16.317558  0.016985\n",
       "              4     58229.465000  16.286766  0.016929\n",
       "              ...            ...        ...       ...\n",
       "              1058  58674.227500  15.529671  0.010703\n",
       "              1059  58674.227951  15.523006  0.010696\n",
       "              1060  58972.368958  15.978061  0.011290\n",
       "              1061  58998.263507  15.945532  0.011235\n",
       "              1062  58999.290185  15.749239  0.010946\n",
       "\n",
       "              [1063 rows x 3 columns]                ]], dtype=object)"
      ]
     },
     "execution_count": 69,
     "metadata": {},
     "output_type": "execute_result"
    }
   ],
   "source": [
    "ZTF_data[n]"
   ]
  },
  {
   "cell_type": "code",
   "execution_count": 70,
   "metadata": {},
   "outputs": [
    {
     "data": {
      "text/html": [
       "<div>\n",
       "<style scoped>\n",
       "    .dataframe tbody tr th:only-of-type {\n",
       "        vertical-align: middle;\n",
       "    }\n",
       "\n",
       "    .dataframe tbody tr th {\n",
       "        vertical-align: top;\n",
       "    }\n",
       "\n",
       "    .dataframe thead th {\n",
       "        text-align: right;\n",
       "    }\n",
       "</style>\n",
       "<table border=\"1\" class=\"dataframe\">\n",
       "  <thead>\n",
       "    <tr style=\"text-align: right;\">\n",
       "      <th></th>\n",
       "      <th>mjd</th>\n",
       "      <th>mag</th>\n",
       "      <th>magerr</th>\n",
       "    </tr>\n",
       "  </thead>\n",
       "  <tbody>\n",
       "    <tr>\n",
       "      <th>0</th>\n",
       "      <td>58203.492778</td>\n",
       "      <td>16.244103</td>\n",
       "      <td>0.016859</td>\n",
       "    </tr>\n",
       "    <tr>\n",
       "      <th>1</th>\n",
       "      <td>58206.460069</td>\n",
       "      <td>15.790794</td>\n",
       "      <td>0.016660</td>\n",
       "    </tr>\n",
       "    <tr>\n",
       "      <th>2</th>\n",
       "      <td>58206.508623</td>\n",
       "      <td>15.927025</td>\n",
       "      <td>0.016627</td>\n",
       "    </tr>\n",
       "    <tr>\n",
       "      <th>3</th>\n",
       "      <td>58209.463704</td>\n",
       "      <td>16.317558</td>\n",
       "      <td>0.016985</td>\n",
       "    </tr>\n",
       "    <tr>\n",
       "      <th>4</th>\n",
       "      <td>58229.465000</td>\n",
       "      <td>16.286766</td>\n",
       "      <td>0.016929</td>\n",
       "    </tr>\n",
       "    <tr>\n",
       "      <th>...</th>\n",
       "      <td>...</td>\n",
       "      <td>...</td>\n",
       "      <td>...</td>\n",
       "    </tr>\n",
       "    <tr>\n",
       "      <th>1058</th>\n",
       "      <td>58674.227500</td>\n",
       "      <td>15.529671</td>\n",
       "      <td>0.010703</td>\n",
       "    </tr>\n",
       "    <tr>\n",
       "      <th>1059</th>\n",
       "      <td>58674.227951</td>\n",
       "      <td>15.523006</td>\n",
       "      <td>0.010696</td>\n",
       "    </tr>\n",
       "    <tr>\n",
       "      <th>1060</th>\n",
       "      <td>58972.368958</td>\n",
       "      <td>15.978061</td>\n",
       "      <td>0.011290</td>\n",
       "    </tr>\n",
       "    <tr>\n",
       "      <th>1061</th>\n",
       "      <td>58998.263507</td>\n",
       "      <td>15.945532</td>\n",
       "      <td>0.011235</td>\n",
       "    </tr>\n",
       "    <tr>\n",
       "      <th>1062</th>\n",
       "      <td>58999.290185</td>\n",
       "      <td>15.749239</td>\n",
       "      <td>0.010946</td>\n",
       "    </tr>\n",
       "  </tbody>\n",
       "</table>\n",
       "<p>1063 rows × 3 columns</p>\n",
       "</div>"
      ],
      "text/plain": [
       "               mjd        mag    magerr\n",
       "0     58203.492778  16.244103  0.016859\n",
       "1     58206.460069  15.790794  0.016660\n",
       "2     58206.508623  15.927025  0.016627\n",
       "3     58209.463704  16.317558  0.016985\n",
       "4     58229.465000  16.286766  0.016929\n",
       "...            ...        ...       ...\n",
       "1058  58674.227500  15.529671  0.010703\n",
       "1059  58674.227951  15.523006  0.010696\n",
       "1060  58972.368958  15.978061  0.011290\n",
       "1061  58998.263507  15.945532  0.011235\n",
       "1062  58999.290185  15.749239  0.010946\n",
       "\n",
       "[1063 rows x 3 columns]"
      ]
     },
     "execution_count": 70,
     "metadata": {},
     "output_type": "execute_result"
    }
   ],
   "source": [
    "StarAttributes = data.targets[2101]\n",
    "StarAttributes\n",
    "ra, dec = StarAttributes[3], StarAttributes[4]\n",
    "light = getZTFlightcurve(ra, dec,n)\n",
    "light"
   ]
  },
  {
   "cell_type": "code",
   "execution_count": 77,
   "metadata": {},
   "outputs": [],
   "source": [
    "listi = [2, 4, 6, 7, 10]"
   ]
  },
  {
   "cell_type": "code",
   "execution_count": 80,
   "metadata": {},
   "outputs": [],
   "source": [
    "light = []\n",
    "for i in range(len(listi)):\n",
    "    light_curve = data.get_light_curve(data.ids[listi[i]])\n",
    "    light.append(light_curve)"
   ]
  },
  {
   "cell_type": "code",
   "execution_count": 84,
   "metadata": {},
   "outputs": [
    {
     "data": {
      "text/plain": [
       "array([[5.26374598e+04, 1.54500000e+01, 4.48000000e-01],\n",
       "       [5.26524566e+04, 1.54000000e+01, 1.80000000e-02],\n",
       "       [5.26524717e+04, 1.54050000e+01, 1.70000000e-02],\n",
       "       [5.26524870e+04, 1.54180000e+01, 1.80000000e-02],\n",
       "       [5.26525052e+04, 1.54170000e+01, 1.80000000e-02],\n",
       "       [5.26525201e+04, 1.54430000e+01, 1.80000000e-02],\n",
       "       [5.26643584e+04, 1.59680000e+01, 3.70000000e-02],\n",
       "       [5.26643737e+04, 1.56570000e+01, 4.10000000e-02],\n",
       "       [5.26644195e+04, 1.54630000e+01, 5.70000000e-02],\n",
       "       [5.27223034e+04, 1.54830000e+01, 2.10000000e-02],\n",
       "       [5.27223155e+04, 1.54580000e+01, 2.10000000e-02],\n",
       "       [5.27223275e+04, 1.54680000e+01, 2.10000000e-02],\n",
       "       [5.27223395e+04, 1.54760000e+01, 2.30000000e-02],\n",
       "       [5.27223515e+04, 1.54580000e+01, 2.10000000e-02],\n",
       "       [5.27512565e+04, 1.55040000e+01, 2.60000000e-02],\n",
       "       [5.27512673e+04, 1.54990000e+01, 2.50000000e-02],\n",
       "       [5.27512780e+04, 1.55230000e+01, 2.60000000e-02],\n",
       "       [5.27512894e+04, 1.54850000e+01, 2.50000000e-02],\n",
       "       [5.27513002e+04, 1.55030000e+01, 2.50000000e-02],\n",
       "       [5.27722506e+04, 1.54370000e+01, 4.60000000e-02],\n",
       "       [5.27722625e+04, 1.54760000e+01, 5.00000000e-02],\n",
       "       [5.27822167e+04, 1.54380000e+01, 6.80000000e-02],\n",
       "       [5.28002178e+04, 1.55260000e+01, 6.10000000e-02],\n",
       "       [5.28002282e+04, 1.55160000e+01, 6.10000000e-02],\n",
       "       [5.28002383e+04, 1.54790000e+01, 5.70000000e-02],\n",
       "       [5.28102304e+04, 1.55090000e+01, 6.50000000e-02],\n",
       "       [5.28102402e+04, 1.54820000e+01, 3.00000000e-02],\n",
       "       [5.28122237e+04, 1.54580000e+01, 2.40000000e-02],\n",
       "       [5.28122338e+04, 1.54600000e+01, 2.40000000e-02],\n",
       "       [5.28122438e+04, 1.54630000e+01, 2.40000000e-02],\n",
       "       [5.28122540e+04, 1.54610000e+01, 2.40000000e-02],\n",
       "       [5.28122640e+04, 1.54680000e+01, 2.40000000e-02],\n",
       "       [5.28271726e+04, 1.60680000e+01, 8.00000000e-02],\n",
       "       [5.28271826e+04, 1.59380000e+01, 7.20000000e-02],\n",
       "       [5.29904666e+04, 1.55060000e+01, 2.60000000e-02],\n",
       "       [5.29904798e+04, 1.55160000e+01, 2.00000000e-02],\n",
       "       [5.29904929e+04, 1.55320000e+01, 2.20000000e-02],\n",
       "       [5.29905061e+04, 1.55220000e+01, 2.00000000e-02],\n",
       "       [5.29905191e+04, 1.55160000e+01, 2.00000000e-02],\n",
       "       [5.30234063e+04, 1.54760000e+01, 1.70000000e-02],\n",
       "       [5.30234190e+04, 1.54830000e+01, 1.70000000e-02],\n",
       "       [5.30234317e+04, 1.54780000e+01, 1.70000000e-02],\n",
       "       [5.30234444e+04, 1.54580000e+01, 1.50000000e-02],\n",
       "       [5.30234571e+04, 1.54540000e+01, 1.50000000e-02],\n",
       "       [5.30354284e+04, 1.55070000e+01, 2.10000000e-02],\n",
       "       [5.30354407e+04, 1.54650000e+01, 2.50000000e-02],\n",
       "       [5.30354530e+04, 1.54670000e+01, 2.80000000e-02],\n",
       "       [5.30464065e+04, 1.57860000e+01, 3.50000000e-02],\n",
       "       [5.30464190e+04, 1.56130000e+01, 3.00000000e-02],\n",
       "       [5.30464309e+04, 1.55200000e+01, 3.00000000e-02],\n",
       "       [5.30464428e+04, 1.54800000e+01, 2.80000000e-02],\n",
       "       [5.30464554e+04, 1.55030000e+01, 3.00000000e-02],\n",
       "       [5.31072962e+04, 1.54920000e+01, 1.70000000e-02],\n",
       "       [5.31073072e+04, 1.55010000e+01, 1.70000000e-02],\n",
       "       [5.31073185e+04, 1.54840000e+01, 1.70000000e-02],\n",
       "       [5.31073295e+04, 1.54830000e+01, 1.70000000e-02],\n",
       "       [5.31073406e+04, 1.54750000e+01, 1.70000000e-02],\n",
       "       [5.31272473e+04, 1.54900000e+01, 5.00000000e-02],\n",
       "       [5.31272574e+04, 1.54750000e+01, 4.80000000e-02],\n",
       "       [5.31272673e+04, 1.55080000e+01, 4.40000000e-02],\n",
       "       [5.31272773e+04, 1.55120000e+01, 4.40000000e-02],\n",
       "       [5.31272873e+04, 1.54500000e+01, 4.30000000e-02],\n",
       "       [5.31362441e+04, 1.54950000e+01, 2.40000000e-02],\n",
       "       [5.31362535e+04, 1.55100000e+01, 2.40000000e-02],\n",
       "       [5.31362629e+04, 1.54720000e+01, 2.20000000e-02],\n",
       "       [5.31362722e+04, 1.54790000e+01, 2.20000000e-02],\n",
       "       [5.31362815e+04, 1.55020000e+01, 2.40000000e-02],\n",
       "       [5.31542129e+04, 1.61410000e+01, 5.70000000e-02],\n",
       "       [5.31542217e+04, 1.60670000e+01, 5.40000000e-02],\n",
       "       [5.31542306e+04, 1.59070000e+01, 4.80000000e-02],\n",
       "       [5.31542394e+04, 1.57450000e+01, 4.30000000e-02],\n",
       "       [5.31542483e+04, 1.56060000e+01, 3.70000000e-02],\n",
       "       [5.31642204e+04, 1.60430000e+01, 3.10000000e-02],\n",
       "       [5.31642306e+04, 1.58280000e+01, 2.60000000e-02],\n",
       "       [5.31642408e+04, 1.56680000e+01, 2.60000000e-02],\n",
       "       [5.31642510e+04, 1.55310000e+01, 2.20000000e-02],\n",
       "       [5.31642612e+04, 1.55370000e+01, 2.20000000e-02],\n",
       "       [5.31942041e+04, 1.58450000e+01, 1.00000000e-01],\n",
       "       [5.31942143e+04, 1.59940000e+01, 8.50000000e-02],\n",
       "       [5.33404684e+04, 1.54770000e+01, 4.30000000e-02],\n",
       "       [5.33405018e+04, 1.54840000e+01, 3.80000000e-02],\n",
       "       [5.33405143e+04, 1.55010000e+01, 3.60000000e-02],\n",
       "       [5.34223468e+04, 1.59970000e+01, 6.70000000e-02],\n",
       "       [5.34223587e+04, 1.59380000e+01, 5.90000000e-02],\n",
       "       [5.34223707e+04, 1.57620000e+01, 4.80000000e-02],\n",
       "       [5.34503405e+04, 1.55890000e+01, 5.20000000e-02],\n",
       "       [5.34503513e+04, 1.54950000e+01, 3.00000000e-02],\n",
       "       [5.34503625e+04, 1.54910000e+01, 3.00000000e-02],\n",
       "       [5.34503737e+04, 1.54750000e+01, 2.80000000e-02],\n",
       "       [5.34912527e+04, 1.61630000e+01, 4.80000000e-02],\n",
       "       [5.34912647e+04, 1.61610000e+01, 3.90000000e-02],\n",
       "       [5.34912769e+04, 1.59260000e+01, 3.30000000e-02],\n",
       "       [5.34912885e+04, 1.57470000e+01, 3.00000000e-02],\n",
       "       [5.34912996e+04, 1.55990000e+01, 2.40000000e-02],\n",
       "       [5.35531772e+04, 1.54530000e+01, 3.00000000e-02],\n",
       "       [5.35531877e+04, 1.54620000e+01, 3.00000000e-02],\n",
       "       [5.35531984e+04, 1.54820000e+01, 3.00000000e-02],\n",
       "       [5.35532090e+04, 1.54590000e+01, 3.00000000e-02],\n",
       "       [5.35532196e+04, 1.54980000e+01, 2.80000000e-02],\n",
       "       [5.35662099e+04, 1.57520000e+01, 5.70000000e-02],\n",
       "       [5.35662205e+04, 1.59310000e+01, 6.80000000e-02],\n",
       "       [5.35662312e+04, 1.61680000e+01, 9.10000000e-02],\n",
       "       [5.35662418e+04, 1.63910000e+01, 1.09000000e-01],\n",
       "       [5.35662525e+04, 1.63380000e+01, 1.26000000e-01],\n",
       "       [5.35831572e+04, 1.54800000e+01, 8.90000000e-02],\n",
       "       [5.35831685e+04, 1.54710000e+01, 2.80000000e-02],\n",
       "       [5.35831797e+04, 1.54940000e+01, 2.80000000e-02],\n",
       "       [5.35831910e+04, 1.54560000e+01, 3.00000000e-02],\n",
       "       [5.35832023e+04, 1.54630000e+01, 3.10000000e-02],\n",
       "       [5.37274928e+04, 1.55170000e+01, 4.30000000e-02],\n",
       "       [5.37573887e+04, 1.54880000e+01, 2.60000000e-02],\n",
       "       [5.37574014e+04, 1.55350000e+01, 2.80000000e-02],\n",
       "       [5.37574141e+04, 1.55060000e+01, 2.60000000e-02],\n",
       "       [5.37574268e+04, 1.55060000e+01, 2.60000000e-02],\n",
       "       [5.37574396e+04, 1.55230000e+01, 2.60000000e-02],\n",
       "       [5.37724140e+04, 1.54700000e+01, 2.00000000e-02],\n",
       "       [5.37724266e+04, 1.54690000e+01, 2.00000000e-02],\n",
       "       [5.37724395e+04, 1.54750000e+01, 2.20000000e-02],\n",
       "       [5.37724525e+04, 1.54660000e+01, 2.00000000e-02],\n",
       "       [5.37724653e+04, 1.54650000e+01, 2.00000000e-02],\n",
       "       [5.38252908e+04, 1.55030000e+01, 2.00000000e-02],\n",
       "       [5.38253019e+04, 1.55090000e+01, 2.30000000e-02],\n",
       "       [5.38253139e+04, 1.55190000e+01, 2.00000000e-02],\n",
       "       [5.38253251e+04, 1.55120000e+01, 2.00000000e-02],\n",
       "       [5.38253363e+04, 1.55200000e+01, 2.10000000e-02],\n",
       "       [5.38422875e+04, 1.55280000e+01, 4.50000000e-02],\n",
       "       [5.38562721e+04, 1.55170000e+01, 2.60000000e-02],\n",
       "       [5.38562822e+04, 1.55600000e+01, 2.60000000e-02],\n",
       "       [5.38562921e+04, 1.55420000e+01, 2.60000000e-02],\n",
       "       [5.38563020e+04, 1.55320000e+01, 2.60000000e-02],\n",
       "       [5.38563120e+04, 1.55520000e+01, 2.60000000e-02],\n",
       "       [5.38782400e+04, 1.55420000e+01, 3.50000000e-02],\n",
       "       [5.38782508e+04, 1.55200000e+01, 3.30000000e-02],\n",
       "       [5.38782615e+04, 1.55870000e+01, 3.50000000e-02],\n",
       "       [5.38782726e+04, 1.59480000e+01, 4.90000000e-02],\n",
       "       [5.38922258e+04, 1.60060000e+01, 9.10000000e-02],\n",
       "       [5.38922358e+04, 1.57840000e+01, 7.60000000e-02],\n",
       "       [5.38922459e+04, 1.56570000e+01, 7.20000000e-02],\n",
       "       [5.38922560e+04, 1.55400000e+01, 6.30000000e-02],\n",
       "       [5.39042170e+04, 1.55020000e+01, 3.00000000e-02],\n",
       "       [5.39042269e+04, 1.54850000e+01, 3.00000000e-02],\n",
       "       [5.39042368e+04, 1.54910000e+01, 3.00000000e-02],\n",
       "       [5.39042466e+04, 1.55150000e+01, 3.10000000e-02],\n",
       "       [5.39042565e+04, 1.54960000e+01, 3.00000000e-02],\n",
       "       [5.40984347e+04, 1.54880000e+01, 2.60000000e-02],\n",
       "       [5.40984472e+04, 1.54910000e+01, 2.50000000e-02],\n",
       "       [5.40984599e+04, 1.55040000e+01, 2.50000000e-02],\n",
       "       [5.40984720e+04, 1.55030000e+01, 2.50000000e-02],\n",
       "       [5.40984841e+04, 1.54720000e+01, 2.50000000e-02],\n",
       "       [5.41243957e+04, 1.54810000e+01, 2.50000000e-02],\n",
       "       [5.41244082e+04, 1.55360000e+01, 2.60000000e-02],\n",
       "       [5.41244216e+04, 1.55020000e+01, 2.50000000e-02],\n",
       "       [5.41244343e+04, 1.55330000e+01, 2.50000000e-02],\n",
       "       [5.41244467e+04, 1.54930000e+01, 2.50000000e-02],\n",
       "       [5.41982747e+04, 1.54320000e+01, 2.00000000e-02],\n",
       "       [5.41982843e+04, 1.54240000e+01, 2.80000000e-02],\n",
       "       [5.41983041e+04, 1.54520000e+01, 7.40000000e-02],\n",
       "       [5.41983140e+04, 1.54930000e+01, 3.16000000e-01],\n",
       "       [5.42182681e+04, 1.54990000e+01, 4.30000000e-02],\n",
       "       [5.42182768e+04, 1.54850000e+01, 4.30000000e-02],\n",
       "       [5.42182854e+04, 1.54820000e+01, 4.30000000e-02],\n",
       "       [5.42182940e+04, 1.54980000e+01, 4.30000000e-02],\n",
       "       [5.42183026e+04, 1.54840000e+01, 4.10000000e-02],\n",
       "       [5.45273424e+04, 1.55040000e+01, 2.60000000e-02],\n",
       "       [5.45273552e+04, 1.55780000e+01, 2.60000000e-02],\n",
       "       [5.45692915e+04, 1.54950000e+01, 3.30000000e-02],\n",
       "       [5.45693025e+04, 1.55860000e+01, 3.50000000e-02],\n",
       "       [5.45693135e+04, 1.55770000e+01, 3.50000000e-02],\n",
       "       [5.45693244e+04, 1.55190000e+01, 3.30000000e-02],\n",
       "       [5.45693353e+04, 1.55400000e+01, 3.10000000e-02]])"
      ]
     },
     "execution_count": 84,
     "metadata": {},
     "output_type": "execute_result"
    }
   ],
   "source": [
    "light[0]"
   ]
  },
  {
   "cell_type": "code",
   "execution_count": 86,
   "metadata": {},
   "outputs": [
    {
     "data": {
      "text/plain": [
       "10003298"
      ]
     },
     "execution_count": 86,
     "metadata": {},
     "output_type": "execute_result"
    }
   ],
   "source": [
    "data.targets[0][0]"
   ]
  },
  {
   "cell_type": "code",
   "execution_count": 87,
   "metadata": {},
   "outputs": [
    {
     "data": {
      "text/plain": [
       "10003298"
      ]
     },
     "execution_count": 87,
     "metadata": {},
     "output_type": "execute_result"
    }
   ],
   "source": [
    "data.ids[0]"
   ]
  },
  {
   "cell_type": "code",
   "execution_count": 110,
   "metadata": {},
   "outputs": [],
   "source": [
    "l = [x for x in num if ZTF_data[x][0]!=x]"
   ]
  },
  {
   "cell_type": "code",
   "execution_count": 111,
   "metadata": {},
   "outputs": [
    {
     "data": {
      "text/plain": [
       "[]"
      ]
     },
     "execution_count": 111,
     "metadata": {},
     "output_type": "execute_result"
    }
   ],
   "source": [
    "l"
   ]
  },
  {
   "cell_type": "code",
   "execution_count": null,
   "metadata": {},
   "outputs": [],
   "source": []
  }
 ],
 "metadata": {
  "kernelspec": {
   "display_name": "var_stars",
   "language": "python",
   "name": "var_stars"
  },
  "language_info": {
   "codemirror_mode": {
    "name": "ipython",
    "version": 3
   },
   "file_extension": ".py",
   "mimetype": "text/x-python",
   "name": "python",
   "nbconvert_exporter": "python",
   "pygments_lexer": "ipython3",
   "version": "3.10.4"
  },
  "orig_nbformat": 4
 },
 "nbformat": 4,
 "nbformat_minor": 2
}
