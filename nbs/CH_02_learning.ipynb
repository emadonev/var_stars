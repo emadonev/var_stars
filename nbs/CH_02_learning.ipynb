{
 "cells": [
  {
   "attachments": {},
   "cell_type": "markdown",
   "metadata": {},
   "source": [
    "# Learning Chapter 2 of `Statistics, data mining and machine learning in astronomy`"
   ]
  },
  {
   "attachments": {},
   "cell_type": "markdown",
   "metadata": {},
   "source": [
    "## Chapter 2: Fast computation on massive data sets"
   ]
  },
  {
   "attachments": {},
   "cell_type": "markdown",
   "metadata": {},
   "source": [
    "## 1. example: Sorting"
   ]
  },
  {
   "cell_type": "code",
   "execution_count": 1,
   "metadata": {},
   "outputs": [],
   "source": [
    "import numpy as np"
   ]
  },
  {
   "cell_type": "code",
   "execution_count": 2,
   "metadata": {},
   "outputs": [],
   "source": [
    "np.random.seed(0)"
   ]
  },
  {
   "cell_type": "code",
   "execution_count": 3,
   "metadata": {},
   "outputs": [
    {
     "name": "stdout",
     "output_type": "stream",
     "text": [
      "CPU times: user 1.04 s, sys: 6.12 ms, total: 1.05 s\n",
      "Wall time: 1.08 s\n"
     ]
    }
   ],
   "source": [
    "X = np.random.rand(10000000) # pick 10000000 random numbers\n",
    "%time X.sort() "
   ]
  },
  {
   "cell_type": "code",
   "execution_count": 4,
   "metadata": {},
   "outputs": [
    {
     "name": "stdout",
     "output_type": "stream",
     "text": [
      "CPU times: user 183 ms, sys: 22.6 ms, total: 206 ms\n",
      "Wall time: 209 ms\n"
     ]
    },
    {
     "data": {
      "text/plain": [
       "array([2.51678389e-08, 1.63714365e-07, 1.89048978e-07, ...,\n",
       "       9.99999814e-01, 9.99999837e-01, 9.99999863e-01])"
      ]
     },
     "execution_count": 4,
     "metadata": {},
     "output_type": "execute_result"
    }
   ],
   "source": [
    "%time np.sort(X)"
   ]
  },
  {
   "cell_type": "code",
   "execution_count": 5,
   "metadata": {},
   "outputs": [
    {
     "data": {
      "text/plain": [
       "4998210"
      ]
     },
     "execution_count": 5,
     "metadata": {},
     "output_type": "execute_result"
    }
   ],
   "source": [
    "np.searchsorted(X, 0.5)"
   ]
  },
  {
   "attachments": {},
   "cell_type": "markdown",
   "metadata": {},
   "source": [
    "#### Python's built in `X.sort()` is much slower than NumPy's `np.sort()`. The reason why is that Numpy's function is writen in C, which is much faster than Python. It uses `quicksort`, an efficient algorithm for sorting. It chooses an element which is a 'pivot'. Then it rearranges the array so all the elements less than the pivot go on the left, and all the elements larger go on the right. This step is repeated untill everything is sorted. Also, Numpy stores its arrays in a contiguous block of emory, and not like Python which stores it somewhere else. As a final note, Numpy uses less memory which is why it's so efficient. "
   ]
  },
  {
   "attachments": {},
   "cell_type": "markdown",
   "metadata": {},
   "source": [
    "#### Sorting by column"
   ]
  },
  {
   "cell_type": "code",
   "execution_count": 8,
   "metadata": {},
   "outputs": [],
   "source": [
    "X = np.random.random((5,3))\n"
   ]
  },
  {
   "cell_type": "code",
   "execution_count": 9,
   "metadata": {},
   "outputs": [
    {
     "data": {
      "text/plain": [
       "array([[0.25, 0.72, 0.35],\n",
       "       [0.15, 0.95, 0.27],\n",
       "       [0.49, 0.76, 0.52],\n",
       "       [0.42, 0.71, 0.63],\n",
       "       [0.98, 0.35, 0.61]])"
      ]
     },
     "execution_count": 9,
     "metadata": {},
     "output_type": "execute_result"
    }
   ],
   "source": [
    "np.set_printoptions(precision=2)\n",
    "X"
   ]
  },
  {
   "cell_type": "code",
   "execution_count": 12,
   "metadata": {},
   "outputs": [
    {
     "data": {
      "text/plain": [
       "array([[0.15, 0.95, 0.27],\n",
       "       [0.25, 0.72, 0.35],\n",
       "       [0.42, 0.71, 0.63],\n",
       "       [0.49, 0.76, 0.52],\n",
       "       [0.98, 0.35, 0.61]])"
      ]
     },
     "execution_count": 12,
     "metadata": {},
     "output_type": "execute_result"
    }
   ],
   "source": [
    "i_sort = np.argsort(X[:, 0]) # sorts the first column by size\n",
    "X[i_sort]"
   ]
  },
  {
   "cell_type": "code",
   "execution_count": 13,
   "metadata": {},
   "outputs": [
    {
     "data": {
      "text/plain": [
       "array([[0.98, 0.35, 0.61],\n",
       "       [0.42, 0.71, 0.63],\n",
       "       [0.25, 0.72, 0.35],\n",
       "       [0.49, 0.76, 0.52],\n",
       "       [0.15, 0.95, 0.27]])"
      ]
     },
     "execution_count": 13,
     "metadata": {},
     "output_type": "execute_result"
    }
   ],
   "source": [
    "i_sort = np.argsort(X[:, 1]) # sorts the second column by size\n",
    "X[i_sort]"
   ]
  },
  {
   "cell_type": "code",
   "execution_count": 14,
   "metadata": {},
   "outputs": [
    {
     "data": {
      "text/plain": [
       "array([[0.25, 0.72, 0.35]])"
      ]
     },
     "execution_count": 14,
     "metadata": {},
     "output_type": "execute_result"
    }
   ],
   "source": [
    "i_sort = np.argsort(X[1, 2]) # sorts the first row by size\n",
    "X[i_sort]"
   ]
  },
  {
   "cell_type": "code",
   "execution_count": 15,
   "metadata": {},
   "outputs": [
    {
     "data": {
      "text/plain": [
       "array([[0.15, 0.95, 0.27],\n",
       "       [0.25, 0.72, 0.35],\n",
       "       [0.42, 0.71, 0.63],\n",
       "       [0.49, 0.76, 0.52],\n",
       "       [0.98, 0.35, 0.61]])"
      ]
     },
     "execution_count": 15,
     "metadata": {},
     "output_type": "execute_result"
    }
   ],
   "source": [
    "i_sort = np.argsort(X[:, 0]) # sorts the first column by size\n",
    "X[i_sort]"
   ]
  },
  {
   "cell_type": "code",
   "execution_count": 16,
   "metadata": {},
   "outputs": [],
   "source": [
    "X.sort(0)"
   ]
  },
  {
   "cell_type": "code",
   "execution_count": 18,
   "metadata": {},
   "outputs": [
    {
     "data": {
      "text/plain": [
       "array([[0.15, 0.35, 0.27],\n",
       "       [0.25, 0.71, 0.35],\n",
       "       [0.42, 0.72, 0.52],\n",
       "       [0.49, 0.76, 0.61],\n",
       "       [0.98, 0.95, 0.63]])"
      ]
     },
     "execution_count": 18,
     "metadata": {},
     "output_type": "execute_result"
    }
   ],
   "source": [
    "X # all of the columns are now ordered by size based on the first column"
   ]
  },
  {
   "attachments": {},
   "cell_type": "markdown",
   "metadata": {},
   "source": [
    "## Example 2: Near neighbor search"
   ]
  },
  {
   "attachments": {},
   "cell_type": "markdown",
   "metadata": {},
   "source": [
    "### Version 1: brute force"
   ]
  },
  {
   "cell_type": "code",
   "execution_count": 19,
   "metadata": {},
   "outputs": [],
   "source": [
    "def easy_nns(X): # input is a 2D object (matrix)\n",
    "    N, D = X.shape # N is number of datapoints and D number of dimensions\n",
    "    neighbors = np.zeros(N, dtype=int) # creates an array which will\n",
    "    # store the indices of closest neighbors of each datapoint \n",
    "    for i in range(N): # for every data point in the dataset\n",
    "        j_closest = i # initializes the current data point\n",
    "        d_closest = np.inf # initialize closest distance to infinity\n",
    "        # this represents the closest distance encountered so far\n",
    "        for j in range(N): # every other data point other than i\n",
    "            if i == j:\n",
    "                continue # skip distance between a point and itself!!\n",
    "            d = np.sqrt(np.sum((X[i] - X[j])**2)) # euclidian metric\n",
    "            if d < d_closest: # if a closer neighbor is found, update it\n",
    "                j_closest = j\n",
    "                d_closest = d\n",
    "        neighbors[i] = j_closest # assigns the index of the closest neighbor\n",
    "        # for the current data point i\n",
    "    return neighbors"
   ]
  },
  {
   "cell_type": "code",
   "execution_count": 26,
   "metadata": {},
   "outputs": [
    {
     "data": {
      "text/plain": [
       "array([3, 7, 6, 0, 3, 1, 2, 1, 3, 7])"
      ]
     },
     "execution_count": 26,
     "metadata": {},
     "output_type": "execute_result"
    }
   ],
   "source": [
    "np.random.seed(0)\n",
    "X = np.random.random((10,3)) # 10 points in 3 dimensions\n",
    "easy_nns(X)"
   ]
  },
  {
   "cell_type": "code",
   "execution_count": 27,
   "metadata": {},
   "outputs": [
    {
     "name": "stdout",
     "output_type": "stream",
     "text": [
      "CPU times: user 2 µs, sys: 0 ns, total: 2 µs\n",
      "Wall time: 4.29 µs\n"
     ]
    },
    {
     "data": {
      "text/plain": [
       "array([410, 806, 455, 686, 373, 934,  62, 553, 604, 912,   8, 228, 586,\n",
       "       901, 768, 150, 302, 184, 153, 758, 763, 199, 214, 717, 445, 405,\n",
       "        85,  96, 412, 298, 932, 544, 269, 748, 530,  25, 602, 712, 856,\n",
       "       517,  87, 641, 416, 304, 203, 300, 898, 961, 946, 626, 910, 326,\n",
       "        35, 103, 873, 449, 120, 574,  94, 116, 637, 809,   6, 968, 341,\n",
       "        66, 650, 256, 360, 751, 206, 304, 395, 189, 409, 719, 347, 345,\n",
       "       415, 599, 507, 646, 548, 357, 670,  13, 468,  40, 395, 963, 456,\n",
       "       370, 723, 299,  58, 690,  27, 681, 503, 547, 798, 623,  95, 585,\n",
       "       799, 953, 691, 328, 715, 276, 326, 759, 801, 651, 904, 971,  59,\n",
       "       178, 538, 911,  91, 355, 514, 377, 500, 627, 430, 264, 565,  58,\n",
       "       149, 910, 584, 688, 131, 871, 955, 447, 738, 594, 940, 761,   4,\n",
       "       781, 984, 361, 766, 532, 246, 130, 403, 878, 509, 877, 819, 211,\n",
       "       912, 818, 420, 200, 442, 443, 190, 733, 539, 240, 869, 260,   8,\n",
       "       883,  75, 752, 969, 948, 680, 200, 760, 500, 117, 429, 663, 196,\n",
       "       286, 577,  17, 617, 578, 876, 940,  73, 162, 480, 688, 233, 908,\n",
       "       677, 181, 920, 952, 574, 159, 437, 770,  44, 755, 460,  70,  72,\n",
       "       206, 736, 634, 155, 672, 289, 587, 868, 941,  61, 376, 609, 848,\n",
       "       233, 340, 290, 489, 461,  87, 880, 659, 872, 447, 412, 870, 221,\n",
       "       457, 658,  47, 488,  41, 692, 316, 774, 693, 861, 282, 130,  82,\n",
       "       128, 481, 309, 377, 992, 902, 953, 422, 223,  67, 289, 409, 506,\n",
       "       167, 976, 849, 595, 127, 653, 885, 205, 271, 515, 645, 268, 136,\n",
       "       298, 352, 813, 109, 387, 609, 243, 832, 607, 244, 651, 516, 342,\n",
       "       182, 624, 656, 213, 223, 999, 150, 854, 958, 257, 212, 499,  29,\n",
       "        93,  45, 862,  16, 561,  43, 939, 536, 976, 530, 528, 525, 627,\n",
       "       324, 991, 720, 912, 240, 805, 477, 586, 795, 312, 747, 985, 312,\n",
       "       753,  51, 772, 107, 337, 895, 881, 837, 566, 952, 709, 916, 195,\n",
       "       704, 268, 549,  64, 989, 541, 708,  77, 908,  76, 903, 721, 173,\n",
       "       811, 274, 855, 498, 121, 705, 375, 860, 907,  68, 145,  22,  63,\n",
       "       183, 811,  67, 906, 996, 672,  91, 813, 156,   4, 729, 357, 218,\n",
       "       250, 202, 749, 846, 691, 282, 603,  57, 997, 198, 143, 677, 252,\n",
       "       158,  27, 889, 951, 836, 788, 492, 847, 248, 885, 894, 697, 452,\n",
       "       150, 979, 475, 375, 499, 670, 258,   0, 528, 231, 730, 363, 283,\n",
       "       579, 463, 140, 944, 158, 799, 254, 905, 850, 626, 148,  91, 409,\n",
       "       179, 126, 506, 194, 766, 739, 789, 875, 201, 536, 545, 746, 986,\n",
       "       160, 101, 743,  24, 317, 230, 798,  55, 820, 287, 928, 688, 524,\n",
       "         2,  90, 234, 847, 631, 205, 225, 540, 417, 735, 938, 669,  56,\n",
       "       541, 198, 676, 629, 593, 172, 601, 405, 646, 318, 283, 938, 654,\n",
       "       248, 184, 300, 578, 851, 527,  36, 237, 572, 210, 691, 396, 615,\n",
       "       990, 750, 873, 684, 354, 602, 177, 704, 571,  98, 228, 703, 259,\n",
       "        80, 854, 775, 889,  86, 551, 818, 560, 675, 857, 258, 726, 673,\n",
       "       415, 809, 556, 182, 775, 310,  29, 486, 771, 978, 308, 866, 147,\n",
       "       801, 661, 324, 438, 959, 942, 508, 462, 468, 674, 579,  31, 439,\n",
       "       723, 777,  82, 340, 101, 512, 679, 278, 618, 621, 522, 622, 233,\n",
       "       687, 514, 303, 913, 203, 960, 128, 606, 122, 853, 790, 589, 502,\n",
       "       489,  33, 199, 775, 915, 183, 484, 543, 405, 702, 660, 317, 132,\n",
       "       103,  12, 820,  29, 570, 996, 681, 863, 472, 139, 730, 870, 694,\n",
       "       942,  79, 372, 456, 808, 383,   8, 756, 566, 281, 398, 278, 848,\n",
       "       776, 749, 178, 936, 633, 827, 185, 554, 577, 492, 555, 557, 101,\n",
       "       287, 176,  49, 829, 652, 471, 792, 459, 971, 615, 210, 728, 993,\n",
       "       183, 934, 732, 215,  41, 445, 830, 898, 270, 476, 427, 630, 822,\n",
       "        66, 113, 628, 979, 480, 757, 288, 135, 877, 228, 855, 534, 789,\n",
       "       180, 838, 972, 819, 237, 623, 466, 408, 945, 369, 293, 542, 515,\n",
       "       470, 388, 831, 700, 725,  97, 887, 986, 706, 445,   3, 559, 192,\n",
       "       786,  95, 381, 239, 264, 604, 750, 162, 401, 755, 650, 679, 908,\n",
       "       581, 505, 338, 657, 684, 797, 344, 335, 754, 571,  37, 555,   7,\n",
       "       931, 179, 105, 187,  75, 314, 349, 210,  92, 195, 680, 518, 901,\n",
       "       794, 374, 413, 935, 639, 163, 243, 464, 862, 430, 138, 434, 954,\n",
       "       769, 679, 444, 918, 801, 440, 278,  33, 379, 695, 877, 171, 325,\n",
       "       821, 204, 706, 655,  19, 111, 176, 141, 580, 525, 860, 234, 146,\n",
       "       875,  14, 741, 833, 528, 327, 661, 987, 509,  55, 547, 791, 796,\n",
       "       944, 143, 358, 899, 403, 712, 689,  96, 395, 435, 569,   2, 630,\n",
       "       376, 728, 403, 779, 646, 100, 104, 958, 533, 567, 713, 536, 317,\n",
       "       993, 917, 602,  61, 816, 351, 741, 275, 983, 629, 810, 887, 513,\n",
       "       154, 587, 754, 649, 570, 620, 302, 342, 945, 726, 627, 884, 678,\n",
       "       280, 770, 288, 358, 577, 332, 664, 104, 390,  83, 543, 922, 530,\n",
       "       659, 380, 998, 206, 262, 424, 485, 281, 568, 293, 660,  38, 516,\n",
       "       376, 543, 358, 243, 736, 592, 351, 358, 531,  43, 215, 333, 232,\n",
       "       135, 229,  51, 345, 767, 721, 153, 151, 980, 982, 331, 819, 169,\n",
       "       559, 399, 686, 817,  56, 392, 376, 178, 205, 791, 400, 330, 966,\n",
       "       982, 644, 783, 616,  13, 252, 348, 962, 423, 367, 359, 194, 901,\n",
       "        50, 965, 156, 562, 585, 576, 336, 807, 744, 804, 409, 269, 843,\n",
       "       657, 345, 476, 660, 245, 199, 810, 163, 589, 112, 928,   5, 927,\n",
       "       902, 968, 603, 305, 188, 216, 502, 828, 419, 827,  48,  48, 173,\n",
       "       191, 368, 393, 334, 253, 740, 136, 701, 424, 294, 233, 564, 978,\n",
       "       904, 598, 220, 156, 907, 300, 937, 868, 110, 115, 665, 219, 633,\n",
       "       520, 261, 828, 961, 653, 879,  16, 897, 814, 144, 323, 441, 774,\n",
       "       326, 342, 494, 313, 251, 806, 914, 732, 368, 385, 847, 291])"
      ]
     },
     "execution_count": 27,
     "metadata": {},
     "output_type": "execute_result"
    }
   ],
   "source": [
    "X = np.random.random((1000,3))\n",
    "%time\n",
    "easy_nns(X)"
   ]
  },
  {
   "attachments": {},
   "cell_type": "markdown",
   "metadata": {},
   "source": [
    "### Version 2: vectorized operations"
   ]
  },
  {
   "cell_type": "code",
   "execution_count": 29,
   "metadata": {},
   "outputs": [],
   "source": [
    "def vectorized_nns(X):\n",
    "    XXT = np.dot(X, X.T) # dot product between X and X.T \n",
    "    Xii = XXT.diagonal() # extracts the diagonal elements of the dot product\n",
    "    # these products are squares!!\n",
    "\n",
    "    # euclidian metric\n",
    "    D = np.sqrt(Xii - 2*XXT + Xii[:, np.newaxis]) # reshapes Xii into a column vector\n",
    "    # allowing for broadcasting\n",
    "\n",
    "    return np.argsort(D, axis=1)[:, 1]\n",
    "    # indirect sort, extracts the second column which corresponds to the index of\n",
    "    # the second closest neighbor, other than itself"
   ]
  },
  {
   "cell_type": "code",
   "execution_count": 30,
   "metadata": {},
   "outputs": [
    {
     "name": "stdout",
     "output_type": "stream",
     "text": [
      "CPU times: user 2 µs, sys: 1 µs, total: 3 µs\n",
      "Wall time: 5.01 µs\n"
     ]
    },
    {
     "data": {
      "text/plain": [
       "array([3, 2, 1, 9, 9, 3, 0, 5, 9, 3])"
      ]
     },
     "execution_count": 30,
     "metadata": {},
     "output_type": "execute_result"
    }
   ],
   "source": [
    "X = np.random.random((10,3))\n",
    "%time\n",
    "vectorized_nns(X)"
   ]
  },
  {
   "cell_type": "code",
   "execution_count": 31,
   "metadata": {},
   "outputs": [
    {
     "name": "stdout",
     "output_type": "stream",
     "text": [
      "CPU times: user 2 µs, sys: 0 ns, total: 2 µs\n",
      "Wall time: 4.05 µs\n"
     ]
    },
    {
     "data": {
      "text/plain": [
       "array([613, 424, 752, 315, 545,  74, 963, 279,  18, 766, 107, 911, 810,\n",
       "       157, 804, 966, 329,  66, 324, 318, 487, 160, 458, 306, 738, 918,\n",
       "       802, 350,  90, 758, 772, 127, 977,  81, 533, 897, 847, 549, 728,\n",
       "       864, 649, 665, 396, 500, 120, 165, 394, 214, 585, 365, 539, 760,\n",
       "       639, 779, 741, 906, 577, 312, 354, 394, 694, 487, 862, 877,  84,\n",
       "       281,  17,  62,  97, 913, 104, 723, 974, 295,   5, 580, 509, 512,\n",
       "       119, 240, 933, 753, 389, 524,  64, 299, 219, 277, 953, 201, 984,\n",
       "       474, 851, 763, 669,  28, 458,  68, 899, 846, 818, 985, 393, 331,\n",
       "       765, 201, 652,  10, 524, 277, 522, 544, 746, 417, 497, 374, 512,\n",
       "       791, 561,  78,  44, 188, 932, 990, 678, 173, 421, 670, 667, 327,\n",
       "       948, 840, 116, 880, 878, 471, 445, 768, 883, 960, 693, 605, 592,\n",
       "       271, 223, 871, 290, 642, 596, 461, 387, 636, 794, 742, 843, 757,\n",
       "       978, 860, 799, 507, 969, 350, 925,  99, 749,  45, 902, 521, 544,\n",
       "       422, 948, 688, 160, 125, 838, 791, 783, 241, 781,  90, 462, 115,\n",
       "       602, 108, 346, 538, 392, 670, 121, 516, 151, 177, 794, 879, 915,\n",
       "       405, 907, 505, 439, 800, 784,  89, 933, 876, 416,  71, 456, 314,\n",
       "       344, 788, 249, 385, 935, 175,  47, 600, 823, 652,  65, 961, 174,\n",
       "       964, 631, 144, 555, 568, 884, 253, 241, 947, 398, 494, 593, 967,\n",
       "       293, 496, 388, 377, 658,  37,  79, 177,  79, 786, 976, 471, 346,\n",
       "       477, 295, 210, 674, 278, 297, 774, 993, 728, 342, 623, 658, 735,\n",
       "       369, 117, 384, 349,  38, 587, 872, 817, 847, 463, 972, 143, 651,\n",
       "       567, 401, 956, 686, 109, 251,   7, 289,  65, 639, 813, 423, 549,\n",
       "       685, 350, 822, 280, 146, 836, 309, 234, 991, 248, 938, 564,  49,\n",
       "       413, 527, 111, 289, 967, 257, 465,  23, 549, 396, 701, 433, 199,\n",
       "        57, 651, 207,   3, 972, 529, 270, 559, 837, 365, 119, 429,  18,\n",
       "       403, 982, 129, 279,  16, 119, 103, 693, 418, 464, 511, 605, 783,\n",
       "       479, 696, 469, 541, 256, 461, 208, 743, 246, 833, 659, 564, 287,\n",
       "        71, 493, 664, 673, 689, 751, 529, 706, 984, 501, 771, 936, 540,\n",
       "       644,  49, 942, 155, 883, 260, 868, 819,  16, 478, 115, 773, 410,\n",
       "       237, 153, 873, 952,  66, 506, 852, 262, 252, 536, 608, 236,  82,\n",
       "       785, 923, 450, 102, 849, 825, 308, 966, 230, 744, 758, 336, 934,\n",
       "       325, 423, 195, 557, 769, 971, 777, 376, 927, 428, 299, 355, 655,\n",
       "       552, 983, 502, 781, 284, 126, 457, 284,   1, 799, 594, 417, 412,\n",
       "       323, 219, 844, 591, 310, 639,  79, 881, 695, 905, 198, 365, 889,\n",
       "       105, 963, 518, 136, 713, 692, 696, 341, 392, 697, 484, 533, 161,\n",
       "       370, 206, 422,  96, 621, 127, 343, 180, 269, 334, 826, 975, 775,\n",
       "       908, 340, 815, 135, 525, 596,  91, 966, 261, 247, 832, 340, 411,\n",
       "       389,  96, 243, 452, 537, 348,  20, 824, 162, 880, 560, 959, 989,\n",
       "       231, 875, 235, 114, 806, 855,  43, 456, 666,  16, 995, 197, 914,\n",
       "       813, 858, 748, 622, 335, 116, 345, 734, 915, 189, 543, 444, 616,\n",
       "       861, 243, 188, 401, 108, 472, 524, 300, 668, 317, 588, 364, 912,\n",
       "       453, 387, 952, 386, 485, 185, 706, 363, 978,   7, 981, 168,   4,\n",
       "       486, 768, 617, 285,  72, 830, 416, 795, 382, 224,   5, 718, 589,\n",
       "       895, 859, 118, 380, 936, 297, 345, 841, 273, 331, 699, 945, 107,\n",
       "       686, 574, 573, 835, 256, 925, 956, 625,  75, 642, 700, 610, 166,\n",
       "        48, 155, 265, 283, 558, 800, 432, 142, 638, 426, 916, 148, 436,\n",
       "        64, 469, 215, 643, 858, 493, 668, 336, 559, 373, 387, 752, 801,\n",
       "       765, 122, 854, 789, 604, 519,  17, 433, 702, 768, 459, 510, 924,\n",
       "       440, 614, 507, 936, 764, 953, 185, 222, 982, 975, 173, 874, 151,\n",
       "       198, 593, 282, 997,   2, 147, 601, 364, 601, 994, 917, 716,  40,\n",
       "        29, 313, 217, 807, 174, 415, 676,  41, 238, 348, 413, 719, 262,\n",
       "       732, 778,  41, 807, 737, 604,  94, 187, 291, 545, 354, 250, 233,\n",
       "       656, 894, 182, 633, 170, 802,   1, 754, 918, 286, 276, 790, 171,\n",
       "       355, 764, 928, 721, 756,  58, 800, 448, 451, 886, 859, 582, 309,\n",
       "       619, 710, 724, 660, 539, 957, 871,  97, 703, 615, 992, 446, 933,\n",
       "         4, 762, 812, 557, 661, 980, 692, 760,  71, 704, 153, 494, 845,\n",
       "        38, 808, 920, 143, 663, 412, 514, 259, 727, 667,  24, 821, 230,\n",
       "        54, 153, 345, 399, 770, 112, 368, 509, 278, 892, 356, 609,  81,\n",
       "       683,  57, 693, 718, 107, 566,  51, 499, 716, 812, 628, 611,   9,\n",
       "       306, 620, 407, 745, 361,  30, 375, 253, 840, 898, 891, 664, 929,\n",
       "       869, 419, 397, 337, 200, 390, 243, 809, 141, 614, 369, 117, 110,\n",
       "       563, 192, 120, 689, 907, 860, 425, 199, 610,  26, 528,  14, 937,\n",
       "       498, 666, 963, 787,  12, 439, 717, 283, 848, 955, 572, 262, 100,\n",
       "       371, 187, 992, 343, 216, 216, 395, 465, 640, 388, 740, 551, 252,\n",
       "       984, 426, 238, 621, 664, 320, 174, 826, 131, 566, 909, 154, 431,\n",
       "       727,  99,  36, 814, 394, 487, 911, 383, 484, 613, 499, 230, 224,\n",
       "       602, 699, 157, 520,  62, 946,  39, 712,  62, 398, 370, 780, 917,\n",
       "       145, 266, 379, 635, 495,  25,  63, 134, 193, 133, 436, 987, 368,\n",
       "       226, 246, 137, 797,  73, 573, 895, 777, 750, 634,  26, 559, 472,\n",
       "        35, 776,  98, 906, 745, 166, 748, 486, 943,  55, 797, 932, 131,\n",
       "       429, 851, 532, 529, 506, 194, 595, 870, 684,   3, 705, 349, 277,\n",
       "       391, 623, 162, 574, 411, 910, 779, 386, 889, 908,  80, 402, 212,\n",
       "       362, 183, 296, 534, 853, 546, 697, 905, 505,  13,  34, 717, 170,\n",
       "       907,  68, 287, 380,  88, 137, 815, 578, 472, 689, 479, 139, 219,\n",
       "       125,   6, 221, 938, 397, 233, 573, 160, 898, 408, 270, 320,  72,\n",
       "       466, 244,  32, 156, 633, 720, 543, 326, 417,  90, 101, 848, 485,\n",
       "       991, 666, 123, 294, 336, 778, 646, 555, 931, 640, 216, 454])"
      ]
     },
     "execution_count": 31,
     "metadata": {},
     "output_type": "execute_result"
    }
   ],
   "source": [
    "X = np.random.random((1000,3))\n",
    "%time\n",
    "vectorized_nns(X)"
   ]
  },
  {
   "attachments": {},
   "cell_type": "markdown",
   "metadata": {},
   "source": [
    "### Method 3: Trees"
   ]
  },
  {
   "cell_type": "code",
   "execution_count": 33,
   "metadata": {},
   "outputs": [
    {
     "data": {
      "text/plain": [
       "(array([[0.  , 0.08],\n",
       "        [0.  , 0.08],\n",
       "        [0.  , 0.02],\n",
       "        ...,\n",
       "        [0.  , 0.05],\n",
       "        [0.  , 0.08],\n",
       "        [0.  , 0.03]]),\n",
       " array([[  0, 647],\n",
       "        [  1,  65],\n",
       "        [  2, 179],\n",
       "        ...,\n",
       "        [997, 127],\n",
       "        [998, 669],\n",
       "        [999, 594]]))"
      ]
     },
     "execution_count": 33,
     "metadata": {},
     "output_type": "execute_result"
    }
   ],
   "source": [
    "from scipy.spatial import cKDTree\n",
    "X = np.random.random((1000,3))\n",
    "kdt = cKDTree(X) # build tree\n",
    "kdt.query(X, k=2) # find 2 neighbors"
   ]
  },
  {
   "cell_type": "code",
   "execution_count": 34,
   "metadata": {},
   "outputs": [
    {
     "data": {
      "text/plain": [
       "(array([[0.  , 0.04],\n",
       "        [0.  , 0.04],\n",
       "        [0.  , 0.05],\n",
       "        ...,\n",
       "        [0.  , 0.02],\n",
       "        [0.  , 0.08],\n",
       "        [0.  , 0.08]]),\n",
       " array([[  0, 120],\n",
       "        [  1, 320],\n",
       "        [  2, 536],\n",
       "        ...,\n",
       "        [997, 941],\n",
       "        [998, 613],\n",
       "        [999, 739]]))"
      ]
     },
     "execution_count": 34,
     "metadata": {},
     "output_type": "execute_result"
    }
   ],
   "source": [
    "from sklearn.neighbors import BallTree\n",
    "X = np.random.random((1000,3))\n",
    "bt = BallTree(X)\n",
    "bt.query(X, k=2)"
   ]
  },
  {
   "cell_type": "code",
   "execution_count": null,
   "metadata": {},
   "outputs": [],
   "source": []
  }
 ],
 "metadata": {
  "kernelspec": {
   "display_name": "var_stars",
   "language": "python",
   "name": "python3"
  },
  "language_info": {
   "codemirror_mode": {
    "name": "ipython",
    "version": 3
   },
   "file_extension": ".py",
   "mimetype": "text/x-python",
   "name": "python",
   "nbconvert_exporter": "python",
   "pygments_lexer": "ipython3",
   "version": "3.10.4"
  },
  "orig_nbformat": 4
 },
 "nbformat": 4,
 "nbformat_minor": 2
}
